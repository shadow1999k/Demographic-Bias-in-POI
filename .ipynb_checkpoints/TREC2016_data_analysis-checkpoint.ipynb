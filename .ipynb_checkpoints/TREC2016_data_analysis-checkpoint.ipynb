{
 "cells": [
  {
   "cell_type": "markdown",
   "metadata": {},
   "source": [
    "## TREC Contextual Suggestion"
   ]
  },
  {
   "cell_type": "markdown",
   "metadata": {
    "id": "ljaNxLE5o-Wd"
   },
   "source": [
    "✔ This notebook contains a brief EDA on phase1_requests data.\n",
    "\n",
    "\n",
    "📊 Further analysis gonna be added soon ... \n",
    "\n",
    "---\n",
    "\n"
   ]
  },
  {
   "cell_type": "code",
   "execution_count": 1,
   "metadata": {
    "id": "IC_JQyJfH1n3"
   },
   "outputs": [],
   "source": [
    "import requests\n",
    "from pandas import json_normalize\n",
    "import pandas as pd \n",
    "import json\n",
    "import seaborn as sns\n",
    "import matplotlib.pyplot as plt"
   ]
  },
  {
   "cell_type": "code",
   "execution_count": null,
   "metadata": {
    "id": "Rit0A-ZK2RRi"
   },
   "outputs": [],
   "source": [
    "# Load .json data\n",
    "Phase1_data = []\n",
    "with open('Phase1_requests.json') as f:\n",
    "    for line in f:\n",
    "        Phase1_data.append(json.loads(line))"
   ]
  },
  {
   "cell_type": "code",
   "execution_count": 3,
   "metadata": {
    "id": "CZqwtYJibbo6"
   },
   "outputs": [],
   "source": [
    "# Convert data to pndas dataframe --> to perfom EDA\n",
    "phase1_df = pd.DataFrame(Phase1_data)"
   ]
  },
  {
   "cell_type": "code",
   "execution_count": 4,
   "metadata": {
    "id": "wgm-5cXzdGXe"
   },
   "outputs": [],
   "source": [
    "# convert 'body' column which a dictionary into multiple colmuns\n",
    "phase1_df = pd.json_normalize(phase1_df['body'])"
   ]
  },
  {
   "cell_type": "code",
   "execution_count": 5,
   "metadata": {
    "colab": {
     "base_uri": "https://localhost:8080/"
    },
    "id": "uTPsZU3GoC1Q",
    "outputId": "37ada714-3e6a-4068-9f08-1800d86d82cb"
   },
   "outputs": [
    {
     "data": {
      "text/plain": [
       "(495, 13)"
      ]
     },
     "execution_count": 5,
     "metadata": {},
     "output_type": "execute_result"
    }
   ],
   "source": [
    "phase1_df.shape"
   ]
  },
  {
   "cell_type": "code",
   "execution_count": 6,
   "metadata": {
    "colab": {
     "base_uri": "https://localhost:8080/",
     "height": 311
    },
    "id": "LzAbxo9gm-tI",
    "outputId": "09a851c7-51c8-45b4-f018-70cf41ba9e49"
   },
   "outputs": [
    {
     "data": {
      "text/html": [
       "<div>\n",
       "<style scoped>\n",
       "    .dataframe tbody tr th:only-of-type {\n",
       "        vertical-align: middle;\n",
       "    }\n",
       "\n",
       "    .dataframe tbody tr th {\n",
       "        vertical-align: top;\n",
       "    }\n",
       "\n",
       "    .dataframe thead th {\n",
       "        text-align: right;\n",
       "    }\n",
       "</style>\n",
       "<table border=\"1\" class=\"dataframe\">\n",
       "  <thead>\n",
       "    <tr style=\"text-align: right;\">\n",
       "      <th></th>\n",
       "      <th>group</th>\n",
       "      <th>season</th>\n",
       "      <th>trip_type</th>\n",
       "      <th>duration</th>\n",
       "      <th>location.id</th>\n",
       "      <th>location.name</th>\n",
       "      <th>location.state</th>\n",
       "      <th>location.lat</th>\n",
       "      <th>location.lng</th>\n",
       "      <th>person.gender</th>\n",
       "      <th>person.age</th>\n",
       "      <th>person.id</th>\n",
       "      <th>person.preferences</th>\n",
       "    </tr>\n",
       "  </thead>\n",
       "  <tbody>\n",
       "    <tr>\n",
       "      <th>0</th>\n",
       "      <td>Family</td>\n",
       "      <td>Summer</td>\n",
       "      <td>Holiday</td>\n",
       "      <td>Weekend trip</td>\n",
       "      <td>152</td>\n",
       "      <td>Chicago</td>\n",
       "      <td>IL</td>\n",
       "      <td>41.85003</td>\n",
       "      <td>-87.65005</td>\n",
       "      <td>Male</td>\n",
       "      <td>23</td>\n",
       "      <td>A00126103VB6TFM3EITH9</td>\n",
       "      <td>[{'documentId': 'TRECCS-00247633-160', 'rating...</td>\n",
       "    </tr>\n",
       "    <tr>\n",
       "      <th>1</th>\n",
       "      <td>Family</td>\n",
       "      <td>Summer</td>\n",
       "      <td>Holiday</td>\n",
       "      <td>Longer</td>\n",
       "      <td>210</td>\n",
       "      <td>Cape Coral</td>\n",
       "      <td>FL</td>\n",
       "      <td>26.56285</td>\n",
       "      <td>-81.94953</td>\n",
       "      <td>Male</td>\n",
       "      <td>23</td>\n",
       "      <td>A00126103VB6TFM3EITH9</td>\n",
       "      <td>[{'documentId': 'TRECCS-00247633-160', 'rating...</td>\n",
       "    </tr>\n",
       "    <tr>\n",
       "      <th>2</th>\n",
       "      <td>Family</td>\n",
       "      <td>Summer</td>\n",
       "      <td>Holiday</td>\n",
       "      <td>Weekend trip</td>\n",
       "      <td>151</td>\n",
       "      <td>New York City</td>\n",
       "      <td>NY</td>\n",
       "      <td>40.71427</td>\n",
       "      <td>-74.00597</td>\n",
       "      <td>Male</td>\n",
       "      <td>66</td>\n",
       "      <td>A10QUVJBDFSJYH</td>\n",
       "      <td>[{'documentId': 'TRECCS-00354073-161', 'rating...</td>\n",
       "    </tr>\n",
       "  </tbody>\n",
       "</table>\n",
       "</div>"
      ],
      "text/plain": [
       "    group  season trip_type      duration  location.id  location.name  \\\n",
       "0  Family  Summer   Holiday  Weekend trip          152        Chicago   \n",
       "1  Family  Summer   Holiday        Longer          210     Cape Coral   \n",
       "2  Family  Summer   Holiday  Weekend trip          151  New York City   \n",
       "\n",
       "  location.state  location.lat  location.lng person.gender person.age  \\\n",
       "0             IL      41.85003     -87.65005          Male         23   \n",
       "1             FL      26.56285     -81.94953          Male         23   \n",
       "2             NY      40.71427     -74.00597          Male         66   \n",
       "\n",
       "               person.id                                 person.preferences  \n",
       "0  A00126103VB6TFM3EITH9  [{'documentId': 'TRECCS-00247633-160', 'rating...  \n",
       "1  A00126103VB6TFM3EITH9  [{'documentId': 'TRECCS-00247633-160', 'rating...  \n",
       "2         A10QUVJBDFSJYH  [{'documentId': 'TRECCS-00354073-161', 'rating...  "
      ]
     },
     "execution_count": 6,
     "metadata": {},
     "output_type": "execute_result"
    }
   ],
   "source": [
    "phase1_df.head(3)"
   ]
  },
  {
   "cell_type": "code",
   "execution_count": 7,
   "metadata": {
    "colab": {
     "base_uri": "https://localhost:8080/",
     "height": 300
    },
    "id": "jdxdksr2nDyb",
    "outputId": "4ad2ff64-0913-4369-e48e-84af5c851200"
   },
   "outputs": [
    {
     "data": {
      "text/html": [
       "<div>\n",
       "<style scoped>\n",
       "    .dataframe tbody tr th:only-of-type {\n",
       "        vertical-align: middle;\n",
       "    }\n",
       "\n",
       "    .dataframe tbody tr th {\n",
       "        vertical-align: top;\n",
       "    }\n",
       "\n",
       "    .dataframe thead th {\n",
       "        text-align: right;\n",
       "    }\n",
       "</style>\n",
       "<table border=\"1\" class=\"dataframe\">\n",
       "  <thead>\n",
       "    <tr style=\"text-align: right;\">\n",
       "      <th></th>\n",
       "      <th>location.id</th>\n",
       "      <th>location.lat</th>\n",
       "      <th>location.lng</th>\n",
       "    </tr>\n",
       "  </thead>\n",
       "  <tbody>\n",
       "    <tr>\n",
       "      <th>count</th>\n",
       "      <td>495.000000</td>\n",
       "      <td>495.000000</td>\n",
       "      <td>495.000000</td>\n",
       "    </tr>\n",
       "    <tr>\n",
       "      <th>mean</th>\n",
       "      <td>247.377778</td>\n",
       "      <td>36.929634</td>\n",
       "      <td>-94.343827</td>\n",
       "    </tr>\n",
       "    <tr>\n",
       "      <th>std</th>\n",
       "      <td>82.689414</td>\n",
       "      <td>6.542180</td>\n",
       "      <td>17.676590</td>\n",
       "    </tr>\n",
       "    <tr>\n",
       "      <th>min</th>\n",
       "      <td>151.000000</td>\n",
       "      <td>20.894720</td>\n",
       "      <td>-157.858330</td>\n",
       "    </tr>\n",
       "    <tr>\n",
       "      <th>25%</th>\n",
       "      <td>173.500000</td>\n",
       "      <td>32.500700</td>\n",
       "      <td>-100.783740</td>\n",
       "    </tr>\n",
       "    <tr>\n",
       "      <th>50%</th>\n",
       "      <td>223.000000</td>\n",
       "      <td>36.174970</td>\n",
       "      <td>-89.630120</td>\n",
       "    </tr>\n",
       "    <tr>\n",
       "      <th>75%</th>\n",
       "      <td>319.000000</td>\n",
       "      <td>40.759585</td>\n",
       "      <td>-81.675530</td>\n",
       "    </tr>\n",
       "    <tr>\n",
       "      <th>max</th>\n",
       "      <td>418.000000</td>\n",
       "      <td>61.218060</td>\n",
       "      <td>-68.777810</td>\n",
       "    </tr>\n",
       "  </tbody>\n",
       "</table>\n",
       "</div>"
      ],
      "text/plain": [
       "       location.id  location.lat  location.lng\n",
       "count   495.000000    495.000000    495.000000\n",
       "mean    247.377778     36.929634    -94.343827\n",
       "std      82.689414      6.542180     17.676590\n",
       "min     151.000000     20.894720   -157.858330\n",
       "25%     173.500000     32.500700   -100.783740\n",
       "50%     223.000000     36.174970    -89.630120\n",
       "75%     319.000000     40.759585    -81.675530\n",
       "max     418.000000     61.218060    -68.777810"
      ]
     },
     "execution_count": 7,
     "metadata": {},
     "output_type": "execute_result"
    }
   ],
   "source": [
    "phase1_df.describe()"
   ]
  },
  {
   "cell_type": "code",
   "execution_count": 8,
   "metadata": {
    "colab": {
     "base_uri": "https://localhost:8080/"
    },
    "id": "XJJ--n6Fng07",
    "outputId": "45597d71-bec5-4e40-9e27-d73774be16fa"
   },
   "outputs": [
    {
     "name": "stdout",
     "output_type": "stream",
     "text": [
      "<class 'pandas.core.frame.DataFrame'>\n",
      "RangeIndex: 495 entries, 0 to 494\n",
      "Data columns (total 13 columns):\n",
      " #   Column              Non-Null Count  Dtype  \n",
      "---  ------              --------------  -----  \n",
      " 0   group               495 non-null    object \n",
      " 1   season              495 non-null    object \n",
      " 2   trip_type           495 non-null    object \n",
      " 3   duration            495 non-null    object \n",
      " 4   location.id         495 non-null    int64  \n",
      " 5   location.name       495 non-null    object \n",
      " 6   location.state      495 non-null    object \n",
      " 7   location.lat        495 non-null    float64\n",
      " 8   location.lng        495 non-null    float64\n",
      " 9   person.gender       495 non-null    object \n",
      " 10  person.age          495 non-null    object \n",
      " 11  person.id           495 non-null    object \n",
      " 12  person.preferences  495 non-null    object \n",
      "dtypes: float64(2), int64(1), object(10)\n",
      "memory usage: 50.4+ KB\n"
     ]
    }
   ],
   "source": [
    "phase1_df.info()"
   ]
  },
  {
   "cell_type": "markdown",
   "metadata": {
    "colab": {
     "base_uri": "https://localhost:8080/",
     "height": 475
    },
    "id": "smqYnfNNng37",
    "outputId": "6bb28984-4f42-41c7-a2ef-2928605728f2"
   },
   "source": [
    "### Data cleaning \n",
    "####  1.person.age outliers"
   ]
  },
  {
   "cell_type": "code",
   "execution_count": 119,
   "metadata": {
    "colab": {
     "base_uri": "https://localhost:8080/",
     "height": 455
    },
    "id": "YDN1lwVptzI_",
    "outputId": "5f182edf-b0ab-4c74-da6e-e526b04c9b06",
    "scrolled": true
   },
   "outputs": [
    {
     "data": {
      "text/plain": [
       "28      55\n",
       "24      50\n",
       "30      28\n",
       "25      26\n",
       "35      23\n",
       "33      22\n",
       "29      21\n",
       "34      21\n",
       "23      19\n",
       "26      18\n",
       "31      18\n",
       "37      15\n",
       "27      15\n",
       "43      11\n",
       "22      11\n",
       "39      10\n",
       "42       9\n",
       "32       8\n",
       "40       8\n",
       "46       7\n",
       "21       6\n",
       "41       6\n",
       "59       6\n",
       "52       6\n",
       "36       6\n",
       "56       5\n",
       "48       4\n",
       "50       4\n",
       "51       4\n",
       "67       4\n",
       "20       4\n",
       "44       4\n",
       "50       3\n",
       "30       3\n",
       "18       3\n",
       "47       3\n",
       "57       3\n",
       "19       3\n",
       "1992     3\n",
       "63       3\n",
       "68       2\n",
       "47       2\n",
       "66       2\n",
       "38       2\n",
       "53       2\n",
       "11       1\n",
       "-3       1\n",
       "45       1\n",
       "54       1\n",
       "55       1\n",
       "62       1\n",
       "10       1\n",
       "Name: person.age, dtype: int64"
      ]
     },
     "execution_count": 119,
     "metadata": {},
     "output_type": "execute_result"
    }
   ],
   "source": [
    "phase1_df['person.age'].value_counts()"
   ]
  },
  {
   "cell_type": "code",
   "execution_count": 147,
   "metadata": {},
   "outputs": [
    {
     "data": {
      "application/vnd.plotly.v1+json": {
       "config": {
        "plotlyServerURL": "https://plot.ly"
       },
       "data": [
        {
         "alignmentgroup": "True",
         "hovertemplate": "variable=%{x}<br>value=%{y}<extra></extra>",
         "legendgroup": "",
         "marker": {
          "color": "#636efa"
         },
         "name": "",
         "notched": false,
         "offsetgroup": "",
         "orientation": "v",
         "showlegend": false,
         "type": "box",
         "x": [
          "person.age",
          "person.age",
          "person.age",
          "person.age",
          "person.age",
          "person.age",
          "person.age",
          "person.age",
          "person.age",
          "person.age",
          "person.age",
          "person.age",
          "person.age",
          "person.age",
          "person.age",
          "person.age",
          "person.age",
          "person.age",
          "person.age",
          "person.age",
          "person.age",
          "person.age",
          "person.age",
          "person.age",
          "person.age",
          "person.age",
          "person.age",
          "person.age",
          "person.age",
          "person.age",
          "person.age",
          "person.age",
          "person.age",
          "person.age",
          "person.age",
          "person.age",
          "person.age",
          "person.age",
          "person.age",
          "person.age",
          "person.age",
          "person.age",
          "person.age",
          "person.age",
          "person.age",
          "person.age",
          "person.age",
          "person.age",
          "person.age",
          "person.age",
          "person.age",
          "person.age",
          "person.age",
          "person.age",
          "person.age",
          "person.age",
          "person.age",
          "person.age",
          "person.age",
          "person.age",
          "person.age",
          "person.age",
          "person.age",
          "person.age",
          "person.age",
          "person.age",
          "person.age",
          "person.age",
          "person.age",
          "person.age",
          "person.age",
          "person.age",
          "person.age",
          "person.age",
          "person.age",
          "person.age",
          "person.age",
          "person.age",
          "person.age",
          "person.age",
          "person.age",
          "person.age",
          "person.age",
          "person.age",
          "person.age",
          "person.age",
          "person.age",
          "person.age",
          "person.age",
          "person.age",
          "person.age",
          "person.age",
          "person.age",
          "person.age",
          "person.age",
          "person.age",
          "person.age",
          "person.age",
          "person.age",
          "person.age",
          "person.age",
          "person.age",
          "person.age",
          "person.age",
          "person.age",
          "person.age",
          "person.age",
          "person.age",
          "person.age",
          "person.age",
          "person.age",
          "person.age",
          "person.age",
          "person.age",
          "person.age",
          "person.age",
          "person.age",
          "person.age",
          "person.age",
          "person.age",
          "person.age",
          "person.age",
          "person.age",
          "person.age",
          "person.age",
          "person.age",
          "person.age",
          "person.age",
          "person.age",
          "person.age",
          "person.age",
          "person.age",
          "person.age",
          "person.age",
          "person.age",
          "person.age",
          "person.age",
          "person.age",
          "person.age",
          "person.age",
          "person.age",
          "person.age",
          "person.age",
          "person.age",
          "person.age",
          "person.age",
          "person.age",
          "person.age",
          "person.age",
          "person.age",
          "person.age",
          "person.age",
          "person.age",
          "person.age",
          "person.age",
          "person.age",
          "person.age",
          "person.age",
          "person.age",
          "person.age",
          "person.age",
          "person.age",
          "person.age",
          "person.age",
          "person.age",
          "person.age",
          "person.age",
          "person.age",
          "person.age",
          "person.age",
          "person.age",
          "person.age",
          "person.age",
          "person.age",
          "person.age",
          "person.age",
          "person.age",
          "person.age",
          "person.age",
          "person.age",
          "person.age",
          "person.age",
          "person.age",
          "person.age",
          "person.age",
          "person.age",
          "person.age",
          "person.age",
          "person.age",
          "person.age",
          "person.age",
          "person.age",
          "person.age",
          "person.age",
          "person.age",
          "person.age",
          "person.age",
          "person.age",
          "person.age",
          "person.age",
          "person.age",
          "person.age",
          "person.age",
          "person.age",
          "person.age",
          "person.age",
          "person.age",
          "person.age",
          "person.age",
          "person.age",
          "person.age",
          "person.age",
          "person.age",
          "person.age",
          "person.age",
          "person.age",
          "person.age",
          "person.age",
          "person.age",
          "person.age",
          "person.age",
          "person.age",
          "person.age",
          "person.age",
          "person.age",
          "person.age",
          "person.age",
          "person.age",
          "person.age",
          "person.age",
          "person.age",
          "person.age",
          "person.age",
          "person.age",
          "person.age",
          "person.age",
          "person.age",
          "person.age",
          "person.age",
          "person.age",
          "person.age",
          "person.age",
          "person.age",
          "person.age",
          "person.age",
          "person.age",
          "person.age",
          "person.age",
          "person.age",
          "person.age",
          "person.age",
          "person.age",
          "person.age",
          "person.age",
          "person.age",
          "person.age",
          "person.age",
          "person.age",
          "person.age",
          "person.age",
          "person.age",
          "person.age",
          "person.age",
          "person.age",
          "person.age",
          "person.age",
          "person.age",
          "person.age",
          "person.age",
          "person.age",
          "person.age",
          "person.age",
          "person.age",
          "person.age",
          "person.age",
          "person.age",
          "person.age",
          "person.age",
          "person.age",
          "person.age",
          "person.age",
          "person.age",
          "person.age",
          "person.age",
          "person.age",
          "person.age",
          "person.age",
          "person.age",
          "person.age",
          "person.age",
          "person.age",
          "person.age",
          "person.age",
          "person.age",
          "person.age",
          "person.age",
          "person.age",
          "person.age",
          "person.age",
          "person.age",
          "person.age",
          "person.age",
          "person.age",
          "person.age",
          "person.age",
          "person.age",
          "person.age",
          "person.age",
          "person.age",
          "person.age",
          "person.age",
          "person.age",
          "person.age",
          "person.age",
          "person.age",
          "person.age",
          "person.age",
          "person.age",
          "person.age",
          "person.age",
          "person.age",
          "person.age",
          "person.age",
          "person.age",
          "person.age",
          "person.age",
          "person.age",
          "person.age",
          "person.age",
          "person.age",
          "person.age",
          "person.age",
          "person.age",
          "person.age",
          "person.age",
          "person.age",
          "person.age",
          "person.age",
          "person.age",
          "person.age",
          "person.age",
          "person.age",
          "person.age",
          "person.age",
          "person.age",
          "person.age",
          "person.age",
          "person.age",
          "person.age",
          "person.age",
          "person.age",
          "person.age",
          "person.age",
          "person.age",
          "person.age",
          "person.age",
          "person.age",
          "person.age",
          "person.age",
          "person.age",
          "person.age",
          "person.age",
          "person.age",
          "person.age",
          "person.age",
          "person.age",
          "person.age",
          "person.age",
          "person.age",
          "person.age",
          "person.age",
          "person.age",
          "person.age",
          "person.age",
          "person.age",
          "person.age",
          "person.age",
          "person.age",
          "person.age",
          "person.age",
          "person.age",
          "person.age",
          "person.age",
          "person.age",
          "person.age",
          "person.age",
          "person.age",
          "person.age",
          "person.age",
          "person.age",
          "person.age",
          "person.age",
          "person.age",
          "person.age",
          "person.age",
          "person.age",
          "person.age",
          "person.age",
          "person.age",
          "person.age",
          "person.age",
          "person.age",
          "person.age",
          "person.age",
          "person.age",
          "person.age",
          "person.age",
          "person.age",
          "person.age",
          "person.age",
          "person.age",
          "person.age",
          "person.age",
          "person.age",
          "person.age",
          "person.age",
          "person.age",
          "person.age",
          "person.age",
          "person.age",
          "person.age",
          "person.age",
          "person.age",
          "person.age",
          "person.age",
          "person.age",
          "person.age",
          "person.age",
          "person.age",
          "person.age",
          "person.age",
          "person.age",
          "person.age",
          "person.age",
          "person.age",
          "person.age",
          "person.age",
          "person.age",
          "person.age",
          "person.age",
          "person.age",
          "person.age",
          "person.age",
          "person.age",
          "person.age",
          "person.age",
          "person.age",
          "person.age",
          "person.age",
          "person.age",
          "person.age",
          "person.age",
          "person.age",
          "person.age",
          "person.age",
          "person.age",
          "person.age",
          "person.age",
          "person.age",
          "person.age",
          "person.age",
          "person.age",
          "person.age",
          "person.age",
          "person.age",
          "person.age",
          "person.age",
          "person.age",
          "person.age",
          "person.age",
          "person.age",
          "person.age",
          "person.age",
          "person.age",
          "person.age",
          "person.age",
          "person.age",
          "person.age",
          "person.age",
          "person.age",
          "person.age",
          "person.age",
          "person.age",
          "person.age",
          "person.age",
          "person.age",
          "person.age",
          "person.age",
          "person.age",
          "person.age",
          "person.age"
         ],
         "x0": " ",
         "xaxis": "x",
         "y": [
          23,
          23,
          66,
          66,
          32,
          32,
          34,
          34,
          30,
          30,
          67,
          67,
          33,
          29,
          29,
          30,
          30,
          34,
          22,
          22,
          46,
          46,
          35,
          35,
          25,
          25,
          37,
          37,
          27,
          23,
          33,
          24,
          26,
          26,
          24,
          24,
          35,
          35,
          25,
          25,
          32,
          40,
          40,
          50,
          50,
          54,
          27,
          27,
          33,
          33,
          24,
          24,
          28,
          28,
          27,
          27,
          33,
          33,
          23,
          27,
          24,
          33,
          24,
          57,
          25,
          24,
          24,
          24,
          35,
          35,
          51,
          51,
          56,
          56,
          24,
          31,
          45,
          46,
          46,
          46,
          27,
          28,
          28,
          28,
          11,
          42,
          43,
          43,
          29,
          29,
          27,
          57,
          24,
          24,
          28,
          39,
          39,
          63,
          31,
          31,
          28,
          28,
          40,
          22,
          22,
          35,
          35,
          30,
          33,
          33,
          31,
          25,
          25,
          63,
          62,
          24,
          23,
          40,
          40,
          33,
          31,
          39,
          25,
          19,
          24,
          24,
          40,
          40,
          24,
          24,
          23,
          23,
          43,
          43,
          20,
          20,
          23,
          29,
          29,
          24,
          24,
          25,
          25,
          22,
          34,
          33,
          26,
          26,
          29,
          29,
          25,
          25,
          19,
          47,
          42,
          42,
          43,
          43,
          28,
          28,
          31,
          31,
          68,
          68,
          27,
          37,
          37,
          28,
          28,
          52,
          52,
          24,
          24,
          38,
          38,
          29,
          42,
          42,
          30,
          30,
          32,
          56,
          31,
          25,
          47,
          35,
          24,
          23,
          23,
          29,
          29,
          41,
          23,
          23,
          27,
          27,
          31,
          31,
          48,
          48,
          24,
          24,
          25,
          25,
          20,
          27,
          27,
          34,
          34,
          28,
          29,
          29,
          44,
          44,
          19,
          24,
          24,
          24,
          30,
          24,
          24,
          34,
          34,
          28,
          28,
          30,
          30,
          33,
          33,
          28,
          22,
          22,
          35,
          33,
          24,
          63,
          26,
          30,
          30,
          26,
          24,
          52,
          52,
          39,
          35,
          31,
          35,
          21,
          18,
          31,
          28,
          28,
          41,
          41,
          22,
          50,
          50,
          24,
          24,
          23,
          23,
          27,
          27,
          26,
          26,
          53,
          53,
          32,
          32,
          25,
          25,
          43,
          43,
          55,
          31,
          31,
          57,
          35,
          23,
          39,
          59,
          59,
          37,
          10,
          22,
          42,
          42,
          42,
          42,
          56,
          56,
          33,
          24,
          24,
          33,
          33,
          52,
          52,
          24,
          24,
          26,
          26,
          33,
          33,
          25,
          25,
          23,
          23,
          34,
          37,
          34,
          25,
          25,
          43,
          43,
          24,
          24,
          67,
          67,
          44,
          44,
          35,
          35,
          37,
          37,
          24,
          32,
          35,
          35,
          35,
          35,
          31,
          31,
          34,
          34,
          18,
          18,
          39,
          28,
          34,
          37,
          31,
          31,
          21,
          24,
          22,
          22,
          51,
          51,
          40,
          43,
          59,
          59,
          59,
          59,
          30,
          30,
          23,
          23,
          24,
          24,
          20,
          24,
          24,
          24,
          24,
          46,
          46,
          39,
          "30",
          35,
          24,
          28,
          48,
          48,
          32,
          34,
          34,
          29,
          30,
          30,
          30,
          39,
          39,
          39,
          41,
          41,
          41,
          36,
          36,
          36,
          28,
          28,
          28,
          21,
          21,
          21,
          35,
          35,
          28,
          28,
          28,
          30,
          30,
          30,
          30,
          30,
          34,
          34,
          34,
          30,
          30,
          30,
          30,
          30,
          30,
          36,
          36,
          36,
          28,
          28,
          28,
          28,
          28,
          28,
          28,
          28,
          21,
          29,
          35,
          28,
          26,
          26,
          26,
          26,
          28,
          28,
          28,
          34,
          34,
          34,
          33,
          33,
          33,
          28,
          28,
          28,
          29,
          29,
          29,
          37,
          37,
          37,
          28,
          28,
          28,
          28,
          28,
          28,
          24,
          26,
          28,
          37,
          37,
          37,
          25,
          25,
          25,
          25,
          25,
          28,
          28,
          28,
          29,
          29,
          29,
          26,
          26,
          26,
          28,
          28,
          28,
          "50",
          "50",
          "50",
          "47",
          "47",
          "47",
          "30",
          28,
          "30"
         ],
         "y0": " ",
         "yaxis": "y"
        }
       ],
       "layout": {
        "boxmode": "group",
        "legend": {
         "tracegroupgap": 0
        },
        "margin": {
         "t": 60
        },
        "template": {
         "data": {
          "bar": [
           {
            "error_x": {
             "color": "#2a3f5f"
            },
            "error_y": {
             "color": "#2a3f5f"
            },
            "marker": {
             "line": {
              "color": "#E5ECF6",
              "width": 0.5
             },
             "pattern": {
              "fillmode": "overlay",
              "size": 10,
              "solidity": 0.2
             }
            },
            "type": "bar"
           }
          ],
          "barpolar": [
           {
            "marker": {
             "line": {
              "color": "#E5ECF6",
              "width": 0.5
             },
             "pattern": {
              "fillmode": "overlay",
              "size": 10,
              "solidity": 0.2
             }
            },
            "type": "barpolar"
           }
          ],
          "carpet": [
           {
            "aaxis": {
             "endlinecolor": "#2a3f5f",
             "gridcolor": "white",
             "linecolor": "white",
             "minorgridcolor": "white",
             "startlinecolor": "#2a3f5f"
            },
            "baxis": {
             "endlinecolor": "#2a3f5f",
             "gridcolor": "white",
             "linecolor": "white",
             "minorgridcolor": "white",
             "startlinecolor": "#2a3f5f"
            },
            "type": "carpet"
           }
          ],
          "choropleth": [
           {
            "colorbar": {
             "outlinewidth": 0,
             "ticks": ""
            },
            "type": "choropleth"
           }
          ],
          "contour": [
           {
            "colorbar": {
             "outlinewidth": 0,
             "ticks": ""
            },
            "colorscale": [
             [
              0,
              "#0d0887"
             ],
             [
              0.1111111111111111,
              "#46039f"
             ],
             [
              0.2222222222222222,
              "#7201a8"
             ],
             [
              0.3333333333333333,
              "#9c179e"
             ],
             [
              0.4444444444444444,
              "#bd3786"
             ],
             [
              0.5555555555555556,
              "#d8576b"
             ],
             [
              0.6666666666666666,
              "#ed7953"
             ],
             [
              0.7777777777777778,
              "#fb9f3a"
             ],
             [
              0.8888888888888888,
              "#fdca26"
             ],
             [
              1,
              "#f0f921"
             ]
            ],
            "type": "contour"
           }
          ],
          "contourcarpet": [
           {
            "colorbar": {
             "outlinewidth": 0,
             "ticks": ""
            },
            "type": "contourcarpet"
           }
          ],
          "heatmap": [
           {
            "colorbar": {
             "outlinewidth": 0,
             "ticks": ""
            },
            "colorscale": [
             [
              0,
              "#0d0887"
             ],
             [
              0.1111111111111111,
              "#46039f"
             ],
             [
              0.2222222222222222,
              "#7201a8"
             ],
             [
              0.3333333333333333,
              "#9c179e"
             ],
             [
              0.4444444444444444,
              "#bd3786"
             ],
             [
              0.5555555555555556,
              "#d8576b"
             ],
             [
              0.6666666666666666,
              "#ed7953"
             ],
             [
              0.7777777777777778,
              "#fb9f3a"
             ],
             [
              0.8888888888888888,
              "#fdca26"
             ],
             [
              1,
              "#f0f921"
             ]
            ],
            "type": "heatmap"
           }
          ],
          "heatmapgl": [
           {
            "colorbar": {
             "outlinewidth": 0,
             "ticks": ""
            },
            "colorscale": [
             [
              0,
              "#0d0887"
             ],
             [
              0.1111111111111111,
              "#46039f"
             ],
             [
              0.2222222222222222,
              "#7201a8"
             ],
             [
              0.3333333333333333,
              "#9c179e"
             ],
             [
              0.4444444444444444,
              "#bd3786"
             ],
             [
              0.5555555555555556,
              "#d8576b"
             ],
             [
              0.6666666666666666,
              "#ed7953"
             ],
             [
              0.7777777777777778,
              "#fb9f3a"
             ],
             [
              0.8888888888888888,
              "#fdca26"
             ],
             [
              1,
              "#f0f921"
             ]
            ],
            "type": "heatmapgl"
           }
          ],
          "histogram": [
           {
            "marker": {
             "pattern": {
              "fillmode": "overlay",
              "size": 10,
              "solidity": 0.2
             }
            },
            "type": "histogram"
           }
          ],
          "histogram2d": [
           {
            "colorbar": {
             "outlinewidth": 0,
             "ticks": ""
            },
            "colorscale": [
             [
              0,
              "#0d0887"
             ],
             [
              0.1111111111111111,
              "#46039f"
             ],
             [
              0.2222222222222222,
              "#7201a8"
             ],
             [
              0.3333333333333333,
              "#9c179e"
             ],
             [
              0.4444444444444444,
              "#bd3786"
             ],
             [
              0.5555555555555556,
              "#d8576b"
             ],
             [
              0.6666666666666666,
              "#ed7953"
             ],
             [
              0.7777777777777778,
              "#fb9f3a"
             ],
             [
              0.8888888888888888,
              "#fdca26"
             ],
             [
              1,
              "#f0f921"
             ]
            ],
            "type": "histogram2d"
           }
          ],
          "histogram2dcontour": [
           {
            "colorbar": {
             "outlinewidth": 0,
             "ticks": ""
            },
            "colorscale": [
             [
              0,
              "#0d0887"
             ],
             [
              0.1111111111111111,
              "#46039f"
             ],
             [
              0.2222222222222222,
              "#7201a8"
             ],
             [
              0.3333333333333333,
              "#9c179e"
             ],
             [
              0.4444444444444444,
              "#bd3786"
             ],
             [
              0.5555555555555556,
              "#d8576b"
             ],
             [
              0.6666666666666666,
              "#ed7953"
             ],
             [
              0.7777777777777778,
              "#fb9f3a"
             ],
             [
              0.8888888888888888,
              "#fdca26"
             ],
             [
              1,
              "#f0f921"
             ]
            ],
            "type": "histogram2dcontour"
           }
          ],
          "mesh3d": [
           {
            "colorbar": {
             "outlinewidth": 0,
             "ticks": ""
            },
            "type": "mesh3d"
           }
          ],
          "parcoords": [
           {
            "line": {
             "colorbar": {
              "outlinewidth": 0,
              "ticks": ""
             }
            },
            "type": "parcoords"
           }
          ],
          "pie": [
           {
            "automargin": true,
            "type": "pie"
           }
          ],
          "scatter": [
           {
            "marker": {
             "colorbar": {
              "outlinewidth": 0,
              "ticks": ""
             }
            },
            "type": "scatter"
           }
          ],
          "scatter3d": [
           {
            "line": {
             "colorbar": {
              "outlinewidth": 0,
              "ticks": ""
             }
            },
            "marker": {
             "colorbar": {
              "outlinewidth": 0,
              "ticks": ""
             }
            },
            "type": "scatter3d"
           }
          ],
          "scattercarpet": [
           {
            "marker": {
             "colorbar": {
              "outlinewidth": 0,
              "ticks": ""
             }
            },
            "type": "scattercarpet"
           }
          ],
          "scattergeo": [
           {
            "marker": {
             "colorbar": {
              "outlinewidth": 0,
              "ticks": ""
             }
            },
            "type": "scattergeo"
           }
          ],
          "scattergl": [
           {
            "marker": {
             "colorbar": {
              "outlinewidth": 0,
              "ticks": ""
             }
            },
            "type": "scattergl"
           }
          ],
          "scattermapbox": [
           {
            "marker": {
             "colorbar": {
              "outlinewidth": 0,
              "ticks": ""
             }
            },
            "type": "scattermapbox"
           }
          ],
          "scatterpolar": [
           {
            "marker": {
             "colorbar": {
              "outlinewidth": 0,
              "ticks": ""
             }
            },
            "type": "scatterpolar"
           }
          ],
          "scatterpolargl": [
           {
            "marker": {
             "colorbar": {
              "outlinewidth": 0,
              "ticks": ""
             }
            },
            "type": "scatterpolargl"
           }
          ],
          "scatterternary": [
           {
            "marker": {
             "colorbar": {
              "outlinewidth": 0,
              "ticks": ""
             }
            },
            "type": "scatterternary"
           }
          ],
          "surface": [
           {
            "colorbar": {
             "outlinewidth": 0,
             "ticks": ""
            },
            "colorscale": [
             [
              0,
              "#0d0887"
             ],
             [
              0.1111111111111111,
              "#46039f"
             ],
             [
              0.2222222222222222,
              "#7201a8"
             ],
             [
              0.3333333333333333,
              "#9c179e"
             ],
             [
              0.4444444444444444,
              "#bd3786"
             ],
             [
              0.5555555555555556,
              "#d8576b"
             ],
             [
              0.6666666666666666,
              "#ed7953"
             ],
             [
              0.7777777777777778,
              "#fb9f3a"
             ],
             [
              0.8888888888888888,
              "#fdca26"
             ],
             [
              1,
              "#f0f921"
             ]
            ],
            "type": "surface"
           }
          ],
          "table": [
           {
            "cells": {
             "fill": {
              "color": "#EBF0F8"
             },
             "line": {
              "color": "white"
             }
            },
            "header": {
             "fill": {
              "color": "#C8D4E3"
             },
             "line": {
              "color": "white"
             }
            },
            "type": "table"
           }
          ]
         },
         "layout": {
          "annotationdefaults": {
           "arrowcolor": "#2a3f5f",
           "arrowhead": 0,
           "arrowwidth": 1
          },
          "autotypenumbers": "strict",
          "coloraxis": {
           "colorbar": {
            "outlinewidth": 0,
            "ticks": ""
           }
          },
          "colorscale": {
           "diverging": [
            [
             0,
             "#8e0152"
            ],
            [
             0.1,
             "#c51b7d"
            ],
            [
             0.2,
             "#de77ae"
            ],
            [
             0.3,
             "#f1b6da"
            ],
            [
             0.4,
             "#fde0ef"
            ],
            [
             0.5,
             "#f7f7f7"
            ],
            [
             0.6,
             "#e6f5d0"
            ],
            [
             0.7,
             "#b8e186"
            ],
            [
             0.8,
             "#7fbc41"
            ],
            [
             0.9,
             "#4d9221"
            ],
            [
             1,
             "#276419"
            ]
           ],
           "sequential": [
            [
             0,
             "#0d0887"
            ],
            [
             0.1111111111111111,
             "#46039f"
            ],
            [
             0.2222222222222222,
             "#7201a8"
            ],
            [
             0.3333333333333333,
             "#9c179e"
            ],
            [
             0.4444444444444444,
             "#bd3786"
            ],
            [
             0.5555555555555556,
             "#d8576b"
            ],
            [
             0.6666666666666666,
             "#ed7953"
            ],
            [
             0.7777777777777778,
             "#fb9f3a"
            ],
            [
             0.8888888888888888,
             "#fdca26"
            ],
            [
             1,
             "#f0f921"
            ]
           ],
           "sequentialminus": [
            [
             0,
             "#0d0887"
            ],
            [
             0.1111111111111111,
             "#46039f"
            ],
            [
             0.2222222222222222,
             "#7201a8"
            ],
            [
             0.3333333333333333,
             "#9c179e"
            ],
            [
             0.4444444444444444,
             "#bd3786"
            ],
            [
             0.5555555555555556,
             "#d8576b"
            ],
            [
             0.6666666666666666,
             "#ed7953"
            ],
            [
             0.7777777777777778,
             "#fb9f3a"
            ],
            [
             0.8888888888888888,
             "#fdca26"
            ],
            [
             1,
             "#f0f921"
            ]
           ]
          },
          "colorway": [
           "#636efa",
           "#EF553B",
           "#00cc96",
           "#ab63fa",
           "#FFA15A",
           "#19d3f3",
           "#FF6692",
           "#B6E880",
           "#FF97FF",
           "#FECB52"
          ],
          "font": {
           "color": "#2a3f5f"
          },
          "geo": {
           "bgcolor": "white",
           "lakecolor": "white",
           "landcolor": "#E5ECF6",
           "showlakes": true,
           "showland": true,
           "subunitcolor": "white"
          },
          "hoverlabel": {
           "align": "left"
          },
          "hovermode": "closest",
          "mapbox": {
           "style": "light"
          },
          "paper_bgcolor": "white",
          "plot_bgcolor": "#E5ECF6",
          "polar": {
           "angularaxis": {
            "gridcolor": "white",
            "linecolor": "white",
            "ticks": ""
           },
           "bgcolor": "#E5ECF6",
           "radialaxis": {
            "gridcolor": "white",
            "linecolor": "white",
            "ticks": ""
           }
          },
          "scene": {
           "xaxis": {
            "backgroundcolor": "#E5ECF6",
            "gridcolor": "white",
            "gridwidth": 2,
            "linecolor": "white",
            "showbackground": true,
            "ticks": "",
            "zerolinecolor": "white"
           },
           "yaxis": {
            "backgroundcolor": "#E5ECF6",
            "gridcolor": "white",
            "gridwidth": 2,
            "linecolor": "white",
            "showbackground": true,
            "ticks": "",
            "zerolinecolor": "white"
           },
           "zaxis": {
            "backgroundcolor": "#E5ECF6",
            "gridcolor": "white",
            "gridwidth": 2,
            "linecolor": "white",
            "showbackground": true,
            "ticks": "",
            "zerolinecolor": "white"
           }
          },
          "shapedefaults": {
           "line": {
            "color": "#2a3f5f"
           }
          },
          "ternary": {
           "aaxis": {
            "gridcolor": "white",
            "linecolor": "white",
            "ticks": ""
           },
           "baxis": {
            "gridcolor": "white",
            "linecolor": "white",
            "ticks": ""
           },
           "bgcolor": "#E5ECF6",
           "caxis": {
            "gridcolor": "white",
            "linecolor": "white",
            "ticks": ""
           }
          },
          "title": {
           "x": 0.05
          },
          "xaxis": {
           "automargin": true,
           "gridcolor": "white",
           "linecolor": "white",
           "ticks": "",
           "title": {
            "standoff": 15
           },
           "zerolinecolor": "white",
           "zerolinewidth": 2
          },
          "yaxis": {
           "automargin": true,
           "gridcolor": "white",
           "linecolor": "white",
           "ticks": "",
           "title": {
            "standoff": 15
           },
           "zerolinecolor": "white",
           "zerolinewidth": 2
          }
         }
        },
        "xaxis": {
         "anchor": "y",
         "domain": [
          0,
          1
         ],
         "title": {
          "text": "variable"
         }
        },
        "yaxis": {
         "anchor": "x",
         "domain": [
          0,
          1
         ],
         "title": {
          "text": "value"
         }
        }
       }
      },
      "text/html": [
       "<div>                            <div id=\"c61f6b45-c0e4-4837-ae1b-e0bd71c8e2d9\" class=\"plotly-graph-div\" style=\"height:525px; width:100%;\"></div>            <script type=\"text/javascript\">                require([\"plotly\"], function(Plotly) {                    window.PLOTLYENV=window.PLOTLYENV || {};                                    if (document.getElementById(\"c61f6b45-c0e4-4837-ae1b-e0bd71c8e2d9\")) {                    Plotly.newPlot(                        \"c61f6b45-c0e4-4837-ae1b-e0bd71c8e2d9\",                        [{\"alignmentgroup\":\"True\",\"hovertemplate\":\"variable=%{x}<br>value=%{y}<extra></extra>\",\"legendgroup\":\"\",\"marker\":{\"color\":\"#636efa\"},\"name\":\"\",\"notched\":false,\"offsetgroup\":\"\",\"orientation\":\"v\",\"showlegend\":false,\"type\":\"box\",\"x\":[\"person.age\",\"person.age\",\"person.age\",\"person.age\",\"person.age\",\"person.age\",\"person.age\",\"person.age\",\"person.age\",\"person.age\",\"person.age\",\"person.age\",\"person.age\",\"person.age\",\"person.age\",\"person.age\",\"person.age\",\"person.age\",\"person.age\",\"person.age\",\"person.age\",\"person.age\",\"person.age\",\"person.age\",\"person.age\",\"person.age\",\"person.age\",\"person.age\",\"person.age\",\"person.age\",\"person.age\",\"person.age\",\"person.age\",\"person.age\",\"person.age\",\"person.age\",\"person.age\",\"person.age\",\"person.age\",\"person.age\",\"person.age\",\"person.age\",\"person.age\",\"person.age\",\"person.age\",\"person.age\",\"person.age\",\"person.age\",\"person.age\",\"person.age\",\"person.age\",\"person.age\",\"person.age\",\"person.age\",\"person.age\",\"person.age\",\"person.age\",\"person.age\",\"person.age\",\"person.age\",\"person.age\",\"person.age\",\"person.age\",\"person.age\",\"person.age\",\"person.age\",\"person.age\",\"person.age\",\"person.age\",\"person.age\",\"person.age\",\"person.age\",\"person.age\",\"person.age\",\"person.age\",\"person.age\",\"person.age\",\"person.age\",\"person.age\",\"person.age\",\"person.age\",\"person.age\",\"person.age\",\"person.age\",\"person.age\",\"person.age\",\"person.age\",\"person.age\",\"person.age\",\"person.age\",\"person.age\",\"person.age\",\"person.age\",\"person.age\",\"person.age\",\"person.age\",\"person.age\",\"person.age\",\"person.age\",\"person.age\",\"person.age\",\"person.age\",\"person.age\",\"person.age\",\"person.age\",\"person.age\",\"person.age\",\"person.age\",\"person.age\",\"person.age\",\"person.age\",\"person.age\",\"person.age\",\"person.age\",\"person.age\",\"person.age\",\"person.age\",\"person.age\",\"person.age\",\"person.age\",\"person.age\",\"person.age\",\"person.age\",\"person.age\",\"person.age\",\"person.age\",\"person.age\",\"person.age\",\"person.age\",\"person.age\",\"person.age\",\"person.age\",\"person.age\",\"person.age\",\"person.age\",\"person.age\",\"person.age\",\"person.age\",\"person.age\",\"person.age\",\"person.age\",\"person.age\",\"person.age\",\"person.age\",\"person.age\",\"person.age\",\"person.age\",\"person.age\",\"person.age\",\"person.age\",\"person.age\",\"person.age\",\"person.age\",\"person.age\",\"person.age\",\"person.age\",\"person.age\",\"person.age\",\"person.age\",\"person.age\",\"person.age\",\"person.age\",\"person.age\",\"person.age\",\"person.age\",\"person.age\",\"person.age\",\"person.age\",\"person.age\",\"person.age\",\"person.age\",\"person.age\",\"person.age\",\"person.age\",\"person.age\",\"person.age\",\"person.age\",\"person.age\",\"person.age\",\"person.age\",\"person.age\",\"person.age\",\"person.age\",\"person.age\",\"person.age\",\"person.age\",\"person.age\",\"person.age\",\"person.age\",\"person.age\",\"person.age\",\"person.age\",\"person.age\",\"person.age\",\"person.age\",\"person.age\",\"person.age\",\"person.age\",\"person.age\",\"person.age\",\"person.age\",\"person.age\",\"person.age\",\"person.age\",\"person.age\",\"person.age\",\"person.age\",\"person.age\",\"person.age\",\"person.age\",\"person.age\",\"person.age\",\"person.age\",\"person.age\",\"person.age\",\"person.age\",\"person.age\",\"person.age\",\"person.age\",\"person.age\",\"person.age\",\"person.age\",\"person.age\",\"person.age\",\"person.age\",\"person.age\",\"person.age\",\"person.age\",\"person.age\",\"person.age\",\"person.age\",\"person.age\",\"person.age\",\"person.age\",\"person.age\",\"person.age\",\"person.age\",\"person.age\",\"person.age\",\"person.age\",\"person.age\",\"person.age\",\"person.age\",\"person.age\",\"person.age\",\"person.age\",\"person.age\",\"person.age\",\"person.age\",\"person.age\",\"person.age\",\"person.age\",\"person.age\",\"person.age\",\"person.age\",\"person.age\",\"person.age\",\"person.age\",\"person.age\",\"person.age\",\"person.age\",\"person.age\",\"person.age\",\"person.age\",\"person.age\",\"person.age\",\"person.age\",\"person.age\",\"person.age\",\"person.age\",\"person.age\",\"person.age\",\"person.age\",\"person.age\",\"person.age\",\"person.age\",\"person.age\",\"person.age\",\"person.age\",\"person.age\",\"person.age\",\"person.age\",\"person.age\",\"person.age\",\"person.age\",\"person.age\",\"person.age\",\"person.age\",\"person.age\",\"person.age\",\"person.age\",\"person.age\",\"person.age\",\"person.age\",\"person.age\",\"person.age\",\"person.age\",\"person.age\",\"person.age\",\"person.age\",\"person.age\",\"person.age\",\"person.age\",\"person.age\",\"person.age\",\"person.age\",\"person.age\",\"person.age\",\"person.age\",\"person.age\",\"person.age\",\"person.age\",\"person.age\",\"person.age\",\"person.age\",\"person.age\",\"person.age\",\"person.age\",\"person.age\",\"person.age\",\"person.age\",\"person.age\",\"person.age\",\"person.age\",\"person.age\",\"person.age\",\"person.age\",\"person.age\",\"person.age\",\"person.age\",\"person.age\",\"person.age\",\"person.age\",\"person.age\",\"person.age\",\"person.age\",\"person.age\",\"person.age\",\"person.age\",\"person.age\",\"person.age\",\"person.age\",\"person.age\",\"person.age\",\"person.age\",\"person.age\",\"person.age\",\"person.age\",\"person.age\",\"person.age\",\"person.age\",\"person.age\",\"person.age\",\"person.age\",\"person.age\",\"person.age\",\"person.age\",\"person.age\",\"person.age\",\"person.age\",\"person.age\",\"person.age\",\"person.age\",\"person.age\",\"person.age\",\"person.age\",\"person.age\",\"person.age\",\"person.age\",\"person.age\",\"person.age\",\"person.age\",\"person.age\",\"person.age\",\"person.age\",\"person.age\",\"person.age\",\"person.age\",\"person.age\",\"person.age\",\"person.age\",\"person.age\",\"person.age\",\"person.age\",\"person.age\",\"person.age\",\"person.age\",\"person.age\",\"person.age\",\"person.age\",\"person.age\",\"person.age\",\"person.age\",\"person.age\",\"person.age\",\"person.age\",\"person.age\",\"person.age\",\"person.age\",\"person.age\",\"person.age\",\"person.age\",\"person.age\",\"person.age\",\"person.age\",\"person.age\",\"person.age\",\"person.age\",\"person.age\",\"person.age\",\"person.age\",\"person.age\",\"person.age\",\"person.age\",\"person.age\",\"person.age\",\"person.age\",\"person.age\",\"person.age\",\"person.age\",\"person.age\",\"person.age\",\"person.age\",\"person.age\",\"person.age\",\"person.age\",\"person.age\",\"person.age\",\"person.age\",\"person.age\",\"person.age\",\"person.age\",\"person.age\",\"person.age\",\"person.age\",\"person.age\",\"person.age\",\"person.age\",\"person.age\",\"person.age\",\"person.age\",\"person.age\",\"person.age\",\"person.age\",\"person.age\",\"person.age\",\"person.age\",\"person.age\",\"person.age\",\"person.age\",\"person.age\",\"person.age\",\"person.age\",\"person.age\",\"person.age\",\"person.age\",\"person.age\",\"person.age\",\"person.age\",\"person.age\",\"person.age\",\"person.age\",\"person.age\",\"person.age\",\"person.age\",\"person.age\",\"person.age\",\"person.age\",\"person.age\",\"person.age\",\"person.age\",\"person.age\",\"person.age\",\"person.age\",\"person.age\",\"person.age\",\"person.age\",\"person.age\",\"person.age\",\"person.age\",\"person.age\",\"person.age\",\"person.age\",\"person.age\",\"person.age\",\"person.age\",\"person.age\",\"person.age\",\"person.age\",\"person.age\",\"person.age\"],\"x0\":\" \",\"xaxis\":\"x\",\"y\":[23,23,66,66,32,32,34,34,30,30,67,67,33,29,29,30,30,34,22,22,46,46,35,35,25,25,37,37,27,23,33,24,26,26,24,24,35,35,25,25,32,40,40,50,50,54,27,27,33,33,24,24,28,28,27,27,33,33,23,27,24,33,24,57,25,24,24,24,35,35,51,51,56,56,24,31,45,46,46,46,27,28,28,28,11,42,43,43,29,29,27,57,24,24,28,39,39,63,31,31,28,28,40,22,22,35,35,30,33,33,31,25,25,63,62,24,23,40,40,33,31,39,25,19,24,24,40,40,24,24,23,23,43,43,20,20,23,29,29,24,24,25,25,22,34,33,26,26,29,29,25,25,19,47,42,42,43,43,28,28,31,31,68,68,27,37,37,28,28,52,52,24,24,38,38,29,42,42,30,30,32,56,31,25,47,35,24,23,23,29,29,41,23,23,27,27,31,31,48,48,24,24,25,25,20,27,27,34,34,28,29,29,44,44,19,24,24,24,30,24,24,34,34,28,28,30,30,33,33,28,22,22,35,33,24,63,26,30,30,26,24,52,52,39,35,31,35,21,18,31,28,28,41,41,22,50,50,24,24,23,23,27,27,26,26,53,53,32,32,25,25,43,43,55,31,31,57,35,23,39,59,59,37,10,22,42,42,42,42,56,56,33,24,24,33,33,52,52,24,24,26,26,33,33,25,25,23,23,34,37,34,25,25,43,43,24,24,67,67,44,44,35,35,37,37,24,32,35,35,35,35,31,31,34,34,18,18,39,28,34,37,31,31,21,24,22,22,51,51,40,43,59,59,59,59,30,30,23,23,24,24,20,24,24,24,24,46,46,39,\"30\",35,24,28,48,48,32,34,34,29,30,30,30,39,39,39,41,41,41,36,36,36,28,28,28,21,21,21,35,35,28,28,28,30,30,30,30,30,34,34,34,30,30,30,30,30,30,36,36,36,28,28,28,28,28,28,28,28,21,29,35,28,26,26,26,26,28,28,28,34,34,34,33,33,33,28,28,28,29,29,29,37,37,37,28,28,28,28,28,28,24,26,28,37,37,37,25,25,25,25,25,28,28,28,29,29,29,26,26,26,28,28,28,\"50\",\"50\",\"50\",\"47\",\"47\",\"47\",\"30\",28,\"30\"],\"y0\":\" \",\"yaxis\":\"y\"}],                        {\"boxmode\":\"group\",\"legend\":{\"tracegroupgap\":0},\"margin\":{\"t\":60},\"template\":{\"data\":{\"bar\":[{\"error_x\":{\"color\":\"#2a3f5f\"},\"error_y\":{\"color\":\"#2a3f5f\"},\"marker\":{\"line\":{\"color\":\"#E5ECF6\",\"width\":0.5},\"pattern\":{\"fillmode\":\"overlay\",\"size\":10,\"solidity\":0.2}},\"type\":\"bar\"}],\"barpolar\":[{\"marker\":{\"line\":{\"color\":\"#E5ECF6\",\"width\":0.5},\"pattern\":{\"fillmode\":\"overlay\",\"size\":10,\"solidity\":0.2}},\"type\":\"barpolar\"}],\"carpet\":[{\"aaxis\":{\"endlinecolor\":\"#2a3f5f\",\"gridcolor\":\"white\",\"linecolor\":\"white\",\"minorgridcolor\":\"white\",\"startlinecolor\":\"#2a3f5f\"},\"baxis\":{\"endlinecolor\":\"#2a3f5f\",\"gridcolor\":\"white\",\"linecolor\":\"white\",\"minorgridcolor\":\"white\",\"startlinecolor\":\"#2a3f5f\"},\"type\":\"carpet\"}],\"choropleth\":[{\"colorbar\":{\"outlinewidth\":0,\"ticks\":\"\"},\"type\":\"choropleth\"}],\"contour\":[{\"colorbar\":{\"outlinewidth\":0,\"ticks\":\"\"},\"colorscale\":[[0.0,\"#0d0887\"],[0.1111111111111111,\"#46039f\"],[0.2222222222222222,\"#7201a8\"],[0.3333333333333333,\"#9c179e\"],[0.4444444444444444,\"#bd3786\"],[0.5555555555555556,\"#d8576b\"],[0.6666666666666666,\"#ed7953\"],[0.7777777777777778,\"#fb9f3a\"],[0.8888888888888888,\"#fdca26\"],[1.0,\"#f0f921\"]],\"type\":\"contour\"}],\"contourcarpet\":[{\"colorbar\":{\"outlinewidth\":0,\"ticks\":\"\"},\"type\":\"contourcarpet\"}],\"heatmap\":[{\"colorbar\":{\"outlinewidth\":0,\"ticks\":\"\"},\"colorscale\":[[0.0,\"#0d0887\"],[0.1111111111111111,\"#46039f\"],[0.2222222222222222,\"#7201a8\"],[0.3333333333333333,\"#9c179e\"],[0.4444444444444444,\"#bd3786\"],[0.5555555555555556,\"#d8576b\"],[0.6666666666666666,\"#ed7953\"],[0.7777777777777778,\"#fb9f3a\"],[0.8888888888888888,\"#fdca26\"],[1.0,\"#f0f921\"]],\"type\":\"heatmap\"}],\"heatmapgl\":[{\"colorbar\":{\"outlinewidth\":0,\"ticks\":\"\"},\"colorscale\":[[0.0,\"#0d0887\"],[0.1111111111111111,\"#46039f\"],[0.2222222222222222,\"#7201a8\"],[0.3333333333333333,\"#9c179e\"],[0.4444444444444444,\"#bd3786\"],[0.5555555555555556,\"#d8576b\"],[0.6666666666666666,\"#ed7953\"],[0.7777777777777778,\"#fb9f3a\"],[0.8888888888888888,\"#fdca26\"],[1.0,\"#f0f921\"]],\"type\":\"heatmapgl\"}],\"histogram\":[{\"marker\":{\"pattern\":{\"fillmode\":\"overlay\",\"size\":10,\"solidity\":0.2}},\"type\":\"histogram\"}],\"histogram2d\":[{\"colorbar\":{\"outlinewidth\":0,\"ticks\":\"\"},\"colorscale\":[[0.0,\"#0d0887\"],[0.1111111111111111,\"#46039f\"],[0.2222222222222222,\"#7201a8\"],[0.3333333333333333,\"#9c179e\"],[0.4444444444444444,\"#bd3786\"],[0.5555555555555556,\"#d8576b\"],[0.6666666666666666,\"#ed7953\"],[0.7777777777777778,\"#fb9f3a\"],[0.8888888888888888,\"#fdca26\"],[1.0,\"#f0f921\"]],\"type\":\"histogram2d\"}],\"histogram2dcontour\":[{\"colorbar\":{\"outlinewidth\":0,\"ticks\":\"\"},\"colorscale\":[[0.0,\"#0d0887\"],[0.1111111111111111,\"#46039f\"],[0.2222222222222222,\"#7201a8\"],[0.3333333333333333,\"#9c179e\"],[0.4444444444444444,\"#bd3786\"],[0.5555555555555556,\"#d8576b\"],[0.6666666666666666,\"#ed7953\"],[0.7777777777777778,\"#fb9f3a\"],[0.8888888888888888,\"#fdca26\"],[1.0,\"#f0f921\"]],\"type\":\"histogram2dcontour\"}],\"mesh3d\":[{\"colorbar\":{\"outlinewidth\":0,\"ticks\":\"\"},\"type\":\"mesh3d\"}],\"parcoords\":[{\"line\":{\"colorbar\":{\"outlinewidth\":0,\"ticks\":\"\"}},\"type\":\"parcoords\"}],\"pie\":[{\"automargin\":true,\"type\":\"pie\"}],\"scatter\":[{\"marker\":{\"colorbar\":{\"outlinewidth\":0,\"ticks\":\"\"}},\"type\":\"scatter\"}],\"scatter3d\":[{\"line\":{\"colorbar\":{\"outlinewidth\":0,\"ticks\":\"\"}},\"marker\":{\"colorbar\":{\"outlinewidth\":0,\"ticks\":\"\"}},\"type\":\"scatter3d\"}],\"scattercarpet\":[{\"marker\":{\"colorbar\":{\"outlinewidth\":0,\"ticks\":\"\"}},\"type\":\"scattercarpet\"}],\"scattergeo\":[{\"marker\":{\"colorbar\":{\"outlinewidth\":0,\"ticks\":\"\"}},\"type\":\"scattergeo\"}],\"scattergl\":[{\"marker\":{\"colorbar\":{\"outlinewidth\":0,\"ticks\":\"\"}},\"type\":\"scattergl\"}],\"scattermapbox\":[{\"marker\":{\"colorbar\":{\"outlinewidth\":0,\"ticks\":\"\"}},\"type\":\"scattermapbox\"}],\"scatterpolar\":[{\"marker\":{\"colorbar\":{\"outlinewidth\":0,\"ticks\":\"\"}},\"type\":\"scatterpolar\"}],\"scatterpolargl\":[{\"marker\":{\"colorbar\":{\"outlinewidth\":0,\"ticks\":\"\"}},\"type\":\"scatterpolargl\"}],\"scatterternary\":[{\"marker\":{\"colorbar\":{\"outlinewidth\":0,\"ticks\":\"\"}},\"type\":\"scatterternary\"}],\"surface\":[{\"colorbar\":{\"outlinewidth\":0,\"ticks\":\"\"},\"colorscale\":[[0.0,\"#0d0887\"],[0.1111111111111111,\"#46039f\"],[0.2222222222222222,\"#7201a8\"],[0.3333333333333333,\"#9c179e\"],[0.4444444444444444,\"#bd3786\"],[0.5555555555555556,\"#d8576b\"],[0.6666666666666666,\"#ed7953\"],[0.7777777777777778,\"#fb9f3a\"],[0.8888888888888888,\"#fdca26\"],[1.0,\"#f0f921\"]],\"type\":\"surface\"}],\"table\":[{\"cells\":{\"fill\":{\"color\":\"#EBF0F8\"},\"line\":{\"color\":\"white\"}},\"header\":{\"fill\":{\"color\":\"#C8D4E3\"},\"line\":{\"color\":\"white\"}},\"type\":\"table\"}]},\"layout\":{\"annotationdefaults\":{\"arrowcolor\":\"#2a3f5f\",\"arrowhead\":0,\"arrowwidth\":1},\"autotypenumbers\":\"strict\",\"coloraxis\":{\"colorbar\":{\"outlinewidth\":0,\"ticks\":\"\"}},\"colorscale\":{\"diverging\":[[0,\"#8e0152\"],[0.1,\"#c51b7d\"],[0.2,\"#de77ae\"],[0.3,\"#f1b6da\"],[0.4,\"#fde0ef\"],[0.5,\"#f7f7f7\"],[0.6,\"#e6f5d0\"],[0.7,\"#b8e186\"],[0.8,\"#7fbc41\"],[0.9,\"#4d9221\"],[1,\"#276419\"]],\"sequential\":[[0.0,\"#0d0887\"],[0.1111111111111111,\"#46039f\"],[0.2222222222222222,\"#7201a8\"],[0.3333333333333333,\"#9c179e\"],[0.4444444444444444,\"#bd3786\"],[0.5555555555555556,\"#d8576b\"],[0.6666666666666666,\"#ed7953\"],[0.7777777777777778,\"#fb9f3a\"],[0.8888888888888888,\"#fdca26\"],[1.0,\"#f0f921\"]],\"sequentialminus\":[[0.0,\"#0d0887\"],[0.1111111111111111,\"#46039f\"],[0.2222222222222222,\"#7201a8\"],[0.3333333333333333,\"#9c179e\"],[0.4444444444444444,\"#bd3786\"],[0.5555555555555556,\"#d8576b\"],[0.6666666666666666,\"#ed7953\"],[0.7777777777777778,\"#fb9f3a\"],[0.8888888888888888,\"#fdca26\"],[1.0,\"#f0f921\"]]},\"colorway\":[\"#636efa\",\"#EF553B\",\"#00cc96\",\"#ab63fa\",\"#FFA15A\",\"#19d3f3\",\"#FF6692\",\"#B6E880\",\"#FF97FF\",\"#FECB52\"],\"font\":{\"color\":\"#2a3f5f\"},\"geo\":{\"bgcolor\":\"white\",\"lakecolor\":\"white\",\"landcolor\":\"#E5ECF6\",\"showlakes\":true,\"showland\":true,\"subunitcolor\":\"white\"},\"hoverlabel\":{\"align\":\"left\"},\"hovermode\":\"closest\",\"mapbox\":{\"style\":\"light\"},\"paper_bgcolor\":\"white\",\"plot_bgcolor\":\"#E5ECF6\",\"polar\":{\"angularaxis\":{\"gridcolor\":\"white\",\"linecolor\":\"white\",\"ticks\":\"\"},\"bgcolor\":\"#E5ECF6\",\"radialaxis\":{\"gridcolor\":\"white\",\"linecolor\":\"white\",\"ticks\":\"\"}},\"scene\":{\"xaxis\":{\"backgroundcolor\":\"#E5ECF6\",\"gridcolor\":\"white\",\"gridwidth\":2,\"linecolor\":\"white\",\"showbackground\":true,\"ticks\":\"\",\"zerolinecolor\":\"white\"},\"yaxis\":{\"backgroundcolor\":\"#E5ECF6\",\"gridcolor\":\"white\",\"gridwidth\":2,\"linecolor\":\"white\",\"showbackground\":true,\"ticks\":\"\",\"zerolinecolor\":\"white\"},\"zaxis\":{\"backgroundcolor\":\"#E5ECF6\",\"gridcolor\":\"white\",\"gridwidth\":2,\"linecolor\":\"white\",\"showbackground\":true,\"ticks\":\"\",\"zerolinecolor\":\"white\"}},\"shapedefaults\":{\"line\":{\"color\":\"#2a3f5f\"}},\"ternary\":{\"aaxis\":{\"gridcolor\":\"white\",\"linecolor\":\"white\",\"ticks\":\"\"},\"baxis\":{\"gridcolor\":\"white\",\"linecolor\":\"white\",\"ticks\":\"\"},\"bgcolor\":\"#E5ECF6\",\"caxis\":{\"gridcolor\":\"white\",\"linecolor\":\"white\",\"ticks\":\"\"}},\"title\":{\"x\":0.05},\"xaxis\":{\"automargin\":true,\"gridcolor\":\"white\",\"linecolor\":\"white\",\"ticks\":\"\",\"title\":{\"standoff\":15},\"zerolinecolor\":\"white\",\"zerolinewidth\":2},\"yaxis\":{\"automargin\":true,\"gridcolor\":\"white\",\"linecolor\":\"white\",\"ticks\":\"\",\"title\":{\"standoff\":15},\"zerolinecolor\":\"white\",\"zerolinewidth\":2}}},\"xaxis\":{\"anchor\":\"y\",\"domain\":[0.0,1.0],\"title\":{\"text\":\"variable\"}},\"yaxis\":{\"anchor\":\"x\",\"domain\":[0.0,1.0],\"title\":{\"text\":\"value\"}}},                        {\"responsive\": true}                    ).then(function(){\n",
       "                            \n",
       "var gd = document.getElementById('c61f6b45-c0e4-4837-ae1b-e0bd71c8e2d9');\n",
       "var x = new MutationObserver(function (mutations, observer) {{\n",
       "        var display = window.getComputedStyle(gd).display;\n",
       "        if (!display || display === 'none') {{\n",
       "            console.log([gd, 'removed!']);\n",
       "            Plotly.purge(gd);\n",
       "            observer.disconnect();\n",
       "        }}\n",
       "}});\n",
       "\n",
       "// Listen for the removal of the full notebook cells\n",
       "var notebookContainer = gd.closest('#notebook-container');\n",
       "if (notebookContainer) {{\n",
       "    x.observe(notebookContainer, {childList: true});\n",
       "}}\n",
       "\n",
       "// Listen for the clearing of the current output cell\n",
       "var outputEl = gd.closest('.output');\n",
       "if (outputEl) {{\n",
       "    x.observe(outputEl, {childList: true});\n",
       "}}\n",
       "\n",
       "                        })                };                });            </script>        </div>"
      ]
     },
     "metadata": {},
     "output_type": "display_data"
    }
   ],
   "source": [
    "px.box(phase1_df['person.age'])\n",
    "## Detect Outliers --> three records in : 19992 , one point: -3"
   ]
  },
  {
   "cell_type": "code",
   "execution_count": 146,
   "metadata": {},
   "outputs": [],
   "source": [
    "phase1_df = phase1_df[(phase1_df['person.age'].astype(int)>0) & (phase1_df['person.age'].astype(int)<100)]\n",
    "# plot gain ! "
   ]
  },
  {
   "cell_type": "code",
   "execution_count": null,
   "metadata": {},
   "outputs": [],
   "source": []
  },
  {
   "cell_type": "markdown",
   "metadata": {},
   "source": [
    "### Some visualizations"
   ]
  },
  {
   "cell_type": "code",
   "execution_count": 44,
   "metadata": {
    "colab": {
     "base_uri": "https://localhost:8080/"
    },
    "id": "AsXmz4aGtzL3",
    "outputId": "def503a2-62e4-4788-f0f5-ae181f2f3a01"
   },
   "outputs": [
    {
     "data": {
      "text/plain": [
       "<matplotlib.axes._subplots.AxesSubplot at 0x18d34276710>"
      ]
     },
     "execution_count": 44,
     "metadata": {},
     "output_type": "execute_result"
    },
    {
     "data": {
      "image/png": "[encoded data removed]",
      "text/plain": [
       "<Figure size 432x288 with 1 Axes>"
      ]
     },
     "metadata": {},
     "output_type": "display_data"
    }
   ],
   "source": [
    "#phase1_df.groupby(by=['season','location.name']).mean(phase1_df['person.age'])\n",
    "sns.histplot(phase1_df['location.state'].value_counts())"
   ]
  },
  {
   "cell_type": "code",
   "execution_count": 108,
   "metadata": {
    "id": "MUURSI1ktzOJ"
   },
   "outputs": [
    {
     "data": {
      "application/vnd.plotly.v1+json": {
       "config": {
        "plotlyServerURL": "https://plot.ly"
       },
       "data": [
        {
         "alignmentgroup": "True",
         "hovertemplate": "variable=0<br>value=%{x}<br>count=%{y}<extra></extra>",
         "legendgroup": "0",
         "marker": {
          "color": "#636efa",
          "pattern": {
           "shape": ""
          }
         },
         "name": "0",
         "offsetgroup": "0",
         "orientation": "v",
         "showlegend": true,
         "textposition": "auto",
         "type": "bar",
         "x": [
          "IL",
          "FL",
          "NY",
          "LA",
          "FL",
          "NY",
          "TX",
          "AZ",
          "IL",
          "DC",
          "GA",
          "CA",
          "HI",
          "MA",
          "NY",
          "FL",
          "FL",
          "NC",
          "AZ",
          "NC",
          "ID",
          "NV",
          "OK",
          "TN",
          "OH",
          "OK",
          "GA",
          "FL",
          "AZ",
          "NY",
          "FL",
          "WY",
          "IL",
          "WA",
          "OK",
          "NM",
          "ME",
          "SC",
          "OK",
          "NY",
          "OH",
          "GA",
          "DC",
          "WA",
          "NM",
          "TX",
          "TX",
          "PA",
          "FL",
          "NV",
          "CA",
          "NY",
          "TN",
          "FL",
          "TX",
          "LA",
          "PA",
          "FL",
          "IL",
          "IN",
          "NY",
          "TX",
          "NC",
          "AL",
          "GA",
          "AK",
          "MD",
          "VA",
          "FL",
          "ND",
          "AL",
          "TX",
          "DC",
          "NY",
          "AL",
          "WV",
          "TN",
          "AZ",
          "NY",
          "NV",
          "FL",
          "IL",
          "OR",
          "NY",
          "WI",
          "IL",
          "MN",
          "DC",
          "TN",
          "MT",
          "CO",
          "FL",
          "AZ",
          "TX",
          "IL",
          "FL",
          "IL",
          "SC",
          "WA",
          "MD",
          "CA",
          "CO",
          "TX",
          "HI",
          "NE",
          "WV",
          "HI",
          "FL",
          "CA",
          "GA",
          "OH",
          "NV",
          "AL",
          "GA",
          "NY",
          "FL",
          "AZ",
          "WI",
          "SC",
          "HI",
          "OR",
          "CA",
          "TX",
          "FL",
          "CA",
          "TX",
          "LA",
          "IL",
          "PA",
          "GA",
          "NY",
          "IL",
          "FL",
          "OH",
          "CA",
          "CA",
          "NY",
          "LA",
          "TX",
          "TX",
          "NC",
          "GA",
          "AL",
          "TX",
          "GA",
          "NV",
          "FL",
          "FL",
          "MN",
          "NC",
          "TX",
          "FL",
          "WA",
          "CA",
          "NY",
          "AK",
          "LA",
          "DC",
          "WI",
          "CA",
          "CO",
          "FL",
          "VA",
          "TN",
          "TX",
          "IL",
          "CO",
          "KS",
          "TX",
          "TX",
          "WA",
          "NM",
          "MD",
          "AK",
          "WI",
          "TN",
          "OR",
          "AR",
          "HI",
          "TN",
          "KY",
          "TX",
          "IL",
          "HI",
          "FL",
          "CA",
          "GA",
          "ND",
          "NY",
          "GA",
          "NM",
          "NY",
          "LA",
          "LA",
          "IA",
          "ND",
          "FL",
          "IL",
          "PA",
          "LA",
          "WA",
          "NY",
          "NV",
          "TX",
          "TX",
          "GA",
          "MT",
          "GA",
          "LA",
          "NC",
          "MD",
          "NY",
          "LA",
          "PA",
          "IL",
          "CA",
          "CT",
          "KS",
          "IN",
          "AL",
          "NV",
          "NY",
          "IL",
          "TX",
          "MN",
          "NY",
          "CA",
          "HI",
          "CA",
          "MD",
          "IL",
          "AK",
          "CA",
          "FL",
          "MA",
          "AR",
          "GA",
          "TN",
          "NC",
          "ND",
          "MO",
          "NV",
          "CO",
          "TX",
          "SC",
          "NC",
          "FL",
          "KY",
          "LA",
          "CA",
          "TX",
          "GA",
          "IL",
          "NV",
          "WI",
          "LA",
          "TN",
          "TX",
          "MI",
          "MT",
          "WA",
          "NV",
          "GA",
          "NC",
          "AL",
          "IA",
          "NY",
          "AK",
          "TX",
          "FL",
          "GA",
          "IL",
          "NY",
          "NV",
          "ID",
          "TN",
          "KY",
          "IN",
          "FL",
          "HI",
          "GA",
          "FL",
          "IN",
          "OH",
          "WI",
          "CO",
          "NY",
          "IL",
          "PA",
          "PA",
          "LA",
          "NV",
          "UT",
          "KS",
          "KS",
          "VA",
          "NV",
          "NV",
          "NY",
          "CO",
          "GA",
          "FL",
          "FL",
          "NE",
          "TX",
          "OR",
          "NY",
          "TN",
          "IL",
          "NY",
          "MT",
          "WI",
          "LA",
          "UT",
          "NM",
          "CO",
          "IA",
          "FL",
          "OK",
          "WI",
          "OR",
          "NY",
          "NY",
          "TX",
          "IL",
          "DC",
          "WI",
          "NM",
          "LA",
          "TX",
          "NC",
          "TX",
          "NY",
          "AL",
          "MT",
          "NY",
          "NV",
          "NY",
          "LA",
          "FL",
          "NV",
          "CA",
          "CO",
          "WI",
          "MN",
          "CA",
          "IL",
          "TX",
          "AK",
          "AZ",
          "AR",
          "MA",
          "NY",
          "IL",
          "NY",
          "DC",
          "CA",
          "TX",
          "CA",
          "FL",
          "KY",
          "TX",
          "LA",
          "FL",
          "MO",
          "MA",
          "PA",
          "OR",
          "LA",
          "TX",
          "GA",
          "PA",
          "TX",
          "LA",
          "DC",
          "TX",
          "NY",
          "CA",
          "TX",
          "NC",
          "MT",
          "CO",
          "UT",
          "TN",
          "TX",
          "KY",
          "KS",
          "AR",
          "TN",
          "TX",
          "ND",
          "TX",
          "FL",
          "NC",
          "IL",
          "TX",
          "NC",
          "MO",
          "TN",
          "TX",
          "WI",
          "PA",
          "PA",
          "NM",
          "LA",
          "MT",
          "MO",
          "CA",
          "GA",
          "MI",
          "ID",
          "CA",
          "LA",
          "KS",
          "SC",
          "OH",
          "AL",
          "NC",
          "MN",
          "KS",
          "NC",
          "TX",
          "CA",
          "TX",
          "FL",
          "WA",
          "CO",
          "LA",
          "WI",
          "UT",
          "CA",
          "AL",
          "IL",
          "AL",
          "OH",
          "FL",
          "CO",
          "TN",
          "IN",
          "IN",
          "AR",
          "GA",
          "TX",
          "GA",
          "AK",
          "MI",
          "IA",
          "NC",
          "MO",
          "WI",
          "SC",
          "PA",
          "LA",
          "CO",
          "AZ",
          "IA",
          "SC",
          "FL",
          "WI",
          "MA",
          "TX",
          "NV",
          "PA",
          "AK",
          "MI",
          "AL",
          "LA",
          "ME",
          "ND",
          "OK",
          "AK",
          "NC",
          "CA",
          "AR",
          "LA",
          "NV",
          "TX",
          "MN",
          "TX",
          "PA",
          "WI",
          "OH",
          "ME",
          "LA",
          "CA",
          "OH",
          "MT",
          "CO",
          "UT",
          "TN",
          "TX",
          "KY",
          "KS",
          "AR",
          "TN"
         ],
         "xaxis": "x",
         "y": [
          1,
          1,
          1,
          1,
          1,
          1,
          1,
          1,
          1,
          1,
          1,
          1,
          1,
          1,
          1,
          1,
          1,
          1,
          1,
          1,
          1,
          1,
          1,
          1,
          1,
          1,
          1,
          1,
          1,
          1,
          1,
          1,
          1,
          1,
          1,
          1,
          1,
          1,
          1,
          1,
          1,
          1,
          1,
          1,
          1,
          1,
          1,
          1,
          1,
          1,
          1,
          1,
          1,
          1,
          1,
          1,
          1,
          1,
          1,
          1,
          1,
          1,
          1,
          1,
          1,
          1,
          1,
          1,
          1,
          1,
          1,
          1,
          1,
          1,
          1,
          1,
          1,
          1,
          1,
          1,
          1,
          1,
          1,
          1,
          1,
          1,
          1,
          1,
          1,
          1,
          1,
          1,
          1,
          1,
          1,
          1,
          1,
          1,
          1,
          1,
          1,
          1,
          1,
          1,
          1,
          1,
          1,
          1,
          1,
          1,
          1,
          1,
          1,
          1,
          1,
          1,
          1,
          1,
          1,
          1,
          1,
          1,
          1,
          1,
          1,
          1,
          1,
          1,
          1,
          1,
          1,
          1,
          1,
          1,
          1,
          1,
          1,
          1,
          1,
          1,
          1,
          1,
          1,
          1,
          1,
          1,
          1,
          1,
          1,
          1,
          1,
          1,
          1,
          1,
          1,
          1,
          1,
          1,
          1,
          1,
          1,
          1,
          1,
          1,
          1,
          1,
          1,
          1,
          1,
          1,
          1,
          1,
          1,
          1,
          1,
          1,
          1,
          1,
          1,
          1,
          1,
          1,
          1,
          1,
          1,
          1,
          1,
          1,
          1,
          1,
          1,
          1,
          1,
          1,
          1,
          1,
          1,
          1,
          1,
          1,
          1,
          1,
          1,
          1,
          1,
          1,
          1,
          1,
          1,
          1,
          1,
          1,
          1,
          1,
          1,
          1,
          1,
          1,
          1,
          1,
          1,
          1,
          1,
          1,
          1,
          1,
          1,
          1,
          1,
          1,
          1,
          1,
          1,
          1,
          1,
          1,
          1,
          1,
          1,
          1,
          1,
          1,
          1,
          1,
          1,
          1,
          1,
          1,
          1,
          1,
          1,
          1,
          1,
          1,
          1,
          1,
          1,
          1,
          1,
          1,
          1,
          1,
          1,
          1,
          1,
          1,
          1,
          1,
          1,
          1,
          1,
          1,
          1,
          1,
          1,
          1,
          1,
          1,
          1,
          1,
          1,
          1,
          1,
          1,
          1,
          1,
          1,
          1,
          1,
          1,
          1,
          1,
          1,
          1,
          1,
          1,
          1,
          1,
          1,
          1,
          1,
          1,
          1,
          1,
          1,
          1,
          1,
          1,
          1,
          1,
          1,
          1,
          1,
          1,
          1,
          1,
          1,
          1,
          1,
          1,
          1,
          1,
          1,
          1,
          1,
          1,
          1,
          1,
          1,
          1,
          1,
          1,
          1,
          1,
          1,
          1,
          1,
          1,
          1,
          1,
          1,
          1,
          1,
          1,
          1,
          1,
          1,
          1,
          1,
          1,
          1,
          1,
          1,
          1,
          1,
          1,
          1,
          1,
          1,
          1,
          1,
          1,
          1,
          1,
          1,
          1,
          1,
          1,
          1,
          1,
          1,
          1,
          1,
          1,
          1,
          1,
          1,
          1,
          1,
          1,
          1,
          1,
          1,
          1,
          1,
          1,
          1,
          1,
          1,
          1,
          1,
          1,
          1,
          1,
          1,
          1,
          1,
          1,
          1,
          1,
          1,
          1,
          1,
          1,
          1,
          1,
          1,
          1,
          1,
          1,
          1,
          1,
          1,
          1,
          1,
          1,
          1,
          1,
          1,
          1,
          1,
          1,
          1,
          1,
          1,
          1,
          1,
          1,
          1,
          1,
          1,
          1,
          1,
          1,
          1,
          1,
          1,
          1,
          1,
          1,
          1,
          1,
          1,
          1,
          1,
          1,
          1,
          1,
          1,
          1,
          1,
          1,
          1,
          1,
          1,
          1,
          1,
          1,
          1,
          1,
          1,
          1,
          1,
          1,
          1,
          1,
          1,
          1,
          1,
          1,
          1,
          1,
          1,
          1,
          1,
          1,
          1,
          1,
          1,
          1,
          1,
          1,
          1,
          1,
          1,
          1,
          1,
          1,
          1,
          1,
          1,
          1,
          1,
          1,
          1
         ],
         "yaxis": "y"
        }
       ],
       "layout": {
        "barmode": "relative",
        "legend": {
         "title": {
          "text": "variable"
         },
         "tracegroupgap": 0
        },
        "margin": {
         "t": 60
        },
        "template": {
         "data": {
          "bar": [
           {
            "error_x": {
             "color": "#2a3f5f"
            },
            "error_y": {
             "color": "#2a3f5f"
            },
            "marker": {
             "line": {
              "color": "#E5ECF6",
              "width": 0.5
             },
             "pattern": {
              "fillmode": "overlay",
              "size": 10,
              "solidity": 0.2
             }
            },
            "type": "bar"
           }
          ],
          "barpolar": [
           {
            "marker": {
             "line": {
              "color": "#E5ECF6",
              "width": 0.5
             },
             "pattern": {
              "fillmode": "overlay",
              "size": 10,
              "solidity": 0.2
             }
            },
            "type": "barpolar"
           }
          ],
          "carpet": [
           {
            "aaxis": {
             "endlinecolor": "#2a3f5f",
             "gridcolor": "white",
             "linecolor": "white",
             "minorgridcolor": "white",
             "startlinecolor": "#2a3f5f"
            },
            "baxis": {
             "endlinecolor": "#2a3f5f",
             "gridcolor": "white",
             "linecolor": "white",
             "minorgridcolor": "white",
             "startlinecolor": "#2a3f5f"
            },
            "type": "carpet"
           }
          ],
          "choropleth": [
           {
            "colorbar": {
             "outlinewidth": 0,
             "ticks": ""
            },
            "type": "choropleth"
           }
          ],
          "contour": [
           {
            "colorbar": {
             "outlinewidth": 0,
             "ticks": ""
            },
            "colorscale": [
             [
              0,
              "#0d0887"
             ],
             [
              0.1111111111111111,
              "#46039f"
             ],
             [
              0.2222222222222222,
              "#7201a8"
             ],
             [
              0.3333333333333333,
              "#9c179e"
             ],
             [
              0.4444444444444444,
              "#bd3786"
             ],
             [
              0.5555555555555556,
              "#d8576b"
             ],
             [
              0.6666666666666666,
              "#ed7953"
             ],
             [
              0.7777777777777778,
              "#fb9f3a"
             ],
             [
              0.8888888888888888,
              "#fdca26"
             ],
             [
              1,
              "#f0f921"
             ]
            ],
            "type": "contour"
           }
          ],
          "contourcarpet": [
           {
            "colorbar": {
             "outlinewidth": 0,
             "ticks": ""
            },
            "type": "contourcarpet"
           }
          ],
          "heatmap": [
           {
            "colorbar": {
             "outlinewidth": 0,
             "ticks": ""
            },
            "colorscale": [
             [
              0,
              "#0d0887"
             ],
             [
              0.1111111111111111,
              "#46039f"
             ],
             [
              0.2222222222222222,
              "#7201a8"
             ],
             [
              0.3333333333333333,
              "#9c179e"
             ],
             [
              0.4444444444444444,
              "#bd3786"
             ],
             [
              0.5555555555555556,
              "#d8576b"
             ],
             [
              0.6666666666666666,
              "#ed7953"
             ],
             [
              0.7777777777777778,
              "#fb9f3a"
             ],
             [
              0.8888888888888888,
              "#fdca26"
             ],
             [
              1,
              "#f0f921"
             ]
            ],
            "type": "heatmap"
           }
          ],
          "heatmapgl": [
           {
            "colorbar": {
             "outlinewidth": 0,
             "ticks": ""
            },
            "colorscale": [
             [
              0,
              "#0d0887"
             ],
             [
              0.1111111111111111,
              "#46039f"
             ],
             [
              0.2222222222222222,
              "#7201a8"
             ],
             [
              0.3333333333333333,
              "#9c179e"
             ],
             [
              0.4444444444444444,
              "#bd3786"
             ],
             [
              0.5555555555555556,
              "#d8576b"
             ],
             [
              0.6666666666666666,
              "#ed7953"
             ],
             [
              0.7777777777777778,
              "#fb9f3a"
             ],
             [
              0.8888888888888888,
              "#fdca26"
             ],
             [
              1,
              "#f0f921"
             ]
            ],
            "type": "heatmapgl"
           }
          ],
          "histogram": [
           {
            "marker": {
             "pattern": {
              "fillmode": "overlay",
              "size": 10,
              "solidity": 0.2
             }
            },
            "type": "histogram"
           }
          ],
          "histogram2d": [
           {
            "colorbar": {
             "outlinewidth": 0,
             "ticks": ""
            },
            "colorscale": [
             [
              0,
              "#0d0887"
             ],
             [
              0.1111111111111111,
              "#46039f"
             ],
             [
              0.2222222222222222,
              "#7201a8"
             ],
             [
              0.3333333333333333,
              "#9c179e"
             ],
             [
              0.4444444444444444,
              "#bd3786"
             ],
             [
              0.5555555555555556,
              "#d8576b"
             ],
             [
              0.6666666666666666,
              "#ed7953"
             ],
             [
              0.7777777777777778,
              "#fb9f3a"
             ],
             [
              0.8888888888888888,
              "#fdca26"
             ],
             [
              1,
              "#f0f921"
             ]
            ],
            "type": "histogram2d"
           }
          ],
          "histogram2dcontour": [
           {
            "colorbar": {
             "outlinewidth": 0,
             "ticks": ""
            },
            "colorscale": [
             [
              0,
              "#0d0887"
             ],
             [
              0.1111111111111111,
              "#46039f"
             ],
             [
              0.2222222222222222,
              "#7201a8"
             ],
             [
              0.3333333333333333,
              "#9c179e"
             ],
             [
              0.4444444444444444,
              "#bd3786"
             ],
             [
              0.5555555555555556,
              "#d8576b"
             ],
             [
              0.6666666666666666,
              "#ed7953"
             ],
             [
              0.7777777777777778,
              "#fb9f3a"
             ],
             [
              0.8888888888888888,
              "#fdca26"
             ],
             [
              1,
              "#f0f921"
             ]
            ],
            "type": "histogram2dcontour"
           }
          ],
          "mesh3d": [
           {
            "colorbar": {
             "outlinewidth": 0,
             "ticks": ""
            },
            "type": "mesh3d"
           }
          ],
          "parcoords": [
           {
            "line": {
             "colorbar": {
              "outlinewidth": 0,
              "ticks": ""
             }
            },
            "type": "parcoords"
           }
          ],
          "pie": [
           {
            "automargin": true,
            "type": "pie"
           }
          ],
          "scatter": [
           {
            "marker": {
             "colorbar": {
              "outlinewidth": 0,
              "ticks": ""
             }
            },
            "type": "scatter"
           }
          ],
          "scatter3d": [
           {
            "line": {
             "colorbar": {
              "outlinewidth": 0,
              "ticks": ""
             }
            },
            "marker": {
             "colorbar": {
              "outlinewidth": 0,
              "ticks": ""
             }
            },
            "type": "scatter3d"
           }
          ],
          "scattercarpet": [
           {
            "marker": {
             "colorbar": {
              "outlinewidth": 0,
              "ticks": ""
             }
            },
            "type": "scattercarpet"
           }
          ],
          "scattergeo": [
           {
            "marker": {
             "colorbar": {
              "outlinewidth": 0,
              "ticks": ""
             }
            },
            "type": "scattergeo"
           }
          ],
          "scattergl": [
           {
            "marker": {
             "colorbar": {
              "outlinewidth": 0,
              "ticks": ""
             }
            },
            "type": "scattergl"
           }
          ],
          "scattermapbox": [
           {
            "marker": {
             "colorbar": {
              "outlinewidth": 0,
              "ticks": ""
             }
            },
            "type": "scattermapbox"
           }
          ],
          "scatterpolar": [
           {
            "marker": {
             "colorbar": {
              "outlinewidth": 0,
              "ticks": ""
             }
            },
            "type": "scatterpolar"
           }
          ],
          "scatterpolargl": [
           {
            "marker": {
             "colorbar": {
              "outlinewidth": 0,
              "ticks": ""
             }
            },
            "type": "scatterpolargl"
           }
          ],
          "scatterternary": [
           {
            "marker": {
             "colorbar": {
              "outlinewidth": 0,
              "ticks": ""
             }
            },
            "type": "scatterternary"
           }
          ],
          "surface": [
           {
            "colorbar": {
             "outlinewidth": 0,
             "ticks": ""
            },
            "colorscale": [
             [
              0,
              "#0d0887"
             ],
             [
              0.1111111111111111,
              "#46039f"
             ],
             [
              0.2222222222222222,
              "#7201a8"
             ],
             [
              0.3333333333333333,
              "#9c179e"
             ],
             [
              0.4444444444444444,
              "#bd3786"
             ],
             [
              0.5555555555555556,
              "#d8576b"
             ],
             [
              0.6666666666666666,
              "#ed7953"
             ],
             [
              0.7777777777777778,
              "#fb9f3a"
             ],
             [
              0.8888888888888888,
              "#fdca26"
             ],
             [
              1,
              "#f0f921"
             ]
            ],
            "type": "surface"
           }
          ],
          "table": [
           {
            "cells": {
             "fill": {
              "color": "#EBF0F8"
             },
             "line": {
              "color": "white"
             }
            },
            "header": {
             "fill": {
              "color": "#C8D4E3"
             },
             "line": {
              "color": "white"
             }
            },
            "type": "table"
           }
          ]
         },
         "layout": {
          "annotationdefaults": {
           "arrowcolor": "#2a3f5f",
           "arrowhead": 0,
           "arrowwidth": 1
          },
          "autotypenumbers": "strict",
          "coloraxis": {
           "colorbar": {
            "outlinewidth": 0,
            "ticks": ""
           }
          },
          "colorscale": {
           "diverging": [
            [
             0,
             "#8e0152"
            ],
            [
             0.1,
             "#c51b7d"
            ],
            [
             0.2,
             "#de77ae"
            ],
            [
             0.3,
             "#f1b6da"
            ],
            [
             0.4,
             "#fde0ef"
            ],
            [
             0.5,
             "#f7f7f7"
            ],
            [
             0.6,
             "#e6f5d0"
            ],
            [
             0.7,
             "#b8e186"
            ],
            [
             0.8,
             "#7fbc41"
            ],
            [
             0.9,
             "#4d9221"
            ],
            [
             1,
             "#276419"
            ]
           ],
           "sequential": [
            [
             0,
             "#0d0887"
            ],
            [
             0.1111111111111111,
             "#46039f"
            ],
            [
             0.2222222222222222,
             "#7201a8"
            ],
            [
             0.3333333333333333,
             "#9c179e"
            ],
            [
             0.4444444444444444,
             "#bd3786"
            ],
            [
             0.5555555555555556,
             "#d8576b"
            ],
            [
             0.6666666666666666,
             "#ed7953"
            ],
            [
             0.7777777777777778,
             "#fb9f3a"
            ],
            [
             0.8888888888888888,
             "#fdca26"
            ],
            [
             1,
             "#f0f921"
            ]
           ],
           "sequentialminus": [
            [
             0,
             "#0d0887"
            ],
            [
             0.1111111111111111,
             "#46039f"
            ],
            [
             0.2222222222222222,
             "#7201a8"
            ],
            [
             0.3333333333333333,
             "#9c179e"
            ],
            [
             0.4444444444444444,
             "#bd3786"
            ],
            [
             0.5555555555555556,
             "#d8576b"
            ],
            [
             0.6666666666666666,
             "#ed7953"
            ],
            [
             0.7777777777777778,
             "#fb9f3a"
            ],
            [
             0.8888888888888888,
             "#fdca26"
            ],
            [
             1,
             "#f0f921"
            ]
           ]
          },
          "colorway": [
           "#636efa",
           "#EF553B",
           "#00cc96",
           "#ab63fa",
           "#FFA15A",
           "#19d3f3",
           "#FF6692",
           "#B6E880",
           "#FF97FF",
           "#FECB52"
          ],
          "font": {
           "color": "#2a3f5f"
          },
          "geo": {
           "bgcolor": "white",
           "lakecolor": "white",
           "landcolor": "#E5ECF6",
           "showlakes": true,
           "showland": true,
           "subunitcolor": "white"
          },
          "hoverlabel": {
           "align": "left"
          },
          "hovermode": "closest",
          "mapbox": {
           "style": "light"
          },
          "paper_bgcolor": "white",
          "plot_bgcolor": "#E5ECF6",
          "polar": {
           "angularaxis": {
            "gridcolor": "white",
            "linecolor": "white",
            "ticks": ""
           },
           "bgcolor": "#E5ECF6",
           "radialaxis": {
            "gridcolor": "white",
            "linecolor": "white",
            "ticks": ""
           }
          },
          "scene": {
           "xaxis": {
            "backgroundcolor": "#E5ECF6",
            "gridcolor": "white",
            "gridwidth": 2,
            "linecolor": "white",
            "showbackground": true,
            "ticks": "",
            "zerolinecolor": "white"
           },
           "yaxis": {
            "backgroundcolor": "#E5ECF6",
            "gridcolor": "white",
            "gridwidth": 2,
            "linecolor": "white",
            "showbackground": true,
            "ticks": "",
            "zerolinecolor": "white"
           },
           "zaxis": {
            "backgroundcolor": "#E5ECF6",
            "gridcolor": "white",
            "gridwidth": 2,
            "linecolor": "white",
            "showbackground": true,
            "ticks": "",
            "zerolinecolor": "white"
           }
          },
          "shapedefaults": {
           "line": {
            "color": "#2a3f5f"
           }
          },
          "ternary": {
           "aaxis": {
            "gridcolor": "white",
            "linecolor": "white",
            "ticks": ""
           },
           "baxis": {
            "gridcolor": "white",
            "linecolor": "white",
            "ticks": ""
           },
           "bgcolor": "#E5ECF6",
           "caxis": {
            "gridcolor": "white",
            "linecolor": "white",
            "ticks": ""
           }
          },
          "title": {
           "x": 0.05
          },
          "xaxis": {
           "automargin": true,
           "gridcolor": "white",
           "linecolor": "white",
           "ticks": "",
           "title": {
            "standoff": 15
           },
           "zerolinecolor": "white",
           "zerolinewidth": 2
          },
          "yaxis": {
           "automargin": true,
           "gridcolor": "white",
           "linecolor": "white",
           "ticks": "",
           "title": {
            "standoff": 15
           },
           "zerolinecolor": "white",
           "zerolinewidth": 2
          }
         }
        },
        "xaxis": {
         "anchor": "y",
         "domain": [
          0,
          1
         ],
         "title": {
          "text": "value"
         }
        },
        "yaxis": {
         "anchor": "x",
         "domain": [
          0,
          1
         ],
         "title": {
          "text": "count"
         }
        }
       }
      },
      "text/html": [
       "<div>                            <div id=\"ffb028ea-be4d-4878-8aa0-2a70e9099a47\" class=\"plotly-graph-div\" style=\"height:525px; width:100%;\"></div>            <script type=\"text/javascript\">                require([\"plotly\"], function(Plotly) {                    window.PLOTLYENV=window.PLOTLYENV || {};                                    if (document.getElementById(\"ffb028ea-be4d-4878-8aa0-2a70e9099a47\")) {                    Plotly.newPlot(                        \"ffb028ea-be4d-4878-8aa0-2a70e9099a47\",                        [{\"alignmentgroup\":\"True\",\"hovertemplate\":\"variable=0<br>value=%{x}<br>count=%{y}<extra></extra>\",\"legendgroup\":\"0\",\"marker\":{\"color\":\"#636efa\",\"pattern\":{\"shape\":\"\"}},\"name\":\"0\",\"offsetgroup\":\"0\",\"orientation\":\"v\",\"showlegend\":true,\"textposition\":\"auto\",\"type\":\"bar\",\"x\":[\"IL\",\"FL\",\"NY\",\"LA\",\"FL\",\"NY\",\"TX\",\"AZ\",\"IL\",\"DC\",\"GA\",\"CA\",\"HI\",\"MA\",\"NY\",\"FL\",\"FL\",\"NC\",\"AZ\",\"NC\",\"ID\",\"NV\",\"OK\",\"TN\",\"OH\",\"OK\",\"GA\",\"FL\",\"AZ\",\"NY\",\"FL\",\"WY\",\"IL\",\"WA\",\"OK\",\"NM\",\"ME\",\"SC\",\"OK\",\"NY\",\"OH\",\"GA\",\"DC\",\"WA\",\"NM\",\"TX\",\"TX\",\"PA\",\"FL\",\"NV\",\"CA\",\"NY\",\"TN\",\"FL\",\"TX\",\"LA\",\"PA\",\"FL\",\"IL\",\"IN\",\"NY\",\"TX\",\"NC\",\"AL\",\"GA\",\"AK\",\"MD\",\"VA\",\"FL\",\"ND\",\"AL\",\"TX\",\"DC\",\"NY\",\"AL\",\"WV\",\"TN\",\"AZ\",\"NY\",\"NV\",\"FL\",\"IL\",\"OR\",\"NY\",\"WI\",\"IL\",\"MN\",\"DC\",\"TN\",\"MT\",\"CO\",\"FL\",\"AZ\",\"TX\",\"IL\",\"FL\",\"IL\",\"SC\",\"WA\",\"MD\",\"CA\",\"CO\",\"TX\",\"HI\",\"NE\",\"WV\",\"HI\",\"FL\",\"CA\",\"GA\",\"OH\",\"NV\",\"AL\",\"GA\",\"NY\",\"FL\",\"AZ\",\"WI\",\"SC\",\"HI\",\"OR\",\"CA\",\"TX\",\"FL\",\"CA\",\"TX\",\"LA\",\"IL\",\"PA\",\"GA\",\"NY\",\"IL\",\"FL\",\"OH\",\"CA\",\"CA\",\"NY\",\"LA\",\"TX\",\"TX\",\"NC\",\"GA\",\"AL\",\"TX\",\"GA\",\"NV\",\"FL\",\"FL\",\"MN\",\"NC\",\"TX\",\"FL\",\"WA\",\"CA\",\"NY\",\"AK\",\"LA\",\"DC\",\"WI\",\"CA\",\"CO\",\"FL\",\"VA\",\"TN\",\"TX\",\"IL\",\"CO\",\"KS\",\"TX\",\"TX\",\"WA\",\"NM\",\"MD\",\"AK\",\"WI\",\"TN\",\"OR\",\"AR\",\"HI\",\"TN\",\"KY\",\"TX\",\"IL\",\"HI\",\"FL\",\"CA\",\"GA\",\"ND\",\"NY\",\"GA\",\"NM\",\"NY\",\"LA\",\"LA\",\"IA\",\"ND\",\"FL\",\"IL\",\"PA\",\"LA\",\"WA\",\"NY\",\"NV\",\"TX\",\"TX\",\"GA\",\"MT\",\"GA\",\"LA\",\"NC\",\"MD\",\"NY\",\"LA\",\"PA\",\"IL\",\"CA\",\"CT\",\"KS\",\"IN\",\"AL\",\"NV\",\"NY\",\"IL\",\"TX\",\"MN\",\"NY\",\"CA\",\"HI\",\"CA\",\"MD\",\"IL\",\"AK\",\"CA\",\"FL\",\"MA\",\"AR\",\"GA\",\"TN\",\"NC\",\"ND\",\"MO\",\"NV\",\"CO\",\"TX\",\"SC\",\"NC\",\"FL\",\"KY\",\"LA\",\"CA\",\"TX\",\"GA\",\"IL\",\"NV\",\"WI\",\"LA\",\"TN\",\"TX\",\"MI\",\"MT\",\"WA\",\"NV\",\"GA\",\"NC\",\"AL\",\"IA\",\"NY\",\"AK\",\"TX\",\"FL\",\"GA\",\"IL\",\"NY\",\"NV\",\"ID\",\"TN\",\"KY\",\"IN\",\"FL\",\"HI\",\"GA\",\"FL\",\"IN\",\"OH\",\"WI\",\"CO\",\"NY\",\"IL\",\"PA\",\"PA\",\"LA\",\"NV\",\"UT\",\"KS\",\"KS\",\"VA\",\"NV\",\"NV\",\"NY\",\"CO\",\"GA\",\"FL\",\"FL\",\"NE\",\"TX\",\"OR\",\"NY\",\"TN\",\"IL\",\"NY\",\"MT\",\"WI\",\"LA\",\"UT\",\"NM\",\"CO\",\"IA\",\"FL\",\"OK\",\"WI\",\"OR\",\"NY\",\"NY\",\"TX\",\"IL\",\"DC\",\"WI\",\"NM\",\"LA\",\"TX\",\"NC\",\"TX\",\"NY\",\"AL\",\"MT\",\"NY\",\"NV\",\"NY\",\"LA\",\"FL\",\"NV\",\"CA\",\"CO\",\"WI\",\"MN\",\"CA\",\"IL\",\"TX\",\"AK\",\"AZ\",\"AR\",\"MA\",\"NY\",\"IL\",\"NY\",\"DC\",\"CA\",\"TX\",\"CA\",\"FL\",\"KY\",\"TX\",\"LA\",\"FL\",\"MO\",\"MA\",\"PA\",\"OR\",\"LA\",\"TX\",\"GA\",\"PA\",\"TX\",\"LA\",\"DC\",\"TX\",\"NY\",\"CA\",\"TX\",\"NC\",\"MT\",\"CO\",\"UT\",\"TN\",\"TX\",\"KY\",\"KS\",\"AR\",\"TN\",\"TX\",\"ND\",\"TX\",\"FL\",\"NC\",\"IL\",\"TX\",\"NC\",\"MO\",\"TN\",\"TX\",\"WI\",\"PA\",\"PA\",\"NM\",\"LA\",\"MT\",\"MO\",\"CA\",\"GA\",\"MI\",\"ID\",\"CA\",\"LA\",\"KS\",\"SC\",\"OH\",\"AL\",\"NC\",\"MN\",\"KS\",\"NC\",\"TX\",\"CA\",\"TX\",\"FL\",\"WA\",\"CO\",\"LA\",\"WI\",\"UT\",\"CA\",\"AL\",\"IL\",\"AL\",\"OH\",\"FL\",\"CO\",\"TN\",\"IN\",\"IN\",\"AR\",\"GA\",\"TX\",\"GA\",\"AK\",\"MI\",\"IA\",\"NC\",\"MO\",\"WI\",\"SC\",\"PA\",\"LA\",\"CO\",\"AZ\",\"IA\",\"SC\",\"FL\",\"WI\",\"MA\",\"TX\",\"NV\",\"PA\",\"AK\",\"MI\",\"AL\",\"LA\",\"ME\",\"ND\",\"OK\",\"AK\",\"NC\",\"CA\",\"AR\",\"LA\",\"NV\",\"TX\",\"MN\",\"TX\",\"PA\",\"WI\",\"OH\",\"ME\",\"LA\",\"CA\",\"OH\",\"MT\",\"CO\",\"UT\",\"TN\",\"TX\",\"KY\",\"KS\",\"AR\",\"TN\"],\"xaxis\":\"x\",\"y\":[1,1,1,1,1,1,1,1,1,1,1,1,1,1,1,1,1,1,1,1,1,1,1,1,1,1,1,1,1,1,1,1,1,1,1,1,1,1,1,1,1,1,1,1,1,1,1,1,1,1,1,1,1,1,1,1,1,1,1,1,1,1,1,1,1,1,1,1,1,1,1,1,1,1,1,1,1,1,1,1,1,1,1,1,1,1,1,1,1,1,1,1,1,1,1,1,1,1,1,1,1,1,1,1,1,1,1,1,1,1,1,1,1,1,1,1,1,1,1,1,1,1,1,1,1,1,1,1,1,1,1,1,1,1,1,1,1,1,1,1,1,1,1,1,1,1,1,1,1,1,1,1,1,1,1,1,1,1,1,1,1,1,1,1,1,1,1,1,1,1,1,1,1,1,1,1,1,1,1,1,1,1,1,1,1,1,1,1,1,1,1,1,1,1,1,1,1,1,1,1,1,1,1,1,1,1,1,1,1,1,1,1,1,1,1,1,1,1,1,1,1,1,1,1,1,1,1,1,1,1,1,1,1,1,1,1,1,1,1,1,1,1,1,1,1,1,1,1,1,1,1,1,1,1,1,1,1,1,1,1,1,1,1,1,1,1,1,1,1,1,1,1,1,1,1,1,1,1,1,1,1,1,1,1,1,1,1,1,1,1,1,1,1,1,1,1,1,1,1,1,1,1,1,1,1,1,1,1,1,1,1,1,1,1,1,1,1,1,1,1,1,1,1,1,1,1,1,1,1,1,1,1,1,1,1,1,1,1,1,1,1,1,1,1,1,1,1,1,1,1,1,1,1,1,1,1,1,1,1,1,1,1,1,1,1,1,1,1,1,1,1,1,1,1,1,1,1,1,1,1,1,1,1,1,1,1,1,1,1,1,1,1,1,1,1,1,1,1,1,1,1,1,1,1,1,1,1,1,1,1,1,1,1,1,1,1,1,1,1,1,1,1,1,1,1,1,1,1,1,1,1,1,1,1,1,1,1,1,1,1,1,1,1,1,1,1,1,1,1,1,1,1,1,1,1,1,1,1,1,1,1,1,1,1,1,1,1,1,1,1,1,1,1,1,1,1,1,1,1,1,1,1,1,1,1,1,1,1,1,1,1,1,1,1,1],\"yaxis\":\"y\"}],                        {\"barmode\":\"relative\",\"legend\":{\"title\":{\"text\":\"variable\"},\"tracegroupgap\":0},\"margin\":{\"t\":60},\"template\":{\"data\":{\"bar\":[{\"error_x\":{\"color\":\"#2a3f5f\"},\"error_y\":{\"color\":\"#2a3f5f\"},\"marker\":{\"line\":{\"color\":\"#E5ECF6\",\"width\":0.5},\"pattern\":{\"fillmode\":\"overlay\",\"size\":10,\"solidity\":0.2}},\"type\":\"bar\"}],\"barpolar\":[{\"marker\":{\"line\":{\"color\":\"#E5ECF6\",\"width\":0.5},\"pattern\":{\"fillmode\":\"overlay\",\"size\":10,\"solidity\":0.2}},\"type\":\"barpolar\"}],\"carpet\":[{\"aaxis\":{\"endlinecolor\":\"#2a3f5f\",\"gridcolor\":\"white\",\"linecolor\":\"white\",\"minorgridcolor\":\"white\",\"startlinecolor\":\"#2a3f5f\"},\"baxis\":{\"endlinecolor\":\"#2a3f5f\",\"gridcolor\":\"white\",\"linecolor\":\"white\",\"minorgridcolor\":\"white\",\"startlinecolor\":\"#2a3f5f\"},\"type\":\"carpet\"}],\"choropleth\":[{\"colorbar\":{\"outlinewidth\":0,\"ticks\":\"\"},\"type\":\"choropleth\"}],\"contour\":[{\"colorbar\":{\"outlinewidth\":0,\"ticks\":\"\"},\"colorscale\":[[0.0,\"#0d0887\"],[0.1111111111111111,\"#46039f\"],[0.2222222222222222,\"#7201a8\"],[0.3333333333333333,\"#9c179e\"],[0.4444444444444444,\"#bd3786\"],[0.5555555555555556,\"#d8576b\"],[0.6666666666666666,\"#ed7953\"],[0.7777777777777778,\"#fb9f3a\"],[0.8888888888888888,\"#fdca26\"],[1.0,\"#f0f921\"]],\"type\":\"contour\"}],\"contourcarpet\":[{\"colorbar\":{\"outlinewidth\":0,\"ticks\":\"\"},\"type\":\"contourcarpet\"}],\"heatmap\":[{\"colorbar\":{\"outlinewidth\":0,\"ticks\":\"\"},\"colorscale\":[[0.0,\"#0d0887\"],[0.1111111111111111,\"#46039f\"],[0.2222222222222222,\"#7201a8\"],[0.3333333333333333,\"#9c179e\"],[0.4444444444444444,\"#bd3786\"],[0.5555555555555556,\"#d8576b\"],[0.6666666666666666,\"#ed7953\"],[0.7777777777777778,\"#fb9f3a\"],[0.8888888888888888,\"#fdca26\"],[1.0,\"#f0f921\"]],\"type\":\"heatmap\"}],\"heatmapgl\":[{\"colorbar\":{\"outlinewidth\":0,\"ticks\":\"\"},\"colorscale\":[[0.0,\"#0d0887\"],[0.1111111111111111,\"#46039f\"],[0.2222222222222222,\"#7201a8\"],[0.3333333333333333,\"#9c179e\"],[0.4444444444444444,\"#bd3786\"],[0.5555555555555556,\"#d8576b\"],[0.6666666666666666,\"#ed7953\"],[0.7777777777777778,\"#fb9f3a\"],[0.8888888888888888,\"#fdca26\"],[1.0,\"#f0f921\"]],\"type\":\"heatmapgl\"}],\"histogram\":[{\"marker\":{\"pattern\":{\"fillmode\":\"overlay\",\"size\":10,\"solidity\":0.2}},\"type\":\"histogram\"}],\"histogram2d\":[{\"colorbar\":{\"outlinewidth\":0,\"ticks\":\"\"},\"colorscale\":[[0.0,\"#0d0887\"],[0.1111111111111111,\"#46039f\"],[0.2222222222222222,\"#7201a8\"],[0.3333333333333333,\"#9c179e\"],[0.4444444444444444,\"#bd3786\"],[0.5555555555555556,\"#d8576b\"],[0.6666666666666666,\"#ed7953\"],[0.7777777777777778,\"#fb9f3a\"],[0.8888888888888888,\"#fdca26\"],[1.0,\"#f0f921\"]],\"type\":\"histogram2d\"}],\"histogram2dcontour\":[{\"colorbar\":{\"outlinewidth\":0,\"ticks\":\"\"},\"colorscale\":[[0.0,\"#0d0887\"],[0.1111111111111111,\"#46039f\"],[0.2222222222222222,\"#7201a8\"],[0.3333333333333333,\"#9c179e\"],[0.4444444444444444,\"#bd3786\"],[0.5555555555555556,\"#d8576b\"],[0.6666666666666666,\"#ed7953\"],[0.7777777777777778,\"#fb9f3a\"],[0.8888888888888888,\"#fdca26\"],[1.0,\"#f0f921\"]],\"type\":\"histogram2dcontour\"}],\"mesh3d\":[{\"colorbar\":{\"outlinewidth\":0,\"ticks\":\"\"},\"type\":\"mesh3d\"}],\"parcoords\":[{\"line\":{\"colorbar\":{\"outlinewidth\":0,\"ticks\":\"\"}},\"type\":\"parcoords\"}],\"pie\":[{\"automargin\":true,\"type\":\"pie\"}],\"scatter\":[{\"marker\":{\"colorbar\":{\"outlinewidth\":0,\"ticks\":\"\"}},\"type\":\"scatter\"}],\"scatter3d\":[{\"line\":{\"colorbar\":{\"outlinewidth\":0,\"ticks\":\"\"}},\"marker\":{\"colorbar\":{\"outlinewidth\":0,\"ticks\":\"\"}},\"type\":\"scatter3d\"}],\"scattercarpet\":[{\"marker\":{\"colorbar\":{\"outlinewidth\":0,\"ticks\":\"\"}},\"type\":\"scattercarpet\"}],\"scattergeo\":[{\"marker\":{\"colorbar\":{\"outlinewidth\":0,\"ticks\":\"\"}},\"type\":\"scattergeo\"}],\"scattergl\":[{\"marker\":{\"colorbar\":{\"outlinewidth\":0,\"ticks\":\"\"}},\"type\":\"scattergl\"}],\"scattermapbox\":[{\"marker\":{\"colorbar\":{\"outlinewidth\":0,\"ticks\":\"\"}},\"type\":\"scattermapbox\"}],\"scatterpolar\":[{\"marker\":{\"colorbar\":{\"outlinewidth\":0,\"ticks\":\"\"}},\"type\":\"scatterpolar\"}],\"scatterpolargl\":[{\"marker\":{\"colorbar\":{\"outlinewidth\":0,\"ticks\":\"\"}},\"type\":\"scatterpolargl\"}],\"scatterternary\":[{\"marker\":{\"colorbar\":{\"outlinewidth\":0,\"ticks\":\"\"}},\"type\":\"scatterternary\"}],\"surface\":[{\"colorbar\":{\"outlinewidth\":0,\"ticks\":\"\"},\"colorscale\":[[0.0,\"#0d0887\"],[0.1111111111111111,\"#46039f\"],[0.2222222222222222,\"#7201a8\"],[0.3333333333333333,\"#9c179e\"],[0.4444444444444444,\"#bd3786\"],[0.5555555555555556,\"#d8576b\"],[0.6666666666666666,\"#ed7953\"],[0.7777777777777778,\"#fb9f3a\"],[0.8888888888888888,\"#fdca26\"],[1.0,\"#f0f921\"]],\"type\":\"surface\"}],\"table\":[{\"cells\":{\"fill\":{\"color\":\"#EBF0F8\"},\"line\":{\"color\":\"white\"}},\"header\":{\"fill\":{\"color\":\"#C8D4E3\"},\"line\":{\"color\":\"white\"}},\"type\":\"table\"}]},\"layout\":{\"annotationdefaults\":{\"arrowcolor\":\"#2a3f5f\",\"arrowhead\":0,\"arrowwidth\":1},\"autotypenumbers\":\"strict\",\"coloraxis\":{\"colorbar\":{\"outlinewidth\":0,\"ticks\":\"\"}},\"colorscale\":{\"diverging\":[[0,\"#8e0152\"],[0.1,\"#c51b7d\"],[0.2,\"#de77ae\"],[0.3,\"#f1b6da\"],[0.4,\"#fde0ef\"],[0.5,\"#f7f7f7\"],[0.6,\"#e6f5d0\"],[0.7,\"#b8e186\"],[0.8,\"#7fbc41\"],[0.9,\"#4d9221\"],[1,\"#276419\"]],\"sequential\":[[0.0,\"#0d0887\"],[0.1111111111111111,\"#46039f\"],[0.2222222222222222,\"#7201a8\"],[0.3333333333333333,\"#9c179e\"],[0.4444444444444444,\"#bd3786\"],[0.5555555555555556,\"#d8576b\"],[0.6666666666666666,\"#ed7953\"],[0.7777777777777778,\"#fb9f3a\"],[0.8888888888888888,\"#fdca26\"],[1.0,\"#f0f921\"]],\"sequentialminus\":[[0.0,\"#0d0887\"],[0.1111111111111111,\"#46039f\"],[0.2222222222222222,\"#7201a8\"],[0.3333333333333333,\"#9c179e\"],[0.4444444444444444,\"#bd3786\"],[0.5555555555555556,\"#d8576b\"],[0.6666666666666666,\"#ed7953\"],[0.7777777777777778,\"#fb9f3a\"],[0.8888888888888888,\"#fdca26\"],[1.0,\"#f0f921\"]]},\"colorway\":[\"#636efa\",\"#EF553B\",\"#00cc96\",\"#ab63fa\",\"#FFA15A\",\"#19d3f3\",\"#FF6692\",\"#B6E880\",\"#FF97FF\",\"#FECB52\"],\"font\":{\"color\":\"#2a3f5f\"},\"geo\":{\"bgcolor\":\"white\",\"lakecolor\":\"white\",\"landcolor\":\"#E5ECF6\",\"showlakes\":true,\"showland\":true,\"subunitcolor\":\"white\"},\"hoverlabel\":{\"align\":\"left\"},\"hovermode\":\"closest\",\"mapbox\":{\"style\":\"light\"},\"paper_bgcolor\":\"white\",\"plot_bgcolor\":\"#E5ECF6\",\"polar\":{\"angularaxis\":{\"gridcolor\":\"white\",\"linecolor\":\"white\",\"ticks\":\"\"},\"bgcolor\":\"#E5ECF6\",\"radialaxis\":{\"gridcolor\":\"white\",\"linecolor\":\"white\",\"ticks\":\"\"}},\"scene\":{\"xaxis\":{\"backgroundcolor\":\"#E5ECF6\",\"gridcolor\":\"white\",\"gridwidth\":2,\"linecolor\":\"white\",\"showbackground\":true,\"ticks\":\"\",\"zerolinecolor\":\"white\"},\"yaxis\":{\"backgroundcolor\":\"#E5ECF6\",\"gridcolor\":\"white\",\"gridwidth\":2,\"linecolor\":\"white\",\"showbackground\":true,\"ticks\":\"\",\"zerolinecolor\":\"white\"},\"zaxis\":{\"backgroundcolor\":\"#E5ECF6\",\"gridcolor\":\"white\",\"gridwidth\":2,\"linecolor\":\"white\",\"showbackground\":true,\"ticks\":\"\",\"zerolinecolor\":\"white\"}},\"shapedefaults\":{\"line\":{\"color\":\"#2a3f5f\"}},\"ternary\":{\"aaxis\":{\"gridcolor\":\"white\",\"linecolor\":\"white\",\"ticks\":\"\"},\"baxis\":{\"gridcolor\":\"white\",\"linecolor\":\"white\",\"ticks\":\"\"},\"bgcolor\":\"#E5ECF6\",\"caxis\":{\"gridcolor\":\"white\",\"linecolor\":\"white\",\"ticks\":\"\"}},\"title\":{\"x\":0.05},\"xaxis\":{\"automargin\":true,\"gridcolor\":\"white\",\"linecolor\":\"white\",\"ticks\":\"\",\"title\":{\"standoff\":15},\"zerolinecolor\":\"white\",\"zerolinewidth\":2},\"yaxis\":{\"automargin\":true,\"gridcolor\":\"white\",\"linecolor\":\"white\",\"ticks\":\"\",\"title\":{\"standoff\":15},\"zerolinecolor\":\"white\",\"zerolinewidth\":2}}},\"xaxis\":{\"anchor\":\"y\",\"domain\":[0.0,1.0],\"title\":{\"text\":\"value\"}},\"yaxis\":{\"anchor\":\"x\",\"domain\":[0.0,1.0],\"title\":{\"text\":\"count\"}}},                        {\"responsive\": true}                    ).then(function(){\n",
       "                            \n",
       "var gd = document.getElementById('ffb028ea-be4d-4878-8aa0-2a70e9099a47');\n",
       "var x = new MutationObserver(function (mutations, observer) {{\n",
       "        var display = window.getComputedStyle(gd).display;\n",
       "        if (!display || display === 'none') {{\n",
       "            console.log([gd, 'removed!']);\n",
       "            Plotly.purge(gd);\n",
       "            observer.disconnect();\n",
       "        }}\n",
       "}});\n",
       "\n",
       "// Listen for the removal of the full notebook cells\n",
       "var notebookContainer = gd.closest('#notebook-container');\n",
       "if (notebookContainer) {{\n",
       "    x.observe(notebookContainer, {childList: true});\n",
       "}}\n",
       "\n",
       "// Listen for the clearing of the current output cell\n",
       "var outputEl = gd.closest('.output');\n",
       "if (outputEl) {{\n",
       "    x.observe(outputEl, {childList: true});\n",
       "}}\n",
       "\n",
       "                        })                };                });            </script>        </div>"
      ]
     },
     "metadata": {},
     "output_type": "display_data"
    }
   ],
   "source": [
    "#plot = sns.histplot(phase1_df['location.state'].values, bins=20, binwidth=2)\n",
    "#ax.tick_params(axis='x', rotation=90)\n",
    "px.bar(phase1_df['location.state'].values)\n",
    "#plt.setp(plot.get_xticklabels(), rotation=90)"
   ]
  },
  {
   "cell_type": "code",
   "execution_count": 153,
   "metadata": {},
   "outputs": [
    {
     "data": {
      "application/vnd.plotly.v1+json": {
       "config": {
        "plotlyServerURL": "https://plot.ly"
       },
       "data": [
        {
         "alignmentgroup": "True",
         "boxpoints": "all",
         "hovertemplate": "trip_type=%{x}<br>person.age=%{y}<extra></extra>",
         "legendgroup": "",
         "marker": {
          "color": "#636efa"
         },
         "name": "",
         "notched": false,
         "offsetgroup": "",
         "orientation": "v",
         "showlegend": false,
         "type": "box",
         "x": [
          "Holiday",
          "Holiday",
          "Holiday",
          "Holiday",
          "Business",
          "Holiday",
          "Holiday",
          "Holiday",
          "Holiday",
          "Holiday",
          "Holiday",
          "Holiday",
          "Holiday",
          "Holiday",
          "Holiday",
          "Holiday",
          "Holiday",
          "Holiday",
          "Holiday",
          "Holiday",
          "Holiday",
          "Holiday",
          "Holiday",
          "Holiday",
          "Holiday",
          "Holiday",
          "Holiday",
          "Holiday",
          "Holiday",
          "Holiday",
          "Holiday",
          "Holiday",
          "Holiday",
          "Holiday",
          "Holiday",
          "Holiday",
          "Holiday",
          "Holiday",
          "Holiday",
          "Holiday",
          "Holiday",
          "Holiday",
          "Holiday",
          "Holiday",
          "Holiday",
          "Holiday",
          "Other",
          "Other",
          "Holiday",
          "Holiday",
          "Business",
          "Business",
          "Holiday",
          "Holiday",
          "Holiday",
          "Holiday",
          "Holiday",
          "Holiday",
          "Holiday",
          "Holiday",
          "Holiday",
          "Holiday",
          "Business",
          "Holiday",
          "Holiday",
          "Business",
          "Holiday",
          "Holiday",
          "Holiday",
          "Holiday",
          "Holiday",
          "Holiday",
          "Holiday",
          "Business",
          "Holiday",
          "Holiday",
          "Holiday",
          "Holiday",
          "Business",
          "Business",
          "Holiday",
          "Holiday",
          "Holiday",
          "Holiday",
          "Holiday",
          "Holiday",
          "Holiday",
          "Holiday",
          "Holiday",
          "Holiday",
          "Holiday",
          "Holiday",
          "Holiday",
          "Holiday",
          "Holiday",
          "Holiday",
          "Holiday",
          "Holiday",
          "Holiday",
          "Holiday",
          "Holiday",
          "Holiday",
          "Holiday",
          "Business",
          "Business",
          "Holiday",
          "Holiday",
          "Holiday",
          "Other",
          "Holiday",
          "Holiday",
          "Holiday",
          "Holiday",
          "Holiday",
          "Holiday",
          "Holiday",
          "Holiday",
          "Holiday",
          "Holiday",
          "Holiday",
          "Holiday",
          "Holiday",
          "Holiday",
          "Holiday",
          "Holiday",
          "Holiday",
          "Holiday",
          "Holiday",
          "Holiday",
          "Holiday",
          "Holiday",
          "Holiday",
          "Holiday",
          "Holiday",
          "Holiday",
          "Holiday",
          "Holiday",
          "Holiday",
          "Holiday",
          "Holiday",
          "Holiday",
          "Holiday",
          "Holiday",
          "Holiday",
          "Holiday",
          "Holiday",
          "Holiday",
          "Holiday",
          "Holiday",
          "Holiday",
          "Holiday",
          "Holiday",
          "Other",
          "Holiday",
          "Holiday",
          "Holiday",
          "Holiday",
          "Holiday",
          "Holiday",
          "Holiday",
          "Holiday",
          "Holiday",
          "Holiday",
          "Holiday",
          "Holiday",
          "Holiday",
          "Holiday",
          "Holiday",
          "Holiday",
          "Holiday",
          "Holiday",
          "Holiday",
          "Holiday",
          "Holiday",
          "Holiday",
          "Holiday",
          "Other",
          "Other",
          "Holiday",
          "Holiday",
          "Holiday",
          "Holiday",
          "Holiday",
          "Holiday",
          "Holiday",
          "Holiday",
          "Holiday",
          "Holiday",
          "Holiday",
          "Holiday",
          "Holiday",
          "Holiday",
          "Holiday",
          "Holiday",
          "Holiday",
          "Holiday",
          "Other",
          "Other",
          "Holiday",
          "Holiday",
          "Holiday",
          "Holiday",
          "Holiday",
          "Holiday",
          "Holiday",
          "Holiday",
          "Holiday",
          "Holiday",
          "Holiday",
          "Holiday",
          "Holiday",
          "Holiday",
          "Holiday",
          "Holiday",
          "Holiday",
          "Other",
          "Holiday",
          "Holiday",
          "Other",
          "Holiday",
          "Holiday",
          "Holiday",
          "Holiday",
          "Holiday",
          "Holiday",
          "Holiday",
          "Other",
          "Holiday",
          "Holiday",
          "Holiday",
          "Holiday",
          "Holiday",
          "Holiday",
          "Holiday",
          "Holiday",
          "Holiday",
          "Holiday",
          "Holiday",
          "Holiday",
          "Business",
          "Holiday",
          "Holiday",
          "Holiday",
          "Holiday",
          "Other",
          "Holiday",
          "Holiday",
          "Holiday",
          "Holiday",
          "Holiday",
          "Holiday",
          "Holiday",
          "Holiday",
          "Holiday",
          "Holiday",
          "Holiday",
          "Holiday",
          "Holiday",
          "Holiday",
          "Holiday",
          "Holiday",
          "Holiday",
          "Holiday",
          "Holiday",
          "Holiday",
          "Holiday",
          "Holiday",
          "Holiday",
          "Holiday",
          "Holiday",
          "Holiday",
          "Holiday",
          "Holiday",
          "Holiday",
          "Holiday",
          "Holiday",
          "Holiday",
          "Other",
          "Holiday",
          "Holiday",
          "Holiday",
          "Holiday",
          "Holiday",
          "Holiday",
          "Holiday",
          "Holiday",
          "Holiday",
          "Holiday",
          "Holiday",
          "Holiday",
          "Holiday",
          "Holiday",
          "Holiday",
          "Holiday",
          "Holiday",
          "Holiday",
          "Other",
          "Other",
          "Holiday",
          "Holiday",
          "Holiday",
          "Holiday",
          "Holiday",
          "Holiday",
          "Holiday",
          "Holiday",
          "Holiday",
          "Holiday",
          "Holiday",
          "Holiday",
          "Other",
          "Holiday",
          "Holiday",
          "Holiday",
          "Holiday",
          "Other",
          "Other",
          "Holiday",
          "Holiday",
          "Holiday",
          "Business",
          "Other",
          "Other",
          "Holiday",
          "Holiday",
          "Holiday",
          "Holiday",
          "Holiday",
          "Holiday",
          "Holiday",
          "Holiday",
          "Holiday",
          "Holiday",
          "Holiday",
          "Holiday",
          "Holiday",
          "Other",
          "Holiday",
          "Holiday",
          "Holiday",
          "Holiday",
          "Other",
          "Other",
          "Holiday",
          "Holiday",
          "Holiday",
          "Holiday",
          "Holiday",
          "Holiday",
          "Other",
          "Other",
          "Holiday",
          "Holiday",
          "Holiday",
          "Holiday",
          "Holiday",
          "Business",
          "Holiday",
          "Other",
          "Holiday",
          "Holiday",
          "Holiday",
          "Holiday",
          "Holiday",
          "Holiday",
          "Holiday",
          "Holiday",
          "Holiday",
          "Holiday",
          "Holiday",
          "Holiday",
          "Holiday",
          "Holiday",
          "Holiday",
          "Holiday",
          "Holiday",
          "Holiday",
          "Holiday",
          "Holiday",
          "Holiday",
          "Holiday",
          "Holiday",
          "Holiday",
          "Holiday",
          "Holiday",
          "Holiday",
          "Holiday",
          "Holiday",
          "Holiday",
          "Holiday",
          "Holiday",
          "Business",
          "Business",
          "Business",
          "Other",
          "Other",
          "Other",
          "Other",
          "Other",
          "Business",
          "Business",
          "Business",
          "Business",
          "Business",
          "Business",
          "Business",
          "Business",
          "Holiday",
          "Holiday",
          "Holiday",
          "Holiday",
          "Holiday",
          "Holiday",
          "Business",
          "Business",
          "Business",
          "Holiday",
          "Holiday",
          "Holiday",
          "Holiday",
          "Holiday",
          "Holiday",
          "Holiday",
          "Holiday",
          "Holiday",
          "Holiday",
          "Holiday",
          "Holiday",
          "Holiday",
          "Holiday",
          "Holiday",
          "Holiday",
          "Holiday",
          "Holiday",
          "Holiday",
          "Other",
          "Other",
          "Other",
          "Holiday",
          "Holiday",
          "Holiday",
          "Holiday",
          "Holiday",
          "Holiday",
          "Holiday",
          "Holiday",
          "Holiday",
          "Business",
          "Business",
          "Business",
          "Holiday",
          "Holiday",
          "Holiday",
          "Holiday",
          "Holiday",
          "Holiday",
          "Holiday",
          "Holiday",
          "Holiday",
          "Holiday",
          "Holiday",
          "Holiday",
          "Holiday",
          "Holiday",
          "Holiday",
          "Holiday",
          "Holiday",
          "Holiday",
          "Holiday",
          "Holiday",
          "Holiday",
          "Holiday",
          "Holiday",
          "Business",
          "Business",
          "Business",
          "Holiday",
          "Holiday",
          "Holiday",
          "Holiday",
          "Holiday",
          "Holiday",
          "Holiday",
          "Holiday",
          "Holiday",
          "Holiday",
          "Holiday",
          "Holiday",
          "Holiday",
          "Holiday",
          "Holiday"
         ],
         "x0": " ",
         "xaxis": "x",
         "y": [
          23,
          23,
          66,
          66,
          32,
          32,
          34,
          34,
          30,
          30,
          67,
          67,
          33,
          29,
          29,
          30,
          30,
          34,
          22,
          22,
          46,
          46,
          35,
          35,
          25,
          25,
          37,
          37,
          27,
          23,
          33,
          24,
          26,
          26,
          24,
          24,
          35,
          35,
          25,
          25,
          32,
          40,
          40,
          50,
          50,
          54,
          27,
          27,
          33,
          33,
          24,
          24,
          28,
          28,
          27,
          27,
          33,
          33,
          23,
          27,
          24,
          33,
          24,
          57,
          25,
          24,
          24,
          24,
          35,
          35,
          51,
          51,
          56,
          56,
          24,
          31,
          45,
          46,
          46,
          46,
          27,
          28,
          28,
          28,
          11,
          42,
          43,
          43,
          29,
          29,
          27,
          57,
          24,
          24,
          28,
          39,
          39,
          63,
          31,
          31,
          28,
          28,
          40,
          22,
          22,
          35,
          35,
          30,
          33,
          33,
          31,
          25,
          25,
          63,
          62,
          24,
          23,
          40,
          40,
          33,
          31,
          39,
          25,
          19,
          24,
          24,
          40,
          40,
          24,
          24,
          23,
          23,
          43,
          43,
          20,
          20,
          23,
          29,
          29,
          24,
          24,
          25,
          25,
          22,
          34,
          33,
          26,
          26,
          29,
          29,
          25,
          25,
          19,
          47,
          42,
          42,
          43,
          43,
          28,
          28,
          31,
          31,
          68,
          68,
          27,
          37,
          37,
          28,
          28,
          52,
          52,
          24,
          24,
          38,
          38,
          29,
          42,
          42,
          30,
          30,
          32,
          56,
          31,
          25,
          47,
          35,
          24,
          23,
          23,
          29,
          29,
          41,
          23,
          23,
          27,
          27,
          31,
          31,
          48,
          48,
          24,
          24,
          25,
          25,
          20,
          27,
          27,
          34,
          34,
          28,
          29,
          29,
          44,
          44,
          19,
          24,
          24,
          24,
          30,
          24,
          24,
          34,
          34,
          28,
          28,
          30,
          30,
          33,
          33,
          28,
          22,
          22,
          35,
          33,
          24,
          63,
          26,
          30,
          30,
          26,
          24,
          52,
          52,
          39,
          35,
          31,
          35,
          21,
          18,
          31,
          28,
          28,
          41,
          41,
          22,
          50,
          50,
          24,
          24,
          23,
          23,
          27,
          27,
          26,
          26,
          53,
          53,
          32,
          32,
          25,
          25,
          43,
          43,
          55,
          31,
          31,
          57,
          35,
          23,
          39,
          59,
          59,
          37,
          10,
          22,
          42,
          42,
          42,
          42,
          56,
          56,
          33,
          24,
          24,
          33,
          33,
          52,
          52,
          24,
          24,
          26,
          26,
          33,
          33,
          25,
          25,
          23,
          23,
          34,
          37,
          34,
          25,
          25,
          43,
          43,
          24,
          24,
          67,
          67,
          44,
          44,
          35,
          35,
          37,
          37,
          24,
          32,
          35,
          35,
          35,
          35,
          31,
          31,
          34,
          34,
          18,
          18,
          39,
          28,
          34,
          37,
          31,
          31,
          21,
          24,
          22,
          22,
          51,
          51,
          40,
          43,
          59,
          59,
          59,
          59,
          30,
          30,
          23,
          23,
          24,
          24,
          20,
          24,
          24,
          24,
          24,
          46,
          46,
          39,
          "30",
          35,
          24,
          28,
          48,
          48,
          32,
          34,
          34,
          29,
          30,
          30,
          30,
          39,
          39,
          39,
          41,
          41,
          41,
          36,
          36,
          36,
          28,
          28,
          28,
          21,
          21,
          21,
          35,
          35,
          28,
          28,
          28,
          30,
          30,
          30,
          30,
          30,
          34,
          34,
          34,
          30,
          30,
          30,
          30,
          30,
          30,
          36,
          36,
          36,
          28,
          28,
          28,
          28,
          28,
          28,
          28,
          28,
          21,
          29,
          35,
          28,
          26,
          26,
          26,
          26,
          28,
          28,
          28,
          34,
          34,
          34,
          33,
          33,
          33,
          28,
          28,
          28,
          29,
          29,
          29,
          37,
          37,
          37,
          28,
          28,
          28,
          28,
          28,
          28,
          24,
          26,
          28,
          37,
          37,
          37,
          25,
          25,
          25,
          25,
          25,
          28,
          28,
          28,
          29,
          29,
          29,
          26,
          26,
          26,
          28,
          28,
          28,
          "50",
          "50",
          "50",
          "47",
          "47",
          "47",
          "30",
          28,
          "30"
         ],
         "y0": " ",
         "yaxis": "y"
        }
       ],
       "layout": {
        "boxmode": "group",
        "legend": {
         "tracegroupgap": 0
        },
        "margin": {
         "t": 60
        },
        "template": {
         "data": {
          "bar": [
           {
            "error_x": {
             "color": "#2a3f5f"
            },
            "error_y": {
             "color": "#2a3f5f"
            },
            "marker": {
             "line": {
              "color": "#E5ECF6",
              "width": 0.5
             },
             "pattern": {
              "fillmode": "overlay",
              "size": 10,
              "solidity": 0.2
             }
            },
            "type": "bar"
           }
          ],
          "barpolar": [
           {
            "marker": {
             "line": {
              "color": "#E5ECF6",
              "width": 0.5
             },
             "pattern": {
              "fillmode": "overlay",
              "size": 10,
              "solidity": 0.2
             }
            },
            "type": "barpolar"
           }
          ],
          "carpet": [
           {
            "aaxis": {
             "endlinecolor": "#2a3f5f",
             "gridcolor": "white",
             "linecolor": "white",
             "minorgridcolor": "white",
             "startlinecolor": "#2a3f5f"
            },
            "baxis": {
             "endlinecolor": "#2a3f5f",
             "gridcolor": "white",
             "linecolor": "white",
             "minorgridcolor": "white",
             "startlinecolor": "#2a3f5f"
            },
            "type": "carpet"
           }
          ],
          "choropleth": [
           {
            "colorbar": {
             "outlinewidth": 0,
             "ticks": ""
            },
            "type": "choropleth"
           }
          ],
          "contour": [
           {
            "colorbar": {
             "outlinewidth": 0,
             "ticks": ""
            },
            "colorscale": [
             [
              0,
              "#0d0887"
             ],
             [
              0.1111111111111111,
              "#46039f"
             ],
             [
              0.2222222222222222,
              "#7201a8"
             ],
             [
              0.3333333333333333,
              "#9c179e"
             ],
             [
              0.4444444444444444,
              "#bd3786"
             ],
             [
              0.5555555555555556,
              "#d8576b"
             ],
             [
              0.6666666666666666,
              "#ed7953"
             ],
             [
              0.7777777777777778,
              "#fb9f3a"
             ],
             [
              0.8888888888888888,
              "#fdca26"
             ],
             [
              1,
              "#f0f921"
             ]
            ],
            "type": "contour"
           }
          ],
          "contourcarpet": [
           {
            "colorbar": {
             "outlinewidth": 0,
             "ticks": ""
            },
            "type": "contourcarpet"
           }
          ],
          "heatmap": [
           {
            "colorbar": {
             "outlinewidth": 0,
             "ticks": ""
            },
            "colorscale": [
             [
              0,
              "#0d0887"
             ],
             [
              0.1111111111111111,
              "#46039f"
             ],
             [
              0.2222222222222222,
              "#7201a8"
             ],
             [
              0.3333333333333333,
              "#9c179e"
             ],
             [
              0.4444444444444444,
              "#bd3786"
             ],
             [
              0.5555555555555556,
              "#d8576b"
             ],
             [
              0.6666666666666666,
              "#ed7953"
             ],
             [
              0.7777777777777778,
              "#fb9f3a"
             ],
             [
              0.8888888888888888,
              "#fdca26"
             ],
             [
              1,
              "#f0f921"
             ]
            ],
            "type": "heatmap"
           }
          ],
          "heatmapgl": [
           {
            "colorbar": {
             "outlinewidth": 0,
             "ticks": ""
            },
            "colorscale": [
             [
              0,
              "#0d0887"
             ],
             [
              0.1111111111111111,
              "#46039f"
             ],
             [
              0.2222222222222222,
              "#7201a8"
             ],
             [
              0.3333333333333333,
              "#9c179e"
             ],
             [
              0.4444444444444444,
              "#bd3786"
             ],
             [
              0.5555555555555556,
              "#d8576b"
             ],
             [
              0.6666666666666666,
              "#ed7953"
             ],
             [
              0.7777777777777778,
              "#fb9f3a"
             ],
             [
              0.8888888888888888,
              "#fdca26"
             ],
             [
              1,
              "#f0f921"
             ]
            ],
            "type": "heatmapgl"
           }
          ],
          "histogram": [
           {
            "marker": {
             "pattern": {
              "fillmode": "overlay",
              "size": 10,
              "solidity": 0.2
             }
            },
            "type": "histogram"
           }
          ],
          "histogram2d": [
           {
            "colorbar": {
             "outlinewidth": 0,
             "ticks": ""
            },
            "colorscale": [
             [
              0,
              "#0d0887"
             ],
             [
              0.1111111111111111,
              "#46039f"
             ],
             [
              0.2222222222222222,
              "#7201a8"
             ],
             [
              0.3333333333333333,
              "#9c179e"
             ],
             [
              0.4444444444444444,
              "#bd3786"
             ],
             [
              0.5555555555555556,
              "#d8576b"
             ],
             [
              0.6666666666666666,
              "#ed7953"
             ],
             [
              0.7777777777777778,
              "#fb9f3a"
             ],
             [
              0.8888888888888888,
              "#fdca26"
             ],
             [
              1,
              "#f0f921"
             ]
            ],
            "type": "histogram2d"
           }
          ],
          "histogram2dcontour": [
           {
            "colorbar": {
             "outlinewidth": 0,
             "ticks": ""
            },
            "colorscale": [
             [
              0,
              "#0d0887"
             ],
             [
              0.1111111111111111,
              "#46039f"
             ],
             [
              0.2222222222222222,
              "#7201a8"
             ],
             [
              0.3333333333333333,
              "#9c179e"
             ],
             [
              0.4444444444444444,
              "#bd3786"
             ],
             [
              0.5555555555555556,
              "#d8576b"
             ],
             [
              0.6666666666666666,
              "#ed7953"
             ],
             [
              0.7777777777777778,
              "#fb9f3a"
             ],
             [
              0.8888888888888888,
              "#fdca26"
             ],
             [
              1,
              "#f0f921"
             ]
            ],
            "type": "histogram2dcontour"
           }
          ],
          "mesh3d": [
           {
            "colorbar": {
             "outlinewidth": 0,
             "ticks": ""
            },
            "type": "mesh3d"
           }
          ],
          "parcoords": [
           {
            "line": {
             "colorbar": {
              "outlinewidth": 0,
              "ticks": ""
             }
            },
            "type": "parcoords"
           }
          ],
          "pie": [
           {
            "automargin": true,
            "type": "pie"
           }
          ],
          "scatter": [
           {
            "marker": {
             "colorbar": {
              "outlinewidth": 0,
              "ticks": ""
             }
            },
            "type": "scatter"
           }
          ],
          "scatter3d": [
           {
            "line": {
             "colorbar": {
              "outlinewidth": 0,
              "ticks": ""
             }
            },
            "marker": {
             "colorbar": {
              "outlinewidth": 0,
              "ticks": ""
             }
            },
            "type": "scatter3d"
           }
          ],
          "scattercarpet": [
           {
            "marker": {
             "colorbar": {
              "outlinewidth": 0,
              "ticks": ""
             }
            },
            "type": "scattercarpet"
           }
          ],
          "scattergeo": [
           {
            "marker": {
             "colorbar": {
              "outlinewidth": 0,
              "ticks": ""
             }
            },
            "type": "scattergeo"
           }
          ],
          "scattergl": [
           {
            "marker": {
             "colorbar": {
              "outlinewidth": 0,
              "ticks": ""
             }
            },
            "type": "scattergl"
           }
          ],
          "scattermapbox": [
           {
            "marker": {
             "colorbar": {
              "outlinewidth": 0,
              "ticks": ""
             }
            },
            "type": "scattermapbox"
           }
          ],
          "scatterpolar": [
           {
            "marker": {
             "colorbar": {
              "outlinewidth": 0,
              "ticks": ""
             }
            },
            "type": "scatterpolar"
           }
          ],
          "scatterpolargl": [
           {
            "marker": {
             "colorbar": {
              "outlinewidth": 0,
              "ticks": ""
             }
            },
            "type": "scatterpolargl"
           }
          ],
          "scatterternary": [
           {
            "marker": {
             "colorbar": {
              "outlinewidth": 0,
              "ticks": ""
             }
            },
            "type": "scatterternary"
           }
          ],
          "surface": [
           {
            "colorbar": {
             "outlinewidth": 0,
             "ticks": ""
            },
            "colorscale": [
             [
              0,
              "#0d0887"
             ],
             [
              0.1111111111111111,
              "#46039f"
             ],
             [
              0.2222222222222222,
              "#7201a8"
             ],
             [
              0.3333333333333333,
              "#9c179e"
             ],
             [
              0.4444444444444444,
              "#bd3786"
             ],
             [
              0.5555555555555556,
              "#d8576b"
             ],
             [
              0.6666666666666666,
              "#ed7953"
             ],
             [
              0.7777777777777778,
              "#fb9f3a"
             ],
             [
              0.8888888888888888,
              "#fdca26"
             ],
             [
              1,
              "#f0f921"
             ]
            ],
            "type": "surface"
           }
          ],
          "table": [
           {
            "cells": {
             "fill": {
              "color": "#EBF0F8"
             },
             "line": {
              "color": "white"
             }
            },
            "header": {
             "fill": {
              "color": "#C8D4E3"
             },
             "line": {
              "color": "white"
             }
            },
            "type": "table"
           }
          ]
         },
         "layout": {
          "annotationdefaults": {
           "arrowcolor": "#2a3f5f",
           "arrowhead": 0,
           "arrowwidth": 1
          },
          "autotypenumbers": "strict",
          "coloraxis": {
           "colorbar": {
            "outlinewidth": 0,
            "ticks": ""
           }
          },
          "colorscale": {
           "diverging": [
            [
             0,
             "#8e0152"
            ],
            [
             0.1,
             "#c51b7d"
            ],
            [
             0.2,
             "#de77ae"
            ],
            [
             0.3,
             "#f1b6da"
            ],
            [
             0.4,
             "#fde0ef"
            ],
            [
             0.5,
             "#f7f7f7"
            ],
            [
             0.6,
             "#e6f5d0"
            ],
            [
             0.7,
             "#b8e186"
            ],
            [
             0.8,
             "#7fbc41"
            ],
            [
             0.9,
             "#4d9221"
            ],
            [
             1,
             "#276419"
            ]
           ],
           "sequential": [
            [
             0,
             "#0d0887"
            ],
            [
             0.1111111111111111,
             "#46039f"
            ],
            [
             0.2222222222222222,
             "#7201a8"
            ],
            [
             0.3333333333333333,
             "#9c179e"
            ],
            [
             0.4444444444444444,
             "#bd3786"
            ],
            [
             0.5555555555555556,
             "#d8576b"
            ],
            [
             0.6666666666666666,
             "#ed7953"
            ],
            [
             0.7777777777777778,
             "#fb9f3a"
            ],
            [
             0.8888888888888888,
             "#fdca26"
            ],
            [
             1,
             "#f0f921"
            ]
           ],
           "sequentialminus": [
            [
             0,
             "#0d0887"
            ],
            [
             0.1111111111111111,
             "#46039f"
            ],
            [
             0.2222222222222222,
             "#7201a8"
            ],
            [
             0.3333333333333333,
             "#9c179e"
            ],
            [
             0.4444444444444444,
             "#bd3786"
            ],
            [
             0.5555555555555556,
             "#d8576b"
            ],
            [
             0.6666666666666666,
             "#ed7953"
            ],
            [
             0.7777777777777778,
             "#fb9f3a"
            ],
            [
             0.8888888888888888,
             "#fdca26"
            ],
            [
             1,
             "#f0f921"
            ]
           ]
          },
          "colorway": [
           "#636efa",
           "#EF553B",
           "#00cc96",
           "#ab63fa",
           "#FFA15A",
           "#19d3f3",
           "#FF6692",
           "#B6E880",
           "#FF97FF",
           "#FECB52"
          ],
          "font": {
           "color": "#2a3f5f"
          },
          "geo": {
           "bgcolor": "white",
           "lakecolor": "white",
           "landcolor": "#E5ECF6",
           "showlakes": true,
           "showland": true,
           "subunitcolor": "white"
          },
          "hoverlabel": {
           "align": "left"
          },
          "hovermode": "closest",
          "mapbox": {
           "style": "light"
          },
          "paper_bgcolor": "white",
          "plot_bgcolor": "#E5ECF6",
          "polar": {
           "angularaxis": {
            "gridcolor": "white",
            "linecolor": "white",
            "ticks": ""
           },
           "bgcolor": "#E5ECF6",
           "radialaxis": {
            "gridcolor": "white",
            "linecolor": "white",
            "ticks": ""
           }
          },
          "scene": {
           "xaxis": {
            "backgroundcolor": "#E5ECF6",
            "gridcolor": "white",
            "gridwidth": 2,
            "linecolor": "white",
            "showbackground": true,
            "ticks": "",
            "zerolinecolor": "white"
           },
           "yaxis": {
            "backgroundcolor": "#E5ECF6",
            "gridcolor": "white",
            "gridwidth": 2,
            "linecolor": "white",
            "showbackground": true,
            "ticks": "",
            "zerolinecolor": "white"
           },
           "zaxis": {
            "backgroundcolor": "#E5ECF6",
            "gridcolor": "white",
            "gridwidth": 2,
            "linecolor": "white",
            "showbackground": true,
            "ticks": "",
            "zerolinecolor": "white"
           }
          },
          "shapedefaults": {
           "line": {
            "color": "#2a3f5f"
           }
          },
          "ternary": {
           "aaxis": {
            "gridcolor": "white",
            "linecolor": "white",
            "ticks": ""
           },
           "baxis": {
            "gridcolor": "white",
            "linecolor": "white",
            "ticks": ""
           },
           "bgcolor": "#E5ECF6",
           "caxis": {
            "gridcolor": "white",
            "linecolor": "white",
            "ticks": ""
           }
          },
          "title": {
           "x": 0.05
          },
          "xaxis": {
           "automargin": true,
           "gridcolor": "white",
           "linecolor": "white",
           "ticks": "",
           "title": {
            "standoff": 15
           },
           "zerolinecolor": "white",
           "zerolinewidth": 2
          },
          "yaxis": {
           "automargin": true,
           "gridcolor": "white",
           "linecolor": "white",
           "ticks": "",
           "title": {
            "standoff": 15
           },
           "zerolinecolor": "white",
           "zerolinewidth": 2
          }
         }
        },
        "xaxis": {
         "anchor": "y",
         "domain": [
          0,
          1
         ],
         "title": {
          "text": "trip_type"
         }
        },
        "yaxis": {
         "anchor": "x",
         "domain": [
          0,
          1
         ],
         "title": {
          "text": "person.age"
         }
        }
       }
      },
      "text/html": [
       "<div>                            <div id=\"f022e99f-5830-492e-8e56-0e54bf0af6e6\" class=\"plotly-graph-div\" style=\"height:525px; width:100%;\"></div>            <script type=\"text/javascript\">                require([\"plotly\"], function(Plotly) {                    window.PLOTLYENV=window.PLOTLYENV || {};                                    if (document.getElementById(\"f022e99f-5830-492e-8e56-0e54bf0af6e6\")) {                    Plotly.newPlot(                        \"f022e99f-5830-492e-8e56-0e54bf0af6e6\",                        [{\"alignmentgroup\":\"True\",\"boxpoints\":\"all\",\"hovertemplate\":\"trip_type=%{x}<br>person.age=%{y}<extra></extra>\",\"legendgroup\":\"\",\"marker\":{\"color\":\"#636efa\"},\"name\":\"\",\"notched\":false,\"offsetgroup\":\"\",\"orientation\":\"v\",\"showlegend\":false,\"type\":\"box\",\"x\":[\"Holiday\",\"Holiday\",\"Holiday\",\"Holiday\",\"Business\",\"Holiday\",\"Holiday\",\"Holiday\",\"Holiday\",\"Holiday\",\"Holiday\",\"Holiday\",\"Holiday\",\"Holiday\",\"Holiday\",\"Holiday\",\"Holiday\",\"Holiday\",\"Holiday\",\"Holiday\",\"Holiday\",\"Holiday\",\"Holiday\",\"Holiday\",\"Holiday\",\"Holiday\",\"Holiday\",\"Holiday\",\"Holiday\",\"Holiday\",\"Holiday\",\"Holiday\",\"Holiday\",\"Holiday\",\"Holiday\",\"Holiday\",\"Holiday\",\"Holiday\",\"Holiday\",\"Holiday\",\"Holiday\",\"Holiday\",\"Holiday\",\"Holiday\",\"Holiday\",\"Holiday\",\"Other\",\"Other\",\"Holiday\",\"Holiday\",\"Business\",\"Business\",\"Holiday\",\"Holiday\",\"Holiday\",\"Holiday\",\"Holiday\",\"Holiday\",\"Holiday\",\"Holiday\",\"Holiday\",\"Holiday\",\"Business\",\"Holiday\",\"Holiday\",\"Business\",\"Holiday\",\"Holiday\",\"Holiday\",\"Holiday\",\"Holiday\",\"Holiday\",\"Holiday\",\"Business\",\"Holiday\",\"Holiday\",\"Holiday\",\"Holiday\",\"Business\",\"Business\",\"Holiday\",\"Holiday\",\"Holiday\",\"Holiday\",\"Holiday\",\"Holiday\",\"Holiday\",\"Holiday\",\"Holiday\",\"Holiday\",\"Holiday\",\"Holiday\",\"Holiday\",\"Holiday\",\"Holiday\",\"Holiday\",\"Holiday\",\"Holiday\",\"Holiday\",\"Holiday\",\"Holiday\",\"Holiday\",\"Holiday\",\"Business\",\"Business\",\"Holiday\",\"Holiday\",\"Holiday\",\"Other\",\"Holiday\",\"Holiday\",\"Holiday\",\"Holiday\",\"Holiday\",\"Holiday\",\"Holiday\",\"Holiday\",\"Holiday\",\"Holiday\",\"Holiday\",\"Holiday\",\"Holiday\",\"Holiday\",\"Holiday\",\"Holiday\",\"Holiday\",\"Holiday\",\"Holiday\",\"Holiday\",\"Holiday\",\"Holiday\",\"Holiday\",\"Holiday\",\"Holiday\",\"Holiday\",\"Holiday\",\"Holiday\",\"Holiday\",\"Holiday\",\"Holiday\",\"Holiday\",\"Holiday\",\"Holiday\",\"Holiday\",\"Holiday\",\"Holiday\",\"Holiday\",\"Holiday\",\"Holiday\",\"Holiday\",\"Holiday\",\"Holiday\",\"Other\",\"Holiday\",\"Holiday\",\"Holiday\",\"Holiday\",\"Holiday\",\"Holiday\",\"Holiday\",\"Holiday\",\"Holiday\",\"Holiday\",\"Holiday\",\"Holiday\",\"Holiday\",\"Holiday\",\"Holiday\",\"Holiday\",\"Holiday\",\"Holiday\",\"Holiday\",\"Holiday\",\"Holiday\",\"Holiday\",\"Holiday\",\"Other\",\"Other\",\"Holiday\",\"Holiday\",\"Holiday\",\"Holiday\",\"Holiday\",\"Holiday\",\"Holiday\",\"Holiday\",\"Holiday\",\"Holiday\",\"Holiday\",\"Holiday\",\"Holiday\",\"Holiday\",\"Holiday\",\"Holiday\",\"Holiday\",\"Holiday\",\"Other\",\"Other\",\"Holiday\",\"Holiday\",\"Holiday\",\"Holiday\",\"Holiday\",\"Holiday\",\"Holiday\",\"Holiday\",\"Holiday\",\"Holiday\",\"Holiday\",\"Holiday\",\"Holiday\",\"Holiday\",\"Holiday\",\"Holiday\",\"Holiday\",\"Other\",\"Holiday\",\"Holiday\",\"Other\",\"Holiday\",\"Holiday\",\"Holiday\",\"Holiday\",\"Holiday\",\"Holiday\",\"Holiday\",\"Other\",\"Holiday\",\"Holiday\",\"Holiday\",\"Holiday\",\"Holiday\",\"Holiday\",\"Holiday\",\"Holiday\",\"Holiday\",\"Holiday\",\"Holiday\",\"Holiday\",\"Business\",\"Holiday\",\"Holiday\",\"Holiday\",\"Holiday\",\"Other\",\"Holiday\",\"Holiday\",\"Holiday\",\"Holiday\",\"Holiday\",\"Holiday\",\"Holiday\",\"Holiday\",\"Holiday\",\"Holiday\",\"Holiday\",\"Holiday\",\"Holiday\",\"Holiday\",\"Holiday\",\"Holiday\",\"Holiday\",\"Holiday\",\"Holiday\",\"Holiday\",\"Holiday\",\"Holiday\",\"Holiday\",\"Holiday\",\"Holiday\",\"Holiday\",\"Holiday\",\"Holiday\",\"Holiday\",\"Holiday\",\"Holiday\",\"Holiday\",\"Other\",\"Holiday\",\"Holiday\",\"Holiday\",\"Holiday\",\"Holiday\",\"Holiday\",\"Holiday\",\"Holiday\",\"Holiday\",\"Holiday\",\"Holiday\",\"Holiday\",\"Holiday\",\"Holiday\",\"Holiday\",\"Holiday\",\"Holiday\",\"Holiday\",\"Other\",\"Other\",\"Holiday\",\"Holiday\",\"Holiday\",\"Holiday\",\"Holiday\",\"Holiday\",\"Holiday\",\"Holiday\",\"Holiday\",\"Holiday\",\"Holiday\",\"Holiday\",\"Other\",\"Holiday\",\"Holiday\",\"Holiday\",\"Holiday\",\"Other\",\"Other\",\"Holiday\",\"Holiday\",\"Holiday\",\"Business\",\"Other\",\"Other\",\"Holiday\",\"Holiday\",\"Holiday\",\"Holiday\",\"Holiday\",\"Holiday\",\"Holiday\",\"Holiday\",\"Holiday\",\"Holiday\",\"Holiday\",\"Holiday\",\"Holiday\",\"Other\",\"Holiday\",\"Holiday\",\"Holiday\",\"Holiday\",\"Other\",\"Other\",\"Holiday\",\"Holiday\",\"Holiday\",\"Holiday\",\"Holiday\",\"Holiday\",\"Other\",\"Other\",\"Holiday\",\"Holiday\",\"Holiday\",\"Holiday\",\"Holiday\",\"Business\",\"Holiday\",\"Other\",\"Holiday\",\"Holiday\",\"Holiday\",\"Holiday\",\"Holiday\",\"Holiday\",\"Holiday\",\"Holiday\",\"Holiday\",\"Holiday\",\"Holiday\",\"Holiday\",\"Holiday\",\"Holiday\",\"Holiday\",\"Holiday\",\"Holiday\",\"Holiday\",\"Holiday\",\"Holiday\",\"Holiday\",\"Holiday\",\"Holiday\",\"Holiday\",\"Holiday\",\"Holiday\",\"Holiday\",\"Holiday\",\"Holiday\",\"Holiday\",\"Holiday\",\"Holiday\",\"Business\",\"Business\",\"Business\",\"Other\",\"Other\",\"Other\",\"Other\",\"Other\",\"Business\",\"Business\",\"Business\",\"Business\",\"Business\",\"Business\",\"Business\",\"Business\",\"Holiday\",\"Holiday\",\"Holiday\",\"Holiday\",\"Holiday\",\"Holiday\",\"Business\",\"Business\",\"Business\",\"Holiday\",\"Holiday\",\"Holiday\",\"Holiday\",\"Holiday\",\"Holiday\",\"Holiday\",\"Holiday\",\"Holiday\",\"Holiday\",\"Holiday\",\"Holiday\",\"Holiday\",\"Holiday\",\"Holiday\",\"Holiday\",\"Holiday\",\"Holiday\",\"Holiday\",\"Other\",\"Other\",\"Other\",\"Holiday\",\"Holiday\",\"Holiday\",\"Holiday\",\"Holiday\",\"Holiday\",\"Holiday\",\"Holiday\",\"Holiday\",\"Business\",\"Business\",\"Business\",\"Holiday\",\"Holiday\",\"Holiday\",\"Holiday\",\"Holiday\",\"Holiday\",\"Holiday\",\"Holiday\",\"Holiday\",\"Holiday\",\"Holiday\",\"Holiday\",\"Holiday\",\"Holiday\",\"Holiday\",\"Holiday\",\"Holiday\",\"Holiday\",\"Holiday\",\"Holiday\",\"Holiday\",\"Holiday\",\"Holiday\",\"Business\",\"Business\",\"Business\",\"Holiday\",\"Holiday\",\"Holiday\",\"Holiday\",\"Holiday\",\"Holiday\",\"Holiday\",\"Holiday\",\"Holiday\",\"Holiday\",\"Holiday\",\"Holiday\",\"Holiday\",\"Holiday\",\"Holiday\"],\"x0\":\" \",\"xaxis\":\"x\",\"y\":[23,23,66,66,32,32,34,34,30,30,67,67,33,29,29,30,30,34,22,22,46,46,35,35,25,25,37,37,27,23,33,24,26,26,24,24,35,35,25,25,32,40,40,50,50,54,27,27,33,33,24,24,28,28,27,27,33,33,23,27,24,33,24,57,25,24,24,24,35,35,51,51,56,56,24,31,45,46,46,46,27,28,28,28,11,42,43,43,29,29,27,57,24,24,28,39,39,63,31,31,28,28,40,22,22,35,35,30,33,33,31,25,25,63,62,24,23,40,40,33,31,39,25,19,24,24,40,40,24,24,23,23,43,43,20,20,23,29,29,24,24,25,25,22,34,33,26,26,29,29,25,25,19,47,42,42,43,43,28,28,31,31,68,68,27,37,37,28,28,52,52,24,24,38,38,29,42,42,30,30,32,56,31,25,47,35,24,23,23,29,29,41,23,23,27,27,31,31,48,48,24,24,25,25,20,27,27,34,34,28,29,29,44,44,19,24,24,24,30,24,24,34,34,28,28,30,30,33,33,28,22,22,35,33,24,63,26,30,30,26,24,52,52,39,35,31,35,21,18,31,28,28,41,41,22,50,50,24,24,23,23,27,27,26,26,53,53,32,32,25,25,43,43,55,31,31,57,35,23,39,59,59,37,10,22,42,42,42,42,56,56,33,24,24,33,33,52,52,24,24,26,26,33,33,25,25,23,23,34,37,34,25,25,43,43,24,24,67,67,44,44,35,35,37,37,24,32,35,35,35,35,31,31,34,34,18,18,39,28,34,37,31,31,21,24,22,22,51,51,40,43,59,59,59,59,30,30,23,23,24,24,20,24,24,24,24,46,46,39,\"30\",35,24,28,48,48,32,34,34,29,30,30,30,39,39,39,41,41,41,36,36,36,28,28,28,21,21,21,35,35,28,28,28,30,30,30,30,30,34,34,34,30,30,30,30,30,30,36,36,36,28,28,28,28,28,28,28,28,21,29,35,28,26,26,26,26,28,28,28,34,34,34,33,33,33,28,28,28,29,29,29,37,37,37,28,28,28,28,28,28,24,26,28,37,37,37,25,25,25,25,25,28,28,28,29,29,29,26,26,26,28,28,28,\"50\",\"50\",\"50\",\"47\",\"47\",\"47\",\"30\",28,\"30\"],\"y0\":\" \",\"yaxis\":\"y\"}],                        {\"boxmode\":\"group\",\"legend\":{\"tracegroupgap\":0},\"margin\":{\"t\":60},\"template\":{\"data\":{\"bar\":[{\"error_x\":{\"color\":\"#2a3f5f\"},\"error_y\":{\"color\":\"#2a3f5f\"},\"marker\":{\"line\":{\"color\":\"#E5ECF6\",\"width\":0.5},\"pattern\":{\"fillmode\":\"overlay\",\"size\":10,\"solidity\":0.2}},\"type\":\"bar\"}],\"barpolar\":[{\"marker\":{\"line\":{\"color\":\"#E5ECF6\",\"width\":0.5},\"pattern\":{\"fillmode\":\"overlay\",\"size\":10,\"solidity\":0.2}},\"type\":\"barpolar\"}],\"carpet\":[{\"aaxis\":{\"endlinecolor\":\"#2a3f5f\",\"gridcolor\":\"white\",\"linecolor\":\"white\",\"minorgridcolor\":\"white\",\"startlinecolor\":\"#2a3f5f\"},\"baxis\":{\"endlinecolor\":\"#2a3f5f\",\"gridcolor\":\"white\",\"linecolor\":\"white\",\"minorgridcolor\":\"white\",\"startlinecolor\":\"#2a3f5f\"},\"type\":\"carpet\"}],\"choropleth\":[{\"colorbar\":{\"outlinewidth\":0,\"ticks\":\"\"},\"type\":\"choropleth\"}],\"contour\":[{\"colorbar\":{\"outlinewidth\":0,\"ticks\":\"\"},\"colorscale\":[[0.0,\"#0d0887\"],[0.1111111111111111,\"#46039f\"],[0.2222222222222222,\"#7201a8\"],[0.3333333333333333,\"#9c179e\"],[0.4444444444444444,\"#bd3786\"],[0.5555555555555556,\"#d8576b\"],[0.6666666666666666,\"#ed7953\"],[0.7777777777777778,\"#fb9f3a\"],[0.8888888888888888,\"#fdca26\"],[1.0,\"#f0f921\"]],\"type\":\"contour\"}],\"contourcarpet\":[{\"colorbar\":{\"outlinewidth\":0,\"ticks\":\"\"},\"type\":\"contourcarpet\"}],\"heatmap\":[{\"colorbar\":{\"outlinewidth\":0,\"ticks\":\"\"},\"colorscale\":[[0.0,\"#0d0887\"],[0.1111111111111111,\"#46039f\"],[0.2222222222222222,\"#7201a8\"],[0.3333333333333333,\"#9c179e\"],[0.4444444444444444,\"#bd3786\"],[0.5555555555555556,\"#d8576b\"],[0.6666666666666666,\"#ed7953\"],[0.7777777777777778,\"#fb9f3a\"],[0.8888888888888888,\"#fdca26\"],[1.0,\"#f0f921\"]],\"type\":\"heatmap\"}],\"heatmapgl\":[{\"colorbar\":{\"outlinewidth\":0,\"ticks\":\"\"},\"colorscale\":[[0.0,\"#0d0887\"],[0.1111111111111111,\"#46039f\"],[0.2222222222222222,\"#7201a8\"],[0.3333333333333333,\"#9c179e\"],[0.4444444444444444,\"#bd3786\"],[0.5555555555555556,\"#d8576b\"],[0.6666666666666666,\"#ed7953\"],[0.7777777777777778,\"#fb9f3a\"],[0.8888888888888888,\"#fdca26\"],[1.0,\"#f0f921\"]],\"type\":\"heatmapgl\"}],\"histogram\":[{\"marker\":{\"pattern\":{\"fillmode\":\"overlay\",\"size\":10,\"solidity\":0.2}},\"type\":\"histogram\"}],\"histogram2d\":[{\"colorbar\":{\"outlinewidth\":0,\"ticks\":\"\"},\"colorscale\":[[0.0,\"#0d0887\"],[0.1111111111111111,\"#46039f\"],[0.2222222222222222,\"#7201a8\"],[0.3333333333333333,\"#9c179e\"],[0.4444444444444444,\"#bd3786\"],[0.5555555555555556,\"#d8576b\"],[0.6666666666666666,\"#ed7953\"],[0.7777777777777778,\"#fb9f3a\"],[0.8888888888888888,\"#fdca26\"],[1.0,\"#f0f921\"]],\"type\":\"histogram2d\"}],\"histogram2dcontour\":[{\"colorbar\":{\"outlinewidth\":0,\"ticks\":\"\"},\"colorscale\":[[0.0,\"#0d0887\"],[0.1111111111111111,\"#46039f\"],[0.2222222222222222,\"#7201a8\"],[0.3333333333333333,\"#9c179e\"],[0.4444444444444444,\"#bd3786\"],[0.5555555555555556,\"#d8576b\"],[0.6666666666666666,\"#ed7953\"],[0.7777777777777778,\"#fb9f3a\"],[0.8888888888888888,\"#fdca26\"],[1.0,\"#f0f921\"]],\"type\":\"histogram2dcontour\"}],\"mesh3d\":[{\"colorbar\":{\"outlinewidth\":0,\"ticks\":\"\"},\"type\":\"mesh3d\"}],\"parcoords\":[{\"line\":{\"colorbar\":{\"outlinewidth\":0,\"ticks\":\"\"}},\"type\":\"parcoords\"}],\"pie\":[{\"automargin\":true,\"type\":\"pie\"}],\"scatter\":[{\"marker\":{\"colorbar\":{\"outlinewidth\":0,\"ticks\":\"\"}},\"type\":\"scatter\"}],\"scatter3d\":[{\"line\":{\"colorbar\":{\"outlinewidth\":0,\"ticks\":\"\"}},\"marker\":{\"colorbar\":{\"outlinewidth\":0,\"ticks\":\"\"}},\"type\":\"scatter3d\"}],\"scattercarpet\":[{\"marker\":{\"colorbar\":{\"outlinewidth\":0,\"ticks\":\"\"}},\"type\":\"scattercarpet\"}],\"scattergeo\":[{\"marker\":{\"colorbar\":{\"outlinewidth\":0,\"ticks\":\"\"}},\"type\":\"scattergeo\"}],\"scattergl\":[{\"marker\":{\"colorbar\":{\"outlinewidth\":0,\"ticks\":\"\"}},\"type\":\"scattergl\"}],\"scattermapbox\":[{\"marker\":{\"colorbar\":{\"outlinewidth\":0,\"ticks\":\"\"}},\"type\":\"scattermapbox\"}],\"scatterpolar\":[{\"marker\":{\"colorbar\":{\"outlinewidth\":0,\"ticks\":\"\"}},\"type\":\"scatterpolar\"}],\"scatterpolargl\":[{\"marker\":{\"colorbar\":{\"outlinewidth\":0,\"ticks\":\"\"}},\"type\":\"scatterpolargl\"}],\"scatterternary\":[{\"marker\":{\"colorbar\":{\"outlinewidth\":0,\"ticks\":\"\"}},\"type\":\"scatterternary\"}],\"surface\":[{\"colorbar\":{\"outlinewidth\":0,\"ticks\":\"\"},\"colorscale\":[[0.0,\"#0d0887\"],[0.1111111111111111,\"#46039f\"],[0.2222222222222222,\"#7201a8\"],[0.3333333333333333,\"#9c179e\"],[0.4444444444444444,\"#bd3786\"],[0.5555555555555556,\"#d8576b\"],[0.6666666666666666,\"#ed7953\"],[0.7777777777777778,\"#fb9f3a\"],[0.8888888888888888,\"#fdca26\"],[1.0,\"#f0f921\"]],\"type\":\"surface\"}],\"table\":[{\"cells\":{\"fill\":{\"color\":\"#EBF0F8\"},\"line\":{\"color\":\"white\"}},\"header\":{\"fill\":{\"color\":\"#C8D4E3\"},\"line\":{\"color\":\"white\"}},\"type\":\"table\"}]},\"layout\":{\"annotationdefaults\":{\"arrowcolor\":\"#2a3f5f\",\"arrowhead\":0,\"arrowwidth\":1},\"autotypenumbers\":\"strict\",\"coloraxis\":{\"colorbar\":{\"outlinewidth\":0,\"ticks\":\"\"}},\"colorscale\":{\"diverging\":[[0,\"#8e0152\"],[0.1,\"#c51b7d\"],[0.2,\"#de77ae\"],[0.3,\"#f1b6da\"],[0.4,\"#fde0ef\"],[0.5,\"#f7f7f7\"],[0.6,\"#e6f5d0\"],[0.7,\"#b8e186\"],[0.8,\"#7fbc41\"],[0.9,\"#4d9221\"],[1,\"#276419\"]],\"sequential\":[[0.0,\"#0d0887\"],[0.1111111111111111,\"#46039f\"],[0.2222222222222222,\"#7201a8\"],[0.3333333333333333,\"#9c179e\"],[0.4444444444444444,\"#bd3786\"],[0.5555555555555556,\"#d8576b\"],[0.6666666666666666,\"#ed7953\"],[0.7777777777777778,\"#fb9f3a\"],[0.8888888888888888,\"#fdca26\"],[1.0,\"#f0f921\"]],\"sequentialminus\":[[0.0,\"#0d0887\"],[0.1111111111111111,\"#46039f\"],[0.2222222222222222,\"#7201a8\"],[0.3333333333333333,\"#9c179e\"],[0.4444444444444444,\"#bd3786\"],[0.5555555555555556,\"#d8576b\"],[0.6666666666666666,\"#ed7953\"],[0.7777777777777778,\"#fb9f3a\"],[0.8888888888888888,\"#fdca26\"],[1.0,\"#f0f921\"]]},\"colorway\":[\"#636efa\",\"#EF553B\",\"#00cc96\",\"#ab63fa\",\"#FFA15A\",\"#19d3f3\",\"#FF6692\",\"#B6E880\",\"#FF97FF\",\"#FECB52\"],\"font\":{\"color\":\"#2a3f5f\"},\"geo\":{\"bgcolor\":\"white\",\"lakecolor\":\"white\",\"landcolor\":\"#E5ECF6\",\"showlakes\":true,\"showland\":true,\"subunitcolor\":\"white\"},\"hoverlabel\":{\"align\":\"left\"},\"hovermode\":\"closest\",\"mapbox\":{\"style\":\"light\"},\"paper_bgcolor\":\"white\",\"plot_bgcolor\":\"#E5ECF6\",\"polar\":{\"angularaxis\":{\"gridcolor\":\"white\",\"linecolor\":\"white\",\"ticks\":\"\"},\"bgcolor\":\"#E5ECF6\",\"radialaxis\":{\"gridcolor\":\"white\",\"linecolor\":\"white\",\"ticks\":\"\"}},\"scene\":{\"xaxis\":{\"backgroundcolor\":\"#E5ECF6\",\"gridcolor\":\"white\",\"gridwidth\":2,\"linecolor\":\"white\",\"showbackground\":true,\"ticks\":\"\",\"zerolinecolor\":\"white\"},\"yaxis\":{\"backgroundcolor\":\"#E5ECF6\",\"gridcolor\":\"white\",\"gridwidth\":2,\"linecolor\":\"white\",\"showbackground\":true,\"ticks\":\"\",\"zerolinecolor\":\"white\"},\"zaxis\":{\"backgroundcolor\":\"#E5ECF6\",\"gridcolor\":\"white\",\"gridwidth\":2,\"linecolor\":\"white\",\"showbackground\":true,\"ticks\":\"\",\"zerolinecolor\":\"white\"}},\"shapedefaults\":{\"line\":{\"color\":\"#2a3f5f\"}},\"ternary\":{\"aaxis\":{\"gridcolor\":\"white\",\"linecolor\":\"white\",\"ticks\":\"\"},\"baxis\":{\"gridcolor\":\"white\",\"linecolor\":\"white\",\"ticks\":\"\"},\"bgcolor\":\"#E5ECF6\",\"caxis\":{\"gridcolor\":\"white\",\"linecolor\":\"white\",\"ticks\":\"\"}},\"title\":{\"x\":0.05},\"xaxis\":{\"automargin\":true,\"gridcolor\":\"white\",\"linecolor\":\"white\",\"ticks\":\"\",\"title\":{\"standoff\":15},\"zerolinecolor\":\"white\",\"zerolinewidth\":2},\"yaxis\":{\"automargin\":true,\"gridcolor\":\"white\",\"linecolor\":\"white\",\"ticks\":\"\",\"title\":{\"standoff\":15},\"zerolinecolor\":\"white\",\"zerolinewidth\":2}}},\"xaxis\":{\"anchor\":\"y\",\"domain\":[0.0,1.0],\"title\":{\"text\":\"trip_type\"}},\"yaxis\":{\"anchor\":\"x\",\"domain\":[0.0,1.0],\"title\":{\"text\":\"person.age\"}}},                        {\"responsive\": true}                    ).then(function(){\n",
       "                            \n",
       "var gd = document.getElementById('f022e99f-5830-492e-8e56-0e54bf0af6e6');\n",
       "var x = new MutationObserver(function (mutations, observer) {{\n",
       "        var display = window.getComputedStyle(gd).display;\n",
       "        if (!display || display === 'none') {{\n",
       "            console.log([gd, 'removed!']);\n",
       "            Plotly.purge(gd);\n",
       "            observer.disconnect();\n",
       "        }}\n",
       "}});\n",
       "\n",
       "// Listen for the removal of the full notebook cells\n",
       "var notebookContainer = gd.closest('#notebook-container');\n",
       "if (notebookContainer) {{\n",
       "    x.observe(notebookContainer, {childList: true});\n",
       "}}\n",
       "\n",
       "// Listen for the clearing of the current output cell\n",
       "var outputEl = gd.closest('.output');\n",
       "if (outputEl) {{\n",
       "    x.observe(outputEl, {childList: true});\n",
       "}}\n",
       "\n",
       "                        })                };                });            </script>        </div>"
      ]
     },
     "metadata": {},
     "output_type": "display_data"
    }
   ],
   "source": [
    "fig = px.box(phase1_df, x='trip_type',y='person.age', points='all')\n",
    "fig.show()"
   ]
  },
  {
   "cell_type": "code",
   "execution_count": 154,
   "metadata": {},
   "outputs": [
    {
     "data": {
      "application/vnd.plotly.v1+json": {
       "config": {
        "plotlyServerURL": "https://plot.ly"
       },
       "data": [
        {
         "alignmentgroup": "True",
         "hovertemplate": "group=Family<br>location.name=%{x}<br>person.age=%{y}<extra></extra>",
         "legendgroup": "Family",
         "marker": {
          "color": "#636efa",
          "pattern": {
           "shape": ""
          }
         },
         "name": "Family",
         "offsetgroup": "Family",
         "orientation": "v",
         "showlegend": true,
         "textposition": "auto",
         "type": "bar",
         "x": [
          "Chicago",
          "Cape Coral",
          "New York City",
          "New Orleans",
          "New York City",
          "Chicago",
          "Washington",
          "Rome",
          "Chico",
          "Honolulu",
          "New York City",
          "Sebring",
          "Pensacola",
          "Jacksonville",
          "Phoenix",
          "New Bern",
          "Boise",
          "Las Vegas",
          "Oklahoma City",
          "Chattanooga",
          "Phoenix",
          "New York City",
          "Orlando",
          "Cheyenne",
          "Decatur",
          "Spokane",
          "Albuquerque",
          "Bangor",
          "Greenville",
          "Mansfield",
          "Atlanta",
          "Washington",
          "Bellingham",
          "Albuquerque",
          "Beaumont",
          "San Angelo",
          "Philadelphia",
          "Miami",
          "Las Vegas",
          "Nashville",
          "Homosassa Springs",
          "Philadelphia",
          "Miami",
          "Rockford",
          "Bloomington",
          "Florence",
          "Orlando",
          "Bismarck",
          "Washington",
          "Birmingham",
          "Phoenix",
          "New York City",
          "Chicago",
          "Portland",
          "Johnson City",
          "Panama City",
          "Chicago",
          "Chicago",
          "Florence",
          "Cumberland",
          "Visalia",
          "Honolulu",
          "Honolulu",
          "Miami",
          "Albany",
          "Cleveland",
          "New York City",
          "Crestview",
          "Phoenix",
          "Myrtle Beach",
          "Honolulu",
          "Jacksonville",
          "San Diego",
          "Dallas",
          "Baton Rouge",
          "Chicago",
          "State College",
          "Atlanta",
          "Utica",
          "Cleveland",
          "San Diego",
          "Jacksonville",
          "Las Vegas",
          "Tampa",
          "Minneapolis",
          "Raleigh",
          "Austin",
          "Modesto",
          "Anchorage",
          "New Orleans",
          "Washington",
          "Sheboygan",
          "Chico",
          "Orlando",
          "Virginia Beach",
          "Nashville",
          "Amarillo",
          "Corpus Christi",
          "San Antonio",
          "Salisbury",
          "Anchorage",
          "Madison",
          "Honolulu",
          "Chicago",
          "Honolulu",
          "Albany",
          "Grand Forks",
          "Atlanta",
          "Lake Charles",
          "Fargo",
          "Miami",
          "Chicago",
          "Altoona",
          "Houma",
          "Seattle",
          "Las Vegas",
          "Dallas",
          "Victoria",
          "Valdosta",
          "Great Falls",
          "Columbus",
          "New Orleans",
          "Hickory",
          "Rochester",
          "Baton Rouge",
          "Philadelphia",
          "Chicago",
          "Chico",
          "Hartford",
          "Birmingham",
          "Chicago",
          "Austin",
          "Rochester",
          "New York City",
          "San Diego",
          "Kahului",
          "Salisbury",
          "Chicago",
          "Ocala",
          "Boston",
          "Little Rock",
          "Albany",
          "Chattanooga",
          "Reno",
          "Grand Junction",
          "Abilene",
          "Myrtle Beach",
          "Charlotte",
          "New Orleans",
          "Austin",
          "Brunswick",
          "Springfield",
          "Las Vegas",
          "Fond du Lac",
          "Lansing",
          "Great Falls",
          "Macon",
          "Asheville",
          "Syracuse",
          "Anchorage",
          "Dallas",
          "Orlando",
          "New York City",
          "Reno",
          "Boise",
          "Honolulu",
          "Atlanta",
          "Tallahassee",
          "Bloomington",
          "Cincinnati",
          "Sheboygan",
          "Denver",
          "New York City",
          "Chicago",
          "New Orleans",
          "Las Vegas",
          "Logan",
          "Lynchburg",
          "Las Vegas",
          "Las Vegas",
          "New York City",
          "Miami",
          "Beaumont",
          "Memphis",
          "Chicago",
          "Binghamton",
          "Billings",
          "Madison",
          "Jacksonville",
          "Lawton",
          "La Crosse",
          "Elmira",
          "San Antonio",
          "Washington",
          "Wausau",
          "Albuquerque",
          "Wilmington",
          "McAllen",
          "New York City",
          "Albany",
          "New Orleans",
          "Miami",
          "Las Vegas",
          "Bakersfield",
          "Duluth",
          "San Diego",
          "Anchorage",
          "Flagstaff",
          "Jonesboro",
          "Boston",
          "New York City",
          "Washington",
          "San Diego",
          "Sacramento",
          "Palm Bay",
          "Louisville",
          "Longview",
          "Sebring",
          "Columbia",
          "Boston",
          "Pittsburgh",
          "Austin",
          "Atlanta",
          "Harrisburg",
          "Dallas",
          "Washington",
          "Austin",
          "New Bern",
          "Modesto",
          "Houma",
          "Manhattan",
          "Myrtle Beach",
          "Cleveland",
          "Tuscaloosa",
          "New Bern",
          "Corpus Christi",
          "San Diego",
          "Wausau",
          "Salt Lake City",
          "Salinas",
          "Birmingham",
          "Decatur",
          "Tuscaloosa",
          "Cincinnati",
          "Jacksonville",
          "Grand Junction",
          "Memphis",
          "Indianapolis",
          "Altoona",
          "New Orleans",
          "Denver",
          "Anchorage",
          "Lansing",
          "Florence",
          "Houma",
          "Bangor",
          "Fargo",
          "Duluth",
          "Waco",
          "Philadelphia",
          "La Crosse",
          "Mansfield",
          "Bangor"
         ],
         "xaxis": "x",
         "y": [
          23,
          23,
          66,
          66,
          32,
          30,
          30,
          67,
          67,
          33,
          29,
          30,
          30,
          34,
          22,
          22,
          46,
          46,
          35,
          35,
          27,
          23,
          33,
          24,
          26,
          26,
          24,
          35,
          35,
          32,
          40,
          40,
          50,
          50,
          54,
          27,
          27,
          33,
          33,
          28,
          28,
          33,
          33,
          23,
          27,
          57,
          35,
          35,
          56,
          24,
          45,
          46,
          27,
          28,
          43,
          27,
          24,
          39,
          39,
          31,
          31,
          40,
          35,
          35,
          33,
          33,
          63,
          62,
          24,
          40,
          40,
          25,
          19,
          24,
          24,
          40,
          40,
          24,
          24,
          43,
          43,
          24,
          34,
          33,
          26,
          29,
          29,
          19,
          42,
          42,
          43,
          43,
          28,
          31,
          31,
          68,
          68,
          28,
          28,
          24,
          24,
          38,
          42,
          56,
          31,
          35,
          24,
          23,
          41,
          27,
          27,
          31,
          31,
          48,
          48,
          24,
          25,
          25,
          20,
          27,
          27,
          34,
          34,
          29,
          29,
          44,
          44,
          19,
          24,
          30,
          34,
          34,
          28,
          28,
          30,
          30,
          33,
          28,
          35,
          33,
          24,
          63,
          26,
          24,
          52,
          52,
          39,
          35,
          21,
          31,
          28,
          28,
          41,
          41,
          24,
          24,
          27,
          27,
          53,
          53,
          32,
          32,
          43,
          43,
          55,
          23,
          39,
          59,
          59,
          37,
          10,
          22,
          42,
          42,
          56,
          56,
          33,
          33,
          33,
          52,
          52,
          26,
          33,
          23,
          23,
          34,
          37,
          34,
          24,
          67,
          67,
          35,
          35,
          37,
          24,
          32,
          35,
          35,
          34,
          18,
          39,
          28,
          34,
          37,
          21,
          24,
          51,
          51,
          40,
          43,
          59,
          59,
          30,
          23,
          23,
          24,
          24,
          24,
          24,
          24,
          24,
          39,
          "30",
          35,
          24,
          48,
          48,
          29,
          34,
          34,
          34,
          30,
          30,
          30,
          36,
          36,
          36,
          28,
          28,
          28,
          21,
          29,
          35,
          28,
          26,
          26,
          26,
          26,
          29,
          29,
          29,
          24,
          26,
          28,
          37,
          37,
          37,
          29,
          29,
          29,
          26,
          26,
          26
         ],
         "yaxis": "y"
        },
        {
         "alignmentgroup": "True",
         "hovertemplate": "group=Alone<br>location.name=%{x}<br>person.age=%{y}<extra></extra>",
         "legendgroup": "Alone",
         "marker": {
          "color": "#EF553B",
          "pattern": {
           "shape": ""
          }
         },
         "name": "Alone",
         "offsetgroup": "Alone",
         "orientation": "v",
         "showlegend": true,
         "textposition": "auto",
         "type": "bar",
         "x": [
          "Orlando",
          "Tulsa",
          "New York City",
          "Visalia",
          "New York City",
          "Wilmington",
          "Albany",
          "Tuscaloosa",
          "Chattanooga",
          "Las Vegas",
          "Orlando",
          "Washington",
          "Great Falls",
          "Pueblo",
          "Denver",
          "Killeen",
          "Grand Island",
          "Beckley",
          "Salinas",
          "San Diego",
          "New York City",
          "Denver",
          "Wichita",
          "Kennewick",
          "Farmington",
          "Bakersfield",
          "St. Louis",
          "Sebring",
          "Lexington",
          "Lake Charles",
          "Salt Lake City",
          "Albuquerque",
          "Denver",
          "New York City",
          "Champaign",
          "New York City",
          "Columbia",
          "Bakersfield",
          "Savannah",
          "Lansing",
          "Boise",
          "Longview",
          "Savannah",
          "Anchorage",
          "Wichita",
          "Jonesboro",
          "Clarksville"
         ],
         "xaxis": "x",
         "y": [
          32,
          25,
          25,
          24,
          24,
          24,
          25,
          51,
          31,
          46,
          46,
          43,
          29,
          29,
          28,
          28,
          22,
          22,
          30,
          20,
          20,
          37,
          37,
          52,
          52,
          22,
          26,
          31,
          35,
          25,
          25,
          43,
          43,
          59,
          59,
          32,
          30,
          30,
          30,
          30,
          30,
          34,
          34,
          34,
          "30",
          28,
          "30"
         ],
         "yaxis": "y"
        },
        {
         "alignmentgroup": "True",
         "hovertemplate": "group=Friends<br>location.name=%{x}<br>person.age=%{y}<extra></extra>",
         "legendgroup": "Friends",
         "marker": {
          "color": "#00cc96",
          "pattern": {
           "shape": ""
          }
         },
         "name": "Friends",
         "offsetgroup": "Friends",
         "orientation": "v",
         "showlegend": true,
         "textposition": "auto",
         "type": "bar",
         "x": [
          "San Antonio",
          "Tucson",
          "Pittsfield",
          "Cleveland",
          "Lawton",
          "Augusta",
          "Panama City",
          "Tulsa",
          "Austin",
          "Baton Rouge",
          "New York City",
          "Waco",
          "Anchorage",
          "Virginia Beach",
          "Austin",
          "New York City",
          "Albany",
          "Appleton",
          "Chicago",
          "Minneapolis",
          "Prescott",
          "Corpus Christi",
          "Sebring",
          "Kennewick",
          "Las Vegas",
          "Mobile",
          "Atlanta",
          "Milwaukee",
          "Medford",
          "Visalia",
          "Austin",
          "Chicago",
          "Crestview",
          "Alexandria",
          "Augusta",
          "Mobile",
          "San Angelo",
          "Atlanta",
          "Orlando",
          "Cape Coral",
          "Spokane",
          "Rochester",
          "Denver",
          "Carbondale",
          "Nashville",
          "Portland",
          "Hot Springs",
          "Nashville",
          "Lexington",
          "Austin",
          "Orlando",
          "San Diego",
          "New York City",
          "Albuquerque",
          "Albany",
          "New Orleans",
          "Des Moines",
          "New York City",
          "Cumberland",
          "Wichita",
          "Indianapolis",
          "Las Vegas",
          "New York City",
          "Chico",
          "Anchorage",
          "Wilmington",
          "Bismarck",
          "San Diego",
          "Baton Rouge",
          "Clarksville",
          "San Antonio",
          "Spokane",
          "Las Vegas",
          "Birmingham",
          "Davenport",
          "Savannah",
          "Chicago",
          "Nashville",
          "Bowling Green",
          "South Bend",
          "Tallahassee",
          "State College",
          "Philadelphia",
          "Manhattan",
          "Topeka",
          "Colorado Springs",
          "Atlanta",
          "Lakeland",
          "Grand Island",
          "Portland",
          "New York City",
          "Cedar Rapids",
          "Portland",
          "New York City",
          "Chicago",
          "Shreveport",
          "Killeen",
          "New York City",
          "Florence",
          "Missoula",
          "Reno",
          "Colorado Springs",
          "Appleton",
          "Rockford",
          "Austin",
          "Beaumont",
          "New Orleans",
          "Portland",
          "Houma",
          "Lafayette",
          "San Diego",
          "Austin",
          "Chattanooga",
          "McAllen",
          "Lexington",
          "Wichita",
          "Jonesboro",
          "Clarksville",
          "Longview",
          "Bismarck",
          "Corpus Christi",
          "Sebring",
          "Hickory",
          "Champaign",
          "Clarksville",
          "Waco",
          "Wausau",
          "State College",
          "Altoona",
          "Albuquerque",
          "New Orleans",
          "Missoula",
          "Waco",
          "Jacksonville",
          "Bellingham",
          "Denver",
          "Alexandria",
          "Bloomington",
          "Jonesboro",
          "Rome",
          "Lansing",
          "Cedar Rapids",
          "New Bern",
          "Columbia",
          "Milwaukee",
          "Florence",
          "Prescott",
          "Cedar Rapids",
          "Greenville",
          "Crestview",
          "Wausau",
          "Boston",
          "Longview",
          "Las Vegas",
          "State College",
          "Lawton",
          "Anchorage",
          "Hickory",
          "San Diego",
          "Hot Springs",
          "Shreveport",
          "Las Vegas",
          "McAllen",
          "Lake Charles",
          "San Diego",
          "Cincinnati",
          "Billings",
          "Pueblo",
          "Salt Lake City",
          "Chattanooga",
          "McAllen",
          "Lexington"
         ],
         "xaxis": "x",
         "y": [
          34,
          34,
          29,
          25,
          25,
          37,
          37,
          24,
          27,
          27,
          24,
          33,
          24,
          24,
          51,
          56,
          28,
          28,
          11,
          42,
          57,
          24,
          28,
          63,
          31,
          25,
          25,
          23,
          33,
          31,
          39,
          23,
          23,
          23,
          24,
          25,
          25,
          22,
          26,
          25,
          25,
          47,
          28,
          27,
          38,
          29,
          42,
          30,
          30,
          32,
          25,
          47,
          23,
          29,
          29,
          23,
          23,
          24,
          28,
          24,
          24,
          24,
          24,
          33,
          22,
          30,
          30,
          18,
          22,
          50,
          50,
          23,
          23,
          26,
          26,
          25,
          25,
          31,
          31,
          57,
          35,
          42,
          42,
          24,
          24,
          24,
          24,
          26,
          33,
          25,
          25,
          24,
          44,
          44,
          37,
          35,
          35,
          31,
          31,
          34,
          18,
          31,
          31,
          22,
          22,
          30,
          20,
          46,
          46,
          28,
          34,
          34,
          30,
          30,
          30,
          39,
          39,
          39,
          41,
          41,
          41,
          36,
          36,
          36,
          21,
          21,
          21,
          35,
          35,
          28,
          28,
          28,
          28,
          28,
          28,
          28,
          28,
          28,
          28,
          28,
          33,
          33,
          33,
          28,
          28,
          28,
          37,
          37,
          37,
          28,
          28,
          28,
          28,
          28,
          28,
          25,
          25,
          25,
          25,
          25,
          28,
          28,
          28,
          28,
          28,
          28,
          "50",
          "50",
          "50",
          "47",
          "47",
          "47"
         ],
         "yaxis": "y"
        },
        {
         "alignmentgroup": "True",
         "hovertemplate": "group=Other<br>location.name=%{x}<br>person.age=%{y}<extra></extra>",
         "legendgroup": "Other",
         "marker": {
          "color": "#ab63fa",
          "pattern": {
           "shape": ""
          }
         },
         "name": "Other",
         "offsetgroup": "Other",
         "orientation": "v",
         "showlegend": true,
         "textposition": "auto",
         "type": "bar",
         "x": [
          "Cumberland",
          "Austin",
          "Waco",
          "Austin",
          "Jacksonville",
          "Columbia",
          "Jacksonville",
          "Rochester",
          "Topeka"
         ],
         "xaxis": "x",
         "y": [
          24,
          29,
          29,
          28,
          28,
          28,
          30,
          30,
          30
         ],
         "yaxis": "y"
        }
       ],
       "layout": {
        "barmode": "relative",
        "legend": {
         "title": {
          "text": "group"
         },
         "tracegroupgap": 0
        },
        "template": {
         "data": {
          "bar": [
           {
            "error_x": {
             "color": "#2a3f5f"
            },
            "error_y": {
             "color": "#2a3f5f"
            },
            "marker": {
             "line": {
              "color": "#E5ECF6",
              "width": 0.5
             },
             "pattern": {
              "fillmode": "overlay",
              "size": 10,
              "solidity": 0.2
             }
            },
            "type": "bar"
           }
          ],
          "barpolar": [
           {
            "marker": {
             "line": {
              "color": "#E5ECF6",
              "width": 0.5
             },
             "pattern": {
              "fillmode": "overlay",
              "size": 10,
              "solidity": 0.2
             }
            },
            "type": "barpolar"
           }
          ],
          "carpet": [
           {
            "aaxis": {
             "endlinecolor": "#2a3f5f",
             "gridcolor": "white",
             "linecolor": "white",
             "minorgridcolor": "white",
             "startlinecolor": "#2a3f5f"
            },
            "baxis": {
             "endlinecolor": "#2a3f5f",
             "gridcolor": "white",
             "linecolor": "white",
             "minorgridcolor": "white",
             "startlinecolor": "#2a3f5f"
            },
            "type": "carpet"
           }
          ],
          "choropleth": [
           {
            "colorbar": {
             "outlinewidth": 0,
             "ticks": ""
            },
            "type": "choropleth"
           }
          ],
          "contour": [
           {
            "colorbar": {
             "outlinewidth": 0,
             "ticks": ""
            },
            "colorscale": [
             [
              0,
              "#0d0887"
             ],
             [
              0.1111111111111111,
              "#46039f"
             ],
             [
              0.2222222222222222,
              "#7201a8"
             ],
             [
              0.3333333333333333,
              "#9c179e"
             ],
             [
              0.4444444444444444,
              "#bd3786"
             ],
             [
              0.5555555555555556,
              "#d8576b"
             ],
             [
              0.6666666666666666,
              "#ed7953"
             ],
             [
              0.7777777777777778,
              "#fb9f3a"
             ],
             [
              0.8888888888888888,
              "#fdca26"
             ],
             [
              1,
              "#f0f921"
             ]
            ],
            "type": "contour"
           }
          ],
          "contourcarpet": [
           {
            "colorbar": {
             "outlinewidth": 0,
             "ticks": ""
            },
            "type": "contourcarpet"
           }
          ],
          "heatmap": [
           {
            "colorbar": {
             "outlinewidth": 0,
             "ticks": ""
            },
            "colorscale": [
             [
              0,
              "#0d0887"
             ],
             [
              0.1111111111111111,
              "#46039f"
             ],
             [
              0.2222222222222222,
              "#7201a8"
             ],
             [
              0.3333333333333333,
              "#9c179e"
             ],
             [
              0.4444444444444444,
              "#bd3786"
             ],
             [
              0.5555555555555556,
              "#d8576b"
             ],
             [
              0.6666666666666666,
              "#ed7953"
             ],
             [
              0.7777777777777778,
              "#fb9f3a"
             ],
             [
              0.8888888888888888,
              "#fdca26"
             ],
             [
              1,
              "#f0f921"
             ]
            ],
            "type": "heatmap"
           }
          ],
          "heatmapgl": [
           {
            "colorbar": {
             "outlinewidth": 0,
             "ticks": ""
            },
            "colorscale": [
             [
              0,
              "#0d0887"
             ],
             [
              0.1111111111111111,
              "#46039f"
             ],
             [
              0.2222222222222222,
              "#7201a8"
             ],
             [
              0.3333333333333333,
              "#9c179e"
             ],
             [
              0.4444444444444444,
              "#bd3786"
             ],
             [
              0.5555555555555556,
              "#d8576b"
             ],
             [
              0.6666666666666666,
              "#ed7953"
             ],
             [
              0.7777777777777778,
              "#fb9f3a"
             ],
             [
              0.8888888888888888,
              "#fdca26"
             ],
             [
              1,
              "#f0f921"
             ]
            ],
            "type": "heatmapgl"
           }
          ],
          "histogram": [
           {
            "marker": {
             "pattern": {
              "fillmode": "overlay",
              "size": 10,
              "solidity": 0.2
             }
            },
            "type": "histogram"
           }
          ],
          "histogram2d": [
           {
            "colorbar": {
             "outlinewidth": 0,
             "ticks": ""
            },
            "colorscale": [
             [
              0,
              "#0d0887"
             ],
             [
              0.1111111111111111,
              "#46039f"
             ],
             [
              0.2222222222222222,
              "#7201a8"
             ],
             [
              0.3333333333333333,
              "#9c179e"
             ],
             [
              0.4444444444444444,
              "#bd3786"
             ],
             [
              0.5555555555555556,
              "#d8576b"
             ],
             [
              0.6666666666666666,
              "#ed7953"
             ],
             [
              0.7777777777777778,
              "#fb9f3a"
             ],
             [
              0.8888888888888888,
              "#fdca26"
             ],
             [
              1,
              "#f0f921"
             ]
            ],
            "type": "histogram2d"
           }
          ],
          "histogram2dcontour": [
           {
            "colorbar": {
             "outlinewidth": 0,
             "ticks": ""
            },
            "colorscale": [
             [
              0,
              "#0d0887"
             ],
             [
              0.1111111111111111,
              "#46039f"
             ],
             [
              0.2222222222222222,
              "#7201a8"
             ],
             [
              0.3333333333333333,
              "#9c179e"
             ],
             [
              0.4444444444444444,
              "#bd3786"
             ],
             [
              0.5555555555555556,
              "#d8576b"
             ],
             [
              0.6666666666666666,
              "#ed7953"
             ],
             [
              0.7777777777777778,
              "#fb9f3a"
             ],
             [
              0.8888888888888888,
              "#fdca26"
             ],
             [
              1,
              "#f0f921"
             ]
            ],
            "type": "histogram2dcontour"
           }
          ],
          "mesh3d": [
           {
            "colorbar": {
             "outlinewidth": 0,
             "ticks": ""
            },
            "type": "mesh3d"
           }
          ],
          "parcoords": [
           {
            "line": {
             "colorbar": {
              "outlinewidth": 0,
              "ticks": ""
             }
            },
            "type": "parcoords"
           }
          ],
          "pie": [
           {
            "automargin": true,
            "type": "pie"
           }
          ],
          "scatter": [
           {
            "marker": {
             "colorbar": {
              "outlinewidth": 0,
              "ticks": ""
             }
            },
            "type": "scatter"
           }
          ],
          "scatter3d": [
           {
            "line": {
             "colorbar": {
              "outlinewidth": 0,
              "ticks": ""
             }
            },
            "marker": {
             "colorbar": {
              "outlinewidth": 0,
              "ticks": ""
             }
            },
            "type": "scatter3d"
           }
          ],
          "scattercarpet": [
           {
            "marker": {
             "colorbar": {
              "outlinewidth": 0,
              "ticks": ""
             }
            },
            "type": "scattercarpet"
           }
          ],
          "scattergeo": [
           {
            "marker": {
             "colorbar": {
              "outlinewidth": 0,
              "ticks": ""
             }
            },
            "type": "scattergeo"
           }
          ],
          "scattergl": [
           {
            "marker": {
             "colorbar": {
              "outlinewidth": 0,
              "ticks": ""
             }
            },
            "type": "scattergl"
           }
          ],
          "scattermapbox": [
           {
            "marker": {
             "colorbar": {
              "outlinewidth": 0,
              "ticks": ""
             }
            },
            "type": "scattermapbox"
           }
          ],
          "scatterpolar": [
           {
            "marker": {
             "colorbar": {
              "outlinewidth": 0,
              "ticks": ""
             }
            },
            "type": "scatterpolar"
           }
          ],
          "scatterpolargl": [
           {
            "marker": {
             "colorbar": {
              "outlinewidth": 0,
              "ticks": ""
             }
            },
            "type": "scatterpolargl"
           }
          ],
          "scatterternary": [
           {
            "marker": {
             "colorbar": {
              "outlinewidth": 0,
              "ticks": ""
             }
            },
            "type": "scatterternary"
           }
          ],
          "surface": [
           {
            "colorbar": {
             "outlinewidth": 0,
             "ticks": ""
            },
            "colorscale": [
             [
              0,
              "#0d0887"
             ],
             [
              0.1111111111111111,
              "#46039f"
             ],
             [
              0.2222222222222222,
              "#7201a8"
             ],
             [
              0.3333333333333333,
              "#9c179e"
             ],
             [
              0.4444444444444444,
              "#bd3786"
             ],
             [
              0.5555555555555556,
              "#d8576b"
             ],
             [
              0.6666666666666666,
              "#ed7953"
             ],
             [
              0.7777777777777778,
              "#fb9f3a"
             ],
             [
              0.8888888888888888,
              "#fdca26"
             ],
             [
              1,
              "#f0f921"
             ]
            ],
            "type": "surface"
           }
          ],
          "table": [
           {
            "cells": {
             "fill": {
              "color": "#EBF0F8"
             },
             "line": {
              "color": "white"
             }
            },
            "header": {
             "fill": {
              "color": "#C8D4E3"
             },
             "line": {
              "color": "white"
             }
            },
            "type": "table"
           }
          ]
         },
         "layout": {
          "annotationdefaults": {
           "arrowcolor": "#2a3f5f",
           "arrowhead": 0,
           "arrowwidth": 1
          },
          "autotypenumbers": "strict",
          "coloraxis": {
           "colorbar": {
            "outlinewidth": 0,
            "ticks": ""
           }
          },
          "colorscale": {
           "diverging": [
            [
             0,
             "#8e0152"
            ],
            [
             0.1,
             "#c51b7d"
            ],
            [
             0.2,
             "#de77ae"
            ],
            [
             0.3,
             "#f1b6da"
            ],
            [
             0.4,
             "#fde0ef"
            ],
            [
             0.5,
             "#f7f7f7"
            ],
            [
             0.6,
             "#e6f5d0"
            ],
            [
             0.7,
             "#b8e186"
            ],
            [
             0.8,
             "#7fbc41"
            ],
            [
             0.9,
             "#4d9221"
            ],
            [
             1,
             "#276419"
            ]
           ],
           "sequential": [
            [
             0,
             "#0d0887"
            ],
            [
             0.1111111111111111,
             "#46039f"
            ],
            [
             0.2222222222222222,
             "#7201a8"
            ],
            [
             0.3333333333333333,
             "#9c179e"
            ],
            [
             0.4444444444444444,
             "#bd3786"
            ],
            [
             0.5555555555555556,
             "#d8576b"
            ],
            [
             0.6666666666666666,
             "#ed7953"
            ],
            [
             0.7777777777777778,
             "#fb9f3a"
            ],
            [
             0.8888888888888888,
             "#fdca26"
            ],
            [
             1,
             "#f0f921"
            ]
           ],
           "sequentialminus": [
            [
             0,
             "#0d0887"
            ],
            [
             0.1111111111111111,
             "#46039f"
            ],
            [
             0.2222222222222222,
             "#7201a8"
            ],
            [
             0.3333333333333333,
             "#9c179e"
            ],
            [
             0.4444444444444444,
             "#bd3786"
            ],
            [
             0.5555555555555556,
             "#d8576b"
            ],
            [
             0.6666666666666666,
             "#ed7953"
            ],
            [
             0.7777777777777778,
             "#fb9f3a"
            ],
            [
             0.8888888888888888,
             "#fdca26"
            ],
            [
             1,
             "#f0f921"
            ]
           ]
          },
          "colorway": [
           "#636efa",
           "#EF553B",
           "#00cc96",
           "#ab63fa",
           "#FFA15A",
           "#19d3f3",
           "#FF6692",
           "#B6E880",
           "#FF97FF",
           "#FECB52"
          ],
          "font": {
           "color": "#2a3f5f"
          },
          "geo": {
           "bgcolor": "white",
           "lakecolor": "white",
           "landcolor": "#E5ECF6",
           "showlakes": true,
           "showland": true,
           "subunitcolor": "white"
          },
          "hoverlabel": {
           "align": "left"
          },
          "hovermode": "closest",
          "mapbox": {
           "style": "light"
          },
          "paper_bgcolor": "white",
          "plot_bgcolor": "#E5ECF6",
          "polar": {
           "angularaxis": {
            "gridcolor": "white",
            "linecolor": "white",
            "ticks": ""
           },
           "bgcolor": "#E5ECF6",
           "radialaxis": {
            "gridcolor": "white",
            "linecolor": "white",
            "ticks": ""
           }
          },
          "scene": {
           "xaxis": {
            "backgroundcolor": "#E5ECF6",
            "gridcolor": "white",
            "gridwidth": 2,
            "linecolor": "white",
            "showbackground": true,
            "ticks": "",
            "zerolinecolor": "white"
           },
           "yaxis": {
            "backgroundcolor": "#E5ECF6",
            "gridcolor": "white",
            "gridwidth": 2,
            "linecolor": "white",
            "showbackground": true,
            "ticks": "",
            "zerolinecolor": "white"
           },
           "zaxis": {
            "backgroundcolor": "#E5ECF6",
            "gridcolor": "white",
            "gridwidth": 2,
            "linecolor": "white",
            "showbackground": true,
            "ticks": "",
            "zerolinecolor": "white"
           }
          },
          "shapedefaults": {
           "line": {
            "color": "#2a3f5f"
           }
          },
          "ternary": {
           "aaxis": {
            "gridcolor": "white",
            "linecolor": "white",
            "ticks": ""
           },
           "baxis": {
            "gridcolor": "white",
            "linecolor": "white",
            "ticks": ""
           },
           "bgcolor": "#E5ECF6",
           "caxis": {
            "gridcolor": "white",
            "linecolor": "white",
            "ticks": ""
           }
          },
          "title": {
           "x": 0.05
          },
          "xaxis": {
           "automargin": true,
           "gridcolor": "white",
           "linecolor": "white",
           "ticks": "",
           "title": {
            "standoff": 15
           },
           "zerolinecolor": "white",
           "zerolinewidth": 2
          },
          "yaxis": {
           "automargin": true,
           "gridcolor": "white",
           "linecolor": "white",
           "ticks": "",
           "title": {
            "standoff": 15
           },
           "zerolinecolor": "white",
           "zerolinewidth": 2
          }
         }
        },
        "title": {
         "text": "Long-Form Input"
        },
        "xaxis": {
         "anchor": "y",
         "domain": [
          0,
          1
         ],
         "title": {
          "text": "location.name"
         }
        },
        "yaxis": {
         "anchor": "x",
         "domain": [
          0,
          1
         ],
         "title": {
          "text": "person.age"
         }
        }
       }
      },
      "text/html": [
       "<div>                            <div id=\"de9ce66e-e6ef-4807-9de6-347769fc7987\" class=\"plotly-graph-div\" style=\"height:525px; width:100%;\"></div>            <script type=\"text/javascript\">                require([\"plotly\"], function(Plotly) {                    window.PLOTLYENV=window.PLOTLYENV || {};                                    if (document.getElementById(\"de9ce66e-e6ef-4807-9de6-347769fc7987\")) {                    Plotly.newPlot(                        \"de9ce66e-e6ef-4807-9de6-347769fc7987\",                        [{\"alignmentgroup\":\"True\",\"hovertemplate\":\"group=Family<br>location.name=%{x}<br>person.age=%{y}<extra></extra>\",\"legendgroup\":\"Family\",\"marker\":{\"color\":\"#636efa\",\"pattern\":{\"shape\":\"\"}},\"name\":\"Family\",\"offsetgroup\":\"Family\",\"orientation\":\"v\",\"showlegend\":true,\"textposition\":\"auto\",\"type\":\"bar\",\"x\":[\"Chicago\",\"Cape Coral\",\"New York City\",\"New Orleans\",\"New York City\",\"Chicago\",\"Washington\",\"Rome\",\"Chico\",\"Honolulu\",\"New York City\",\"Sebring\",\"Pensacola\",\"Jacksonville\",\"Phoenix\",\"New Bern\",\"Boise\",\"Las Vegas\",\"Oklahoma City\",\"Chattanooga\",\"Phoenix\",\"New York City\",\"Orlando\",\"Cheyenne\",\"Decatur\",\"Spokane\",\"Albuquerque\",\"Bangor\",\"Greenville\",\"Mansfield\",\"Atlanta\",\"Washington\",\"Bellingham\",\"Albuquerque\",\"Beaumont\",\"San Angelo\",\"Philadelphia\",\"Miami\",\"Las Vegas\",\"Nashville\",\"Homosassa Springs\",\"Philadelphia\",\"Miami\",\"Rockford\",\"Bloomington\",\"Florence\",\"Orlando\",\"Bismarck\",\"Washington\",\"Birmingham\",\"Phoenix\",\"New York City\",\"Chicago\",\"Portland\",\"Johnson City\",\"Panama City\",\"Chicago\",\"Chicago\",\"Florence\",\"Cumberland\",\"Visalia\",\"Honolulu\",\"Honolulu\",\"Miami\",\"Albany\",\"Cleveland\",\"New York City\",\"Crestview\",\"Phoenix\",\"Myrtle Beach\",\"Honolulu\",\"Jacksonville\",\"San Diego\",\"Dallas\",\"Baton Rouge\",\"Chicago\",\"State College\",\"Atlanta\",\"Utica\",\"Cleveland\",\"San Diego\",\"Jacksonville\",\"Las Vegas\",\"Tampa\",\"Minneapolis\",\"Raleigh\",\"Austin\",\"Modesto\",\"Anchorage\",\"New Orleans\",\"Washington\",\"Sheboygan\",\"Chico\",\"Orlando\",\"Virginia Beach\",\"Nashville\",\"Amarillo\",\"Corpus Christi\",\"San Antonio\",\"Salisbury\",\"Anchorage\",\"Madison\",\"Honolulu\",\"Chicago\",\"Honolulu\",\"Albany\",\"Grand Forks\",\"Atlanta\",\"Lake Charles\",\"Fargo\",\"Miami\",\"Chicago\",\"Altoona\",\"Houma\",\"Seattle\",\"Las Vegas\",\"Dallas\",\"Victoria\",\"Valdosta\",\"Great Falls\",\"Columbus\",\"New Orleans\",\"Hickory\",\"Rochester\",\"Baton Rouge\",\"Philadelphia\",\"Chicago\",\"Chico\",\"Hartford\",\"Birmingham\",\"Chicago\",\"Austin\",\"Rochester\",\"New York City\",\"San Diego\",\"Kahului\",\"Salisbury\",\"Chicago\",\"Ocala\",\"Boston\",\"Little Rock\",\"Albany\",\"Chattanooga\",\"Reno\",\"Grand Junction\",\"Abilene\",\"Myrtle Beach\",\"Charlotte\",\"New Orleans\",\"Austin\",\"Brunswick\",\"Springfield\",\"Las Vegas\",\"Fond du Lac\",\"Lansing\",\"Great Falls\",\"Macon\",\"Asheville\",\"Syracuse\",\"Anchorage\",\"Dallas\",\"Orlando\",\"New York City\",\"Reno\",\"Boise\",\"Honolulu\",\"Atlanta\",\"Tallahassee\",\"Bloomington\",\"Cincinnati\",\"Sheboygan\",\"Denver\",\"New York City\",\"Chicago\",\"New Orleans\",\"Las Vegas\",\"Logan\",\"Lynchburg\",\"Las Vegas\",\"Las Vegas\",\"New York City\",\"Miami\",\"Beaumont\",\"Memphis\",\"Chicago\",\"Binghamton\",\"Billings\",\"Madison\",\"Jacksonville\",\"Lawton\",\"La Crosse\",\"Elmira\",\"San Antonio\",\"Washington\",\"Wausau\",\"Albuquerque\",\"Wilmington\",\"McAllen\",\"New York City\",\"Albany\",\"New Orleans\",\"Miami\",\"Las Vegas\",\"Bakersfield\",\"Duluth\",\"San Diego\",\"Anchorage\",\"Flagstaff\",\"Jonesboro\",\"Boston\",\"New York City\",\"Washington\",\"San Diego\",\"Sacramento\",\"Palm Bay\",\"Louisville\",\"Longview\",\"Sebring\",\"Columbia\",\"Boston\",\"Pittsburgh\",\"Austin\",\"Atlanta\",\"Harrisburg\",\"Dallas\",\"Washington\",\"Austin\",\"New Bern\",\"Modesto\",\"Houma\",\"Manhattan\",\"Myrtle Beach\",\"Cleveland\",\"Tuscaloosa\",\"New Bern\",\"Corpus Christi\",\"San Diego\",\"Wausau\",\"Salt Lake City\",\"Salinas\",\"Birmingham\",\"Decatur\",\"Tuscaloosa\",\"Cincinnati\",\"Jacksonville\",\"Grand Junction\",\"Memphis\",\"Indianapolis\",\"Altoona\",\"New Orleans\",\"Denver\",\"Anchorage\",\"Lansing\",\"Florence\",\"Houma\",\"Bangor\",\"Fargo\",\"Duluth\",\"Waco\",\"Philadelphia\",\"La Crosse\",\"Mansfield\",\"Bangor\"],\"xaxis\":\"x\",\"y\":[23,23,66,66,32,30,30,67,67,33,29,30,30,34,22,22,46,46,35,35,27,23,33,24,26,26,24,35,35,32,40,40,50,50,54,27,27,33,33,28,28,33,33,23,27,57,35,35,56,24,45,46,27,28,43,27,24,39,39,31,31,40,35,35,33,33,63,62,24,40,40,25,19,24,24,40,40,24,24,43,43,24,34,33,26,29,29,19,42,42,43,43,28,31,31,68,68,28,28,24,24,38,42,56,31,35,24,23,41,27,27,31,31,48,48,24,25,25,20,27,27,34,34,29,29,44,44,19,24,30,34,34,28,28,30,30,33,28,35,33,24,63,26,24,52,52,39,35,21,31,28,28,41,41,24,24,27,27,53,53,32,32,43,43,55,23,39,59,59,37,10,22,42,42,56,56,33,33,33,52,52,26,33,23,23,34,37,34,24,67,67,35,35,37,24,32,35,35,34,18,39,28,34,37,21,24,51,51,40,43,59,59,30,23,23,24,24,24,24,24,24,39,\"30\",35,24,48,48,29,34,34,34,30,30,30,36,36,36,28,28,28,21,29,35,28,26,26,26,26,29,29,29,24,26,28,37,37,37,29,29,29,26,26,26],\"yaxis\":\"y\"},{\"alignmentgroup\":\"True\",\"hovertemplate\":\"group=Alone<br>location.name=%{x}<br>person.age=%{y}<extra></extra>\",\"legendgroup\":\"Alone\",\"marker\":{\"color\":\"#EF553B\",\"pattern\":{\"shape\":\"\"}},\"name\":\"Alone\",\"offsetgroup\":\"Alone\",\"orientation\":\"v\",\"showlegend\":true,\"textposition\":\"auto\",\"type\":\"bar\",\"x\":[\"Orlando\",\"Tulsa\",\"New York City\",\"Visalia\",\"New York City\",\"Wilmington\",\"Albany\",\"Tuscaloosa\",\"Chattanooga\",\"Las Vegas\",\"Orlando\",\"Washington\",\"Great Falls\",\"Pueblo\",\"Denver\",\"Killeen\",\"Grand Island\",\"Beckley\",\"Salinas\",\"San Diego\",\"New York City\",\"Denver\",\"Wichita\",\"Kennewick\",\"Farmington\",\"Bakersfield\",\"St. Louis\",\"Sebring\",\"Lexington\",\"Lake Charles\",\"Salt Lake City\",\"Albuquerque\",\"Denver\",\"New York City\",\"Champaign\",\"New York City\",\"Columbia\",\"Bakersfield\",\"Savannah\",\"Lansing\",\"Boise\",\"Longview\",\"Savannah\",\"Anchorage\",\"Wichita\",\"Jonesboro\",\"Clarksville\"],\"xaxis\":\"x\",\"y\":[32,25,25,24,24,24,25,51,31,46,46,43,29,29,28,28,22,22,30,20,20,37,37,52,52,22,26,31,35,25,25,43,43,59,59,32,30,30,30,30,30,34,34,34,\"30\",28,\"30\"],\"yaxis\":\"y\"},{\"alignmentgroup\":\"True\",\"hovertemplate\":\"group=Friends<br>location.name=%{x}<br>person.age=%{y}<extra></extra>\",\"legendgroup\":\"Friends\",\"marker\":{\"color\":\"#00cc96\",\"pattern\":{\"shape\":\"\"}},\"name\":\"Friends\",\"offsetgroup\":\"Friends\",\"orientation\":\"v\",\"showlegend\":true,\"textposition\":\"auto\",\"type\":\"bar\",\"x\":[\"San Antonio\",\"Tucson\",\"Pittsfield\",\"Cleveland\",\"Lawton\",\"Augusta\",\"Panama City\",\"Tulsa\",\"Austin\",\"Baton Rouge\",\"New York City\",\"Waco\",\"Anchorage\",\"Virginia Beach\",\"Austin\",\"New York City\",\"Albany\",\"Appleton\",\"Chicago\",\"Minneapolis\",\"Prescott\",\"Corpus Christi\",\"Sebring\",\"Kennewick\",\"Las Vegas\",\"Mobile\",\"Atlanta\",\"Milwaukee\",\"Medford\",\"Visalia\",\"Austin\",\"Chicago\",\"Crestview\",\"Alexandria\",\"Augusta\",\"Mobile\",\"San Angelo\",\"Atlanta\",\"Orlando\",\"Cape Coral\",\"Spokane\",\"Rochester\",\"Denver\",\"Carbondale\",\"Nashville\",\"Portland\",\"Hot Springs\",\"Nashville\",\"Lexington\",\"Austin\",\"Orlando\",\"San Diego\",\"New York City\",\"Albuquerque\",\"Albany\",\"New Orleans\",\"Des Moines\",\"New York City\",\"Cumberland\",\"Wichita\",\"Indianapolis\",\"Las Vegas\",\"New York City\",\"Chico\",\"Anchorage\",\"Wilmington\",\"Bismarck\",\"San Diego\",\"Baton Rouge\",\"Clarksville\",\"San Antonio\",\"Spokane\",\"Las Vegas\",\"Birmingham\",\"Davenport\",\"Savannah\",\"Chicago\",\"Nashville\",\"Bowling Green\",\"South Bend\",\"Tallahassee\",\"State College\",\"Philadelphia\",\"Manhattan\",\"Topeka\",\"Colorado Springs\",\"Atlanta\",\"Lakeland\",\"Grand Island\",\"Portland\",\"New York City\",\"Cedar Rapids\",\"Portland\",\"New York City\",\"Chicago\",\"Shreveport\",\"Killeen\",\"New York City\",\"Florence\",\"Missoula\",\"Reno\",\"Colorado Springs\",\"Appleton\",\"Rockford\",\"Austin\",\"Beaumont\",\"New Orleans\",\"Portland\",\"Houma\",\"Lafayette\",\"San Diego\",\"Austin\",\"Chattanooga\",\"McAllen\",\"Lexington\",\"Wichita\",\"Jonesboro\",\"Clarksville\",\"Longview\",\"Bismarck\",\"Corpus Christi\",\"Sebring\",\"Hickory\",\"Champaign\",\"Clarksville\",\"Waco\",\"Wausau\",\"State College\",\"Altoona\",\"Albuquerque\",\"New Orleans\",\"Missoula\",\"Waco\",\"Jacksonville\",\"Bellingham\",\"Denver\",\"Alexandria\",\"Bloomington\",\"Jonesboro\",\"Rome\",\"Lansing\",\"Cedar Rapids\",\"New Bern\",\"Columbia\",\"Milwaukee\",\"Florence\",\"Prescott\",\"Cedar Rapids\",\"Greenville\",\"Crestview\",\"Wausau\",\"Boston\",\"Longview\",\"Las Vegas\",\"State College\",\"Lawton\",\"Anchorage\",\"Hickory\",\"San Diego\",\"Hot Springs\",\"Shreveport\",\"Las Vegas\",\"McAllen\",\"Lake Charles\",\"San Diego\",\"Cincinnati\",\"Billings\",\"Pueblo\",\"Salt Lake City\",\"Chattanooga\",\"McAllen\",\"Lexington\"],\"xaxis\":\"x\",\"y\":[34,34,29,25,25,37,37,24,27,27,24,33,24,24,51,56,28,28,11,42,57,24,28,63,31,25,25,23,33,31,39,23,23,23,24,25,25,22,26,25,25,47,28,27,38,29,42,30,30,32,25,47,23,29,29,23,23,24,28,24,24,24,24,33,22,30,30,18,22,50,50,23,23,26,26,25,25,31,31,57,35,42,42,24,24,24,24,26,33,25,25,24,44,44,37,35,35,31,31,34,18,31,31,22,22,30,20,46,46,28,34,34,30,30,30,39,39,39,41,41,41,36,36,36,21,21,21,35,35,28,28,28,28,28,28,28,28,28,28,28,33,33,33,28,28,28,37,37,37,28,28,28,28,28,28,25,25,25,25,25,28,28,28,28,28,28,\"50\",\"50\",\"50\",\"47\",\"47\",\"47\"],\"yaxis\":\"y\"},{\"alignmentgroup\":\"True\",\"hovertemplate\":\"group=Other<br>location.name=%{x}<br>person.age=%{y}<extra></extra>\",\"legendgroup\":\"Other\",\"marker\":{\"color\":\"#ab63fa\",\"pattern\":{\"shape\":\"\"}},\"name\":\"Other\",\"offsetgroup\":\"Other\",\"orientation\":\"v\",\"showlegend\":true,\"textposition\":\"auto\",\"type\":\"bar\",\"x\":[\"Cumberland\",\"Austin\",\"Waco\",\"Austin\",\"Jacksonville\",\"Columbia\",\"Jacksonville\",\"Rochester\",\"Topeka\"],\"xaxis\":\"x\",\"y\":[24,29,29,28,28,28,30,30,30],\"yaxis\":\"y\"}],                        {\"barmode\":\"relative\",\"legend\":{\"title\":{\"text\":\"group\"},\"tracegroupgap\":0},\"template\":{\"data\":{\"bar\":[{\"error_x\":{\"color\":\"#2a3f5f\"},\"error_y\":{\"color\":\"#2a3f5f\"},\"marker\":{\"line\":{\"color\":\"#E5ECF6\",\"width\":0.5},\"pattern\":{\"fillmode\":\"overlay\",\"size\":10,\"solidity\":0.2}},\"type\":\"bar\"}],\"barpolar\":[{\"marker\":{\"line\":{\"color\":\"#E5ECF6\",\"width\":0.5},\"pattern\":{\"fillmode\":\"overlay\",\"size\":10,\"solidity\":0.2}},\"type\":\"barpolar\"}],\"carpet\":[{\"aaxis\":{\"endlinecolor\":\"#2a3f5f\",\"gridcolor\":\"white\",\"linecolor\":\"white\",\"minorgridcolor\":\"white\",\"startlinecolor\":\"#2a3f5f\"},\"baxis\":{\"endlinecolor\":\"#2a3f5f\",\"gridcolor\":\"white\",\"linecolor\":\"white\",\"minorgridcolor\":\"white\",\"startlinecolor\":\"#2a3f5f\"},\"type\":\"carpet\"}],\"choropleth\":[{\"colorbar\":{\"outlinewidth\":0,\"ticks\":\"\"},\"type\":\"choropleth\"}],\"contour\":[{\"colorbar\":{\"outlinewidth\":0,\"ticks\":\"\"},\"colorscale\":[[0.0,\"#0d0887\"],[0.1111111111111111,\"#46039f\"],[0.2222222222222222,\"#7201a8\"],[0.3333333333333333,\"#9c179e\"],[0.4444444444444444,\"#bd3786\"],[0.5555555555555556,\"#d8576b\"],[0.6666666666666666,\"#ed7953\"],[0.7777777777777778,\"#fb9f3a\"],[0.8888888888888888,\"#fdca26\"],[1.0,\"#f0f921\"]],\"type\":\"contour\"}],\"contourcarpet\":[{\"colorbar\":{\"outlinewidth\":0,\"ticks\":\"\"},\"type\":\"contourcarpet\"}],\"heatmap\":[{\"colorbar\":{\"outlinewidth\":0,\"ticks\":\"\"},\"colorscale\":[[0.0,\"#0d0887\"],[0.1111111111111111,\"#46039f\"],[0.2222222222222222,\"#7201a8\"],[0.3333333333333333,\"#9c179e\"],[0.4444444444444444,\"#bd3786\"],[0.5555555555555556,\"#d8576b\"],[0.6666666666666666,\"#ed7953\"],[0.7777777777777778,\"#fb9f3a\"],[0.8888888888888888,\"#fdca26\"],[1.0,\"#f0f921\"]],\"type\":\"heatmap\"}],\"heatmapgl\":[{\"colorbar\":{\"outlinewidth\":0,\"ticks\":\"\"},\"colorscale\":[[0.0,\"#0d0887\"],[0.1111111111111111,\"#46039f\"],[0.2222222222222222,\"#7201a8\"],[0.3333333333333333,\"#9c179e\"],[0.4444444444444444,\"#bd3786\"],[0.5555555555555556,\"#d8576b\"],[0.6666666666666666,\"#ed7953\"],[0.7777777777777778,\"#fb9f3a\"],[0.8888888888888888,\"#fdca26\"],[1.0,\"#f0f921\"]],\"type\":\"heatmapgl\"}],\"histogram\":[{\"marker\":{\"pattern\":{\"fillmode\":\"overlay\",\"size\":10,\"solidity\":0.2}},\"type\":\"histogram\"}],\"histogram2d\":[{\"colorbar\":{\"outlinewidth\":0,\"ticks\":\"\"},\"colorscale\":[[0.0,\"#0d0887\"],[0.1111111111111111,\"#46039f\"],[0.2222222222222222,\"#7201a8\"],[0.3333333333333333,\"#9c179e\"],[0.4444444444444444,\"#bd3786\"],[0.5555555555555556,\"#d8576b\"],[0.6666666666666666,\"#ed7953\"],[0.7777777777777778,\"#fb9f3a\"],[0.8888888888888888,\"#fdca26\"],[1.0,\"#f0f921\"]],\"type\":\"histogram2d\"}],\"histogram2dcontour\":[{\"colorbar\":{\"outlinewidth\":0,\"ticks\":\"\"},\"colorscale\":[[0.0,\"#0d0887\"],[0.1111111111111111,\"#46039f\"],[0.2222222222222222,\"#7201a8\"],[0.3333333333333333,\"#9c179e\"],[0.4444444444444444,\"#bd3786\"],[0.5555555555555556,\"#d8576b\"],[0.6666666666666666,\"#ed7953\"],[0.7777777777777778,\"#fb9f3a\"],[0.8888888888888888,\"#fdca26\"],[1.0,\"#f0f921\"]],\"type\":\"histogram2dcontour\"}],\"mesh3d\":[{\"colorbar\":{\"outlinewidth\":0,\"ticks\":\"\"},\"type\":\"mesh3d\"}],\"parcoords\":[{\"line\":{\"colorbar\":{\"outlinewidth\":0,\"ticks\":\"\"}},\"type\":\"parcoords\"}],\"pie\":[{\"automargin\":true,\"type\":\"pie\"}],\"scatter\":[{\"marker\":{\"colorbar\":{\"outlinewidth\":0,\"ticks\":\"\"}},\"type\":\"scatter\"}],\"scatter3d\":[{\"line\":{\"colorbar\":{\"outlinewidth\":0,\"ticks\":\"\"}},\"marker\":{\"colorbar\":{\"outlinewidth\":0,\"ticks\":\"\"}},\"type\":\"scatter3d\"}],\"scattercarpet\":[{\"marker\":{\"colorbar\":{\"outlinewidth\":0,\"ticks\":\"\"}},\"type\":\"scattercarpet\"}],\"scattergeo\":[{\"marker\":{\"colorbar\":{\"outlinewidth\":0,\"ticks\":\"\"}},\"type\":\"scattergeo\"}],\"scattergl\":[{\"marker\":{\"colorbar\":{\"outlinewidth\":0,\"ticks\":\"\"}},\"type\":\"scattergl\"}],\"scattermapbox\":[{\"marker\":{\"colorbar\":{\"outlinewidth\":0,\"ticks\":\"\"}},\"type\":\"scattermapbox\"}],\"scatterpolar\":[{\"marker\":{\"colorbar\":{\"outlinewidth\":0,\"ticks\":\"\"}},\"type\":\"scatterpolar\"}],\"scatterpolargl\":[{\"marker\":{\"colorbar\":{\"outlinewidth\":0,\"ticks\":\"\"}},\"type\":\"scatterpolargl\"}],\"scatterternary\":[{\"marker\":{\"colorbar\":{\"outlinewidth\":0,\"ticks\":\"\"}},\"type\":\"scatterternary\"}],\"surface\":[{\"colorbar\":{\"outlinewidth\":0,\"ticks\":\"\"},\"colorscale\":[[0.0,\"#0d0887\"],[0.1111111111111111,\"#46039f\"],[0.2222222222222222,\"#7201a8\"],[0.3333333333333333,\"#9c179e\"],[0.4444444444444444,\"#bd3786\"],[0.5555555555555556,\"#d8576b\"],[0.6666666666666666,\"#ed7953\"],[0.7777777777777778,\"#fb9f3a\"],[0.8888888888888888,\"#fdca26\"],[1.0,\"#f0f921\"]],\"type\":\"surface\"}],\"table\":[{\"cells\":{\"fill\":{\"color\":\"#EBF0F8\"},\"line\":{\"color\":\"white\"}},\"header\":{\"fill\":{\"color\":\"#C8D4E3\"},\"line\":{\"color\":\"white\"}},\"type\":\"table\"}]},\"layout\":{\"annotationdefaults\":{\"arrowcolor\":\"#2a3f5f\",\"arrowhead\":0,\"arrowwidth\":1},\"autotypenumbers\":\"strict\",\"coloraxis\":{\"colorbar\":{\"outlinewidth\":0,\"ticks\":\"\"}},\"colorscale\":{\"diverging\":[[0,\"#8e0152\"],[0.1,\"#c51b7d\"],[0.2,\"#de77ae\"],[0.3,\"#f1b6da\"],[0.4,\"#fde0ef\"],[0.5,\"#f7f7f7\"],[0.6,\"#e6f5d0\"],[0.7,\"#b8e186\"],[0.8,\"#7fbc41\"],[0.9,\"#4d9221\"],[1,\"#276419\"]],\"sequential\":[[0.0,\"#0d0887\"],[0.1111111111111111,\"#46039f\"],[0.2222222222222222,\"#7201a8\"],[0.3333333333333333,\"#9c179e\"],[0.4444444444444444,\"#bd3786\"],[0.5555555555555556,\"#d8576b\"],[0.6666666666666666,\"#ed7953\"],[0.7777777777777778,\"#fb9f3a\"],[0.8888888888888888,\"#fdca26\"],[1.0,\"#f0f921\"]],\"sequentialminus\":[[0.0,\"#0d0887\"],[0.1111111111111111,\"#46039f\"],[0.2222222222222222,\"#7201a8\"],[0.3333333333333333,\"#9c179e\"],[0.4444444444444444,\"#bd3786\"],[0.5555555555555556,\"#d8576b\"],[0.6666666666666666,\"#ed7953\"],[0.7777777777777778,\"#fb9f3a\"],[0.8888888888888888,\"#fdca26\"],[1.0,\"#f0f921\"]]},\"colorway\":[\"#636efa\",\"#EF553B\",\"#00cc96\",\"#ab63fa\",\"#FFA15A\",\"#19d3f3\",\"#FF6692\",\"#B6E880\",\"#FF97FF\",\"#FECB52\"],\"font\":{\"color\":\"#2a3f5f\"},\"geo\":{\"bgcolor\":\"white\",\"lakecolor\":\"white\",\"landcolor\":\"#E5ECF6\",\"showlakes\":true,\"showland\":true,\"subunitcolor\":\"white\"},\"hoverlabel\":{\"align\":\"left\"},\"hovermode\":\"closest\",\"mapbox\":{\"style\":\"light\"},\"paper_bgcolor\":\"white\",\"plot_bgcolor\":\"#E5ECF6\",\"polar\":{\"angularaxis\":{\"gridcolor\":\"white\",\"linecolor\":\"white\",\"ticks\":\"\"},\"bgcolor\":\"#E5ECF6\",\"radialaxis\":{\"gridcolor\":\"white\",\"linecolor\":\"white\",\"ticks\":\"\"}},\"scene\":{\"xaxis\":{\"backgroundcolor\":\"#E5ECF6\",\"gridcolor\":\"white\",\"gridwidth\":2,\"linecolor\":\"white\",\"showbackground\":true,\"ticks\":\"\",\"zerolinecolor\":\"white\"},\"yaxis\":{\"backgroundcolor\":\"#E5ECF6\",\"gridcolor\":\"white\",\"gridwidth\":2,\"linecolor\":\"white\",\"showbackground\":true,\"ticks\":\"\",\"zerolinecolor\":\"white\"},\"zaxis\":{\"backgroundcolor\":\"#E5ECF6\",\"gridcolor\":\"white\",\"gridwidth\":2,\"linecolor\":\"white\",\"showbackground\":true,\"ticks\":\"\",\"zerolinecolor\":\"white\"}},\"shapedefaults\":{\"line\":{\"color\":\"#2a3f5f\"}},\"ternary\":{\"aaxis\":{\"gridcolor\":\"white\",\"linecolor\":\"white\",\"ticks\":\"\"},\"baxis\":{\"gridcolor\":\"white\",\"linecolor\":\"white\",\"ticks\":\"\"},\"bgcolor\":\"#E5ECF6\",\"caxis\":{\"gridcolor\":\"white\",\"linecolor\":\"white\",\"ticks\":\"\"}},\"title\":{\"x\":0.05},\"xaxis\":{\"automargin\":true,\"gridcolor\":\"white\",\"linecolor\":\"white\",\"ticks\":\"\",\"title\":{\"standoff\":15},\"zerolinecolor\":\"white\",\"zerolinewidth\":2},\"yaxis\":{\"automargin\":true,\"gridcolor\":\"white\",\"linecolor\":\"white\",\"ticks\":\"\",\"title\":{\"standoff\":15},\"zerolinecolor\":\"white\",\"zerolinewidth\":2}}},\"title\":{\"text\":\"Long-Form Input\"},\"xaxis\":{\"anchor\":\"y\",\"domain\":[0.0,1.0],\"title\":{\"text\":\"location.name\"}},\"yaxis\":{\"anchor\":\"x\",\"domain\":[0.0,1.0],\"title\":{\"text\":\"person.age\"}}},                        {\"responsive\": true}                    ).then(function(){\n",
       "                            \n",
       "var gd = document.getElementById('de9ce66e-e6ef-4807-9de6-347769fc7987');\n",
       "var x = new MutationObserver(function (mutations, observer) {{\n",
       "        var display = window.getComputedStyle(gd).display;\n",
       "        if (!display || display === 'none') {{\n",
       "            console.log([gd, 'removed!']);\n",
       "            Plotly.purge(gd);\n",
       "            observer.disconnect();\n",
       "        }}\n",
       "}});\n",
       "\n",
       "// Listen for the removal of the full notebook cells\n",
       "var notebookContainer = gd.closest('#notebook-container');\n",
       "if (notebookContainer) {{\n",
       "    x.observe(notebookContainer, {childList: true});\n",
       "}}\n",
       "\n",
       "// Listen for the clearing of the current output cell\n",
       "var outputEl = gd.closest('.output');\n",
       "if (outputEl) {{\n",
       "    x.observe(outputEl, {childList: true});\n",
       "}}\n",
       "\n",
       "                        })                };                });            </script>        </div>"
      ]
     },
     "metadata": {},
     "output_type": "display_data"
    }
   ],
   "source": [
    "import plotly.express as px\n",
    "\n",
    "long_df = px.data.medals_long()\n",
    "\n",
    "fig = px.bar(phase1_df, x=\"location.name\", y=\"person.age\", color=\"group\", title=\"Long-Form Input\")\n",
    "fig.show()"
   ]
  },
  {
   "cell_type": "code",
   "execution_count": 155,
   "metadata": {},
   "outputs": [
    {
     "data": {
      "application/vnd.plotly.v1+json": {
       "config": {
        "plotlyServerURL": "https://plot.ly"
       },
       "data": [
        {
         "alignmentgroup": "True",
         "hovertemplate": "group=Family<br>location.name=%{x}<br>count=%{y}<extra></extra>",
         "legendgroup": "Family",
         "marker": {
          "color": "#636efa",
          "pattern": {
           "shape": ""
          }
         },
         "name": "Family",
         "offsetgroup": "Family",
         "orientation": "v",
         "showlegend": true,
         "textposition": "auto",
         "type": "bar",
         "x": [
          "Chicago",
          "Cape Coral",
          "New York City",
          "New Orleans",
          "New York City",
          "Chicago",
          "Washington",
          "Rome",
          "Chico",
          "Honolulu",
          "New York City",
          "Sebring",
          "Pensacola",
          "Jacksonville",
          "Phoenix",
          "New Bern",
          "Boise",
          "Las Vegas",
          "Oklahoma City",
          "Chattanooga",
          "Phoenix",
          "New York City",
          "Orlando",
          "Cheyenne",
          "Decatur",
          "Spokane",
          "Albuquerque",
          "Bangor",
          "Greenville",
          "Mansfield",
          "Atlanta",
          "Washington",
          "Bellingham",
          "Albuquerque",
          "Beaumont",
          "San Angelo",
          "Philadelphia",
          "Miami",
          "Las Vegas",
          "Nashville",
          "Homosassa Springs",
          "Philadelphia",
          "Miami",
          "Rockford",
          "Bloomington",
          "Florence",
          "Orlando",
          "Bismarck",
          "Washington",
          "Birmingham",
          "Phoenix",
          "New York City",
          "Chicago",
          "Portland",
          "Johnson City",
          "Panama City",
          "Chicago",
          "Chicago",
          "Florence",
          "Cumberland",
          "Visalia",
          "Honolulu",
          "Honolulu",
          "Miami",
          "Albany",
          "Cleveland",
          "New York City",
          "Crestview",
          "Phoenix",
          "Myrtle Beach",
          "Honolulu",
          "Jacksonville",
          "San Diego",
          "Dallas",
          "Baton Rouge",
          "Chicago",
          "State College",
          "Atlanta",
          "Utica",
          "Cleveland",
          "San Diego",
          "Jacksonville",
          "Las Vegas",
          "Tampa",
          "Minneapolis",
          "Raleigh",
          "Austin",
          "Modesto",
          "Anchorage",
          "New Orleans",
          "Washington",
          "Sheboygan",
          "Chico",
          "Orlando",
          "Virginia Beach",
          "Nashville",
          "Amarillo",
          "Corpus Christi",
          "San Antonio",
          "Salisbury",
          "Anchorage",
          "Madison",
          "Honolulu",
          "Chicago",
          "Honolulu",
          "Albany",
          "Grand Forks",
          "Atlanta",
          "Lake Charles",
          "Fargo",
          "Miami",
          "Chicago",
          "Altoona",
          "Houma",
          "Seattle",
          "Las Vegas",
          "Dallas",
          "Victoria",
          "Valdosta",
          "Great Falls",
          "Columbus",
          "New Orleans",
          "Hickory",
          "Rochester",
          "Baton Rouge",
          "Philadelphia",
          "Chicago",
          "Chico",
          "Hartford",
          "Birmingham",
          "Chicago",
          "Austin",
          "Rochester",
          "New York City",
          "San Diego",
          "Kahului",
          "Salisbury",
          "Chicago",
          "Ocala",
          "Boston",
          "Little Rock",
          "Albany",
          "Chattanooga",
          "Reno",
          "Grand Junction",
          "Abilene",
          "Myrtle Beach",
          "Charlotte",
          "New Orleans",
          "Austin",
          "Brunswick",
          "Springfield",
          "Las Vegas",
          "Fond du Lac",
          "Lansing",
          "Great Falls",
          "Macon",
          "Asheville",
          "Syracuse",
          "Anchorage",
          "Dallas",
          "Orlando",
          "New York City",
          "Reno",
          "Boise",
          "Honolulu",
          "Atlanta",
          "Tallahassee",
          "Bloomington",
          "Cincinnati",
          "Sheboygan",
          "Denver",
          "New York City",
          "Chicago",
          "New Orleans",
          "Las Vegas",
          "Logan",
          "Lynchburg",
          "Las Vegas",
          "Las Vegas",
          "New York City",
          "Miami",
          "Beaumont",
          "Memphis",
          "Chicago",
          "Binghamton",
          "Billings",
          "Madison",
          "Jacksonville",
          "Lawton",
          "La Crosse",
          "Elmira",
          "San Antonio",
          "Washington",
          "Wausau",
          "Albuquerque",
          "Wilmington",
          "McAllen",
          "New York City",
          "Albany",
          "New Orleans",
          "Miami",
          "Las Vegas",
          "Bakersfield",
          "Duluth",
          "San Diego",
          "Anchorage",
          "Flagstaff",
          "Jonesboro",
          "Boston",
          "New York City",
          "Washington",
          "San Diego",
          "Sacramento",
          "Palm Bay",
          "Louisville",
          "Longview",
          "Sebring",
          "Columbia",
          "Boston",
          "Pittsburgh",
          "Austin",
          "Atlanta",
          "Harrisburg",
          "Dallas",
          "Washington",
          "Austin",
          "New Bern",
          "Modesto",
          "Houma",
          "Manhattan",
          "Myrtle Beach",
          "Cleveland",
          "Tuscaloosa",
          "New Bern",
          "Corpus Christi",
          "San Diego",
          "Wausau",
          "Salt Lake City",
          "Salinas",
          "Birmingham",
          "Decatur",
          "Tuscaloosa",
          "Cincinnati",
          "Jacksonville",
          "Grand Junction",
          "Memphis",
          "Indianapolis",
          "Altoona",
          "New Orleans",
          "Denver",
          "Anchorage",
          "Lansing",
          "Florence",
          "Houma",
          "Bangor",
          "Fargo",
          "Duluth",
          "Waco",
          "Philadelphia",
          "La Crosse",
          "Mansfield",
          "Bangor"
         ],
         "xaxis": "x",
         "y": [
          1,
          1,
          1,
          1,
          1,
          1,
          1,
          1,
          1,
          1,
          1,
          1,
          1,
          1,
          1,
          1,
          1,
          1,
          1,
          1,
          1,
          1,
          1,
          1,
          1,
          1,
          1,
          1,
          1,
          1,
          1,
          1,
          1,
          1,
          1,
          1,
          1,
          1,
          1,
          1,
          1,
          1,
          1,
          1,
          1,
          1,
          1,
          1,
          1,
          1,
          1,
          1,
          1,
          1,
          1,
          1,
          1,
          1,
          1,
          1,
          1,
          1,
          1,
          1,
          1,
          1,
          1,
          1,
          1,
          1,
          1,
          1,
          1,
          1,
          1,
          1,
          1,
          1,
          1,
          1,
          1,
          1,
          1,
          1,
          1,
          1,
          1,
          1,
          1,
          1,
          1,
          1,
          1,
          1,
          1,
          1,
          1,
          1,
          1,
          1,
          1,
          1,
          1,
          1,
          1,
          1,
          1,
          1,
          1,
          1,
          1,
          1,
          1,
          1,
          1,
          1,
          1,
          1,
          1,
          1,
          1,
          1,
          1,
          1,
          1,
          1,
          1,
          1,
          1,
          1,
          1,
          1,
          1,
          1,
          1,
          1,
          1,
          1,
          1,
          1,
          1,
          1,
          1,
          1,
          1,
          1,
          1,
          1,
          1,
          1,
          1,
          1,
          1,
          1,
          1,
          1,
          1,
          1,
          1,
          1,
          1,
          1,
          1,
          1,
          1,
          1,
          1,
          1,
          1,
          1,
          1,
          1,
          1,
          1,
          1,
          1,
          1,
          1,
          1,
          1,
          1,
          1,
          1,
          1,
          1,
          1,
          1,
          1,
          1,
          1,
          1,
          1,
          1,
          1,
          1,
          1,
          1,
          1,
          1,
          1,
          1,
          1,
          1,
          1,
          1,
          1,
          1,
          1,
          1,
          1,
          1,
          1,
          1,
          1,
          1,
          1,
          1,
          1,
          1,
          1,
          1,
          1,
          1,
          1,
          1,
          1,
          1,
          1,
          1,
          1,
          1,
          1,
          1,
          1,
          1,
          1,
          1,
          1,
          1,
          1,
          1,
          1,
          1,
          1,
          1,
          1,
          1,
          1,
          1,
          1,
          1,
          1,
          1,
          1,
          1,
          1,
          1,
          1,
          1,
          1,
          1,
          1,
          1
         ],
         "yaxis": "y"
        },
        {
         "alignmentgroup": "True",
         "hovertemplate": "group=Alone<br>location.name=%{x}<br>count=%{y}<extra></extra>",
         "legendgroup": "Alone",
         "marker": {
          "color": "#EF553B",
          "pattern": {
           "shape": ""
          }
         },
         "name": "Alone",
         "offsetgroup": "Alone",
         "orientation": "v",
         "showlegend": true,
         "textposition": "auto",
         "type": "bar",
         "x": [
          "Orlando",
          "Tulsa",
          "New York City",
          "Visalia",
          "New York City",
          "Wilmington",
          "Albany",
          "Tuscaloosa",
          "Chattanooga",
          "Las Vegas",
          "Orlando",
          "Washington",
          "Great Falls",
          "Pueblo",
          "Denver",
          "Killeen",
          "Grand Island",
          "Beckley",
          "Salinas",
          "San Diego",
          "New York City",
          "Denver",
          "Wichita",
          "Kennewick",
          "Farmington",
          "Bakersfield",
          "St. Louis",
          "Sebring",
          "Lexington",
          "Lake Charles",
          "Salt Lake City",
          "Albuquerque",
          "Denver",
          "New York City",
          "Champaign",
          "New York City",
          "Columbia",
          "Bakersfield",
          "Savannah",
          "Lansing",
          "Boise",
          "Longview",
          "Savannah",
          "Anchorage",
          "Wichita",
          "Jonesboro",
          "Clarksville"
         ],
         "xaxis": "x",
         "y": [
          1,
          1,
          1,
          1,
          1,
          1,
          1,
          1,
          1,
          1,
          1,
          1,
          1,
          1,
          1,
          1,
          1,
          1,
          1,
          1,
          1,
          1,
          1,
          1,
          1,
          1,
          1,
          1,
          1,
          1,
          1,
          1,
          1,
          1,
          1,
          1,
          1,
          1,
          1,
          1,
          1,
          1,
          1,
          1,
          1,
          1,
          1
         ],
         "yaxis": "y"
        },
        {
         "alignmentgroup": "True",
         "hovertemplate": "group=Friends<br>location.name=%{x}<br>count=%{y}<extra></extra>",
         "legendgroup": "Friends",
         "marker": {
          "color": "#00cc96",
          "pattern": {
           "shape": ""
          }
         },
         "name": "Friends",
         "offsetgroup": "Friends",
         "orientation": "v",
         "showlegend": true,
         "textposition": "auto",
         "type": "bar",
         "x": [
          "San Antonio",
          "Tucson",
          "Pittsfield",
          "Cleveland",
          "Lawton",
          "Augusta",
          "Panama City",
          "Tulsa",
          "Austin",
          "Baton Rouge",
          "New York City",
          "Waco",
          "Anchorage",
          "Virginia Beach",
          "Austin",
          "New York City",
          "Albany",
          "Appleton",
          "Chicago",
          "Minneapolis",
          "Prescott",
          "Corpus Christi",
          "Sebring",
          "Kennewick",
          "Las Vegas",
          "Mobile",
          "Atlanta",
          "Milwaukee",
          "Medford",
          "Visalia",
          "Austin",
          "Chicago",
          "Crestview",
          "Alexandria",
          "Augusta",
          "Mobile",
          "San Angelo",
          "Atlanta",
          "Orlando",
          "Cape Coral",
          "Spokane",
          "Rochester",
          "Denver",
          "Carbondale",
          "Nashville",
          "Portland",
          "Hot Springs",
          "Nashville",
          "Lexington",
          "Austin",
          "Orlando",
          "San Diego",
          "New York City",
          "Albuquerque",
          "Albany",
          "New Orleans",
          "Des Moines",
          "New York City",
          "Cumberland",
          "Wichita",
          "Indianapolis",
          "Las Vegas",
          "New York City",
          "Chico",
          "Anchorage",
          "Wilmington",
          "Bismarck",
          "San Diego",
          "Baton Rouge",
          "Clarksville",
          "San Antonio",
          "Spokane",
          "Las Vegas",
          "Birmingham",
          "Davenport",
          "Savannah",
          "Chicago",
          "Nashville",
          "Bowling Green",
          "South Bend",
          "Tallahassee",
          "State College",
          "Philadelphia",
          "Manhattan",
          "Topeka",
          "Colorado Springs",
          "Atlanta",
          "Lakeland",
          "Grand Island",
          "Portland",
          "New York City",
          "Cedar Rapids",
          "Portland",
          "New York City",
          "Chicago",
          "Shreveport",
          "Killeen",
          "New York City",
          "Florence",
          "Missoula",
          "Reno",
          "Colorado Springs",
          "Appleton",
          "Rockford",
          "Austin",
          "Beaumont",
          "New Orleans",
          "Portland",
          "Houma",
          "Lafayette",
          "San Diego",
          "Austin",
          "Chattanooga",
          "McAllen",
          "Lexington",
          "Wichita",
          "Jonesboro",
          "Clarksville",
          "Longview",
          "Bismarck",
          "Corpus Christi",
          "Sebring",
          "Hickory",
          "Champaign",
          "Clarksville",
          "Waco",
          "Wausau",
          "State College",
          "Altoona",
          "Albuquerque",
          "New Orleans",
          "Missoula",
          "Waco",
          "Jacksonville",
          "Bellingham",
          "Denver",
          "Alexandria",
          "Bloomington",
          "Jonesboro",
          "Rome",
          "Lansing",
          "Cedar Rapids",
          "New Bern",
          "Columbia",
          "Milwaukee",
          "Florence",
          "Prescott",
          "Cedar Rapids",
          "Greenville",
          "Crestview",
          "Wausau",
          "Boston",
          "Longview",
          "Las Vegas",
          "State College",
          "Lawton",
          "Anchorage",
          "Hickory",
          "San Diego",
          "Hot Springs",
          "Shreveport",
          "Las Vegas",
          "McAllen",
          "Lake Charles",
          "San Diego",
          "Cincinnati",
          "Billings",
          "Pueblo",
          "Salt Lake City",
          "Chattanooga",
          "McAllen",
          "Lexington"
         ],
         "xaxis": "x",
         "y": [
          1,
          1,
          1,
          1,
          1,
          1,
          1,
          1,
          1,
          1,
          1,
          1,
          1,
          1,
          1,
          1,
          1,
          1,
          1,
          1,
          1,
          1,
          1,
          1,
          1,
          1,
          1,
          1,
          1,
          1,
          1,
          1,
          1,
          1,
          1,
          1,
          1,
          1,
          1,
          1,
          1,
          1,
          1,
          1,
          1,
          1,
          1,
          1,
          1,
          1,
          1,
          1,
          1,
          1,
          1,
          1,
          1,
          1,
          1,
          1,
          1,
          1,
          1,
          1,
          1,
          1,
          1,
          1,
          1,
          1,
          1,
          1,
          1,
          1,
          1,
          1,
          1,
          1,
          1,
          1,
          1,
          1,
          1,
          1,
          1,
          1,
          1,
          1,
          1,
          1,
          1,
          1,
          1,
          1,
          1,
          1,
          1,
          1,
          1,
          1,
          1,
          1,
          1,
          1,
          1,
          1,
          1,
          1,
          1,
          1,
          1,
          1,
          1,
          1,
          1,
          1,
          1,
          1,
          1,
          1,
          1,
          1,
          1,
          1,
          1,
          1,
          1,
          1,
          1,
          1,
          1,
          1,
          1,
          1,
          1,
          1,
          1,
          1,
          1,
          1,
          1,
          1,
          1,
          1,
          1,
          1,
          1,
          1,
          1,
          1,
          1,
          1,
          1,
          1,
          1,
          1,
          1,
          1,
          1,
          1,
          1,
          1,
          1,
          1,
          1,
          1,
          1,
          1,
          1,
          1,
          1,
          1
         ],
         "yaxis": "y"
        },
        {
         "alignmentgroup": "True",
         "hovertemplate": "group=Other<br>location.name=%{x}<br>count=%{y}<extra></extra>",
         "legendgroup": "Other",
         "marker": {
          "color": "#ab63fa",
          "pattern": {
           "shape": ""
          }
         },
         "name": "Other",
         "offsetgroup": "Other",
         "orientation": "v",
         "showlegend": true,
         "textposition": "auto",
         "type": "bar",
         "x": [
          "Cumberland",
          "Austin",
          "Waco",
          "Austin",
          "Jacksonville",
          "Columbia",
          "Jacksonville",
          "Rochester",
          "Topeka"
         ],
         "xaxis": "x",
         "y": [
          1,
          1,
          1,
          1,
          1,
          1,
          1,
          1,
          1
         ],
         "yaxis": "y"
        }
       ],
       "layout": {
        "barmode": "relative",
        "legend": {
         "title": {
          "text": "group"
         },
         "tracegroupgap": 0
        },
        "template": {
         "data": {
          "bar": [
           {
            "error_x": {
             "color": "#2a3f5f"
            },
            "error_y": {
             "color": "#2a3f5f"
            },
            "marker": {
             "line": {
              "color": "#E5ECF6",
              "width": 0.5
             },
             "pattern": {
              "fillmode": "overlay",
              "size": 10,
              "solidity": 0.2
             }
            },
            "type": "bar"
           }
          ],
          "barpolar": [
           {
            "marker": {
             "line": {
              "color": "#E5ECF6",
              "width": 0.5
             },
             "pattern": {
              "fillmode": "overlay",
              "size": 10,
              "solidity": 0.2
             }
            },
            "type": "barpolar"
           }
          ],
          "carpet": [
           {
            "aaxis": {
             "endlinecolor": "#2a3f5f",
             "gridcolor": "white",
             "linecolor": "white",
             "minorgridcolor": "white",
             "startlinecolor": "#2a3f5f"
            },
            "baxis": {
             "endlinecolor": "#2a3f5f",
             "gridcolor": "white",
             "linecolor": "white",
             "minorgridcolor": "white",
             "startlinecolor": "#2a3f5f"
            },
            "type": "carpet"
           }
          ],
          "choropleth": [
           {
            "colorbar": {
             "outlinewidth": 0,
             "ticks": ""
            },
            "type": "choropleth"
           }
          ],
          "contour": [
           {
            "colorbar": {
             "outlinewidth": 0,
             "ticks": ""
            },
            "colorscale": [
             [
              0,
              "#0d0887"
             ],
             [
              0.1111111111111111,
              "#46039f"
             ],
             [
              0.2222222222222222,
              "#7201a8"
             ],
             [
              0.3333333333333333,
              "#9c179e"
             ],
             [
              0.4444444444444444,
              "#bd3786"
             ],
             [
              0.5555555555555556,
              "#d8576b"
             ],
             [
              0.6666666666666666,
              "#ed7953"
             ],
             [
              0.7777777777777778,
              "#fb9f3a"
             ],
             [
              0.8888888888888888,
              "#fdca26"
             ],
             [
              1,
              "#f0f921"
             ]
            ],
            "type": "contour"
           }
          ],
          "contourcarpet": [
           {
            "colorbar": {
             "outlinewidth": 0,
             "ticks": ""
            },
            "type": "contourcarpet"
           }
          ],
          "heatmap": [
           {
            "colorbar": {
             "outlinewidth": 0,
             "ticks": ""
            },
            "colorscale": [
             [
              0,
              "#0d0887"
             ],
             [
              0.1111111111111111,
              "#46039f"
             ],
             [
              0.2222222222222222,
              "#7201a8"
             ],
             [
              0.3333333333333333,
              "#9c179e"
             ],
             [
              0.4444444444444444,
              "#bd3786"
             ],
             [
              0.5555555555555556,
              "#d8576b"
             ],
             [
              0.6666666666666666,
              "#ed7953"
             ],
             [
              0.7777777777777778,
              "#fb9f3a"
             ],
             [
              0.8888888888888888,
              "#fdca26"
             ],
             [
              1,
              "#f0f921"
             ]
            ],
            "type": "heatmap"
           }
          ],
          "heatmapgl": [
           {
            "colorbar": {
             "outlinewidth": 0,
             "ticks": ""
            },
            "colorscale": [
             [
              0,
              "#0d0887"
             ],
             [
              0.1111111111111111,
              "#46039f"
             ],
             [
              0.2222222222222222,
              "#7201a8"
             ],
             [
              0.3333333333333333,
              "#9c179e"
             ],
             [
              0.4444444444444444,
              "#bd3786"
             ],
             [
              0.5555555555555556,
              "#d8576b"
             ],
             [
              0.6666666666666666,
              "#ed7953"
             ],
             [
              0.7777777777777778,
              "#fb9f3a"
             ],
             [
              0.8888888888888888,
              "#fdca26"
             ],
             [
              1,
              "#f0f921"
             ]
            ],
            "type": "heatmapgl"
           }
          ],
          "histogram": [
           {
            "marker": {
             "pattern": {
              "fillmode": "overlay",
              "size": 10,
              "solidity": 0.2
             }
            },
            "type": "histogram"
           }
          ],
          "histogram2d": [
           {
            "colorbar": {
             "outlinewidth": 0,
             "ticks": ""
            },
            "colorscale": [
             [
              0,
              "#0d0887"
             ],
             [
              0.1111111111111111,
              "#46039f"
             ],
             [
              0.2222222222222222,
              "#7201a8"
             ],
             [
              0.3333333333333333,
              "#9c179e"
             ],
             [
              0.4444444444444444,
              "#bd3786"
             ],
             [
              0.5555555555555556,
              "#d8576b"
             ],
             [
              0.6666666666666666,
              "#ed7953"
             ],
             [
              0.7777777777777778,
              "#fb9f3a"
             ],
             [
              0.8888888888888888,
              "#fdca26"
             ],
             [
              1,
              "#f0f921"
             ]
            ],
            "type": "histogram2d"
           }
          ],
          "histogram2dcontour": [
           {
            "colorbar": {
             "outlinewidth": 0,
             "ticks": ""
            },
            "colorscale": [
             [
              0,
              "#0d0887"
             ],
             [
              0.1111111111111111,
              "#46039f"
             ],
             [
              0.2222222222222222,
              "#7201a8"
             ],
             [
              0.3333333333333333,
              "#9c179e"
             ],
             [
              0.4444444444444444,
              "#bd3786"
             ],
             [
              0.5555555555555556,
              "#d8576b"
             ],
             [
              0.6666666666666666,
              "#ed7953"
             ],
             [
              0.7777777777777778,
              "#fb9f3a"
             ],
             [
              0.8888888888888888,
              "#fdca26"
             ],
             [
              1,
              "#f0f921"
             ]
            ],
            "type": "histogram2dcontour"
           }
          ],
          "mesh3d": [
           {
            "colorbar": {
             "outlinewidth": 0,
             "ticks": ""
            },
            "type": "mesh3d"
           }
          ],
          "parcoords": [
           {
            "line": {
             "colorbar": {
              "outlinewidth": 0,
              "ticks": ""
             }
            },
            "type": "parcoords"
           }
          ],
          "pie": [
           {
            "automargin": true,
            "type": "pie"
           }
          ],
          "scatter": [
           {
            "marker": {
             "colorbar": {
              "outlinewidth": 0,
              "ticks": ""
             }
            },
            "type": "scatter"
           }
          ],
          "scatter3d": [
           {
            "line": {
             "colorbar": {
              "outlinewidth": 0,
              "ticks": ""
             }
            },
            "marker": {
             "colorbar": {
              "outlinewidth": 0,
              "ticks": ""
             }
            },
            "type": "scatter3d"
           }
          ],
          "scattercarpet": [
           {
            "marker": {
             "colorbar": {
              "outlinewidth": 0,
              "ticks": ""
             }
            },
            "type": "scattercarpet"
           }
          ],
          "scattergeo": [
           {
            "marker": {
             "colorbar": {
              "outlinewidth": 0,
              "ticks": ""
             }
            },
            "type": "scattergeo"
           }
          ],
          "scattergl": [
           {
            "marker": {
             "colorbar": {
              "outlinewidth": 0,
              "ticks": ""
             }
            },
            "type": "scattergl"
           }
          ],
          "scattermapbox": [
           {
            "marker": {
             "colorbar": {
              "outlinewidth": 0,
              "ticks": ""
             }
            },
            "type": "scattermapbox"
           }
          ],
          "scatterpolar": [
           {
            "marker": {
             "colorbar": {
              "outlinewidth": 0,
              "ticks": ""
             }
            },
            "type": "scatterpolar"
           }
          ],
          "scatterpolargl": [
           {
            "marker": {
             "colorbar": {
              "outlinewidth": 0,
              "ticks": ""
             }
            },
            "type": "scatterpolargl"
           }
          ],
          "scatterternary": [
           {
            "marker": {
             "colorbar": {
              "outlinewidth": 0,
              "ticks": ""
             }
            },
            "type": "scatterternary"
           }
          ],
          "surface": [
           {
            "colorbar": {
             "outlinewidth": 0,
             "ticks": ""
            },
            "colorscale": [
             [
              0,
              "#0d0887"
             ],
             [
              0.1111111111111111,
              "#46039f"
             ],
             [
              0.2222222222222222,
              "#7201a8"
             ],
             [
              0.3333333333333333,
              "#9c179e"
             ],
             [
              0.4444444444444444,
              "#bd3786"
             ],
             [
              0.5555555555555556,
              "#d8576b"
             ],
             [
              0.6666666666666666,
              "#ed7953"
             ],
             [
              0.7777777777777778,
              "#fb9f3a"
             ],
             [
              0.8888888888888888,
              "#fdca26"
             ],
             [
              1,
              "#f0f921"
             ]
            ],
            "type": "surface"
           }
          ],
          "table": [
           {
            "cells": {
             "fill": {
              "color": "#EBF0F8"
             },
             "line": {
              "color": "white"
             }
            },
            "header": {
             "fill": {
              "color": "#C8D4E3"
             },
             "line": {
              "color": "white"
             }
            },
            "type": "table"
           }
          ]
         },
         "layout": {
          "annotationdefaults": {
           "arrowcolor": "#2a3f5f",
           "arrowhead": 0,
           "arrowwidth": 1
          },
          "autotypenumbers": "strict",
          "coloraxis": {
           "colorbar": {
            "outlinewidth": 0,
            "ticks": ""
           }
          },
          "colorscale": {
           "diverging": [
            [
             0,
             "#8e0152"
            ],
            [
             0.1,
             "#c51b7d"
            ],
            [
             0.2,
             "#de77ae"
            ],
            [
             0.3,
             "#f1b6da"
            ],
            [
             0.4,
             "#fde0ef"
            ],
            [
             0.5,
             "#f7f7f7"
            ],
            [
             0.6,
             "#e6f5d0"
            ],
            [
             0.7,
             "#b8e186"
            ],
            [
             0.8,
             "#7fbc41"
            ],
            [
             0.9,
             "#4d9221"
            ],
            [
             1,
             "#276419"
            ]
           ],
           "sequential": [
            [
             0,
             "#0d0887"
            ],
            [
             0.1111111111111111,
             "#46039f"
            ],
            [
             0.2222222222222222,
             "#7201a8"
            ],
            [
             0.3333333333333333,
             "#9c179e"
            ],
            [
             0.4444444444444444,
             "#bd3786"
            ],
            [
             0.5555555555555556,
             "#d8576b"
            ],
            [
             0.6666666666666666,
             "#ed7953"
            ],
            [
             0.7777777777777778,
             "#fb9f3a"
            ],
            [
             0.8888888888888888,
             "#fdca26"
            ],
            [
             1,
             "#f0f921"
            ]
           ],
           "sequentialminus": [
            [
             0,
             "#0d0887"
            ],
            [
             0.1111111111111111,
             "#46039f"
            ],
            [
             0.2222222222222222,
             "#7201a8"
            ],
            [
             0.3333333333333333,
             "#9c179e"
            ],
            [
             0.4444444444444444,
             "#bd3786"
            ],
            [
             0.5555555555555556,
             "#d8576b"
            ],
            [
             0.6666666666666666,
             "#ed7953"
            ],
            [
             0.7777777777777778,
             "#fb9f3a"
            ],
            [
             0.8888888888888888,
             "#fdca26"
            ],
            [
             1,
             "#f0f921"
            ]
           ]
          },
          "colorway": [
           "#636efa",
           "#EF553B",
           "#00cc96",
           "#ab63fa",
           "#FFA15A",
           "#19d3f3",
           "#FF6692",
           "#B6E880",
           "#FF97FF",
           "#FECB52"
          ],
          "font": {
           "color": "#2a3f5f"
          },
          "geo": {
           "bgcolor": "white",
           "lakecolor": "white",
           "landcolor": "#E5ECF6",
           "showlakes": true,
           "showland": true,
           "subunitcolor": "white"
          },
          "hoverlabel": {
           "align": "left"
          },
          "hovermode": "closest",
          "mapbox": {
           "style": "light"
          },
          "paper_bgcolor": "white",
          "plot_bgcolor": "#E5ECF6",
          "polar": {
           "angularaxis": {
            "gridcolor": "white",
            "linecolor": "white",
            "ticks": ""
           },
           "bgcolor": "#E5ECF6",
           "radialaxis": {
            "gridcolor": "white",
            "linecolor": "white",
            "ticks": ""
           }
          },
          "scene": {
           "xaxis": {
            "backgroundcolor": "#E5ECF6",
            "gridcolor": "white",
            "gridwidth": 2,
            "linecolor": "white",
            "showbackground": true,
            "ticks": "",
            "zerolinecolor": "white"
           },
           "yaxis": {
            "backgroundcolor": "#E5ECF6",
            "gridcolor": "white",
            "gridwidth": 2,
            "linecolor": "white",
            "showbackground": true,
            "ticks": "",
            "zerolinecolor": "white"
           },
           "zaxis": {
            "backgroundcolor": "#E5ECF6",
            "gridcolor": "white",
            "gridwidth": 2,
            "linecolor": "white",
            "showbackground": true,
            "ticks": "",
            "zerolinecolor": "white"
           }
          },
          "shapedefaults": {
           "line": {
            "color": "#2a3f5f"
           }
          },
          "ternary": {
           "aaxis": {
            "gridcolor": "white",
            "linecolor": "white",
            "ticks": ""
           },
           "baxis": {
            "gridcolor": "white",
            "linecolor": "white",
            "ticks": ""
           },
           "bgcolor": "#E5ECF6",
           "caxis": {
            "gridcolor": "white",
            "linecolor": "white",
            "ticks": ""
           }
          },
          "title": {
           "x": 0.05
          },
          "xaxis": {
           "automargin": true,
           "gridcolor": "white",
           "linecolor": "white",
           "ticks": "",
           "title": {
            "standoff": 15
           },
           "zerolinecolor": "white",
           "zerolinewidth": 2
          },
          "yaxis": {
           "automargin": true,
           "gridcolor": "white",
           "linecolor": "white",
           "ticks": "",
           "title": {
            "standoff": 15
           },
           "zerolinecolor": "white",
           "zerolinewidth": 2
          }
         }
        },
        "title": {
         "text": "Long-Form Input"
        },
        "xaxis": {
         "anchor": "y",
         "domain": [
          0,
          1
         ],
         "title": {
          "text": "location.name"
         }
        },
        "yaxis": {
         "anchor": "x",
         "domain": [
          0,
          1
         ],
         "title": {
          "text": "count"
         }
        }
       }
      },
      "text/html": [
       "<div>                            <div id=\"8cc3f2d1-78ff-40b8-ab89-7c9513181814\" class=\"plotly-graph-div\" style=\"height:525px; width:100%;\"></div>            <script type=\"text/javascript\">                require([\"plotly\"], function(Plotly) {                    window.PLOTLYENV=window.PLOTLYENV || {};                                    if (document.getElementById(\"8cc3f2d1-78ff-40b8-ab89-7c9513181814\")) {                    Plotly.newPlot(                        \"8cc3f2d1-78ff-40b8-ab89-7c9513181814\",                        [{\"alignmentgroup\":\"True\",\"hovertemplate\":\"group=Family<br>location.name=%{x}<br>count=%{y}<extra></extra>\",\"legendgroup\":\"Family\",\"marker\":{\"color\":\"#636efa\",\"pattern\":{\"shape\":\"\"}},\"name\":\"Family\",\"offsetgroup\":\"Family\",\"orientation\":\"v\",\"showlegend\":true,\"textposition\":\"auto\",\"type\":\"bar\",\"x\":[\"Chicago\",\"Cape Coral\",\"New York City\",\"New Orleans\",\"New York City\",\"Chicago\",\"Washington\",\"Rome\",\"Chico\",\"Honolulu\",\"New York City\",\"Sebring\",\"Pensacola\",\"Jacksonville\",\"Phoenix\",\"New Bern\",\"Boise\",\"Las Vegas\",\"Oklahoma City\",\"Chattanooga\",\"Phoenix\",\"New York City\",\"Orlando\",\"Cheyenne\",\"Decatur\",\"Spokane\",\"Albuquerque\",\"Bangor\",\"Greenville\",\"Mansfield\",\"Atlanta\",\"Washington\",\"Bellingham\",\"Albuquerque\",\"Beaumont\",\"San Angelo\",\"Philadelphia\",\"Miami\",\"Las Vegas\",\"Nashville\",\"Homosassa Springs\",\"Philadelphia\",\"Miami\",\"Rockford\",\"Bloomington\",\"Florence\",\"Orlando\",\"Bismarck\",\"Washington\",\"Birmingham\",\"Phoenix\",\"New York City\",\"Chicago\",\"Portland\",\"Johnson City\",\"Panama City\",\"Chicago\",\"Chicago\",\"Florence\",\"Cumberland\",\"Visalia\",\"Honolulu\",\"Honolulu\",\"Miami\",\"Albany\",\"Cleveland\",\"New York City\",\"Crestview\",\"Phoenix\",\"Myrtle Beach\",\"Honolulu\",\"Jacksonville\",\"San Diego\",\"Dallas\",\"Baton Rouge\",\"Chicago\",\"State College\",\"Atlanta\",\"Utica\",\"Cleveland\",\"San Diego\",\"Jacksonville\",\"Las Vegas\",\"Tampa\",\"Minneapolis\",\"Raleigh\",\"Austin\",\"Modesto\",\"Anchorage\",\"New Orleans\",\"Washington\",\"Sheboygan\",\"Chico\",\"Orlando\",\"Virginia Beach\",\"Nashville\",\"Amarillo\",\"Corpus Christi\",\"San Antonio\",\"Salisbury\",\"Anchorage\",\"Madison\",\"Honolulu\",\"Chicago\",\"Honolulu\",\"Albany\",\"Grand Forks\",\"Atlanta\",\"Lake Charles\",\"Fargo\",\"Miami\",\"Chicago\",\"Altoona\",\"Houma\",\"Seattle\",\"Las Vegas\",\"Dallas\",\"Victoria\",\"Valdosta\",\"Great Falls\",\"Columbus\",\"New Orleans\",\"Hickory\",\"Rochester\",\"Baton Rouge\",\"Philadelphia\",\"Chicago\",\"Chico\",\"Hartford\",\"Birmingham\",\"Chicago\",\"Austin\",\"Rochester\",\"New York City\",\"San Diego\",\"Kahului\",\"Salisbury\",\"Chicago\",\"Ocala\",\"Boston\",\"Little Rock\",\"Albany\",\"Chattanooga\",\"Reno\",\"Grand Junction\",\"Abilene\",\"Myrtle Beach\",\"Charlotte\",\"New Orleans\",\"Austin\",\"Brunswick\",\"Springfield\",\"Las Vegas\",\"Fond du Lac\",\"Lansing\",\"Great Falls\",\"Macon\",\"Asheville\",\"Syracuse\",\"Anchorage\",\"Dallas\",\"Orlando\",\"New York City\",\"Reno\",\"Boise\",\"Honolulu\",\"Atlanta\",\"Tallahassee\",\"Bloomington\",\"Cincinnati\",\"Sheboygan\",\"Denver\",\"New York City\",\"Chicago\",\"New Orleans\",\"Las Vegas\",\"Logan\",\"Lynchburg\",\"Las Vegas\",\"Las Vegas\",\"New York City\",\"Miami\",\"Beaumont\",\"Memphis\",\"Chicago\",\"Binghamton\",\"Billings\",\"Madison\",\"Jacksonville\",\"Lawton\",\"La Crosse\",\"Elmira\",\"San Antonio\",\"Washington\",\"Wausau\",\"Albuquerque\",\"Wilmington\",\"McAllen\",\"New York City\",\"Albany\",\"New Orleans\",\"Miami\",\"Las Vegas\",\"Bakersfield\",\"Duluth\",\"San Diego\",\"Anchorage\",\"Flagstaff\",\"Jonesboro\",\"Boston\",\"New York City\",\"Washington\",\"San Diego\",\"Sacramento\",\"Palm Bay\",\"Louisville\",\"Longview\",\"Sebring\",\"Columbia\",\"Boston\",\"Pittsburgh\",\"Austin\",\"Atlanta\",\"Harrisburg\",\"Dallas\",\"Washington\",\"Austin\",\"New Bern\",\"Modesto\",\"Houma\",\"Manhattan\",\"Myrtle Beach\",\"Cleveland\",\"Tuscaloosa\",\"New Bern\",\"Corpus Christi\",\"San Diego\",\"Wausau\",\"Salt Lake City\",\"Salinas\",\"Birmingham\",\"Decatur\",\"Tuscaloosa\",\"Cincinnati\",\"Jacksonville\",\"Grand Junction\",\"Memphis\",\"Indianapolis\",\"Altoona\",\"New Orleans\",\"Denver\",\"Anchorage\",\"Lansing\",\"Florence\",\"Houma\",\"Bangor\",\"Fargo\",\"Duluth\",\"Waco\",\"Philadelphia\",\"La Crosse\",\"Mansfield\",\"Bangor\"],\"xaxis\":\"x\",\"y\":[1,1,1,1,1,1,1,1,1,1,1,1,1,1,1,1,1,1,1,1,1,1,1,1,1,1,1,1,1,1,1,1,1,1,1,1,1,1,1,1,1,1,1,1,1,1,1,1,1,1,1,1,1,1,1,1,1,1,1,1,1,1,1,1,1,1,1,1,1,1,1,1,1,1,1,1,1,1,1,1,1,1,1,1,1,1,1,1,1,1,1,1,1,1,1,1,1,1,1,1,1,1,1,1,1,1,1,1,1,1,1,1,1,1,1,1,1,1,1,1,1,1,1,1,1,1,1,1,1,1,1,1,1,1,1,1,1,1,1,1,1,1,1,1,1,1,1,1,1,1,1,1,1,1,1,1,1,1,1,1,1,1,1,1,1,1,1,1,1,1,1,1,1,1,1,1,1,1,1,1,1,1,1,1,1,1,1,1,1,1,1,1,1,1,1,1,1,1,1,1,1,1,1,1,1,1,1,1,1,1,1,1,1,1,1,1,1,1,1,1,1,1,1,1,1,1,1,1,1,1,1,1,1,1,1,1,1,1,1,1,1,1,1,1,1,1,1,1,1,1,1,1,1,1,1,1,1,1,1,1,1,1,1],\"yaxis\":\"y\"},{\"alignmentgroup\":\"True\",\"hovertemplate\":\"group=Alone<br>location.name=%{x}<br>count=%{y}<extra></extra>\",\"legendgroup\":\"Alone\",\"marker\":{\"color\":\"#EF553B\",\"pattern\":{\"shape\":\"\"}},\"name\":\"Alone\",\"offsetgroup\":\"Alone\",\"orientation\":\"v\",\"showlegend\":true,\"textposition\":\"auto\",\"type\":\"bar\",\"x\":[\"Orlando\",\"Tulsa\",\"New York City\",\"Visalia\",\"New York City\",\"Wilmington\",\"Albany\",\"Tuscaloosa\",\"Chattanooga\",\"Las Vegas\",\"Orlando\",\"Washington\",\"Great Falls\",\"Pueblo\",\"Denver\",\"Killeen\",\"Grand Island\",\"Beckley\",\"Salinas\",\"San Diego\",\"New York City\",\"Denver\",\"Wichita\",\"Kennewick\",\"Farmington\",\"Bakersfield\",\"St. Louis\",\"Sebring\",\"Lexington\",\"Lake Charles\",\"Salt Lake City\",\"Albuquerque\",\"Denver\",\"New York City\",\"Champaign\",\"New York City\",\"Columbia\",\"Bakersfield\",\"Savannah\",\"Lansing\",\"Boise\",\"Longview\",\"Savannah\",\"Anchorage\",\"Wichita\",\"Jonesboro\",\"Clarksville\"],\"xaxis\":\"x\",\"y\":[1,1,1,1,1,1,1,1,1,1,1,1,1,1,1,1,1,1,1,1,1,1,1,1,1,1,1,1,1,1,1,1,1,1,1,1,1,1,1,1,1,1,1,1,1,1,1],\"yaxis\":\"y\"},{\"alignmentgroup\":\"True\",\"hovertemplate\":\"group=Friends<br>location.name=%{x}<br>count=%{y}<extra></extra>\",\"legendgroup\":\"Friends\",\"marker\":{\"color\":\"#00cc96\",\"pattern\":{\"shape\":\"\"}},\"name\":\"Friends\",\"offsetgroup\":\"Friends\",\"orientation\":\"v\",\"showlegend\":true,\"textposition\":\"auto\",\"type\":\"bar\",\"x\":[\"San Antonio\",\"Tucson\",\"Pittsfield\",\"Cleveland\",\"Lawton\",\"Augusta\",\"Panama City\",\"Tulsa\",\"Austin\",\"Baton Rouge\",\"New York City\",\"Waco\",\"Anchorage\",\"Virginia Beach\",\"Austin\",\"New York City\",\"Albany\",\"Appleton\",\"Chicago\",\"Minneapolis\",\"Prescott\",\"Corpus Christi\",\"Sebring\",\"Kennewick\",\"Las Vegas\",\"Mobile\",\"Atlanta\",\"Milwaukee\",\"Medford\",\"Visalia\",\"Austin\",\"Chicago\",\"Crestview\",\"Alexandria\",\"Augusta\",\"Mobile\",\"San Angelo\",\"Atlanta\",\"Orlando\",\"Cape Coral\",\"Spokane\",\"Rochester\",\"Denver\",\"Carbondale\",\"Nashville\",\"Portland\",\"Hot Springs\",\"Nashville\",\"Lexington\",\"Austin\",\"Orlando\",\"San Diego\",\"New York City\",\"Albuquerque\",\"Albany\",\"New Orleans\",\"Des Moines\",\"New York City\",\"Cumberland\",\"Wichita\",\"Indianapolis\",\"Las Vegas\",\"New York City\",\"Chico\",\"Anchorage\",\"Wilmington\",\"Bismarck\",\"San Diego\",\"Baton Rouge\",\"Clarksville\",\"San Antonio\",\"Spokane\",\"Las Vegas\",\"Birmingham\",\"Davenport\",\"Savannah\",\"Chicago\",\"Nashville\",\"Bowling Green\",\"South Bend\",\"Tallahassee\",\"State College\",\"Philadelphia\",\"Manhattan\",\"Topeka\",\"Colorado Springs\",\"Atlanta\",\"Lakeland\",\"Grand Island\",\"Portland\",\"New York City\",\"Cedar Rapids\",\"Portland\",\"New York City\",\"Chicago\",\"Shreveport\",\"Killeen\",\"New York City\",\"Florence\",\"Missoula\",\"Reno\",\"Colorado Springs\",\"Appleton\",\"Rockford\",\"Austin\",\"Beaumont\",\"New Orleans\",\"Portland\",\"Houma\",\"Lafayette\",\"San Diego\",\"Austin\",\"Chattanooga\",\"McAllen\",\"Lexington\",\"Wichita\",\"Jonesboro\",\"Clarksville\",\"Longview\",\"Bismarck\",\"Corpus Christi\",\"Sebring\",\"Hickory\",\"Champaign\",\"Clarksville\",\"Waco\",\"Wausau\",\"State College\",\"Altoona\",\"Albuquerque\",\"New Orleans\",\"Missoula\",\"Waco\",\"Jacksonville\",\"Bellingham\",\"Denver\",\"Alexandria\",\"Bloomington\",\"Jonesboro\",\"Rome\",\"Lansing\",\"Cedar Rapids\",\"New Bern\",\"Columbia\",\"Milwaukee\",\"Florence\",\"Prescott\",\"Cedar Rapids\",\"Greenville\",\"Crestview\",\"Wausau\",\"Boston\",\"Longview\",\"Las Vegas\",\"State College\",\"Lawton\",\"Anchorage\",\"Hickory\",\"San Diego\",\"Hot Springs\",\"Shreveport\",\"Las Vegas\",\"McAllen\",\"Lake Charles\",\"San Diego\",\"Cincinnati\",\"Billings\",\"Pueblo\",\"Salt Lake City\",\"Chattanooga\",\"McAllen\",\"Lexington\"],\"xaxis\":\"x\",\"y\":[1,1,1,1,1,1,1,1,1,1,1,1,1,1,1,1,1,1,1,1,1,1,1,1,1,1,1,1,1,1,1,1,1,1,1,1,1,1,1,1,1,1,1,1,1,1,1,1,1,1,1,1,1,1,1,1,1,1,1,1,1,1,1,1,1,1,1,1,1,1,1,1,1,1,1,1,1,1,1,1,1,1,1,1,1,1,1,1,1,1,1,1,1,1,1,1,1,1,1,1,1,1,1,1,1,1,1,1,1,1,1,1,1,1,1,1,1,1,1,1,1,1,1,1,1,1,1,1,1,1,1,1,1,1,1,1,1,1,1,1,1,1,1,1,1,1,1,1,1,1,1,1,1,1,1,1,1,1,1,1,1,1,1,1,1,1,1,1,1,1,1,1],\"yaxis\":\"y\"},{\"alignmentgroup\":\"True\",\"hovertemplate\":\"group=Other<br>location.name=%{x}<br>count=%{y}<extra></extra>\",\"legendgroup\":\"Other\",\"marker\":{\"color\":\"#ab63fa\",\"pattern\":{\"shape\":\"\"}},\"name\":\"Other\",\"offsetgroup\":\"Other\",\"orientation\":\"v\",\"showlegend\":true,\"textposition\":\"auto\",\"type\":\"bar\",\"x\":[\"Cumberland\",\"Austin\",\"Waco\",\"Austin\",\"Jacksonville\",\"Columbia\",\"Jacksonville\",\"Rochester\",\"Topeka\"],\"xaxis\":\"x\",\"y\":[1,1,1,1,1,1,1,1,1],\"yaxis\":\"y\"}],                        {\"barmode\":\"relative\",\"legend\":{\"title\":{\"text\":\"group\"},\"tracegroupgap\":0},\"template\":{\"data\":{\"bar\":[{\"error_x\":{\"color\":\"#2a3f5f\"},\"error_y\":{\"color\":\"#2a3f5f\"},\"marker\":{\"line\":{\"color\":\"#E5ECF6\",\"width\":0.5},\"pattern\":{\"fillmode\":\"overlay\",\"size\":10,\"solidity\":0.2}},\"type\":\"bar\"}],\"barpolar\":[{\"marker\":{\"line\":{\"color\":\"#E5ECF6\",\"width\":0.5},\"pattern\":{\"fillmode\":\"overlay\",\"size\":10,\"solidity\":0.2}},\"type\":\"barpolar\"}],\"carpet\":[{\"aaxis\":{\"endlinecolor\":\"#2a3f5f\",\"gridcolor\":\"white\",\"linecolor\":\"white\",\"minorgridcolor\":\"white\",\"startlinecolor\":\"#2a3f5f\"},\"baxis\":{\"endlinecolor\":\"#2a3f5f\",\"gridcolor\":\"white\",\"linecolor\":\"white\",\"minorgridcolor\":\"white\",\"startlinecolor\":\"#2a3f5f\"},\"type\":\"carpet\"}],\"choropleth\":[{\"colorbar\":{\"outlinewidth\":0,\"ticks\":\"\"},\"type\":\"choropleth\"}],\"contour\":[{\"colorbar\":{\"outlinewidth\":0,\"ticks\":\"\"},\"colorscale\":[[0.0,\"#0d0887\"],[0.1111111111111111,\"#46039f\"],[0.2222222222222222,\"#7201a8\"],[0.3333333333333333,\"#9c179e\"],[0.4444444444444444,\"#bd3786\"],[0.5555555555555556,\"#d8576b\"],[0.6666666666666666,\"#ed7953\"],[0.7777777777777778,\"#fb9f3a\"],[0.8888888888888888,\"#fdca26\"],[1.0,\"#f0f921\"]],\"type\":\"contour\"}],\"contourcarpet\":[{\"colorbar\":{\"outlinewidth\":0,\"ticks\":\"\"},\"type\":\"contourcarpet\"}],\"heatmap\":[{\"colorbar\":{\"outlinewidth\":0,\"ticks\":\"\"},\"colorscale\":[[0.0,\"#0d0887\"],[0.1111111111111111,\"#46039f\"],[0.2222222222222222,\"#7201a8\"],[0.3333333333333333,\"#9c179e\"],[0.4444444444444444,\"#bd3786\"],[0.5555555555555556,\"#d8576b\"],[0.6666666666666666,\"#ed7953\"],[0.7777777777777778,\"#fb9f3a\"],[0.8888888888888888,\"#fdca26\"],[1.0,\"#f0f921\"]],\"type\":\"heatmap\"}],\"heatmapgl\":[{\"colorbar\":{\"outlinewidth\":0,\"ticks\":\"\"},\"colorscale\":[[0.0,\"#0d0887\"],[0.1111111111111111,\"#46039f\"],[0.2222222222222222,\"#7201a8\"],[0.3333333333333333,\"#9c179e\"],[0.4444444444444444,\"#bd3786\"],[0.5555555555555556,\"#d8576b\"],[0.6666666666666666,\"#ed7953\"],[0.7777777777777778,\"#fb9f3a\"],[0.8888888888888888,\"#fdca26\"],[1.0,\"#f0f921\"]],\"type\":\"heatmapgl\"}],\"histogram\":[{\"marker\":{\"pattern\":{\"fillmode\":\"overlay\",\"size\":10,\"solidity\":0.2}},\"type\":\"histogram\"}],\"histogram2d\":[{\"colorbar\":{\"outlinewidth\":0,\"ticks\":\"\"},\"colorscale\":[[0.0,\"#0d0887\"],[0.1111111111111111,\"#46039f\"],[0.2222222222222222,\"#7201a8\"],[0.3333333333333333,\"#9c179e\"],[0.4444444444444444,\"#bd3786\"],[0.5555555555555556,\"#d8576b\"],[0.6666666666666666,\"#ed7953\"],[0.7777777777777778,\"#fb9f3a\"],[0.8888888888888888,\"#fdca26\"],[1.0,\"#f0f921\"]],\"type\":\"histogram2d\"}],\"histogram2dcontour\":[{\"colorbar\":{\"outlinewidth\":0,\"ticks\":\"\"},\"colorscale\":[[0.0,\"#0d0887\"],[0.1111111111111111,\"#46039f\"],[0.2222222222222222,\"#7201a8\"],[0.3333333333333333,\"#9c179e\"],[0.4444444444444444,\"#bd3786\"],[0.5555555555555556,\"#d8576b\"],[0.6666666666666666,\"#ed7953\"],[0.7777777777777778,\"#fb9f3a\"],[0.8888888888888888,\"#fdca26\"],[1.0,\"#f0f921\"]],\"type\":\"histogram2dcontour\"}],\"mesh3d\":[{\"colorbar\":{\"outlinewidth\":0,\"ticks\":\"\"},\"type\":\"mesh3d\"}],\"parcoords\":[{\"line\":{\"colorbar\":{\"outlinewidth\":0,\"ticks\":\"\"}},\"type\":\"parcoords\"}],\"pie\":[{\"automargin\":true,\"type\":\"pie\"}],\"scatter\":[{\"marker\":{\"colorbar\":{\"outlinewidth\":0,\"ticks\":\"\"}},\"type\":\"scatter\"}],\"scatter3d\":[{\"line\":{\"colorbar\":{\"outlinewidth\":0,\"ticks\":\"\"}},\"marker\":{\"colorbar\":{\"outlinewidth\":0,\"ticks\":\"\"}},\"type\":\"scatter3d\"}],\"scattercarpet\":[{\"marker\":{\"colorbar\":{\"outlinewidth\":0,\"ticks\":\"\"}},\"type\":\"scattercarpet\"}],\"scattergeo\":[{\"marker\":{\"colorbar\":{\"outlinewidth\":0,\"ticks\":\"\"}},\"type\":\"scattergeo\"}],\"scattergl\":[{\"marker\":{\"colorbar\":{\"outlinewidth\":0,\"ticks\":\"\"}},\"type\":\"scattergl\"}],\"scattermapbox\":[{\"marker\":{\"colorbar\":{\"outlinewidth\":0,\"ticks\":\"\"}},\"type\":\"scattermapbox\"}],\"scatterpolar\":[{\"marker\":{\"colorbar\":{\"outlinewidth\":0,\"ticks\":\"\"}},\"type\":\"scatterpolar\"}],\"scatterpolargl\":[{\"marker\":{\"colorbar\":{\"outlinewidth\":0,\"ticks\":\"\"}},\"type\":\"scatterpolargl\"}],\"scatterternary\":[{\"marker\":{\"colorbar\":{\"outlinewidth\":0,\"ticks\":\"\"}},\"type\":\"scatterternary\"}],\"surface\":[{\"colorbar\":{\"outlinewidth\":0,\"ticks\":\"\"},\"colorscale\":[[0.0,\"#0d0887\"],[0.1111111111111111,\"#46039f\"],[0.2222222222222222,\"#7201a8\"],[0.3333333333333333,\"#9c179e\"],[0.4444444444444444,\"#bd3786\"],[0.5555555555555556,\"#d8576b\"],[0.6666666666666666,\"#ed7953\"],[0.7777777777777778,\"#fb9f3a\"],[0.8888888888888888,\"#fdca26\"],[1.0,\"#f0f921\"]],\"type\":\"surface\"}],\"table\":[{\"cells\":{\"fill\":{\"color\":\"#EBF0F8\"},\"line\":{\"color\":\"white\"}},\"header\":{\"fill\":{\"color\":\"#C8D4E3\"},\"line\":{\"color\":\"white\"}},\"type\":\"table\"}]},\"layout\":{\"annotationdefaults\":{\"arrowcolor\":\"#2a3f5f\",\"arrowhead\":0,\"arrowwidth\":1},\"autotypenumbers\":\"strict\",\"coloraxis\":{\"colorbar\":{\"outlinewidth\":0,\"ticks\":\"\"}},\"colorscale\":{\"diverging\":[[0,\"#8e0152\"],[0.1,\"#c51b7d\"],[0.2,\"#de77ae\"],[0.3,\"#f1b6da\"],[0.4,\"#fde0ef\"],[0.5,\"#f7f7f7\"],[0.6,\"#e6f5d0\"],[0.7,\"#b8e186\"],[0.8,\"#7fbc41\"],[0.9,\"#4d9221\"],[1,\"#276419\"]],\"sequential\":[[0.0,\"#0d0887\"],[0.1111111111111111,\"#46039f\"],[0.2222222222222222,\"#7201a8\"],[0.3333333333333333,\"#9c179e\"],[0.4444444444444444,\"#bd3786\"],[0.5555555555555556,\"#d8576b\"],[0.6666666666666666,\"#ed7953\"],[0.7777777777777778,\"#fb9f3a\"],[0.8888888888888888,\"#fdca26\"],[1.0,\"#f0f921\"]],\"sequentialminus\":[[0.0,\"#0d0887\"],[0.1111111111111111,\"#46039f\"],[0.2222222222222222,\"#7201a8\"],[0.3333333333333333,\"#9c179e\"],[0.4444444444444444,\"#bd3786\"],[0.5555555555555556,\"#d8576b\"],[0.6666666666666666,\"#ed7953\"],[0.7777777777777778,\"#fb9f3a\"],[0.8888888888888888,\"#fdca26\"],[1.0,\"#f0f921\"]]},\"colorway\":[\"#636efa\",\"#EF553B\",\"#00cc96\",\"#ab63fa\",\"#FFA15A\",\"#19d3f3\",\"#FF6692\",\"#B6E880\",\"#FF97FF\",\"#FECB52\"],\"font\":{\"color\":\"#2a3f5f\"},\"geo\":{\"bgcolor\":\"white\",\"lakecolor\":\"white\",\"landcolor\":\"#E5ECF6\",\"showlakes\":true,\"showland\":true,\"subunitcolor\":\"white\"},\"hoverlabel\":{\"align\":\"left\"},\"hovermode\":\"closest\",\"mapbox\":{\"style\":\"light\"},\"paper_bgcolor\":\"white\",\"plot_bgcolor\":\"#E5ECF6\",\"polar\":{\"angularaxis\":{\"gridcolor\":\"white\",\"linecolor\":\"white\",\"ticks\":\"\"},\"bgcolor\":\"#E5ECF6\",\"radialaxis\":{\"gridcolor\":\"white\",\"linecolor\":\"white\",\"ticks\":\"\"}},\"scene\":{\"xaxis\":{\"backgroundcolor\":\"#E5ECF6\",\"gridcolor\":\"white\",\"gridwidth\":2,\"linecolor\":\"white\",\"showbackground\":true,\"ticks\":\"\",\"zerolinecolor\":\"white\"},\"yaxis\":{\"backgroundcolor\":\"#E5ECF6\",\"gridcolor\":\"white\",\"gridwidth\":2,\"linecolor\":\"white\",\"showbackground\":true,\"ticks\":\"\",\"zerolinecolor\":\"white\"},\"zaxis\":{\"backgroundcolor\":\"#E5ECF6\",\"gridcolor\":\"white\",\"gridwidth\":2,\"linecolor\":\"white\",\"showbackground\":true,\"ticks\":\"\",\"zerolinecolor\":\"white\"}},\"shapedefaults\":{\"line\":{\"color\":\"#2a3f5f\"}},\"ternary\":{\"aaxis\":{\"gridcolor\":\"white\",\"linecolor\":\"white\",\"ticks\":\"\"},\"baxis\":{\"gridcolor\":\"white\",\"linecolor\":\"white\",\"ticks\":\"\"},\"bgcolor\":\"#E5ECF6\",\"caxis\":{\"gridcolor\":\"white\",\"linecolor\":\"white\",\"ticks\":\"\"}},\"title\":{\"x\":0.05},\"xaxis\":{\"automargin\":true,\"gridcolor\":\"white\",\"linecolor\":\"white\",\"ticks\":\"\",\"title\":{\"standoff\":15},\"zerolinecolor\":\"white\",\"zerolinewidth\":2},\"yaxis\":{\"automargin\":true,\"gridcolor\":\"white\",\"linecolor\":\"white\",\"ticks\":\"\",\"title\":{\"standoff\":15},\"zerolinecolor\":\"white\",\"zerolinewidth\":2}}},\"title\":{\"text\":\"Long-Form Input\"},\"xaxis\":{\"anchor\":\"y\",\"domain\":[0.0,1.0],\"title\":{\"text\":\"location.name\"}},\"yaxis\":{\"anchor\":\"x\",\"domain\":[0.0,1.0],\"title\":{\"text\":\"count\"}}},                        {\"responsive\": true}                    ).then(function(){\n",
       "                            \n",
       "var gd = document.getElementById('8cc3f2d1-78ff-40b8-ab89-7c9513181814');\n",
       "var x = new MutationObserver(function (mutations, observer) {{\n",
       "        var display = window.getComputedStyle(gd).display;\n",
       "        if (!display || display === 'none') {{\n",
       "            console.log([gd, 'removed!']);\n",
       "            Plotly.purge(gd);\n",
       "            observer.disconnect();\n",
       "        }}\n",
       "}});\n",
       "\n",
       "// Listen for the removal of the full notebook cells\n",
       "var notebookContainer = gd.closest('#notebook-container');\n",
       "if (notebookContainer) {{\n",
       "    x.observe(notebookContainer, {childList: true});\n",
       "}}\n",
       "\n",
       "// Listen for the clearing of the current output cell\n",
       "var outputEl = gd.closest('.output');\n",
       "if (outputEl) {{\n",
       "    x.observe(outputEl, {childList: true});\n",
       "}}\n",
       "\n",
       "                        })                };                });            </script>        </div>"
      ]
     },
     "metadata": {},
     "output_type": "display_data"
    }
   ],
   "source": [
    "import plotly.express as px\n",
    "\n",
    "long_df = px.data.medals_long()\n",
    "\n",
    "fig = px.bar(phase1_df, x=\"location.name\", color=\"group\", title=\"Long-Form Input\", )\n",
    "fig.show()"
   ]
  },
  {
   "cell_type": "code",
   "execution_count": 156,
   "metadata": {},
   "outputs": [
    {
     "data": {
      "application/vnd.plotly.v1+json": {
       "config": {
        "plotlyServerURL": "https://plot.ly"
       },
       "data": [
        {
         "alignmentgroup": "True",
         "hovertemplate": "duration=Weekend trip<br>trip_type=%{x}<br>count=%{y}<extra></extra>",
         "legendgroup": "Weekend trip",
         "marker": {
          "color": "#636efa",
          "pattern": {
           "shape": ""
          }
         },
         "name": "Weekend trip",
         "offsetgroup": "Weekend trip",
         "orientation": "v",
         "showlegend": true,
         "textposition": "auto",
         "type": "bar",
         "x": [
          "Holiday",
          "Holiday",
          "Holiday",
          "Business",
          "Holiday",
          "Holiday",
          "Holiday",
          "Holiday",
          "Holiday",
          "Holiday",
          "Holiday",
          "Holiday",
          "Holiday",
          "Holiday",
          "Holiday",
          "Holiday",
          "Holiday",
          "Holiday",
          "Holiday",
          "Holiday",
          "Holiday",
          "Holiday",
          "Holiday",
          "Holiday",
          "Holiday",
          "Holiday",
          "Holiday",
          "Holiday",
          "Holiday",
          "Holiday",
          "Holiday",
          "Holiday",
          "Business",
          "Holiday",
          "Holiday",
          "Holiday",
          "Holiday",
          "Business",
          "Holiday",
          "Holiday",
          "Holiday",
          "Holiday",
          "Holiday",
          "Holiday",
          "Holiday",
          "Holiday",
          "Holiday",
          "Holiday",
          "Holiday",
          "Holiday",
          "Holiday",
          "Holiday",
          "Holiday",
          "Business",
          "Holiday",
          "Holiday",
          "Holiday",
          "Holiday",
          "Holiday",
          "Holiday",
          "Holiday",
          "Holiday",
          "Holiday",
          "Holiday",
          "Holiday",
          "Holiday",
          "Holiday",
          "Holiday",
          "Holiday",
          "Holiday",
          "Holiday",
          "Holiday",
          "Holiday",
          "Holiday",
          "Holiday",
          "Holiday",
          "Holiday",
          "Holiday",
          "Holiday",
          "Holiday",
          "Holiday",
          "Holiday",
          "Holiday",
          "Holiday",
          "Holiday",
          "Holiday",
          "Holiday",
          "Holiday",
          "Holiday",
          "Holiday",
          "Holiday",
          "Holiday",
          "Holiday",
          "Holiday",
          "Holiday",
          "Holiday",
          "Holiday",
          "Holiday",
          "Holiday",
          "Holiday",
          "Holiday",
          "Holiday",
          "Holiday",
          "Other",
          "Holiday",
          "Holiday",
          "Holiday",
          "Holiday",
          "Holiday",
          "Holiday",
          "Holiday",
          "Holiday",
          "Holiday",
          "Other",
          "Holiday",
          "Other",
          "Holiday",
          "Holiday",
          "Holiday",
          "Holiday",
          "Holiday",
          "Holiday",
          "Holiday",
          "Holiday",
          "Holiday",
          "Holiday",
          "Holiday",
          "Holiday",
          "Holiday",
          "Holiday",
          "Holiday",
          "Holiday",
          "Holiday",
          "Holiday",
          "Holiday",
          "Holiday",
          "Holiday",
          "Holiday",
          "Holiday",
          "Holiday",
          "Holiday",
          "Holiday",
          "Holiday",
          "Holiday",
          "Holiday",
          "Holiday",
          "Holiday",
          "Holiday",
          "Holiday",
          "Holiday",
          "Holiday",
          "Holiday",
          "Holiday",
          "Holiday",
          "Holiday",
          "Holiday",
          "Holiday",
          "Holiday",
          "Holiday",
          "Holiday",
          "Holiday",
          "Holiday",
          "Holiday",
          "Business",
          "Holiday",
          "Holiday",
          "Holiday",
          "Holiday",
          "Holiday",
          "Holiday",
          "Holiday",
          "Other",
          "Other",
          "Holiday",
          "Holiday",
          "Holiday",
          "Other",
          "Other",
          "Holiday",
          "Business",
          "Holiday",
          "Other",
          "Holiday",
          "Holiday",
          "Holiday",
          "Holiday",
          "Holiday",
          "Holiday",
          "Holiday",
          "Holiday",
          "Holiday",
          "Holiday",
          "Holiday",
          "Holiday",
          "Holiday",
          "Holiday",
          "Holiday",
          "Holiday",
          "Holiday",
          "Holiday",
          "Holiday",
          "Holiday",
          "Holiday",
          "Holiday",
          "Holiday",
          "Holiday",
          "Other",
          "Other",
          "Other",
          "Other",
          "Other",
          "Holiday",
          "Holiday",
          "Holiday",
          "Business",
          "Business",
          "Business",
          "Holiday",
          "Holiday",
          "Holiday",
          "Holiday",
          "Holiday",
          "Holiday",
          "Holiday",
          "Holiday",
          "Holiday",
          "Holiday",
          "Holiday",
          "Holiday",
          "Holiday",
          "Holiday",
          "Holiday",
          "Holiday",
          "Holiday",
          "Holiday",
          "Holiday",
          "Holiday",
          "Holiday",
          "Holiday",
          "Holiday",
          "Holiday",
          "Holiday",
          "Holiday",
          "Holiday",
          "Holiday",
          "Holiday",
          "Holiday",
          "Holiday",
          "Holiday",
          "Holiday",
          "Holiday",
          "Holiday",
          "Holiday",
          "Holiday",
          "Holiday",
          "Holiday",
          "Holiday",
          "Holiday"
         ],
         "xaxis": "x",
         "y": [
          1,
          1,
          1,
          1,
          1,
          1,
          1,
          1,
          1,
          1,
          1,
          1,
          1,
          1,
          1,
          1,
          1,
          1,
          1,
          1,
          1,
          1,
          1,
          1,
          1,
          1,
          1,
          1,
          1,
          1,
          1,
          1,
          1,
          1,
          1,
          1,
          1,
          1,
          1,
          1,
          1,
          1,
          1,
          1,
          1,
          1,
          1,
          1,
          1,
          1,
          1,
          1,
          1,
          1,
          1,
          1,
          1,
          1,
          1,
          1,
          1,
          1,
          1,
          1,
          1,
          1,
          1,
          1,
          1,
          1,
          1,
          1,
          1,
          1,
          1,
          1,
          1,
          1,
          1,
          1,
          1,
          1,
          1,
          1,
          1,
          1,
          1,
          1,
          1,
          1,
          1,
          1,
          1,
          1,
          1,
          1,
          1,
          1,
          1,
          1,
          1,
          1,
          1,
          1,
          1,
          1,
          1,
          1,
          1,
          1,
          1,
          1,
          1,
          1,
          1,
          1,
          1,
          1,
          1,
          1,
          1,
          1,
          1,
          1,
          1,
          1,
          1,
          1,
          1,
          1,
          1,
          1,
          1,
          1,
          1,
          1,
          1,
          1,
          1,
          1,
          1,
          1,
          1,
          1,
          1,
          1,
          1,
          1,
          1,
          1,
          1,
          1,
          1,
          1,
          1,
          1,
          1,
          1,
          1,
          1,
          1,
          1,
          1,
          1,
          1,
          1,
          1,
          1,
          1,
          1,
          1,
          1,
          1,
          1,
          1,
          1,
          1,
          1,
          1,
          1,
          1,
          1,
          1,
          1,
          1,
          1,
          1,
          1,
          1,
          1,
          1,
          1,
          1,
          1,
          1,
          1,
          1,
          1,
          1,
          1,
          1,
          1,
          1,
          1,
          1,
          1,
          1,
          1,
          1,
          1,
          1,
          1,
          1,
          1,
          1,
          1,
          1,
          1,
          1,
          1,
          1,
          1,
          1,
          1,
          1,
          1,
          1,
          1,
          1,
          1,
          1,
          1,
          1,
          1,
          1,
          1,
          1,
          1,
          1,
          1,
          1,
          1,
          1,
          1,
          1,
          1,
          1,
          1,
          1,
          1,
          1,
          1,
          1,
          1,
          1,
          1,
          1,
          1
         ],
         "yaxis": "y"
        },
        {
         "alignmentgroup": "True",
         "hovertemplate": "duration=Longer<br>trip_type=%{x}<br>count=%{y}<extra></extra>",
         "legendgroup": "Longer",
         "marker": {
          "color": "#EF553B",
          "pattern": {
           "shape": ""
          }
         },
         "name": "Longer",
         "offsetgroup": "Longer",
         "orientation": "v",
         "showlegend": true,
         "textposition": "auto",
         "type": "bar",
         "x": [
          "Holiday",
          "Holiday",
          "Holiday",
          "Holiday",
          "Holiday",
          "Holiday",
          "Holiday",
          "Holiday",
          "Holiday",
          "Holiday",
          "Holiday",
          "Holiday",
          "Holiday",
          "Holiday",
          "Holiday",
          "Holiday",
          "Holiday",
          "Holiday",
          "Holiday",
          "Other",
          "Other",
          "Holiday",
          "Holiday",
          "Holiday",
          "Holiday",
          "Holiday",
          "Holiday",
          "Holiday",
          "Business",
          "Business",
          "Holiday",
          "Holiday",
          "Holiday",
          "Holiday",
          "Holiday",
          "Holiday",
          "Holiday",
          "Holiday",
          "Holiday",
          "Other",
          "Holiday",
          "Holiday",
          "Holiday",
          "Holiday",
          "Holiday",
          "Holiday",
          "Holiday",
          "Holiday",
          "Holiday",
          "Holiday",
          "Holiday",
          "Holiday",
          "Holiday",
          "Holiday",
          "Other",
          "Holiday",
          "Holiday",
          "Holiday",
          "Holiday",
          "Holiday",
          "Holiday",
          "Holiday",
          "Holiday",
          "Holiday",
          "Holiday",
          "Holiday",
          "Other",
          "Other",
          "Holiday",
          "Holiday",
          "Holiday",
          "Holiday",
          "Holiday",
          "Holiday",
          "Holiday",
          "Other",
          "Holiday",
          "Holiday",
          "Holiday",
          "Holiday",
          "Holiday",
          "Holiday",
          "Holiday",
          "Holiday",
          "Holiday",
          "Holiday",
          "Other",
          "Holiday",
          "Holiday",
          "Holiday",
          "Holiday",
          "Other",
          "Holiday",
          "Holiday",
          "Holiday",
          "Holiday",
          "Holiday",
          "Holiday",
          "Holiday",
          "Holiday",
          "Holiday",
          "Holiday",
          "Holiday",
          "Holiday",
          "Holiday",
          "Holiday",
          "Holiday",
          "Holiday",
          "Holiday",
          "Holiday",
          "Holiday",
          "Holiday",
          "Holiday",
          "Other",
          "Other",
          "Holiday",
          "Holiday",
          "Holiday",
          "Holiday",
          "Holiday",
          "Other",
          "Holiday",
          "Holiday",
          "Other",
          "Other",
          "Holiday",
          "Holiday",
          "Holiday",
          "Holiday",
          "Holiday",
          "Holiday",
          "Holiday",
          "Other",
          "Holiday",
          "Holiday",
          "Holiday",
          "Holiday",
          "Holiday",
          "Holiday",
          "Holiday",
          "Holiday",
          "Holiday",
          "Holiday",
          "Business",
          "Business",
          "Business",
          "Business",
          "Business",
          "Business",
          "Business",
          "Business",
          "Holiday",
          "Holiday",
          "Holiday",
          "Holiday",
          "Holiday",
          "Holiday",
          "Holiday",
          "Holiday",
          "Holiday",
          "Holiday",
          "Holiday",
          "Holiday",
          "Holiday",
          "Holiday",
          "Business",
          "Business",
          "Business",
          "Holiday",
          "Holiday",
          "Holiday",
          "Holiday",
          "Holiday",
          "Business",
          "Business",
          "Business",
          "Holiday",
          "Holiday",
          "Holiday",
          "Holiday",
          "Holiday",
          "Holiday"
         ],
         "xaxis": "x",
         "y": [
          1,
          1,
          1,
          1,
          1,
          1,
          1,
          1,
          1,
          1,
          1,
          1,
          1,
          1,
          1,
          1,
          1,
          1,
          1,
          1,
          1,
          1,
          1,
          1,
          1,
          1,
          1,
          1,
          1,
          1,
          1,
          1,
          1,
          1,
          1,
          1,
          1,
          1,
          1,
          1,
          1,
          1,
          1,
          1,
          1,
          1,
          1,
          1,
          1,
          1,
          1,
          1,
          1,
          1,
          1,
          1,
          1,
          1,
          1,
          1,
          1,
          1,
          1,
          1,
          1,
          1,
          1,
          1,
          1,
          1,
          1,
          1,
          1,
          1,
          1,
          1,
          1,
          1,
          1,
          1,
          1,
          1,
          1,
          1,
          1,
          1,
          1,
          1,
          1,
          1,
          1,
          1,
          1,
          1,
          1,
          1,
          1,
          1,
          1,
          1,
          1,
          1,
          1,
          1,
          1,
          1,
          1,
          1,
          1,
          1,
          1,
          1,
          1,
          1,
          1,
          1,
          1,
          1,
          1,
          1,
          1,
          1,
          1,
          1,
          1,
          1,
          1,
          1,
          1,
          1,
          1,
          1,
          1,
          1,
          1,
          1,
          1,
          1,
          1,
          1,
          1,
          1,
          1,
          1,
          1,
          1,
          1,
          1,
          1,
          1,
          1,
          1,
          1,
          1,
          1,
          1,
          1,
          1,
          1,
          1,
          1,
          1,
          1,
          1,
          1,
          1,
          1,
          1,
          1,
          1,
          1,
          1,
          1,
          1,
          1,
          1,
          1,
          1,
          1,
          1,
          1,
          1
         ],
         "yaxis": "y"
        },
        {
         "alignmentgroup": "True",
         "hovertemplate": "duration=Day trip<br>trip_type=%{x}<br>count=%{y}<extra></extra>",
         "legendgroup": "Day trip",
         "marker": {
          "color": "#00cc96",
          "pattern": {
           "shape": ""
          }
         },
         "name": "Day trip",
         "offsetgroup": "Day trip",
         "orientation": "v",
         "showlegend": true,
         "textposition": "auto",
         "type": "bar",
         "x": [
          "Holiday",
          "Holiday",
          "Holiday",
          "Business",
          "Business",
          "Business",
          "Holiday",
          "Holiday",
          "Holiday",
          "Holiday",
          "Holiday",
          "Holiday",
          "Holiday",
          "Holiday",
          "Holiday",
          "Holiday",
          "Holiday",
          "Holiday",
          "Holiday",
          "Holiday",
          "Other",
          "Other",
          "Holiday",
          "Holiday",
          "Holiday",
          "Holiday",
          "Holiday",
          "Business",
          "Business",
          "Business"
         ],
         "xaxis": "x",
         "y": [
          1,
          1,
          1,
          1,
          1,
          1,
          1,
          1,
          1,
          1,
          1,
          1,
          1,
          1,
          1,
          1,
          1,
          1,
          1,
          1,
          1,
          1,
          1,
          1,
          1,
          1,
          1,
          1,
          1,
          1
         ],
         "yaxis": "y"
        },
        {
         "alignmentgroup": "True",
         "hovertemplate": "duration=Night out<br>trip_type=%{x}<br>count=%{y}<extra></extra>",
         "legendgroup": "Night out",
         "marker": {
          "color": "#ab63fa",
          "pattern": {
           "shape": ""
          }
         },
         "name": "Night out",
         "offsetgroup": "Night out",
         "orientation": "v",
         "showlegend": true,
         "textposition": "auto",
         "type": "bar",
         "x": [
          "Holiday",
          "Holiday",
          "Holiday",
          "Business",
          "Business",
          "Holiday",
          "Other",
          "Holiday",
          "Holiday",
          "Holiday",
          "Holiday",
          "Holiday",
          "Holiday",
          "Holiday",
          "Holiday",
          "Other",
          "Other",
          "Other",
          "Holiday",
          "Holiday",
          "Holiday"
         ],
         "xaxis": "x",
         "y": [
          1,
          1,
          1,
          1,
          1,
          1,
          1,
          1,
          1,
          1,
          1,
          1,
          1,
          1,
          1,
          1,
          1,
          1,
          1,
          1,
          1
         ],
         "yaxis": "y"
        }
       ],
       "layout": {
        "barmode": "relative",
        "legend": {
         "title": {
          "text": "duration"
         },
         "tracegroupgap": 0
        },
        "template": {
         "data": {
          "bar": [
           {
            "error_x": {
             "color": "#2a3f5f"
            },
            "error_y": {
             "color": "#2a3f5f"
            },
            "marker": {
             "line": {
              "color": "#E5ECF6",
              "width": 0.5
             },
             "pattern": {
              "fillmode": "overlay",
              "size": 10,
              "solidity": 0.2
             }
            },
            "type": "bar"
           }
          ],
          "barpolar": [
           {
            "marker": {
             "line": {
              "color": "#E5ECF6",
              "width": 0.5
             },
             "pattern": {
              "fillmode": "overlay",
              "size": 10,
              "solidity": 0.2
             }
            },
            "type": "barpolar"
           }
          ],
          "carpet": [
           {
            "aaxis": {
             "endlinecolor": "#2a3f5f",
             "gridcolor": "white",
             "linecolor": "white",
             "minorgridcolor": "white",
             "startlinecolor": "#2a3f5f"
            },
            "baxis": {
             "endlinecolor": "#2a3f5f",
             "gridcolor": "white",
             "linecolor": "white",
             "minorgridcolor": "white",
             "startlinecolor": "#2a3f5f"
            },
            "type": "carpet"
           }
          ],
          "choropleth": [
           {
            "colorbar": {
             "outlinewidth": 0,
             "ticks": ""
            },
            "type": "choropleth"
           }
          ],
          "contour": [
           {
            "colorbar": {
             "outlinewidth": 0,
             "ticks": ""
            },
            "colorscale": [
             [
              0,
              "#0d0887"
             ],
             [
              0.1111111111111111,
              "#46039f"
             ],
             [
              0.2222222222222222,
              "#7201a8"
             ],
             [
              0.3333333333333333,
              "#9c179e"
             ],
             [
              0.4444444444444444,
              "#bd3786"
             ],
             [
              0.5555555555555556,
              "#d8576b"
             ],
             [
              0.6666666666666666,
              "#ed7953"
             ],
             [
              0.7777777777777778,
              "#fb9f3a"
             ],
             [
              0.8888888888888888,
              "#fdca26"
             ],
             [
              1,
              "#f0f921"
             ]
            ],
            "type": "contour"
           }
          ],
          "contourcarpet": [
           {
            "colorbar": {
             "outlinewidth": 0,
             "ticks": ""
            },
            "type": "contourcarpet"
           }
          ],
          "heatmap": [
           {
            "colorbar": {
             "outlinewidth": 0,
             "ticks": ""
            },
            "colorscale": [
             [
              0,
              "#0d0887"
             ],
             [
              0.1111111111111111,
              "#46039f"
             ],
             [
              0.2222222222222222,
              "#7201a8"
             ],
             [
              0.3333333333333333,
              "#9c179e"
             ],
             [
              0.4444444444444444,
              "#bd3786"
             ],
             [
              0.5555555555555556,
              "#d8576b"
             ],
             [
              0.6666666666666666,
              "#ed7953"
             ],
             [
              0.7777777777777778,
              "#fb9f3a"
             ],
             [
              0.8888888888888888,
              "#fdca26"
             ],
             [
              1,
              "#f0f921"
             ]
            ],
            "type": "heatmap"
           }
          ],
          "heatmapgl": [
           {
            "colorbar": {
             "outlinewidth": 0,
             "ticks": ""
            },
            "colorscale": [
             [
              0,
              "#0d0887"
             ],
             [
              0.1111111111111111,
              "#46039f"
             ],
             [
              0.2222222222222222,
              "#7201a8"
             ],
             [
              0.3333333333333333,
              "#9c179e"
             ],
             [
              0.4444444444444444,
              "#bd3786"
             ],
             [
              0.5555555555555556,
              "#d8576b"
             ],
             [
              0.6666666666666666,
              "#ed7953"
             ],
             [
              0.7777777777777778,
              "#fb9f3a"
             ],
             [
              0.8888888888888888,
              "#fdca26"
             ],
             [
              1,
              "#f0f921"
             ]
            ],
            "type": "heatmapgl"
           }
          ],
          "histogram": [
           {
            "marker": {
             "pattern": {
              "fillmode": "overlay",
              "size": 10,
              "solidity": 0.2
             }
            },
            "type": "histogram"
           }
          ],
          "histogram2d": [
           {
            "colorbar": {
             "outlinewidth": 0,
             "ticks": ""
            },
            "colorscale": [
             [
              0,
              "#0d0887"
             ],
             [
              0.1111111111111111,
              "#46039f"
             ],
             [
              0.2222222222222222,
              "#7201a8"
             ],
             [
              0.3333333333333333,
              "#9c179e"
             ],
             [
              0.4444444444444444,
              "#bd3786"
             ],
             [
              0.5555555555555556,
              "#d8576b"
             ],
             [
              0.6666666666666666,
              "#ed7953"
             ],
             [
              0.7777777777777778,
              "#fb9f3a"
             ],
             [
              0.8888888888888888,
              "#fdca26"
             ],
             [
              1,
              "#f0f921"
             ]
            ],
            "type": "histogram2d"
           }
          ],
          "histogram2dcontour": [
           {
            "colorbar": {
             "outlinewidth": 0,
             "ticks": ""
            },
            "colorscale": [
             [
              0,
              "#0d0887"
             ],
             [
              0.1111111111111111,
              "#46039f"
             ],
             [
              0.2222222222222222,
              "#7201a8"
             ],
             [
              0.3333333333333333,
              "#9c179e"
             ],
             [
              0.4444444444444444,
              "#bd3786"
             ],
             [
              0.5555555555555556,
              "#d8576b"
             ],
             [
              0.6666666666666666,
              "#ed7953"
             ],
             [
              0.7777777777777778,
              "#fb9f3a"
             ],
             [
              0.8888888888888888,
              "#fdca26"
             ],
             [
              1,
              "#f0f921"
             ]
            ],
            "type": "histogram2dcontour"
           }
          ],
          "mesh3d": [
           {
            "colorbar": {
             "outlinewidth": 0,
             "ticks": ""
            },
            "type": "mesh3d"
           }
          ],
          "parcoords": [
           {
            "line": {
             "colorbar": {
              "outlinewidth": 0,
              "ticks": ""
             }
            },
            "type": "parcoords"
           }
          ],
          "pie": [
           {
            "automargin": true,
            "type": "pie"
           }
          ],
          "scatter": [
           {
            "marker": {
             "colorbar": {
              "outlinewidth": 0,
              "ticks": ""
             }
            },
            "type": "scatter"
           }
          ],
          "scatter3d": [
           {
            "line": {
             "colorbar": {
              "outlinewidth": 0,
              "ticks": ""
             }
            },
            "marker": {
             "colorbar": {
              "outlinewidth": 0,
              "ticks": ""
             }
            },
            "type": "scatter3d"
           }
          ],
          "scattercarpet": [
           {
            "marker": {
             "colorbar": {
              "outlinewidth": 0,
              "ticks": ""
             }
            },
            "type": "scattercarpet"
           }
          ],
          "scattergeo": [
           {
            "marker": {
             "colorbar": {
              "outlinewidth": 0,
              "ticks": ""
             }
            },
            "type": "scattergeo"
           }
          ],
          "scattergl": [
           {
            "marker": {
             "colorbar": {
              "outlinewidth": 0,
              "ticks": ""
             }
            },
            "type": "scattergl"
           }
          ],
          "scattermapbox": [
           {
            "marker": {
             "colorbar": {
              "outlinewidth": 0,
              "ticks": ""
             }
            },
            "type": "scattermapbox"
           }
          ],
          "scatterpolar": [
           {
            "marker": {
             "colorbar": {
              "outlinewidth": 0,
              "ticks": ""
             }
            },
            "type": "scatterpolar"
           }
          ],
          "scatterpolargl": [
           {
            "marker": {
             "colorbar": {
              "outlinewidth": 0,
              "ticks": ""
             }
            },
            "type": "scatterpolargl"
           }
          ],
          "scatterternary": [
           {
            "marker": {
             "colorbar": {
              "outlinewidth": 0,
              "ticks": ""
             }
            },
            "type": "scatterternary"
           }
          ],
          "surface": [
           {
            "colorbar": {
             "outlinewidth": 0,
             "ticks": ""
            },
            "colorscale": [
             [
              0,
              "#0d0887"
             ],
             [
              0.1111111111111111,
              "#46039f"
             ],
             [
              0.2222222222222222,
              "#7201a8"
             ],
             [
              0.3333333333333333,
              "#9c179e"
             ],
             [
              0.4444444444444444,
              "#bd3786"
             ],
             [
              0.5555555555555556,
              "#d8576b"
             ],
             [
              0.6666666666666666,
              "#ed7953"
             ],
             [
              0.7777777777777778,
              "#fb9f3a"
             ],
             [
              0.8888888888888888,
              "#fdca26"
             ],
             [
              1,
              "#f0f921"
             ]
            ],
            "type": "surface"
           }
          ],
          "table": [
           {
            "cells": {
             "fill": {
              "color": "#EBF0F8"
             },
             "line": {
              "color": "white"
             }
            },
            "header": {
             "fill": {
              "color": "#C8D4E3"
             },
             "line": {
              "color": "white"
             }
            },
            "type": "table"
           }
          ]
         },
         "layout": {
          "annotationdefaults": {
           "arrowcolor": "#2a3f5f",
           "arrowhead": 0,
           "arrowwidth": 1
          },
          "autotypenumbers": "strict",
          "coloraxis": {
           "colorbar": {
            "outlinewidth": 0,
            "ticks": ""
           }
          },
          "colorscale": {
           "diverging": [
            [
             0,
             "#8e0152"
            ],
            [
             0.1,
             "#c51b7d"
            ],
            [
             0.2,
             "#de77ae"
            ],
            [
             0.3,
             "#f1b6da"
            ],
            [
             0.4,
             "#fde0ef"
            ],
            [
             0.5,
             "#f7f7f7"
            ],
            [
             0.6,
             "#e6f5d0"
            ],
            [
             0.7,
             "#b8e186"
            ],
            [
             0.8,
             "#7fbc41"
            ],
            [
             0.9,
             "#4d9221"
            ],
            [
             1,
             "#276419"
            ]
           ],
           "sequential": [
            [
             0,
             "#0d0887"
            ],
            [
             0.1111111111111111,
             "#46039f"
            ],
            [
             0.2222222222222222,
             "#7201a8"
            ],
            [
             0.3333333333333333,
             "#9c179e"
            ],
            [
             0.4444444444444444,
             "#bd3786"
            ],
            [
             0.5555555555555556,
             "#d8576b"
            ],
            [
             0.6666666666666666,
             "#ed7953"
            ],
            [
             0.7777777777777778,
             "#fb9f3a"
            ],
            [
             0.8888888888888888,
             "#fdca26"
            ],
            [
             1,
             "#f0f921"
            ]
           ],
           "sequentialminus": [
            [
             0,
             "#0d0887"
            ],
            [
             0.1111111111111111,
             "#46039f"
            ],
            [
             0.2222222222222222,
             "#7201a8"
            ],
            [
             0.3333333333333333,
             "#9c179e"
            ],
            [
             0.4444444444444444,
             "#bd3786"
            ],
            [
             0.5555555555555556,
             "#d8576b"
            ],
            [
             0.6666666666666666,
             "#ed7953"
            ],
            [
             0.7777777777777778,
             "#fb9f3a"
            ],
            [
             0.8888888888888888,
             "#fdca26"
            ],
            [
             1,
             "#f0f921"
            ]
           ]
          },
          "colorway": [
           "#636efa",
           "#EF553B",
           "#00cc96",
           "#ab63fa",
           "#FFA15A",
           "#19d3f3",
           "#FF6692",
           "#B6E880",
           "#FF97FF",
           "#FECB52"
          ],
          "font": {
           "color": "#2a3f5f"
          },
          "geo": {
           "bgcolor": "white",
           "lakecolor": "white",
           "landcolor": "#E5ECF6",
           "showlakes": true,
           "showland": true,
           "subunitcolor": "white"
          },
          "hoverlabel": {
           "align": "left"
          },
          "hovermode": "closest",
          "mapbox": {
           "style": "light"
          },
          "paper_bgcolor": "white",
          "plot_bgcolor": "#E5ECF6",
          "polar": {
           "angularaxis": {
            "gridcolor": "white",
            "linecolor": "white",
            "ticks": ""
           },
           "bgcolor": "#E5ECF6",
           "radialaxis": {
            "gridcolor": "white",
            "linecolor": "white",
            "ticks": ""
           }
          },
          "scene": {
           "xaxis": {
            "backgroundcolor": "#E5ECF6",
            "gridcolor": "white",
            "gridwidth": 2,
            "linecolor": "white",
            "showbackground": true,
            "ticks": "",
            "zerolinecolor": "white"
           },
           "yaxis": {
            "backgroundcolor": "#E5ECF6",
            "gridcolor": "white",
            "gridwidth": 2,
            "linecolor": "white",
            "showbackground": true,
            "ticks": "",
            "zerolinecolor": "white"
           },
           "zaxis": {
            "backgroundcolor": "#E5ECF6",
            "gridcolor": "white",
            "gridwidth": 2,
            "linecolor": "white",
            "showbackground": true,
            "ticks": "",
            "zerolinecolor": "white"
           }
          },
          "shapedefaults": {
           "line": {
            "color": "#2a3f5f"
           }
          },
          "ternary": {
           "aaxis": {
            "gridcolor": "white",
            "linecolor": "white",
            "ticks": ""
           },
           "baxis": {
            "gridcolor": "white",
            "linecolor": "white",
            "ticks": ""
           },
           "bgcolor": "#E5ECF6",
           "caxis": {
            "gridcolor": "white",
            "linecolor": "white",
            "ticks": ""
           }
          },
          "title": {
           "x": 0.05
          },
          "xaxis": {
           "automargin": true,
           "gridcolor": "white",
           "linecolor": "white",
           "ticks": "",
           "title": {
            "standoff": 15
           },
           "zerolinecolor": "white",
           "zerolinewidth": 2
          },
          "yaxis": {
           "automargin": true,
           "gridcolor": "white",
           "linecolor": "white",
           "ticks": "",
           "title": {
            "standoff": 15
           },
           "zerolinecolor": "white",
           "zerolinewidth": 2
          }
         }
        },
        "title": {
         "text": "Long-Form Input"
        },
        "xaxis": {
         "anchor": "y",
         "domain": [
          0,
          1
         ],
         "title": {
          "text": "trip_type"
         }
        },
        "yaxis": {
         "anchor": "x",
         "domain": [
          0,
          1
         ],
         "title": {
          "text": "count"
         }
        }
       }
      },
      "text/html": [
       "<div>                            <div id=\"b69dbddf-28b0-457b-928b-c8a18758823f\" class=\"plotly-graph-div\" style=\"height:525px; width:100%;\"></div>            <script type=\"text/javascript\">                require([\"plotly\"], function(Plotly) {                    window.PLOTLYENV=window.PLOTLYENV || {};                                    if (document.getElementById(\"b69dbddf-28b0-457b-928b-c8a18758823f\")) {                    Plotly.newPlot(                        \"b69dbddf-28b0-457b-928b-c8a18758823f\",                        [{\"alignmentgroup\":\"True\",\"hovertemplate\":\"duration=Weekend trip<br>trip_type=%{x}<br>count=%{y}<extra></extra>\",\"legendgroup\":\"Weekend trip\",\"marker\":{\"color\":\"#636efa\",\"pattern\":{\"shape\":\"\"}},\"name\":\"Weekend trip\",\"offsetgroup\":\"Weekend trip\",\"orientation\":\"v\",\"showlegend\":true,\"textposition\":\"auto\",\"type\":\"bar\",\"x\":[\"Holiday\",\"Holiday\",\"Holiday\",\"Business\",\"Holiday\",\"Holiday\",\"Holiday\",\"Holiday\",\"Holiday\",\"Holiday\",\"Holiday\",\"Holiday\",\"Holiday\",\"Holiday\",\"Holiday\",\"Holiday\",\"Holiday\",\"Holiday\",\"Holiday\",\"Holiday\",\"Holiday\",\"Holiday\",\"Holiday\",\"Holiday\",\"Holiday\",\"Holiday\",\"Holiday\",\"Holiday\",\"Holiday\",\"Holiday\",\"Holiday\",\"Holiday\",\"Business\",\"Holiday\",\"Holiday\",\"Holiday\",\"Holiday\",\"Business\",\"Holiday\",\"Holiday\",\"Holiday\",\"Holiday\",\"Holiday\",\"Holiday\",\"Holiday\",\"Holiday\",\"Holiday\",\"Holiday\",\"Holiday\",\"Holiday\",\"Holiday\",\"Holiday\",\"Holiday\",\"Business\",\"Holiday\",\"Holiday\",\"Holiday\",\"Holiday\",\"Holiday\",\"Holiday\",\"Holiday\",\"Holiday\",\"Holiday\",\"Holiday\",\"Holiday\",\"Holiday\",\"Holiday\",\"Holiday\",\"Holiday\",\"Holiday\",\"Holiday\",\"Holiday\",\"Holiday\",\"Holiday\",\"Holiday\",\"Holiday\",\"Holiday\",\"Holiday\",\"Holiday\",\"Holiday\",\"Holiday\",\"Holiday\",\"Holiday\",\"Holiday\",\"Holiday\",\"Holiday\",\"Holiday\",\"Holiday\",\"Holiday\",\"Holiday\",\"Holiday\",\"Holiday\",\"Holiday\",\"Holiday\",\"Holiday\",\"Holiday\",\"Holiday\",\"Holiday\",\"Holiday\",\"Holiday\",\"Holiday\",\"Holiday\",\"Holiday\",\"Other\",\"Holiday\",\"Holiday\",\"Holiday\",\"Holiday\",\"Holiday\",\"Holiday\",\"Holiday\",\"Holiday\",\"Holiday\",\"Other\",\"Holiday\",\"Other\",\"Holiday\",\"Holiday\",\"Holiday\",\"Holiday\",\"Holiday\",\"Holiday\",\"Holiday\",\"Holiday\",\"Holiday\",\"Holiday\",\"Holiday\",\"Holiday\",\"Holiday\",\"Holiday\",\"Holiday\",\"Holiday\",\"Holiday\",\"Holiday\",\"Holiday\",\"Holiday\",\"Holiday\",\"Holiday\",\"Holiday\",\"Holiday\",\"Holiday\",\"Holiday\",\"Holiday\",\"Holiday\",\"Holiday\",\"Holiday\",\"Holiday\",\"Holiday\",\"Holiday\",\"Holiday\",\"Holiday\",\"Holiday\",\"Holiday\",\"Holiday\",\"Holiday\",\"Holiday\",\"Holiday\",\"Holiday\",\"Holiday\",\"Holiday\",\"Holiday\",\"Holiday\",\"Holiday\",\"Business\",\"Holiday\",\"Holiday\",\"Holiday\",\"Holiday\",\"Holiday\",\"Holiday\",\"Holiday\",\"Other\",\"Other\",\"Holiday\",\"Holiday\",\"Holiday\",\"Other\",\"Other\",\"Holiday\",\"Business\",\"Holiday\",\"Other\",\"Holiday\",\"Holiday\",\"Holiday\",\"Holiday\",\"Holiday\",\"Holiday\",\"Holiday\",\"Holiday\",\"Holiday\",\"Holiday\",\"Holiday\",\"Holiday\",\"Holiday\",\"Holiday\",\"Holiday\",\"Holiday\",\"Holiday\",\"Holiday\",\"Holiday\",\"Holiday\",\"Holiday\",\"Holiday\",\"Holiday\",\"Holiday\",\"Other\",\"Other\",\"Other\",\"Other\",\"Other\",\"Holiday\",\"Holiday\",\"Holiday\",\"Business\",\"Business\",\"Business\",\"Holiday\",\"Holiday\",\"Holiday\",\"Holiday\",\"Holiday\",\"Holiday\",\"Holiday\",\"Holiday\",\"Holiday\",\"Holiday\",\"Holiday\",\"Holiday\",\"Holiday\",\"Holiday\",\"Holiday\",\"Holiday\",\"Holiday\",\"Holiday\",\"Holiday\",\"Holiday\",\"Holiday\",\"Holiday\",\"Holiday\",\"Holiday\",\"Holiday\",\"Holiday\",\"Holiday\",\"Holiday\",\"Holiday\",\"Holiday\",\"Holiday\",\"Holiday\",\"Holiday\",\"Holiday\",\"Holiday\",\"Holiday\",\"Holiday\",\"Holiday\",\"Holiday\",\"Holiday\",\"Holiday\"],\"xaxis\":\"x\",\"y\":[1,1,1,1,1,1,1,1,1,1,1,1,1,1,1,1,1,1,1,1,1,1,1,1,1,1,1,1,1,1,1,1,1,1,1,1,1,1,1,1,1,1,1,1,1,1,1,1,1,1,1,1,1,1,1,1,1,1,1,1,1,1,1,1,1,1,1,1,1,1,1,1,1,1,1,1,1,1,1,1,1,1,1,1,1,1,1,1,1,1,1,1,1,1,1,1,1,1,1,1,1,1,1,1,1,1,1,1,1,1,1,1,1,1,1,1,1,1,1,1,1,1,1,1,1,1,1,1,1,1,1,1,1,1,1,1,1,1,1,1,1,1,1,1,1,1,1,1,1,1,1,1,1,1,1,1,1,1,1,1,1,1,1,1,1,1,1,1,1,1,1,1,1,1,1,1,1,1,1,1,1,1,1,1,1,1,1,1,1,1,1,1,1,1,1,1,1,1,1,1,1,1,1,1,1,1,1,1,1,1,1,1,1,1,1,1,1,1,1,1,1,1,1,1,1,1,1,1,1,1,1,1,1,1,1,1,1,1,1,1,1,1,1,1,1,1,1,1,1,1,1,1,1,1,1,1,1,1],\"yaxis\":\"y\"},{\"alignmentgroup\":\"True\",\"hovertemplate\":\"duration=Longer<br>trip_type=%{x}<br>count=%{y}<extra></extra>\",\"legendgroup\":\"Longer\",\"marker\":{\"color\":\"#EF553B\",\"pattern\":{\"shape\":\"\"}},\"name\":\"Longer\",\"offsetgroup\":\"Longer\",\"orientation\":\"v\",\"showlegend\":true,\"textposition\":\"auto\",\"type\":\"bar\",\"x\":[\"Holiday\",\"Holiday\",\"Holiday\",\"Holiday\",\"Holiday\",\"Holiday\",\"Holiday\",\"Holiday\",\"Holiday\",\"Holiday\",\"Holiday\",\"Holiday\",\"Holiday\",\"Holiday\",\"Holiday\",\"Holiday\",\"Holiday\",\"Holiday\",\"Holiday\",\"Other\",\"Other\",\"Holiday\",\"Holiday\",\"Holiday\",\"Holiday\",\"Holiday\",\"Holiday\",\"Holiday\",\"Business\",\"Business\",\"Holiday\",\"Holiday\",\"Holiday\",\"Holiday\",\"Holiday\",\"Holiday\",\"Holiday\",\"Holiday\",\"Holiday\",\"Other\",\"Holiday\",\"Holiday\",\"Holiday\",\"Holiday\",\"Holiday\",\"Holiday\",\"Holiday\",\"Holiday\",\"Holiday\",\"Holiday\",\"Holiday\",\"Holiday\",\"Holiday\",\"Holiday\",\"Other\",\"Holiday\",\"Holiday\",\"Holiday\",\"Holiday\",\"Holiday\",\"Holiday\",\"Holiday\",\"Holiday\",\"Holiday\",\"Holiday\",\"Holiday\",\"Other\",\"Other\",\"Holiday\",\"Holiday\",\"Holiday\",\"Holiday\",\"Holiday\",\"Holiday\",\"Holiday\",\"Other\",\"Holiday\",\"Holiday\",\"Holiday\",\"Holiday\",\"Holiday\",\"Holiday\",\"Holiday\",\"Holiday\",\"Holiday\",\"Holiday\",\"Other\",\"Holiday\",\"Holiday\",\"Holiday\",\"Holiday\",\"Other\",\"Holiday\",\"Holiday\",\"Holiday\",\"Holiday\",\"Holiday\",\"Holiday\",\"Holiday\",\"Holiday\",\"Holiday\",\"Holiday\",\"Holiday\",\"Holiday\",\"Holiday\",\"Holiday\",\"Holiday\",\"Holiday\",\"Holiday\",\"Holiday\",\"Holiday\",\"Holiday\",\"Holiday\",\"Other\",\"Other\",\"Holiday\",\"Holiday\",\"Holiday\",\"Holiday\",\"Holiday\",\"Other\",\"Holiday\",\"Holiday\",\"Other\",\"Other\",\"Holiday\",\"Holiday\",\"Holiday\",\"Holiday\",\"Holiday\",\"Holiday\",\"Holiday\",\"Other\",\"Holiday\",\"Holiday\",\"Holiday\",\"Holiday\",\"Holiday\",\"Holiday\",\"Holiday\",\"Holiday\",\"Holiday\",\"Holiday\",\"Business\",\"Business\",\"Business\",\"Business\",\"Business\",\"Business\",\"Business\",\"Business\",\"Holiday\",\"Holiday\",\"Holiday\",\"Holiday\",\"Holiday\",\"Holiday\",\"Holiday\",\"Holiday\",\"Holiday\",\"Holiday\",\"Holiday\",\"Holiday\",\"Holiday\",\"Holiday\",\"Business\",\"Business\",\"Business\",\"Holiday\",\"Holiday\",\"Holiday\",\"Holiday\",\"Holiday\",\"Business\",\"Business\",\"Business\",\"Holiday\",\"Holiday\",\"Holiday\",\"Holiday\",\"Holiday\",\"Holiday\"],\"xaxis\":\"x\",\"y\":[1,1,1,1,1,1,1,1,1,1,1,1,1,1,1,1,1,1,1,1,1,1,1,1,1,1,1,1,1,1,1,1,1,1,1,1,1,1,1,1,1,1,1,1,1,1,1,1,1,1,1,1,1,1,1,1,1,1,1,1,1,1,1,1,1,1,1,1,1,1,1,1,1,1,1,1,1,1,1,1,1,1,1,1,1,1,1,1,1,1,1,1,1,1,1,1,1,1,1,1,1,1,1,1,1,1,1,1,1,1,1,1,1,1,1,1,1,1,1,1,1,1,1,1,1,1,1,1,1,1,1,1,1,1,1,1,1,1,1,1,1,1,1,1,1,1,1,1,1,1,1,1,1,1,1,1,1,1,1,1,1,1,1,1,1,1,1,1,1,1,1,1,1,1,1,1,1,1,1,1,1,1],\"yaxis\":\"y\"},{\"alignmentgroup\":\"True\",\"hovertemplate\":\"duration=Day trip<br>trip_type=%{x}<br>count=%{y}<extra></extra>\",\"legendgroup\":\"Day trip\",\"marker\":{\"color\":\"#00cc96\",\"pattern\":{\"shape\":\"\"}},\"name\":\"Day trip\",\"offsetgroup\":\"Day trip\",\"orientation\":\"v\",\"showlegend\":true,\"textposition\":\"auto\",\"type\":\"bar\",\"x\":[\"Holiday\",\"Holiday\",\"Holiday\",\"Business\",\"Business\",\"Business\",\"Holiday\",\"Holiday\",\"Holiday\",\"Holiday\",\"Holiday\",\"Holiday\",\"Holiday\",\"Holiday\",\"Holiday\",\"Holiday\",\"Holiday\",\"Holiday\",\"Holiday\",\"Holiday\",\"Other\",\"Other\",\"Holiday\",\"Holiday\",\"Holiday\",\"Holiday\",\"Holiday\",\"Business\",\"Business\",\"Business\"],\"xaxis\":\"x\",\"y\":[1,1,1,1,1,1,1,1,1,1,1,1,1,1,1,1,1,1,1,1,1,1,1,1,1,1,1,1,1,1],\"yaxis\":\"y\"},{\"alignmentgroup\":\"True\",\"hovertemplate\":\"duration=Night out<br>trip_type=%{x}<br>count=%{y}<extra></extra>\",\"legendgroup\":\"Night out\",\"marker\":{\"color\":\"#ab63fa\",\"pattern\":{\"shape\":\"\"}},\"name\":\"Night out\",\"offsetgroup\":\"Night out\",\"orientation\":\"v\",\"showlegend\":true,\"textposition\":\"auto\",\"type\":\"bar\",\"x\":[\"Holiday\",\"Holiday\",\"Holiday\",\"Business\",\"Business\",\"Holiday\",\"Other\",\"Holiday\",\"Holiday\",\"Holiday\",\"Holiday\",\"Holiday\",\"Holiday\",\"Holiday\",\"Holiday\",\"Other\",\"Other\",\"Other\",\"Holiday\",\"Holiday\",\"Holiday\"],\"xaxis\":\"x\",\"y\":[1,1,1,1,1,1,1,1,1,1,1,1,1,1,1,1,1,1,1,1,1],\"yaxis\":\"y\"}],                        {\"barmode\":\"relative\",\"legend\":{\"title\":{\"text\":\"duration\"},\"tracegroupgap\":0},\"template\":{\"data\":{\"bar\":[{\"error_x\":{\"color\":\"#2a3f5f\"},\"error_y\":{\"color\":\"#2a3f5f\"},\"marker\":{\"line\":{\"color\":\"#E5ECF6\",\"width\":0.5},\"pattern\":{\"fillmode\":\"overlay\",\"size\":10,\"solidity\":0.2}},\"type\":\"bar\"}],\"barpolar\":[{\"marker\":{\"line\":{\"color\":\"#E5ECF6\",\"width\":0.5},\"pattern\":{\"fillmode\":\"overlay\",\"size\":10,\"solidity\":0.2}},\"type\":\"barpolar\"}],\"carpet\":[{\"aaxis\":{\"endlinecolor\":\"#2a3f5f\",\"gridcolor\":\"white\",\"linecolor\":\"white\",\"minorgridcolor\":\"white\",\"startlinecolor\":\"#2a3f5f\"},\"baxis\":{\"endlinecolor\":\"#2a3f5f\",\"gridcolor\":\"white\",\"linecolor\":\"white\",\"minorgridcolor\":\"white\",\"startlinecolor\":\"#2a3f5f\"},\"type\":\"carpet\"}],\"choropleth\":[{\"colorbar\":{\"outlinewidth\":0,\"ticks\":\"\"},\"type\":\"choropleth\"}],\"contour\":[{\"colorbar\":{\"outlinewidth\":0,\"ticks\":\"\"},\"colorscale\":[[0.0,\"#0d0887\"],[0.1111111111111111,\"#46039f\"],[0.2222222222222222,\"#7201a8\"],[0.3333333333333333,\"#9c179e\"],[0.4444444444444444,\"#bd3786\"],[0.5555555555555556,\"#d8576b\"],[0.6666666666666666,\"#ed7953\"],[0.7777777777777778,\"#fb9f3a\"],[0.8888888888888888,\"#fdca26\"],[1.0,\"#f0f921\"]],\"type\":\"contour\"}],\"contourcarpet\":[{\"colorbar\":{\"outlinewidth\":0,\"ticks\":\"\"},\"type\":\"contourcarpet\"}],\"heatmap\":[{\"colorbar\":{\"outlinewidth\":0,\"ticks\":\"\"},\"colorscale\":[[0.0,\"#0d0887\"],[0.1111111111111111,\"#46039f\"],[0.2222222222222222,\"#7201a8\"],[0.3333333333333333,\"#9c179e\"],[0.4444444444444444,\"#bd3786\"],[0.5555555555555556,\"#d8576b\"],[0.6666666666666666,\"#ed7953\"],[0.7777777777777778,\"#fb9f3a\"],[0.8888888888888888,\"#fdca26\"],[1.0,\"#f0f921\"]],\"type\":\"heatmap\"}],\"heatmapgl\":[{\"colorbar\":{\"outlinewidth\":0,\"ticks\":\"\"},\"colorscale\":[[0.0,\"#0d0887\"],[0.1111111111111111,\"#46039f\"],[0.2222222222222222,\"#7201a8\"],[0.3333333333333333,\"#9c179e\"],[0.4444444444444444,\"#bd3786\"],[0.5555555555555556,\"#d8576b\"],[0.6666666666666666,\"#ed7953\"],[0.7777777777777778,\"#fb9f3a\"],[0.8888888888888888,\"#fdca26\"],[1.0,\"#f0f921\"]],\"type\":\"heatmapgl\"}],\"histogram\":[{\"marker\":{\"pattern\":{\"fillmode\":\"overlay\",\"size\":10,\"solidity\":0.2}},\"type\":\"histogram\"}],\"histogram2d\":[{\"colorbar\":{\"outlinewidth\":0,\"ticks\":\"\"},\"colorscale\":[[0.0,\"#0d0887\"],[0.1111111111111111,\"#46039f\"],[0.2222222222222222,\"#7201a8\"],[0.3333333333333333,\"#9c179e\"],[0.4444444444444444,\"#bd3786\"],[0.5555555555555556,\"#d8576b\"],[0.6666666666666666,\"#ed7953\"],[0.7777777777777778,\"#fb9f3a\"],[0.8888888888888888,\"#fdca26\"],[1.0,\"#f0f921\"]],\"type\":\"histogram2d\"}],\"histogram2dcontour\":[{\"colorbar\":{\"outlinewidth\":0,\"ticks\":\"\"},\"colorscale\":[[0.0,\"#0d0887\"],[0.1111111111111111,\"#46039f\"],[0.2222222222222222,\"#7201a8\"],[0.3333333333333333,\"#9c179e\"],[0.4444444444444444,\"#bd3786\"],[0.5555555555555556,\"#d8576b\"],[0.6666666666666666,\"#ed7953\"],[0.7777777777777778,\"#fb9f3a\"],[0.8888888888888888,\"#fdca26\"],[1.0,\"#f0f921\"]],\"type\":\"histogram2dcontour\"}],\"mesh3d\":[{\"colorbar\":{\"outlinewidth\":0,\"ticks\":\"\"},\"type\":\"mesh3d\"}],\"parcoords\":[{\"line\":{\"colorbar\":{\"outlinewidth\":0,\"ticks\":\"\"}},\"type\":\"parcoords\"}],\"pie\":[{\"automargin\":true,\"type\":\"pie\"}],\"scatter\":[{\"marker\":{\"colorbar\":{\"outlinewidth\":0,\"ticks\":\"\"}},\"type\":\"scatter\"}],\"scatter3d\":[{\"line\":{\"colorbar\":{\"outlinewidth\":0,\"ticks\":\"\"}},\"marker\":{\"colorbar\":{\"outlinewidth\":0,\"ticks\":\"\"}},\"type\":\"scatter3d\"}],\"scattercarpet\":[{\"marker\":{\"colorbar\":{\"outlinewidth\":0,\"ticks\":\"\"}},\"type\":\"scattercarpet\"}],\"scattergeo\":[{\"marker\":{\"colorbar\":{\"outlinewidth\":0,\"ticks\":\"\"}},\"type\":\"scattergeo\"}],\"scattergl\":[{\"marker\":{\"colorbar\":{\"outlinewidth\":0,\"ticks\":\"\"}},\"type\":\"scattergl\"}],\"scattermapbox\":[{\"marker\":{\"colorbar\":{\"outlinewidth\":0,\"ticks\":\"\"}},\"type\":\"scattermapbox\"}],\"scatterpolar\":[{\"marker\":{\"colorbar\":{\"outlinewidth\":0,\"ticks\":\"\"}},\"type\":\"scatterpolar\"}],\"scatterpolargl\":[{\"marker\":{\"colorbar\":{\"outlinewidth\":0,\"ticks\":\"\"}},\"type\":\"scatterpolargl\"}],\"scatterternary\":[{\"marker\":{\"colorbar\":{\"outlinewidth\":0,\"ticks\":\"\"}},\"type\":\"scatterternary\"}],\"surface\":[{\"colorbar\":{\"outlinewidth\":0,\"ticks\":\"\"},\"colorscale\":[[0.0,\"#0d0887\"],[0.1111111111111111,\"#46039f\"],[0.2222222222222222,\"#7201a8\"],[0.3333333333333333,\"#9c179e\"],[0.4444444444444444,\"#bd3786\"],[0.5555555555555556,\"#d8576b\"],[0.6666666666666666,\"#ed7953\"],[0.7777777777777778,\"#fb9f3a\"],[0.8888888888888888,\"#fdca26\"],[1.0,\"#f0f921\"]],\"type\":\"surface\"}],\"table\":[{\"cells\":{\"fill\":{\"color\":\"#EBF0F8\"},\"line\":{\"color\":\"white\"}},\"header\":{\"fill\":{\"color\":\"#C8D4E3\"},\"line\":{\"color\":\"white\"}},\"type\":\"table\"}]},\"layout\":{\"annotationdefaults\":{\"arrowcolor\":\"#2a3f5f\",\"arrowhead\":0,\"arrowwidth\":1},\"autotypenumbers\":\"strict\",\"coloraxis\":{\"colorbar\":{\"outlinewidth\":0,\"ticks\":\"\"}},\"colorscale\":{\"diverging\":[[0,\"#8e0152\"],[0.1,\"#c51b7d\"],[0.2,\"#de77ae\"],[0.3,\"#f1b6da\"],[0.4,\"#fde0ef\"],[0.5,\"#f7f7f7\"],[0.6,\"#e6f5d0\"],[0.7,\"#b8e186\"],[0.8,\"#7fbc41\"],[0.9,\"#4d9221\"],[1,\"#276419\"]],\"sequential\":[[0.0,\"#0d0887\"],[0.1111111111111111,\"#46039f\"],[0.2222222222222222,\"#7201a8\"],[0.3333333333333333,\"#9c179e\"],[0.4444444444444444,\"#bd3786\"],[0.5555555555555556,\"#d8576b\"],[0.6666666666666666,\"#ed7953\"],[0.7777777777777778,\"#fb9f3a\"],[0.8888888888888888,\"#fdca26\"],[1.0,\"#f0f921\"]],\"sequentialminus\":[[0.0,\"#0d0887\"],[0.1111111111111111,\"#46039f\"],[0.2222222222222222,\"#7201a8\"],[0.3333333333333333,\"#9c179e\"],[0.4444444444444444,\"#bd3786\"],[0.5555555555555556,\"#d8576b\"],[0.6666666666666666,\"#ed7953\"],[0.7777777777777778,\"#fb9f3a\"],[0.8888888888888888,\"#fdca26\"],[1.0,\"#f0f921\"]]},\"colorway\":[\"#636efa\",\"#EF553B\",\"#00cc96\",\"#ab63fa\",\"#FFA15A\",\"#19d3f3\",\"#FF6692\",\"#B6E880\",\"#FF97FF\",\"#FECB52\"],\"font\":{\"color\":\"#2a3f5f\"},\"geo\":{\"bgcolor\":\"white\",\"lakecolor\":\"white\",\"landcolor\":\"#E5ECF6\",\"showlakes\":true,\"showland\":true,\"subunitcolor\":\"white\"},\"hoverlabel\":{\"align\":\"left\"},\"hovermode\":\"closest\",\"mapbox\":{\"style\":\"light\"},\"paper_bgcolor\":\"white\",\"plot_bgcolor\":\"#E5ECF6\",\"polar\":{\"angularaxis\":{\"gridcolor\":\"white\",\"linecolor\":\"white\",\"ticks\":\"\"},\"bgcolor\":\"#E5ECF6\",\"radialaxis\":{\"gridcolor\":\"white\",\"linecolor\":\"white\",\"ticks\":\"\"}},\"scene\":{\"xaxis\":{\"backgroundcolor\":\"#E5ECF6\",\"gridcolor\":\"white\",\"gridwidth\":2,\"linecolor\":\"white\",\"showbackground\":true,\"ticks\":\"\",\"zerolinecolor\":\"white\"},\"yaxis\":{\"backgroundcolor\":\"#E5ECF6\",\"gridcolor\":\"white\",\"gridwidth\":2,\"linecolor\":\"white\",\"showbackground\":true,\"ticks\":\"\",\"zerolinecolor\":\"white\"},\"zaxis\":{\"backgroundcolor\":\"#E5ECF6\",\"gridcolor\":\"white\",\"gridwidth\":2,\"linecolor\":\"white\",\"showbackground\":true,\"ticks\":\"\",\"zerolinecolor\":\"white\"}},\"shapedefaults\":{\"line\":{\"color\":\"#2a3f5f\"}},\"ternary\":{\"aaxis\":{\"gridcolor\":\"white\",\"linecolor\":\"white\",\"ticks\":\"\"},\"baxis\":{\"gridcolor\":\"white\",\"linecolor\":\"white\",\"ticks\":\"\"},\"bgcolor\":\"#E5ECF6\",\"caxis\":{\"gridcolor\":\"white\",\"linecolor\":\"white\",\"ticks\":\"\"}},\"title\":{\"x\":0.05},\"xaxis\":{\"automargin\":true,\"gridcolor\":\"white\",\"linecolor\":\"white\",\"ticks\":\"\",\"title\":{\"standoff\":15},\"zerolinecolor\":\"white\",\"zerolinewidth\":2},\"yaxis\":{\"automargin\":true,\"gridcolor\":\"white\",\"linecolor\":\"white\",\"ticks\":\"\",\"title\":{\"standoff\":15},\"zerolinecolor\":\"white\",\"zerolinewidth\":2}}},\"title\":{\"text\":\"Long-Form Input\"},\"xaxis\":{\"anchor\":\"y\",\"domain\":[0.0,1.0],\"title\":{\"text\":\"trip_type\"}},\"yaxis\":{\"anchor\":\"x\",\"domain\":[0.0,1.0],\"title\":{\"text\":\"count\"}}},                        {\"responsive\": true}                    ).then(function(){\n",
       "                            \n",
       "var gd = document.getElementById('b69dbddf-28b0-457b-928b-c8a18758823f');\n",
       "var x = new MutationObserver(function (mutations, observer) {{\n",
       "        var display = window.getComputedStyle(gd).display;\n",
       "        if (!display || display === 'none') {{\n",
       "            console.log([gd, 'removed!']);\n",
       "            Plotly.purge(gd);\n",
       "            observer.disconnect();\n",
       "        }}\n",
       "}});\n",
       "\n",
       "// Listen for the removal of the full notebook cells\n",
       "var notebookContainer = gd.closest('#notebook-container');\n",
       "if (notebookContainer) {{\n",
       "    x.observe(notebookContainer, {childList: true});\n",
       "}}\n",
       "\n",
       "// Listen for the clearing of the current output cell\n",
       "var outputEl = gd.closest('.output');\n",
       "if (outputEl) {{\n",
       "    x.observe(outputEl, {childList: true});\n",
       "}}\n",
       "\n",
       "                        })                };                });            </script>        </div>"
      ]
     },
     "metadata": {},
     "output_type": "display_data"
    }
   ],
   "source": [
    "import plotly.express as px\n",
    "\n",
    "long_df = px.data.medals_long()\n",
    "\n",
    "fig = px.bar(phase1_df, x=\"trip_type\", color=\"duration\", title=\"Long-Form Input\", )\n",
    "fig.show()"
   ]
  },
  {
   "cell_type": "code",
   "execution_count": 157,
   "metadata": {},
   "outputs": [
    {
     "data": {
      "application/vnd.plotly.v1+json": {
       "config": {
        "plotlyServerURL": "https://plot.ly"
       },
       "data": [
        {
         "alignmentgroup": "True",
         "hovertemplate": "group=Family<br>location.name=%{x}<br>count=%{y}<extra></extra>",
         "legendgroup": "Family",
         "marker": {
          "color": "#636efa",
          "pattern": {
           "shape": ""
          }
         },
         "name": "Family",
         "offsetgroup": "Family",
         "orientation": "v",
         "showlegend": true,
         "textposition": "auto",
         "type": "bar",
         "x": [
          "Chicago",
          "Cape Coral",
          "New York City",
          "New Orleans",
          "New York City",
          "Chicago",
          "Washington",
          "Rome",
          "Chico",
          "Honolulu",
          "New York City",
          "Sebring",
          "Pensacola",
          "Jacksonville",
          "Phoenix",
          "New Bern",
          "Boise",
          "Las Vegas",
          "Oklahoma City",
          "Chattanooga",
          "Phoenix",
          "New York City",
          "Orlando",
          "Cheyenne",
          "Decatur",
          "Spokane",
          "Albuquerque",
          "Bangor",
          "Greenville",
          "Mansfield",
          "Atlanta",
          "Washington",
          "Bellingham",
          "Albuquerque",
          "Beaumont",
          "San Angelo",
          "Philadelphia",
          "Miami",
          "Las Vegas",
          "Nashville",
          "Homosassa Springs",
          "Philadelphia",
          "Miami",
          "Rockford",
          "Bloomington",
          "Florence",
          "Orlando",
          "Bismarck",
          "Washington",
          "Birmingham",
          "Phoenix",
          "New York City",
          "Chicago",
          "Portland",
          "Johnson City",
          "Panama City",
          "Chicago",
          "Chicago",
          "Florence",
          "Cumberland",
          "Visalia",
          "Honolulu",
          "Honolulu",
          "Miami",
          "Albany",
          "Cleveland",
          "New York City",
          "Crestview",
          "Phoenix",
          "Myrtle Beach",
          "Honolulu",
          "Jacksonville",
          "San Diego",
          "Dallas",
          "Baton Rouge",
          "Chicago",
          "State College",
          "Atlanta",
          "Utica",
          "Cleveland",
          "San Diego",
          "Jacksonville",
          "Las Vegas",
          "Tampa",
          "Minneapolis",
          "Raleigh",
          "Austin",
          "Modesto",
          "Anchorage",
          "New Orleans",
          "Washington",
          "Sheboygan",
          "Chico",
          "Orlando",
          "Virginia Beach",
          "Nashville",
          "Amarillo",
          "Corpus Christi",
          "San Antonio",
          "Salisbury",
          "Anchorage",
          "Madison",
          "Honolulu",
          "Chicago",
          "Honolulu",
          "Albany",
          "Grand Forks",
          "Atlanta",
          "Lake Charles",
          "Fargo",
          "Miami",
          "Chicago",
          "Altoona",
          "Houma",
          "Seattle",
          "Las Vegas",
          "Dallas",
          "Victoria",
          "Valdosta",
          "Great Falls",
          "Columbus",
          "New Orleans",
          "Hickory",
          "Rochester",
          "Baton Rouge",
          "Philadelphia",
          "Chicago",
          "Chico",
          "Hartford",
          "Birmingham",
          "Chicago",
          "Austin",
          "Rochester",
          "New York City",
          "San Diego",
          "Kahului",
          "Salisbury",
          "Chicago",
          "Ocala",
          "Boston",
          "Little Rock",
          "Albany",
          "Chattanooga",
          "Reno",
          "Grand Junction",
          "Abilene",
          "Myrtle Beach",
          "Charlotte",
          "New Orleans",
          "Austin",
          "Brunswick",
          "Springfield",
          "Las Vegas",
          "Fond du Lac",
          "Lansing",
          "Great Falls",
          "Macon",
          "Asheville",
          "Syracuse",
          "Anchorage",
          "Dallas",
          "Orlando",
          "New York City",
          "Reno",
          "Boise",
          "Honolulu",
          "Atlanta",
          "Tallahassee",
          "Bloomington",
          "Cincinnati",
          "Sheboygan",
          "Denver",
          "New York City",
          "Chicago",
          "New Orleans",
          "Las Vegas",
          "Logan",
          "Lynchburg",
          "Las Vegas",
          "Las Vegas",
          "New York City",
          "Miami",
          "Beaumont",
          "Memphis",
          "Chicago",
          "Binghamton",
          "Billings",
          "Madison",
          "Jacksonville",
          "Lawton",
          "La Crosse",
          "Elmira",
          "San Antonio",
          "Washington",
          "Wausau",
          "Albuquerque",
          "Wilmington",
          "McAllen",
          "New York City",
          "Albany",
          "New Orleans",
          "Miami",
          "Las Vegas",
          "Bakersfield",
          "Duluth",
          "San Diego",
          "Anchorage",
          "Flagstaff",
          "Jonesboro",
          "Boston",
          "New York City",
          "Washington",
          "San Diego",
          "Sacramento",
          "Palm Bay",
          "Louisville",
          "Longview",
          "Sebring",
          "Columbia",
          "Boston",
          "Pittsburgh",
          "Austin",
          "Atlanta",
          "Harrisburg",
          "Dallas",
          "Washington",
          "Austin",
          "New Bern",
          "Modesto",
          "Houma",
          "Manhattan",
          "Myrtle Beach",
          "Cleveland",
          "Tuscaloosa",
          "New Bern",
          "Corpus Christi",
          "San Diego",
          "Wausau",
          "Salt Lake City",
          "Salinas",
          "Birmingham",
          "Decatur",
          "Tuscaloosa",
          "Cincinnati",
          "Jacksonville",
          "Grand Junction",
          "Memphis",
          "Indianapolis",
          "Altoona",
          "New Orleans",
          "Denver",
          "Anchorage",
          "Lansing",
          "Florence",
          "Houma",
          "Bangor",
          "Fargo",
          "Duluth",
          "Waco",
          "Philadelphia",
          "La Crosse",
          "Mansfield",
          "Bangor"
         ],
         "xaxis": "x",
         "y": [
          1,
          1,
          1,
          1,
          1,
          1,
          1,
          1,
          1,
          1,
          1,
          1,
          1,
          1,
          1,
          1,
          1,
          1,
          1,
          1,
          1,
          1,
          1,
          1,
          1,
          1,
          1,
          1,
          1,
          1,
          1,
          1,
          1,
          1,
          1,
          1,
          1,
          1,
          1,
          1,
          1,
          1,
          1,
          1,
          1,
          1,
          1,
          1,
          1,
          1,
          1,
          1,
          1,
          1,
          1,
          1,
          1,
          1,
          1,
          1,
          1,
          1,
          1,
          1,
          1,
          1,
          1,
          1,
          1,
          1,
          1,
          1,
          1,
          1,
          1,
          1,
          1,
          1,
          1,
          1,
          1,
          1,
          1,
          1,
          1,
          1,
          1,
          1,
          1,
          1,
          1,
          1,
          1,
          1,
          1,
          1,
          1,
          1,
          1,
          1,
          1,
          1,
          1,
          1,
          1,
          1,
          1,
          1,
          1,
          1,
          1,
          1,
          1,
          1,
          1,
          1,
          1,
          1,
          1,
          1,
          1,
          1,
          1,
          1,
          1,
          1,
          1,
          1,
          1,
          1,
          1,
          1,
          1,
          1,
          1,
          1,
          1,
          1,
          1,
          1,
          1,
          1,
          1,
          1,
          1,
          1,
          1,
          1,
          1,
          1,
          1,
          1,
          1,
          1,
          1,
          1,
          1,
          1,
          1,
          1,
          1,
          1,
          1,
          1,
          1,
          1,
          1,
          1,
          1,
          1,
          1,
          1,
          1,
          1,
          1,
          1,
          1,
          1,
          1,
          1,
          1,
          1,
          1,
          1,
          1,
          1,
          1,
          1,
          1,
          1,
          1,
          1,
          1,
          1,
          1,
          1,
          1,
          1,
          1,
          1,
          1,
          1,
          1,
          1,
          1,
          1,
          1,
          1,
          1,
          1,
          1,
          1,
          1,
          1,
          1,
          1,
          1,
          1,
          1,
          1,
          1,
          1,
          1,
          1,
          1,
          1,
          1,
          1,
          1,
          1,
          1,
          1,
          1,
          1,
          1,
          1,
          1,
          1,
          1,
          1,
          1,
          1,
          1,
          1,
          1,
          1,
          1,
          1,
          1,
          1,
          1,
          1,
          1,
          1,
          1,
          1,
          1,
          1,
          1,
          1,
          1,
          1,
          1
         ],
         "yaxis": "y"
        },
        {
         "alignmentgroup": "True",
         "hovertemplate": "group=Alone<br>location.name=%{x}<br>count=%{y}<extra></extra>",
         "legendgroup": "Alone",
         "marker": {
          "color": "#EF553B",
          "pattern": {
           "shape": ""
          }
         },
         "name": "Alone",
         "offsetgroup": "Alone",
         "orientation": "v",
         "showlegend": true,
         "textposition": "auto",
         "type": "bar",
         "x": [
          "Orlando",
          "Tulsa",
          "New York City",
          "Visalia",
          "New York City",
          "Wilmington",
          "Albany",
          "Tuscaloosa",
          "Chattanooga",
          "Las Vegas",
          "Orlando",
          "Washington",
          "Great Falls",
          "Pueblo",
          "Denver",
          "Killeen",
          "Grand Island",
          "Beckley",
          "Salinas",
          "San Diego",
          "New York City",
          "Denver",
          "Wichita",
          "Kennewick",
          "Farmington",
          "Bakersfield",
          "St. Louis",
          "Sebring",
          "Lexington",
          "Lake Charles",
          "Salt Lake City",
          "Albuquerque",
          "Denver",
          "New York City",
          "Champaign",
          "New York City",
          "Columbia",
          "Bakersfield",
          "Savannah",
          "Lansing",
          "Boise",
          "Longview",
          "Savannah",
          "Anchorage",
          "Wichita",
          "Jonesboro",
          "Clarksville"
         ],
         "xaxis": "x",
         "y": [
          1,
          1,
          1,
          1,
          1,
          1,
          1,
          1,
          1,
          1,
          1,
          1,
          1,
          1,
          1,
          1,
          1,
          1,
          1,
          1,
          1,
          1,
          1,
          1,
          1,
          1,
          1,
          1,
          1,
          1,
          1,
          1,
          1,
          1,
          1,
          1,
          1,
          1,
          1,
          1,
          1,
          1,
          1,
          1,
          1,
          1,
          1
         ],
         "yaxis": "y"
        },
        {
         "alignmentgroup": "True",
         "hovertemplate": "group=Friends<br>location.name=%{x}<br>count=%{y}<extra></extra>",
         "legendgroup": "Friends",
         "marker": {
          "color": "#00cc96",
          "pattern": {
           "shape": ""
          }
         },
         "name": "Friends",
         "offsetgroup": "Friends",
         "orientation": "v",
         "showlegend": true,
         "textposition": "auto",
         "type": "bar",
         "x": [
          "San Antonio",
          "Tucson",
          "Pittsfield",
          "Cleveland",
          "Lawton",
          "Augusta",
          "Panama City",
          "Tulsa",
          "Austin",
          "Baton Rouge",
          "New York City",
          "Waco",
          "Anchorage",
          "Virginia Beach",
          "Austin",
          "New York City",
          "Albany",
          "Appleton",
          "Chicago",
          "Minneapolis",
          "Prescott",
          "Corpus Christi",
          "Sebring",
          "Kennewick",
          "Las Vegas",
          "Mobile",
          "Atlanta",
          "Milwaukee",
          "Medford",
          "Visalia",
          "Austin",
          "Chicago",
          "Crestview",
          "Alexandria",
          "Augusta",
          "Mobile",
          "San Angelo",
          "Atlanta",
          "Orlando",
          "Cape Coral",
          "Spokane",
          "Rochester",
          "Denver",
          "Carbondale",
          "Nashville",
          "Portland",
          "Hot Springs",
          "Nashville",
          "Lexington",
          "Austin",
          "Orlando",
          "San Diego",
          "New York City",
          "Albuquerque",
          "Albany",
          "New Orleans",
          "Des Moines",
          "New York City",
          "Cumberland",
          "Wichita",
          "Indianapolis",
          "Las Vegas",
          "New York City",
          "Chico",
          "Anchorage",
          "Wilmington",
          "Bismarck",
          "San Diego",
          "Baton Rouge",
          "Clarksville",
          "San Antonio",
          "Spokane",
          "Las Vegas",
          "Birmingham",
          "Davenport",
          "Savannah",
          "Chicago",
          "Nashville",
          "Bowling Green",
          "South Bend",
          "Tallahassee",
          "State College",
          "Philadelphia",
          "Manhattan",
          "Topeka",
          "Colorado Springs",
          "Atlanta",
          "Lakeland",
          "Grand Island",
          "Portland",
          "New York City",
          "Cedar Rapids",
          "Portland",
          "New York City",
          "Chicago",
          "Shreveport",
          "Killeen",
          "New York City",
          "Florence",
          "Missoula",
          "Reno",
          "Colorado Springs",
          "Appleton",
          "Rockford",
          "Austin",
          "Beaumont",
          "New Orleans",
          "Portland",
          "Houma",
          "Lafayette",
          "San Diego",
          "Austin",
          "Chattanooga",
          "McAllen",
          "Lexington",
          "Wichita",
          "Jonesboro",
          "Clarksville",
          "Longview",
          "Bismarck",
          "Corpus Christi",
          "Sebring",
          "Hickory",
          "Champaign",
          "Clarksville",
          "Waco",
          "Wausau",
          "State College",
          "Altoona",
          "Albuquerque",
          "New Orleans",
          "Missoula",
          "Waco",
          "Jacksonville",
          "Bellingham",
          "Denver",
          "Alexandria",
          "Bloomington",
          "Jonesboro",
          "Rome",
          "Lansing",
          "Cedar Rapids",
          "New Bern",
          "Columbia",
          "Milwaukee",
          "Florence",
          "Prescott",
          "Cedar Rapids",
          "Greenville",
          "Crestview",
          "Wausau",
          "Boston",
          "Longview",
          "Las Vegas",
          "State College",
          "Lawton",
          "Anchorage",
          "Hickory",
          "San Diego",
          "Hot Springs",
          "Shreveport",
          "Las Vegas",
          "McAllen",
          "Lake Charles",
          "San Diego",
          "Cincinnati",
          "Billings",
          "Pueblo",
          "Salt Lake City",
          "Chattanooga",
          "McAllen",
          "Lexington"
         ],
         "xaxis": "x",
         "y": [
          1,
          1,
          1,
          1,
          1,
          1,
          1,
          1,
          1,
          1,
          1,
          1,
          1,
          1,
          1,
          1,
          1,
          1,
          1,
          1,
          1,
          1,
          1,
          1,
          1,
          1,
          1,
          1,
          1,
          1,
          1,
          1,
          1,
          1,
          1,
          1,
          1,
          1,
          1,
          1,
          1,
          1,
          1,
          1,
          1,
          1,
          1,
          1,
          1,
          1,
          1,
          1,
          1,
          1,
          1,
          1,
          1,
          1,
          1,
          1,
          1,
          1,
          1,
          1,
          1,
          1,
          1,
          1,
          1,
          1,
          1,
          1,
          1,
          1,
          1,
          1,
          1,
          1,
          1,
          1,
          1,
          1,
          1,
          1,
          1,
          1,
          1,
          1,
          1,
          1,
          1,
          1,
          1,
          1,
          1,
          1,
          1,
          1,
          1,
          1,
          1,
          1,
          1,
          1,
          1,
          1,
          1,
          1,
          1,
          1,
          1,
          1,
          1,
          1,
          1,
          1,
          1,
          1,
          1,
          1,
          1,
          1,
          1,
          1,
          1,
          1,
          1,
          1,
          1,
          1,
          1,
          1,
          1,
          1,
          1,
          1,
          1,
          1,
          1,
          1,
          1,
          1,
          1,
          1,
          1,
          1,
          1,
          1,
          1,
          1,
          1,
          1,
          1,
          1,
          1,
          1,
          1,
          1,
          1,
          1,
          1,
          1,
          1,
          1,
          1,
          1,
          1,
          1,
          1,
          1,
          1,
          1
         ],
         "yaxis": "y"
        },
        {
         "alignmentgroup": "True",
         "hovertemplate": "group=Other<br>location.name=%{x}<br>count=%{y}<extra></extra>",
         "legendgroup": "Other",
         "marker": {
          "color": "#ab63fa",
          "pattern": {
           "shape": ""
          }
         },
         "name": "Other",
         "offsetgroup": "Other",
         "orientation": "v",
         "showlegend": true,
         "textposition": "auto",
         "type": "bar",
         "x": [
          "Cumberland",
          "Austin",
          "Waco",
          "Austin",
          "Jacksonville",
          "Columbia",
          "Jacksonville",
          "Rochester",
          "Topeka"
         ],
         "xaxis": "x",
         "y": [
          1,
          1,
          1,
          1,
          1,
          1,
          1,
          1,
          1
         ],
         "yaxis": "y"
        }
       ],
       "layout": {
        "barmode": "relative",
        "legend": {
         "title": {
          "text": "group"
         },
         "tracegroupgap": 0
        },
        "template": {
         "data": {
          "bar": [
           {
            "error_x": {
             "color": "#2a3f5f"
            },
            "error_y": {
             "color": "#2a3f5f"
            },
            "marker": {
             "line": {
              "color": "#E5ECF6",
              "width": 0.5
             },
             "pattern": {
              "fillmode": "overlay",
              "size": 10,
              "solidity": 0.2
             }
            },
            "type": "bar"
           }
          ],
          "barpolar": [
           {
            "marker": {
             "line": {
              "color": "#E5ECF6",
              "width": 0.5
             },
             "pattern": {
              "fillmode": "overlay",
              "size": 10,
              "solidity": 0.2
             }
            },
            "type": "barpolar"
           }
          ],
          "carpet": [
           {
            "aaxis": {
             "endlinecolor": "#2a3f5f",
             "gridcolor": "white",
             "linecolor": "white",
             "minorgridcolor": "white",
             "startlinecolor": "#2a3f5f"
            },
            "baxis": {
             "endlinecolor": "#2a3f5f",
             "gridcolor": "white",
             "linecolor": "white",
             "minorgridcolor": "white",
             "startlinecolor": "#2a3f5f"
            },
            "type": "carpet"
           }
          ],
          "choropleth": [
           {
            "colorbar": {
             "outlinewidth": 0,
             "ticks": ""
            },
            "type": "choropleth"
           }
          ],
          "contour": [
           {
            "colorbar": {
             "outlinewidth": 0,
             "ticks": ""
            },
            "colorscale": [
             [
              0,
              "#0d0887"
             ],
             [
              0.1111111111111111,
              "#46039f"
             ],
             [
              0.2222222222222222,
              "#7201a8"
             ],
             [
              0.3333333333333333,
              "#9c179e"
             ],
             [
              0.4444444444444444,
              "#bd3786"
             ],
             [
              0.5555555555555556,
              "#d8576b"
             ],
             [
              0.6666666666666666,
              "#ed7953"
             ],
             [
              0.7777777777777778,
              "#fb9f3a"
             ],
             [
              0.8888888888888888,
              "#fdca26"
             ],
             [
              1,
              "#f0f921"
             ]
            ],
            "type": "contour"
           }
          ],
          "contourcarpet": [
           {
            "colorbar": {
             "outlinewidth": 0,
             "ticks": ""
            },
            "type": "contourcarpet"
           }
          ],
          "heatmap": [
           {
            "colorbar": {
             "outlinewidth": 0,
             "ticks": ""
            },
            "colorscale": [
             [
              0,
              "#0d0887"
             ],
             [
              0.1111111111111111,
              "#46039f"
             ],
             [
              0.2222222222222222,
              "#7201a8"
             ],
             [
              0.3333333333333333,
              "#9c179e"
             ],
             [
              0.4444444444444444,
              "#bd3786"
             ],
             [
              0.5555555555555556,
              "#d8576b"
             ],
             [
              0.6666666666666666,
              "#ed7953"
             ],
             [
              0.7777777777777778,
              "#fb9f3a"
             ],
             [
              0.8888888888888888,
              "#fdca26"
             ],
             [
              1,
              "#f0f921"
             ]
            ],
            "type": "heatmap"
           }
          ],
          "heatmapgl": [
           {
            "colorbar": {
             "outlinewidth": 0,
             "ticks": ""
            },
            "colorscale": [
             [
              0,
              "#0d0887"
             ],
             [
              0.1111111111111111,
              "#46039f"
             ],
             [
              0.2222222222222222,
              "#7201a8"
             ],
             [
              0.3333333333333333,
              "#9c179e"
             ],
             [
              0.4444444444444444,
              "#bd3786"
             ],
             [
              0.5555555555555556,
              "#d8576b"
             ],
             [
              0.6666666666666666,
              "#ed7953"
             ],
             [
              0.7777777777777778,
              "#fb9f3a"
             ],
             [
              0.8888888888888888,
              "#fdca26"
             ],
             [
              1,
              "#f0f921"
             ]
            ],
            "type": "heatmapgl"
           }
          ],
          "histogram": [
           {
            "marker": {
             "pattern": {
              "fillmode": "overlay",
              "size": 10,
              "solidity": 0.2
             }
            },
            "type": "histogram"
           }
          ],
          "histogram2d": [
           {
            "colorbar": {
             "outlinewidth": 0,
             "ticks": ""
            },
            "colorscale": [
             [
              0,
              "#0d0887"
             ],
             [
              0.1111111111111111,
              "#46039f"
             ],
             [
              0.2222222222222222,
              "#7201a8"
             ],
             [
              0.3333333333333333,
              "#9c179e"
             ],
             [
              0.4444444444444444,
              "#bd3786"
             ],
             [
              0.5555555555555556,
              "#d8576b"
             ],
             [
              0.6666666666666666,
              "#ed7953"
             ],
             [
              0.7777777777777778,
              "#fb9f3a"
             ],
             [
              0.8888888888888888,
              "#fdca26"
             ],
             [
              1,
              "#f0f921"
             ]
            ],
            "type": "histogram2d"
           }
          ],
          "histogram2dcontour": [
           {
            "colorbar": {
             "outlinewidth": 0,
             "ticks": ""
            },
            "colorscale": [
             [
              0,
              "#0d0887"
             ],
             [
              0.1111111111111111,
              "#46039f"
             ],
             [
              0.2222222222222222,
              "#7201a8"
             ],
             [
              0.3333333333333333,
              "#9c179e"
             ],
             [
              0.4444444444444444,
              "#bd3786"
             ],
             [
              0.5555555555555556,
              "#d8576b"
             ],
             [
              0.6666666666666666,
              "#ed7953"
             ],
             [
              0.7777777777777778,
              "#fb9f3a"
             ],
             [
              0.8888888888888888,
              "#fdca26"
             ],
             [
              1,
              "#f0f921"
             ]
            ],
            "type": "histogram2dcontour"
           }
          ],
          "mesh3d": [
           {
            "colorbar": {
             "outlinewidth": 0,
             "ticks": ""
            },
            "type": "mesh3d"
           }
          ],
          "parcoords": [
           {
            "line": {
             "colorbar": {
              "outlinewidth": 0,
              "ticks": ""
             }
            },
            "type": "parcoords"
           }
          ],
          "pie": [
           {
            "automargin": true,
            "type": "pie"
           }
          ],
          "scatter": [
           {
            "marker": {
             "colorbar": {
              "outlinewidth": 0,
              "ticks": ""
             }
            },
            "type": "scatter"
           }
          ],
          "scatter3d": [
           {
            "line": {
             "colorbar": {
              "outlinewidth": 0,
              "ticks": ""
             }
            },
            "marker": {
             "colorbar": {
              "outlinewidth": 0,
              "ticks": ""
             }
            },
            "type": "scatter3d"
           }
          ],
          "scattercarpet": [
           {
            "marker": {
             "colorbar": {
              "outlinewidth": 0,
              "ticks": ""
             }
            },
            "type": "scattercarpet"
           }
          ],
          "scattergeo": [
           {
            "marker": {
             "colorbar": {
              "outlinewidth": 0,
              "ticks": ""
             }
            },
            "type": "scattergeo"
           }
          ],
          "scattergl": [
           {
            "marker": {
             "colorbar": {
              "outlinewidth": 0,
              "ticks": ""
             }
            },
            "type": "scattergl"
           }
          ],
          "scattermapbox": [
           {
            "marker": {
             "colorbar": {
              "outlinewidth": 0,
              "ticks": ""
             }
            },
            "type": "scattermapbox"
           }
          ],
          "scatterpolar": [
           {
            "marker": {
             "colorbar": {
              "outlinewidth": 0,
              "ticks": ""
             }
            },
            "type": "scatterpolar"
           }
          ],
          "scatterpolargl": [
           {
            "marker": {
             "colorbar": {
              "outlinewidth": 0,
              "ticks": ""
             }
            },
            "type": "scatterpolargl"
           }
          ],
          "scatterternary": [
           {
            "marker": {
             "colorbar": {
              "outlinewidth": 0,
              "ticks": ""
             }
            },
            "type": "scatterternary"
           }
          ],
          "surface": [
           {
            "colorbar": {
             "outlinewidth": 0,
             "ticks": ""
            },
            "colorscale": [
             [
              0,
              "#0d0887"
             ],
             [
              0.1111111111111111,
              "#46039f"
             ],
             [
              0.2222222222222222,
              "#7201a8"
             ],
             [
              0.3333333333333333,
              "#9c179e"
             ],
             [
              0.4444444444444444,
              "#bd3786"
             ],
             [
              0.5555555555555556,
              "#d8576b"
             ],
             [
              0.6666666666666666,
              "#ed7953"
             ],
             [
              0.7777777777777778,
              "#fb9f3a"
             ],
             [
              0.8888888888888888,
              "#fdca26"
             ],
             [
              1,
              "#f0f921"
             ]
            ],
            "type": "surface"
           }
          ],
          "table": [
           {
            "cells": {
             "fill": {
              "color": "#EBF0F8"
             },
             "line": {
              "color": "white"
             }
            },
            "header": {
             "fill": {
              "color": "#C8D4E3"
             },
             "line": {
              "color": "white"
             }
            },
            "type": "table"
           }
          ]
         },
         "layout": {
          "annotationdefaults": {
           "arrowcolor": "#2a3f5f",
           "arrowhead": 0,
           "arrowwidth": 1
          },
          "autotypenumbers": "strict",
          "coloraxis": {
           "colorbar": {
            "outlinewidth": 0,
            "ticks": ""
           }
          },
          "colorscale": {
           "diverging": [
            [
             0,
             "#8e0152"
            ],
            [
             0.1,
             "#c51b7d"
            ],
            [
             0.2,
             "#de77ae"
            ],
            [
             0.3,
             "#f1b6da"
            ],
            [
             0.4,
             "#fde0ef"
            ],
            [
             0.5,
             "#f7f7f7"
            ],
            [
             0.6,
             "#e6f5d0"
            ],
            [
             0.7,
             "#b8e186"
            ],
            [
             0.8,
             "#7fbc41"
            ],
            [
             0.9,
             "#4d9221"
            ],
            [
             1,
             "#276419"
            ]
           ],
           "sequential": [
            [
             0,
             "#0d0887"
            ],
            [
             0.1111111111111111,
             "#46039f"
            ],
            [
             0.2222222222222222,
             "#7201a8"
            ],
            [
             0.3333333333333333,
             "#9c179e"
            ],
            [
             0.4444444444444444,
             "#bd3786"
            ],
            [
             0.5555555555555556,
             "#d8576b"
            ],
            [
             0.6666666666666666,
             "#ed7953"
            ],
            [
             0.7777777777777778,
             "#fb9f3a"
            ],
            [
             0.8888888888888888,
             "#fdca26"
            ],
            [
             1,
             "#f0f921"
            ]
           ],
           "sequentialminus": [
            [
             0,
             "#0d0887"
            ],
            [
             0.1111111111111111,
             "#46039f"
            ],
            [
             0.2222222222222222,
             "#7201a8"
            ],
            [
             0.3333333333333333,
             "#9c179e"
            ],
            [
             0.4444444444444444,
             "#bd3786"
            ],
            [
             0.5555555555555556,
             "#d8576b"
            ],
            [
             0.6666666666666666,
             "#ed7953"
            ],
            [
             0.7777777777777778,
             "#fb9f3a"
            ],
            [
             0.8888888888888888,
             "#fdca26"
            ],
            [
             1,
             "#f0f921"
            ]
           ]
          },
          "colorway": [
           "#636efa",
           "#EF553B",
           "#00cc96",
           "#ab63fa",
           "#FFA15A",
           "#19d3f3",
           "#FF6692",
           "#B6E880",
           "#FF97FF",
           "#FECB52"
          ],
          "font": {
           "color": "#2a3f5f"
          },
          "geo": {
           "bgcolor": "white",
           "lakecolor": "white",
           "landcolor": "#E5ECF6",
           "showlakes": true,
           "showland": true,
           "subunitcolor": "white"
          },
          "hoverlabel": {
           "align": "left"
          },
          "hovermode": "closest",
          "mapbox": {
           "style": "light"
          },
          "paper_bgcolor": "white",
          "plot_bgcolor": "#E5ECF6",
          "polar": {
           "angularaxis": {
            "gridcolor": "white",
            "linecolor": "white",
            "ticks": ""
           },
           "bgcolor": "#E5ECF6",
           "radialaxis": {
            "gridcolor": "white",
            "linecolor": "white",
            "ticks": ""
           }
          },
          "scene": {
           "xaxis": {
            "backgroundcolor": "#E5ECF6",
            "gridcolor": "white",
            "gridwidth": 2,
            "linecolor": "white",
            "showbackground": true,
            "ticks": "",
            "zerolinecolor": "white"
           },
           "yaxis": {
            "backgroundcolor": "#E5ECF6",
            "gridcolor": "white",
            "gridwidth": 2,
            "linecolor": "white",
            "showbackground": true,
            "ticks": "",
            "zerolinecolor": "white"
           },
           "zaxis": {
            "backgroundcolor": "#E5ECF6",
            "gridcolor": "white",
            "gridwidth": 2,
            "linecolor": "white",
            "showbackground": true,
            "ticks": "",
            "zerolinecolor": "white"
           }
          },
          "shapedefaults": {
           "line": {
            "color": "#2a3f5f"
           }
          },
          "ternary": {
           "aaxis": {
            "gridcolor": "white",
            "linecolor": "white",
            "ticks": ""
           },
           "baxis": {
            "gridcolor": "white",
            "linecolor": "white",
            "ticks": ""
           },
           "bgcolor": "#E5ECF6",
           "caxis": {
            "gridcolor": "white",
            "linecolor": "white",
            "ticks": ""
           }
          },
          "title": {
           "x": 0.05
          },
          "xaxis": {
           "automargin": true,
           "gridcolor": "white",
           "linecolor": "white",
           "ticks": "",
           "title": {
            "standoff": 15
           },
           "zerolinecolor": "white",
           "zerolinewidth": 2
          },
          "yaxis": {
           "automargin": true,
           "gridcolor": "white",
           "linecolor": "white",
           "ticks": "",
           "title": {
            "standoff": 15
           },
           "zerolinecolor": "white",
           "zerolinewidth": 2
          }
         }
        },
        "title": {
         "text": "Long-Form Input"
        },
        "xaxis": {
         "anchor": "y",
         "domain": [
          0,
          1
         ],
         "title": {
          "text": "location.name"
         }
        },
        "yaxis": {
         "anchor": "x",
         "domain": [
          0,
          1
         ],
         "title": {
          "text": "count"
         }
        }
       }
      },
      "text/html": [
       "<div>                            <div id=\"70de1ce6-a54b-4d7d-89ee-0eb8e05a4f06\" class=\"plotly-graph-div\" style=\"height:525px; width:100%;\"></div>            <script type=\"text/javascript\">                require([\"plotly\"], function(Plotly) {                    window.PLOTLYENV=window.PLOTLYENV || {};                                    if (document.getElementById(\"70de1ce6-a54b-4d7d-89ee-0eb8e05a4f06\")) {                    Plotly.newPlot(                        \"70de1ce6-a54b-4d7d-89ee-0eb8e05a4f06\",                        [{\"alignmentgroup\":\"True\",\"hovertemplate\":\"group=Family<br>location.name=%{x}<br>count=%{y}<extra></extra>\",\"legendgroup\":\"Family\",\"marker\":{\"color\":\"#636efa\",\"pattern\":{\"shape\":\"\"}},\"name\":\"Family\",\"offsetgroup\":\"Family\",\"orientation\":\"v\",\"showlegend\":true,\"textposition\":\"auto\",\"type\":\"bar\",\"x\":[\"Chicago\",\"Cape Coral\",\"New York City\",\"New Orleans\",\"New York City\",\"Chicago\",\"Washington\",\"Rome\",\"Chico\",\"Honolulu\",\"New York City\",\"Sebring\",\"Pensacola\",\"Jacksonville\",\"Phoenix\",\"New Bern\",\"Boise\",\"Las Vegas\",\"Oklahoma City\",\"Chattanooga\",\"Phoenix\",\"New York City\",\"Orlando\",\"Cheyenne\",\"Decatur\",\"Spokane\",\"Albuquerque\",\"Bangor\",\"Greenville\",\"Mansfield\",\"Atlanta\",\"Washington\",\"Bellingham\",\"Albuquerque\",\"Beaumont\",\"San Angelo\",\"Philadelphia\",\"Miami\",\"Las Vegas\",\"Nashville\",\"Homosassa Springs\",\"Philadelphia\",\"Miami\",\"Rockford\",\"Bloomington\",\"Florence\",\"Orlando\",\"Bismarck\",\"Washington\",\"Birmingham\",\"Phoenix\",\"New York City\",\"Chicago\",\"Portland\",\"Johnson City\",\"Panama City\",\"Chicago\",\"Chicago\",\"Florence\",\"Cumberland\",\"Visalia\",\"Honolulu\",\"Honolulu\",\"Miami\",\"Albany\",\"Cleveland\",\"New York City\",\"Crestview\",\"Phoenix\",\"Myrtle Beach\",\"Honolulu\",\"Jacksonville\",\"San Diego\",\"Dallas\",\"Baton Rouge\",\"Chicago\",\"State College\",\"Atlanta\",\"Utica\",\"Cleveland\",\"San Diego\",\"Jacksonville\",\"Las Vegas\",\"Tampa\",\"Minneapolis\",\"Raleigh\",\"Austin\",\"Modesto\",\"Anchorage\",\"New Orleans\",\"Washington\",\"Sheboygan\",\"Chico\",\"Orlando\",\"Virginia Beach\",\"Nashville\",\"Amarillo\",\"Corpus Christi\",\"San Antonio\",\"Salisbury\",\"Anchorage\",\"Madison\",\"Honolulu\",\"Chicago\",\"Honolulu\",\"Albany\",\"Grand Forks\",\"Atlanta\",\"Lake Charles\",\"Fargo\",\"Miami\",\"Chicago\",\"Altoona\",\"Houma\",\"Seattle\",\"Las Vegas\",\"Dallas\",\"Victoria\",\"Valdosta\",\"Great Falls\",\"Columbus\",\"New Orleans\",\"Hickory\",\"Rochester\",\"Baton Rouge\",\"Philadelphia\",\"Chicago\",\"Chico\",\"Hartford\",\"Birmingham\",\"Chicago\",\"Austin\",\"Rochester\",\"New York City\",\"San Diego\",\"Kahului\",\"Salisbury\",\"Chicago\",\"Ocala\",\"Boston\",\"Little Rock\",\"Albany\",\"Chattanooga\",\"Reno\",\"Grand Junction\",\"Abilene\",\"Myrtle Beach\",\"Charlotte\",\"New Orleans\",\"Austin\",\"Brunswick\",\"Springfield\",\"Las Vegas\",\"Fond du Lac\",\"Lansing\",\"Great Falls\",\"Macon\",\"Asheville\",\"Syracuse\",\"Anchorage\",\"Dallas\",\"Orlando\",\"New York City\",\"Reno\",\"Boise\",\"Honolulu\",\"Atlanta\",\"Tallahassee\",\"Bloomington\",\"Cincinnati\",\"Sheboygan\",\"Denver\",\"New York City\",\"Chicago\",\"New Orleans\",\"Las Vegas\",\"Logan\",\"Lynchburg\",\"Las Vegas\",\"Las Vegas\",\"New York City\",\"Miami\",\"Beaumont\",\"Memphis\",\"Chicago\",\"Binghamton\",\"Billings\",\"Madison\",\"Jacksonville\",\"Lawton\",\"La Crosse\",\"Elmira\",\"San Antonio\",\"Washington\",\"Wausau\",\"Albuquerque\",\"Wilmington\",\"McAllen\",\"New York City\",\"Albany\",\"New Orleans\",\"Miami\",\"Las Vegas\",\"Bakersfield\",\"Duluth\",\"San Diego\",\"Anchorage\",\"Flagstaff\",\"Jonesboro\",\"Boston\",\"New York City\",\"Washington\",\"San Diego\",\"Sacramento\",\"Palm Bay\",\"Louisville\",\"Longview\",\"Sebring\",\"Columbia\",\"Boston\",\"Pittsburgh\",\"Austin\",\"Atlanta\",\"Harrisburg\",\"Dallas\",\"Washington\",\"Austin\",\"New Bern\",\"Modesto\",\"Houma\",\"Manhattan\",\"Myrtle Beach\",\"Cleveland\",\"Tuscaloosa\",\"New Bern\",\"Corpus Christi\",\"San Diego\",\"Wausau\",\"Salt Lake City\",\"Salinas\",\"Birmingham\",\"Decatur\",\"Tuscaloosa\",\"Cincinnati\",\"Jacksonville\",\"Grand Junction\",\"Memphis\",\"Indianapolis\",\"Altoona\",\"New Orleans\",\"Denver\",\"Anchorage\",\"Lansing\",\"Florence\",\"Houma\",\"Bangor\",\"Fargo\",\"Duluth\",\"Waco\",\"Philadelphia\",\"La Crosse\",\"Mansfield\",\"Bangor\"],\"xaxis\":\"x\",\"y\":[1,1,1,1,1,1,1,1,1,1,1,1,1,1,1,1,1,1,1,1,1,1,1,1,1,1,1,1,1,1,1,1,1,1,1,1,1,1,1,1,1,1,1,1,1,1,1,1,1,1,1,1,1,1,1,1,1,1,1,1,1,1,1,1,1,1,1,1,1,1,1,1,1,1,1,1,1,1,1,1,1,1,1,1,1,1,1,1,1,1,1,1,1,1,1,1,1,1,1,1,1,1,1,1,1,1,1,1,1,1,1,1,1,1,1,1,1,1,1,1,1,1,1,1,1,1,1,1,1,1,1,1,1,1,1,1,1,1,1,1,1,1,1,1,1,1,1,1,1,1,1,1,1,1,1,1,1,1,1,1,1,1,1,1,1,1,1,1,1,1,1,1,1,1,1,1,1,1,1,1,1,1,1,1,1,1,1,1,1,1,1,1,1,1,1,1,1,1,1,1,1,1,1,1,1,1,1,1,1,1,1,1,1,1,1,1,1,1,1,1,1,1,1,1,1,1,1,1,1,1,1,1,1,1,1,1,1,1,1,1,1,1,1,1,1,1,1,1,1,1,1,1,1,1,1,1,1,1,1,1,1,1,1],\"yaxis\":\"y\"},{\"alignmentgroup\":\"True\",\"hovertemplate\":\"group=Alone<br>location.name=%{x}<br>count=%{y}<extra></extra>\",\"legendgroup\":\"Alone\",\"marker\":{\"color\":\"#EF553B\",\"pattern\":{\"shape\":\"\"}},\"name\":\"Alone\",\"offsetgroup\":\"Alone\",\"orientation\":\"v\",\"showlegend\":true,\"textposition\":\"auto\",\"type\":\"bar\",\"x\":[\"Orlando\",\"Tulsa\",\"New York City\",\"Visalia\",\"New York City\",\"Wilmington\",\"Albany\",\"Tuscaloosa\",\"Chattanooga\",\"Las Vegas\",\"Orlando\",\"Washington\",\"Great Falls\",\"Pueblo\",\"Denver\",\"Killeen\",\"Grand Island\",\"Beckley\",\"Salinas\",\"San Diego\",\"New York City\",\"Denver\",\"Wichita\",\"Kennewick\",\"Farmington\",\"Bakersfield\",\"St. Louis\",\"Sebring\",\"Lexington\",\"Lake Charles\",\"Salt Lake City\",\"Albuquerque\",\"Denver\",\"New York City\",\"Champaign\",\"New York City\",\"Columbia\",\"Bakersfield\",\"Savannah\",\"Lansing\",\"Boise\",\"Longview\",\"Savannah\",\"Anchorage\",\"Wichita\",\"Jonesboro\",\"Clarksville\"],\"xaxis\":\"x\",\"y\":[1,1,1,1,1,1,1,1,1,1,1,1,1,1,1,1,1,1,1,1,1,1,1,1,1,1,1,1,1,1,1,1,1,1,1,1,1,1,1,1,1,1,1,1,1,1,1],\"yaxis\":\"y\"},{\"alignmentgroup\":\"True\",\"hovertemplate\":\"group=Friends<br>location.name=%{x}<br>count=%{y}<extra></extra>\",\"legendgroup\":\"Friends\",\"marker\":{\"color\":\"#00cc96\",\"pattern\":{\"shape\":\"\"}},\"name\":\"Friends\",\"offsetgroup\":\"Friends\",\"orientation\":\"v\",\"showlegend\":true,\"textposition\":\"auto\",\"type\":\"bar\",\"x\":[\"San Antonio\",\"Tucson\",\"Pittsfield\",\"Cleveland\",\"Lawton\",\"Augusta\",\"Panama City\",\"Tulsa\",\"Austin\",\"Baton Rouge\",\"New York City\",\"Waco\",\"Anchorage\",\"Virginia Beach\",\"Austin\",\"New York City\",\"Albany\",\"Appleton\",\"Chicago\",\"Minneapolis\",\"Prescott\",\"Corpus Christi\",\"Sebring\",\"Kennewick\",\"Las Vegas\",\"Mobile\",\"Atlanta\",\"Milwaukee\",\"Medford\",\"Visalia\",\"Austin\",\"Chicago\",\"Crestview\",\"Alexandria\",\"Augusta\",\"Mobile\",\"San Angelo\",\"Atlanta\",\"Orlando\",\"Cape Coral\",\"Spokane\",\"Rochester\",\"Denver\",\"Carbondale\",\"Nashville\",\"Portland\",\"Hot Springs\",\"Nashville\",\"Lexington\",\"Austin\",\"Orlando\",\"San Diego\",\"New York City\",\"Albuquerque\",\"Albany\",\"New Orleans\",\"Des Moines\",\"New York City\",\"Cumberland\",\"Wichita\",\"Indianapolis\",\"Las Vegas\",\"New York City\",\"Chico\",\"Anchorage\",\"Wilmington\",\"Bismarck\",\"San Diego\",\"Baton Rouge\",\"Clarksville\",\"San Antonio\",\"Spokane\",\"Las Vegas\",\"Birmingham\",\"Davenport\",\"Savannah\",\"Chicago\",\"Nashville\",\"Bowling Green\",\"South Bend\",\"Tallahassee\",\"State College\",\"Philadelphia\",\"Manhattan\",\"Topeka\",\"Colorado Springs\",\"Atlanta\",\"Lakeland\",\"Grand Island\",\"Portland\",\"New York City\",\"Cedar Rapids\",\"Portland\",\"New York City\",\"Chicago\",\"Shreveport\",\"Killeen\",\"New York City\",\"Florence\",\"Missoula\",\"Reno\",\"Colorado Springs\",\"Appleton\",\"Rockford\",\"Austin\",\"Beaumont\",\"New Orleans\",\"Portland\",\"Houma\",\"Lafayette\",\"San Diego\",\"Austin\",\"Chattanooga\",\"McAllen\",\"Lexington\",\"Wichita\",\"Jonesboro\",\"Clarksville\",\"Longview\",\"Bismarck\",\"Corpus Christi\",\"Sebring\",\"Hickory\",\"Champaign\",\"Clarksville\",\"Waco\",\"Wausau\",\"State College\",\"Altoona\",\"Albuquerque\",\"New Orleans\",\"Missoula\",\"Waco\",\"Jacksonville\",\"Bellingham\",\"Denver\",\"Alexandria\",\"Bloomington\",\"Jonesboro\",\"Rome\",\"Lansing\",\"Cedar Rapids\",\"New Bern\",\"Columbia\",\"Milwaukee\",\"Florence\",\"Prescott\",\"Cedar Rapids\",\"Greenville\",\"Crestview\",\"Wausau\",\"Boston\",\"Longview\",\"Las Vegas\",\"State College\",\"Lawton\",\"Anchorage\",\"Hickory\",\"San Diego\",\"Hot Springs\",\"Shreveport\",\"Las Vegas\",\"McAllen\",\"Lake Charles\",\"San Diego\",\"Cincinnati\",\"Billings\",\"Pueblo\",\"Salt Lake City\",\"Chattanooga\",\"McAllen\",\"Lexington\"],\"xaxis\":\"x\",\"y\":[1,1,1,1,1,1,1,1,1,1,1,1,1,1,1,1,1,1,1,1,1,1,1,1,1,1,1,1,1,1,1,1,1,1,1,1,1,1,1,1,1,1,1,1,1,1,1,1,1,1,1,1,1,1,1,1,1,1,1,1,1,1,1,1,1,1,1,1,1,1,1,1,1,1,1,1,1,1,1,1,1,1,1,1,1,1,1,1,1,1,1,1,1,1,1,1,1,1,1,1,1,1,1,1,1,1,1,1,1,1,1,1,1,1,1,1,1,1,1,1,1,1,1,1,1,1,1,1,1,1,1,1,1,1,1,1,1,1,1,1,1,1,1,1,1,1,1,1,1,1,1,1,1,1,1,1,1,1,1,1,1,1,1,1,1,1,1,1,1,1,1,1],\"yaxis\":\"y\"},{\"alignmentgroup\":\"True\",\"hovertemplate\":\"group=Other<br>location.name=%{x}<br>count=%{y}<extra></extra>\",\"legendgroup\":\"Other\",\"marker\":{\"color\":\"#ab63fa\",\"pattern\":{\"shape\":\"\"}},\"name\":\"Other\",\"offsetgroup\":\"Other\",\"orientation\":\"v\",\"showlegend\":true,\"textposition\":\"auto\",\"type\":\"bar\",\"x\":[\"Cumberland\",\"Austin\",\"Waco\",\"Austin\",\"Jacksonville\",\"Columbia\",\"Jacksonville\",\"Rochester\",\"Topeka\"],\"xaxis\":\"x\",\"y\":[1,1,1,1,1,1,1,1,1],\"yaxis\":\"y\"}],                        {\"barmode\":\"relative\",\"legend\":{\"title\":{\"text\":\"group\"},\"tracegroupgap\":0},\"template\":{\"data\":{\"bar\":[{\"error_x\":{\"color\":\"#2a3f5f\"},\"error_y\":{\"color\":\"#2a3f5f\"},\"marker\":{\"line\":{\"color\":\"#E5ECF6\",\"width\":0.5},\"pattern\":{\"fillmode\":\"overlay\",\"size\":10,\"solidity\":0.2}},\"type\":\"bar\"}],\"barpolar\":[{\"marker\":{\"line\":{\"color\":\"#E5ECF6\",\"width\":0.5},\"pattern\":{\"fillmode\":\"overlay\",\"size\":10,\"solidity\":0.2}},\"type\":\"barpolar\"}],\"carpet\":[{\"aaxis\":{\"endlinecolor\":\"#2a3f5f\",\"gridcolor\":\"white\",\"linecolor\":\"white\",\"minorgridcolor\":\"white\",\"startlinecolor\":\"#2a3f5f\"},\"baxis\":{\"endlinecolor\":\"#2a3f5f\",\"gridcolor\":\"white\",\"linecolor\":\"white\",\"minorgridcolor\":\"white\",\"startlinecolor\":\"#2a3f5f\"},\"type\":\"carpet\"}],\"choropleth\":[{\"colorbar\":{\"outlinewidth\":0,\"ticks\":\"\"},\"type\":\"choropleth\"}],\"contour\":[{\"colorbar\":{\"outlinewidth\":0,\"ticks\":\"\"},\"colorscale\":[[0.0,\"#0d0887\"],[0.1111111111111111,\"#46039f\"],[0.2222222222222222,\"#7201a8\"],[0.3333333333333333,\"#9c179e\"],[0.4444444444444444,\"#bd3786\"],[0.5555555555555556,\"#d8576b\"],[0.6666666666666666,\"#ed7953\"],[0.7777777777777778,\"#fb9f3a\"],[0.8888888888888888,\"#fdca26\"],[1.0,\"#f0f921\"]],\"type\":\"contour\"}],\"contourcarpet\":[{\"colorbar\":{\"outlinewidth\":0,\"ticks\":\"\"},\"type\":\"contourcarpet\"}],\"heatmap\":[{\"colorbar\":{\"outlinewidth\":0,\"ticks\":\"\"},\"colorscale\":[[0.0,\"#0d0887\"],[0.1111111111111111,\"#46039f\"],[0.2222222222222222,\"#7201a8\"],[0.3333333333333333,\"#9c179e\"],[0.4444444444444444,\"#bd3786\"],[0.5555555555555556,\"#d8576b\"],[0.6666666666666666,\"#ed7953\"],[0.7777777777777778,\"#fb9f3a\"],[0.8888888888888888,\"#fdca26\"],[1.0,\"#f0f921\"]],\"type\":\"heatmap\"}],\"heatmapgl\":[{\"colorbar\":{\"outlinewidth\":0,\"ticks\":\"\"},\"colorscale\":[[0.0,\"#0d0887\"],[0.1111111111111111,\"#46039f\"],[0.2222222222222222,\"#7201a8\"],[0.3333333333333333,\"#9c179e\"],[0.4444444444444444,\"#bd3786\"],[0.5555555555555556,\"#d8576b\"],[0.6666666666666666,\"#ed7953\"],[0.7777777777777778,\"#fb9f3a\"],[0.8888888888888888,\"#fdca26\"],[1.0,\"#f0f921\"]],\"type\":\"heatmapgl\"}],\"histogram\":[{\"marker\":{\"pattern\":{\"fillmode\":\"overlay\",\"size\":10,\"solidity\":0.2}},\"type\":\"histogram\"}],\"histogram2d\":[{\"colorbar\":{\"outlinewidth\":0,\"ticks\":\"\"},\"colorscale\":[[0.0,\"#0d0887\"],[0.1111111111111111,\"#46039f\"],[0.2222222222222222,\"#7201a8\"],[0.3333333333333333,\"#9c179e\"],[0.4444444444444444,\"#bd3786\"],[0.5555555555555556,\"#d8576b\"],[0.6666666666666666,\"#ed7953\"],[0.7777777777777778,\"#fb9f3a\"],[0.8888888888888888,\"#fdca26\"],[1.0,\"#f0f921\"]],\"type\":\"histogram2d\"}],\"histogram2dcontour\":[{\"colorbar\":{\"outlinewidth\":0,\"ticks\":\"\"},\"colorscale\":[[0.0,\"#0d0887\"],[0.1111111111111111,\"#46039f\"],[0.2222222222222222,\"#7201a8\"],[0.3333333333333333,\"#9c179e\"],[0.4444444444444444,\"#bd3786\"],[0.5555555555555556,\"#d8576b\"],[0.6666666666666666,\"#ed7953\"],[0.7777777777777778,\"#fb9f3a\"],[0.8888888888888888,\"#fdca26\"],[1.0,\"#f0f921\"]],\"type\":\"histogram2dcontour\"}],\"mesh3d\":[{\"colorbar\":{\"outlinewidth\":0,\"ticks\":\"\"},\"type\":\"mesh3d\"}],\"parcoords\":[{\"line\":{\"colorbar\":{\"outlinewidth\":0,\"ticks\":\"\"}},\"type\":\"parcoords\"}],\"pie\":[{\"automargin\":true,\"type\":\"pie\"}],\"scatter\":[{\"marker\":{\"colorbar\":{\"outlinewidth\":0,\"ticks\":\"\"}},\"type\":\"scatter\"}],\"scatter3d\":[{\"line\":{\"colorbar\":{\"outlinewidth\":0,\"ticks\":\"\"}},\"marker\":{\"colorbar\":{\"outlinewidth\":0,\"ticks\":\"\"}},\"type\":\"scatter3d\"}],\"scattercarpet\":[{\"marker\":{\"colorbar\":{\"outlinewidth\":0,\"ticks\":\"\"}},\"type\":\"scattercarpet\"}],\"scattergeo\":[{\"marker\":{\"colorbar\":{\"outlinewidth\":0,\"ticks\":\"\"}},\"type\":\"scattergeo\"}],\"scattergl\":[{\"marker\":{\"colorbar\":{\"outlinewidth\":0,\"ticks\":\"\"}},\"type\":\"scattergl\"}],\"scattermapbox\":[{\"marker\":{\"colorbar\":{\"outlinewidth\":0,\"ticks\":\"\"}},\"type\":\"scattermapbox\"}],\"scatterpolar\":[{\"marker\":{\"colorbar\":{\"outlinewidth\":0,\"ticks\":\"\"}},\"type\":\"scatterpolar\"}],\"scatterpolargl\":[{\"marker\":{\"colorbar\":{\"outlinewidth\":0,\"ticks\":\"\"}},\"type\":\"scatterpolargl\"}],\"scatterternary\":[{\"marker\":{\"colorbar\":{\"outlinewidth\":0,\"ticks\":\"\"}},\"type\":\"scatterternary\"}],\"surface\":[{\"colorbar\":{\"outlinewidth\":0,\"ticks\":\"\"},\"colorscale\":[[0.0,\"#0d0887\"],[0.1111111111111111,\"#46039f\"],[0.2222222222222222,\"#7201a8\"],[0.3333333333333333,\"#9c179e\"],[0.4444444444444444,\"#bd3786\"],[0.5555555555555556,\"#d8576b\"],[0.6666666666666666,\"#ed7953\"],[0.7777777777777778,\"#fb9f3a\"],[0.8888888888888888,\"#fdca26\"],[1.0,\"#f0f921\"]],\"type\":\"surface\"}],\"table\":[{\"cells\":{\"fill\":{\"color\":\"#EBF0F8\"},\"line\":{\"color\":\"white\"}},\"header\":{\"fill\":{\"color\":\"#C8D4E3\"},\"line\":{\"color\":\"white\"}},\"type\":\"table\"}]},\"layout\":{\"annotationdefaults\":{\"arrowcolor\":\"#2a3f5f\",\"arrowhead\":0,\"arrowwidth\":1},\"autotypenumbers\":\"strict\",\"coloraxis\":{\"colorbar\":{\"outlinewidth\":0,\"ticks\":\"\"}},\"colorscale\":{\"diverging\":[[0,\"#8e0152\"],[0.1,\"#c51b7d\"],[0.2,\"#de77ae\"],[0.3,\"#f1b6da\"],[0.4,\"#fde0ef\"],[0.5,\"#f7f7f7\"],[0.6,\"#e6f5d0\"],[0.7,\"#b8e186\"],[0.8,\"#7fbc41\"],[0.9,\"#4d9221\"],[1,\"#276419\"]],\"sequential\":[[0.0,\"#0d0887\"],[0.1111111111111111,\"#46039f\"],[0.2222222222222222,\"#7201a8\"],[0.3333333333333333,\"#9c179e\"],[0.4444444444444444,\"#bd3786\"],[0.5555555555555556,\"#d8576b\"],[0.6666666666666666,\"#ed7953\"],[0.7777777777777778,\"#fb9f3a\"],[0.8888888888888888,\"#fdca26\"],[1.0,\"#f0f921\"]],\"sequentialminus\":[[0.0,\"#0d0887\"],[0.1111111111111111,\"#46039f\"],[0.2222222222222222,\"#7201a8\"],[0.3333333333333333,\"#9c179e\"],[0.4444444444444444,\"#bd3786\"],[0.5555555555555556,\"#d8576b\"],[0.6666666666666666,\"#ed7953\"],[0.7777777777777778,\"#fb9f3a\"],[0.8888888888888888,\"#fdca26\"],[1.0,\"#f0f921\"]]},\"colorway\":[\"#636efa\",\"#EF553B\",\"#00cc96\",\"#ab63fa\",\"#FFA15A\",\"#19d3f3\",\"#FF6692\",\"#B6E880\",\"#FF97FF\",\"#FECB52\"],\"font\":{\"color\":\"#2a3f5f\"},\"geo\":{\"bgcolor\":\"white\",\"lakecolor\":\"white\",\"landcolor\":\"#E5ECF6\",\"showlakes\":true,\"showland\":true,\"subunitcolor\":\"white\"},\"hoverlabel\":{\"align\":\"left\"},\"hovermode\":\"closest\",\"mapbox\":{\"style\":\"light\"},\"paper_bgcolor\":\"white\",\"plot_bgcolor\":\"#E5ECF6\",\"polar\":{\"angularaxis\":{\"gridcolor\":\"white\",\"linecolor\":\"white\",\"ticks\":\"\"},\"bgcolor\":\"#E5ECF6\",\"radialaxis\":{\"gridcolor\":\"white\",\"linecolor\":\"white\",\"ticks\":\"\"}},\"scene\":{\"xaxis\":{\"backgroundcolor\":\"#E5ECF6\",\"gridcolor\":\"white\",\"gridwidth\":2,\"linecolor\":\"white\",\"showbackground\":true,\"ticks\":\"\",\"zerolinecolor\":\"white\"},\"yaxis\":{\"backgroundcolor\":\"#E5ECF6\",\"gridcolor\":\"white\",\"gridwidth\":2,\"linecolor\":\"white\",\"showbackground\":true,\"ticks\":\"\",\"zerolinecolor\":\"white\"},\"zaxis\":{\"backgroundcolor\":\"#E5ECF6\",\"gridcolor\":\"white\",\"gridwidth\":2,\"linecolor\":\"white\",\"showbackground\":true,\"ticks\":\"\",\"zerolinecolor\":\"white\"}},\"shapedefaults\":{\"line\":{\"color\":\"#2a3f5f\"}},\"ternary\":{\"aaxis\":{\"gridcolor\":\"white\",\"linecolor\":\"white\",\"ticks\":\"\"},\"baxis\":{\"gridcolor\":\"white\",\"linecolor\":\"white\",\"ticks\":\"\"},\"bgcolor\":\"#E5ECF6\",\"caxis\":{\"gridcolor\":\"white\",\"linecolor\":\"white\",\"ticks\":\"\"}},\"title\":{\"x\":0.05},\"xaxis\":{\"automargin\":true,\"gridcolor\":\"white\",\"linecolor\":\"white\",\"ticks\":\"\",\"title\":{\"standoff\":15},\"zerolinecolor\":\"white\",\"zerolinewidth\":2},\"yaxis\":{\"automargin\":true,\"gridcolor\":\"white\",\"linecolor\":\"white\",\"ticks\":\"\",\"title\":{\"standoff\":15},\"zerolinecolor\":\"white\",\"zerolinewidth\":2}}},\"title\":{\"text\":\"Long-Form Input\"},\"xaxis\":{\"anchor\":\"y\",\"domain\":[0.0,1.0],\"title\":{\"text\":\"location.name\"}},\"yaxis\":{\"anchor\":\"x\",\"domain\":[0.0,1.0],\"title\":{\"text\":\"count\"}}},                        {\"responsive\": true}                    ).then(function(){\n",
       "                            \n",
       "var gd = document.getElementById('70de1ce6-a54b-4d7d-89ee-0eb8e05a4f06');\n",
       "var x = new MutationObserver(function (mutations, observer) {{\n",
       "        var display = window.getComputedStyle(gd).display;\n",
       "        if (!display || display === 'none') {{\n",
       "            console.log([gd, 'removed!']);\n",
       "            Plotly.purge(gd);\n",
       "            observer.disconnect();\n",
       "        }}\n",
       "}});\n",
       "\n",
       "// Listen for the removal of the full notebook cells\n",
       "var notebookContainer = gd.closest('#notebook-container');\n",
       "if (notebookContainer) {{\n",
       "    x.observe(notebookContainer, {childList: true});\n",
       "}}\n",
       "\n",
       "// Listen for the clearing of the current output cell\n",
       "var outputEl = gd.closest('.output');\n",
       "if (outputEl) {{\n",
       "    x.observe(outputEl, {childList: true});\n",
       "}}\n",
       "\n",
       "                        })                };                });            </script>        </div>"
      ]
     },
     "metadata": {},
     "output_type": "display_data"
    }
   ],
   "source": [
    "import plotly.express as px\n",
    "\n",
    "long_df = px.data.medals_long()\n",
    "\n",
    "fig = px.bar(phase1_df, x=\"location.name\", color=\"group\", title=\"Long-Form Input\", )\n",
    "fig.show()"
   ]
  },
  {
   "cell_type": "code",
   "execution_count": null,
   "metadata": {},
   "outputs": [],
   "source": []
  },
  {
   "cell_type": "code",
   "execution_count": null,
   "metadata": {},
   "outputs": [],
   "source": []
  },
  {
   "cell_type": "markdown",
   "metadata": {
    "id": "8vV1jF1xo6QS"
   },
   "source": []
  },
  {
   "cell_type": "code",
   "execution_count": null,
   "metadata": {
    "colab": {
     "base_uri": "https://localhost:8080/",
     "height": 451
    },
    "id": "cesBXV8Hng6X",
    "outputId": "ef7e90ad-db5f-43dd-b573-8f57da76b67f"
   },
   "outputs": [],
   "source": []
  },
  {
   "cell_type": "code",
   "execution_count": null,
   "metadata": {
    "id": "ZVl00Ct0qnxT"
   },
   "outputs": [],
   "source": []
  }
 ],
 "metadata": {
  "colab": {
   "provenance": []
  },
  "kernelspec": {
   "display_name": "Python 3",
   "language": "python",
   "name": "python3"
  },
  "language_info": {
   "codemirror_mode": {
    "name": "ipython",
    "version": 3
   },
   "file_extension": ".py",
   "mimetype": "text/x-python",
   "name": "python",
   "nbconvert_exporter": "python",
   "pygments_lexer": "ipython3",
   "version": "3.6.5"
  }
 },
 "nbformat": 4,
 "nbformat_minor": 1
}
