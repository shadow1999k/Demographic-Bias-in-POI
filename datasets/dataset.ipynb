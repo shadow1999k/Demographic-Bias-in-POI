{
 "cells": [
  {
   "cell_type": "code",
   "execution_count": 1,
   "metadata": {},
   "outputs": [],
   "source": [
    "from collections import defaultdict\n",
    "import json"
   ]
  },
  {
   "cell_type": "code",
   "execution_count": 2,
   "metadata": {},
   "outputs": [],
   "source": [
    "user_to_location = defaultdict(set)\n",
    "\n",
    "# adding different datasets records into the user_to_location dictionary\n",
    "for dataset_file in ['TREC2016/Phase1_requests.json', 'TREC2015/batch_requests.json']:\n",
    "\twith open(dataset_file) as f:\n",
    "\t\tfor line in f:\n",
    "\t\t\tresponse = json.loads(line)\n",
    "\t\t\tuser_id = response['body']['person']['id']\n",
    "\t\t\tfor preference in response['body']['person']['preferences']:\n",
    "\t\t\t\tuser_to_location[user_id].add((preference['documentId'], preference['rating']))"
   ]
  },
  {
   "cell_type": "code",
   "execution_count": 3,
   "metadata": {},
   "outputs": [],
   "source": [
    "# split data per user interaction w.r.t split ratio\n",
    "split_ratio = 0.7\n",
    "\n",
    "data_all = open('TREC_1516_All.txt', 'w')\n",
    "data_train = open('TREC_1516_Train.txt', 'w')\n",
    "data_test = open('TREC_1516_Test.txt', 'w')\n",
    "\n",
    "for uid, lids_ratings in user_to_location.items():\n",
    "    counter = 0\n",
    "    train_rate = len(lids_ratings) * split_ratio\n",
    "    for lid, rating in lids_ratings:\n",
    "        data_all.write(f\"{uid}\\t{lid}\\t{rating}\\n\")\n",
    "        if counter >= train_rate:\n",
    "            data_test.write(f\"{uid}\\t{lid}\\t{rating}\\n\")\n",
    "            counter += 1\n",
    "        else:\n",
    "            data_train.write(f\"{uid}\\t{lid}\\t{rating}\\n\")\n",
    "            counter += 1\n",
    "\n",
    "data_all.close()\n",
    "data_train.close()\n",
    "data_test.close()"
   ]
  },
  {
   "cell_type": "code",
   "execution_count": null,
   "metadata": {},
   "outputs": [],
   "source": []
  }
 ],
 "metadata": {
  "kernelspec": {
   "display_name": "Python 3",
   "language": "python",
   "name": "python3"
  },
  "language_info": {
   "codemirror_mode": {
    "name": "ipython",
    "version": 3
   },
   "file_extension": ".py",
   "mimetype": "text/x-python",
   "name": "python",
   "nbconvert_exporter": "python",
   "pygments_lexer": "ipython3",
   "version": "3.8.0"
  },
  "orig_nbformat": 4,
  "vscode": {
   "interpreter": {
    "hash": "0adcc2737ebf6a4a119f135174df96668767fca1ef1112612db5ecadf2b6d608"
   }
  }
 },
 "nbformat": 4,
 "nbformat_minor": 2
}
