{
 "cells": [
  {
   "cell_type": "code",
   "execution_count": 1,
   "metadata": {},
   "outputs": [],
   "source": [
    "from collections import defaultdict\n",
    "import json"
   ]
  },
  {
   "cell_type": "code",
   "execution_count": 2,
   "metadata": {},
   "outputs": [],
   "source": [
    "# root path to the original datasets\n",
    "root_path = \"original/\""
   ]
  },
  {
   "cell_type": "code",
   "execution_count": 4,
   "metadata": {},
   "outputs": [],
   "source": [
    "# a dictionary of users to the visited locations\n",
    "user_to_location = defaultdict(set)\n",
    "\n",
    "# spliting users based on their gender attribute\n",
    "male_users = set()\n",
    "female_users = set()\n",
    "\n",
    "# spliting users based on their age attribute\n",
    "aged_users = set()\n",
    "non_aged_users = set()\n",
    "\n",
    "# an age threashold to split users based on the age att.\n",
    "age_thr = 30\n",
    "\n",
    "# users without att.\n",
    "non_att_users = set()\n",
    "\n",
    "# ids of all users\n",
    "all_users_ids = set()"
   ]
  },
  {
   "cell_type": "code",
   "execution_count": 5,
   "metadata": {},
   "outputs": [
    {
     "name": "stdout",
     "output_type": "stream",
     "text": [
      "> Not gen att. for:  7732\n",
      "> Not age att. for:  7732\n",
      "> Not gen att. for:  1502\n",
      "> Not age att. for:  1502\n",
      "> Not gen att. for:  11726\n",
      "> Not age att. for:  11726\n",
      "> Not age att. for:  16176\n",
      "> Not gen att. for:  2841\n",
      "> Not age att. for:  2841\n",
      "> Not gen att. for:  808\n",
      "> Not age att. for:  808\n",
      "> Not gen att. for:  8838\n",
      "> Not age att. for:  8838\n",
      "> Not gen att. for:  4177\n",
      "> Not age att. for:  4177\n",
      "> Not gen att. for:  5322\n",
      "> Not age att. for:  5322\n",
      "> Not gen att. for:  6753\n",
      "> Not age att. for:  6753\n"
     ]
    }
   ],
   "source": [
    "# adding different datasets records into the user_to_location dictionary\n",
    "for dataset_file in ['TREC2016/Phase1_requests.json', 'TREC2015/batch_requests.json']:\n",
    "\twith open(root_path + dataset_file) as f:\n",
    "\t\tfor line in f:\n",
    "\t\t\tresponse = json.loads(line)\n",
    "\t\t\tuser_id = response['body']['person']['id']\n",
    "\t\t\tall_users_ids.add(user_id)\n",
    "\t\t\t# user gender\n",
    "\t\t\ttry:\n",
    "\t\t\t\tuser_gender = response['body']['person']['gender']\n",
    "\t\t\t\tif user_gender in ['Male', 'male', 'MALE']:\n",
    "\t\t\t\t\tmale_users.add(user_id)\n",
    "\t\t\t\telif user_gender in ['Female', 'female', 'F', 'f', 'FEMALE', 'femaLE']:\n",
    "\t\t\t\t\tfemale_users.add(user_id)\n",
    "\t\t\t\telse:\n",
    "\t\t\t\t\tprint(user_gender)\n",
    "\t\t\texcept:\n",
    "\t\t\t\t# these users do not have a gender attributes\n",
    "\t\t\t\tprint(\"> Not gen att. for: \", user_id)\n",
    "\t\t\t\tnon_att_users.add(user_id)\n",
    "\t\t\t# user age\n",
    "\t\t\ttry:\n",
    "\t\t\t\tuser_age = int(response['body']['person']['age'])\n",
    "\t\t\t\tif user_age > age_thr:\n",
    "\t\t\t\t\taged_users.add(user_id)\n",
    "\t\t\t\telif user_age <= age_thr:\n",
    "\t\t\t\t\tnon_aged_users.add(user_id)\n",
    "\t\t\t\telse:\n",
    "\t\t\t\t\tprint(user_age)\n",
    "\t\t\texcept:\n",
    "\t\t\t\tprint(\"> Not age att. for: \", user_id)\n",
    "\t\t\t\tnon_att_users.add(user_id)\n",
    "\n",
    "\t\t\tfor preference in response['body']['person']['preferences']:\n",
    "\t\t\t\tuser_to_location[user_id].add((preference['documentId'], preference['rating']))"
   ]
  },
  {
   "cell_type": "code",
   "execution_count": 6,
   "metadata": {},
   "outputs": [
    {
     "name": "stdout",
     "output_type": "stream",
     "text": [
      "{'A1I6J7F9S59DB0', 'A3D6RK0BTXYEO2', 'A27BSYPO6JCB4Q'}\n",
      "set()\n",
      "{16176}\n"
     ]
    }
   ],
   "source": [
    "# to check if users have any intersection\n",
    "both_gender_users = male_users & female_users\n",
    "print(both_gender_users)\n",
    "\n",
    "print(male_users & non_att_users)\n",
    "print(female_users & non_att_users)"
   ]
  },
  {
   "cell_type": "code",
   "execution_count": 7,
   "metadata": {},
   "outputs": [
    {
     "name": "stdout",
     "output_type": "stream",
     "text": [
      "{'A2UVZ2TKPH9KYW', 'A3D6RK0BTXYEO2', 'A1LI3JQS2VBOXC', 'A3GJ2E1A1H5DM7'}\n",
      "set()\n",
      "set()\n"
     ]
    }
   ],
   "source": [
    "both_aged_users = aged_users & non_aged_users\n",
    "print(both_aged_users)\n",
    "\n",
    "print(aged_users & non_att_users)\n",
    "print(non_aged_users & non_att_users)"
   ]
  },
  {
   "cell_type": "code",
   "execution_count": 11,
   "metadata": {},
   "outputs": [
    {
     "data": {
      "text/plain": [
       "453"
      ]
     },
     "execution_count": 11,
     "metadata": {},
     "output_type": "execute_result"
    }
   ],
   "source": [
    "# the numebr of all users in the system\n",
    "len(all_users_ids)"
   ]
  },
  {
   "cell_type": "code",
   "execution_count": 9,
   "metadata": {},
   "outputs": [
    {
     "data": {
      "text/plain": [
       "(248, 199, 447)"
      ]
     },
     "execution_count": 9,
     "metadata": {},
     "output_type": "execute_result"
    }
   ],
   "source": [
    "len(male_users), len(female_users), len(male_users) + len(female_users)"
   ]
  },
  {
   "cell_type": "code",
   "execution_count": 12,
   "metadata": {},
   "outputs": [
    {
     "data": {
      "text/plain": [
       "(226, 221)"
      ]
     },
     "execution_count": 12,
     "metadata": {},
     "output_type": "execute_result"
    }
   ],
   "source": [
    "len(aged_users), len(non_aged_users)"
   ]
  },
  {
   "cell_type": "code",
   "execution_count": 14,
   "metadata": {},
   "outputs": [],
   "source": [
    "male_users_txt = open('TRECx1516/TRECx1516_male_ids.txt', 'w')\n",
    "female_users_txt = open('TRECx1516/TRECx1516_female_ids.txt', 'w')\n",
    "\n",
    "for male_user in male_users:\n",
    "    if male_user not in both_gender_users and male_user not in both_aged_users and male_user not in non_att_users:\n",
    "        male_users_txt.write(f\"{str(male_user)}\\n\")\n",
    "\n",
    "for female_user in female_users:\n",
    "    if female_user not in both_gender_users and female_user not in both_aged_users and female_user not in non_att_users:\n",
    "        female_users_txt.write(f\"{str(female_user)}\\n\")\n",
    "\n",
    "male_users_txt.close()\n",
    "female_users_txt.close()"
   ]
  },
  {
   "cell_type": "code",
   "execution_count": 15,
   "metadata": {},
   "outputs": [],
   "source": [
    "aged_users_txt = open(f'TRECx1516/TRECx1516_aged_ids.txt', 'w')\n",
    "non_aged_users_txt = open(f'TRECx1516/TRECx1516_non_aged_ids.txt', 'w')\n",
    "\n",
    "for aged_user in aged_users:\n",
    "    if aged_user not in both_aged_users and aged_user not in both_gender_users and aged_user not in non_att_users:\n",
    "        aged_users_txt.write(f\"{str(aged_user)}\\n\")\n",
    "\n",
    "for non_aged_user in non_aged_users:\n",
    "    if non_aged_user not in both_aged_users and non_aged_user not in both_gender_users and non_aged_user not in non_att_users:\n",
    "        non_aged_users_txt.write(f\"{str(non_aged_user)}\\n\")\n",
    "\n",
    "aged_users_txt.close()\n",
    "non_aged_users_txt.close()"
   ]
  },
  {
   "cell_type": "code",
   "execution_count": 17,
   "metadata": {},
   "outputs": [],
   "source": [
    "# split data per user interaction w.r.t split ratio\n",
    "split_ratio = 0.7\n",
    "\n",
    "data_all = open('TRECx1516/TRECx1516_all.txt', 'w')\n",
    "data_train = open('TRECx1516/TRECx1516_train.txt', 'w')\n",
    "data_test = open('TRECx1516/TRECx1516_test.txt', 'w')\n",
    "\n",
    "for uid, lids_ratings in user_to_location.items():\n",
    "    counter = 0\n",
    "    train_rate = len(lids_ratings) * split_ratio\n",
    "    if uid not in both_aged_users and uid not in both_aged_users and uid not in non_att_users:\n",
    "        for lid, rating in lids_ratings:\n",
    "            data_all.write(f\"{uid}\\t{lid}\\t{rating}\\n\")\n",
    "            if counter >= train_rate:\n",
    "                data_test.write(f\"{uid}\\t{lid}\\t{rating}\\n\")\n",
    "                counter += 1\n",
    "            else:\n",
    "                data_train.write(f\"{uid}\\t{lid}\\t{rating}\\n\")\n",
    "                counter += 1\n",
    "\n",
    "data_all.close()\n",
    "data_train.close()\n",
    "data_test.close()"
   ]
  },
  {
   "cell_type": "code",
   "execution_count": null,
   "metadata": {},
   "outputs": [],
   "source": []
  }
 ],
 "metadata": {
  "kernelspec": {
   "display_name": "Python 3",
   "language": "python",
   "name": "python3"
  },
  "language_info": {
   "codemirror_mode": {
    "name": "ipython",
    "version": 3
   },
   "file_extension": ".py",
   "mimetype": "text/x-python",
   "name": "python",
   "nbconvert_exporter": "python",
   "pygments_lexer": "ipython3",
   "version": "3.8.0"
  },
  "orig_nbformat": 4,
  "vscode": {
   "interpreter": {
    "hash": "0adcc2737ebf6a4a119f135174df96668767fca1ef1112612db5ecadf2b6d608"
   }
  }
 },
 "nbformat": 4,
 "nbformat_minor": 2
}
